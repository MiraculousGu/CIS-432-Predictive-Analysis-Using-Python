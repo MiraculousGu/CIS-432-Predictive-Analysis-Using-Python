{
    "cells": [
        {
            "cell_type": "markdown",
            "metadata": {
                "nbgrader": {
                    "grade": false,
                    "grade_id": "cell-20d5a22daaccf79a",
                    "locked": true,
                    "schema_version": 3,
                    "solution": false
                },
                "editable": false,
                "deletable": false
            },
            "source": [
                "<h1>Homework 1: Installing Python and Yellowdig<\/h1>\n",
                "<h2>Predictive Analytics using Python (CIS432)<\/h2>\n",
                "<h3>Simon Business School<\/h3>\n",
                "\n",
                "__Instructor__: Yaron Shaposhnik\n",
                "\n",
                "In this homework assignment, you will: \n",
                "1. Familiarize yourself with the syllabus\n",
                "2. Be introduced to Python programming by reading several chapters from an accessible book (we will also review this material in class but it will be beneficial to get exposed to this material earlier). \n",
                "3. Interact on _Yellowdig_ (our online discussion forum)\n",
                "4. Install the Python environment on your computers\n",
                "\n",
                "\n"
            ]
        },
        {
            "cell_type": "markdown",
            "metadata": {
                "nbgrader": {
                    "grade": false,
                    "grade_id": "cell-4ed5aa6012135988",
                    "locked": true,
                    "schema_version": 3,
                    "solution": false,
                    "task": false
                },
                "editable": false,
                "deletable": false
            },
            "source": [
                "# Part 1: Multiple choice questions (30 points)\n",
                "\n",
                "On Blackboard course website: click on \"Assignments\" (left menu), scroll down and click on \"Homework 1 (part 1 of 4)\" to answer the multiple-choice questions. The grade for this part will be visible on Blackboard."
            ]
        },
        {
            "cell_type": "markdown",
            "metadata": {
                "nbgrader": {
                    "grade": false,
                    "grade_id": "cell-a21618c7dd8c1e00",
                    "locked": true,
                    "schema_version": 3,
                    "solution": false,
                    "task": false
                },
                "editable": false,
                "deletable": false
            },
            "source": [
                "# Part 2: Reading assignment (0 points)\n",
                "\n",
                "Read chapters 1--6 in \"Automate the Boring Stuff with Python\" by Al Swigart ([read the book online](https:\/\/automatetheboringstuff.com\/)). \n",
                "* The website contains links to video lectures (optional)\n",
                "* Trying out code as you read the book and solving questions that appear at the end of each chapter would improve the learning experience\n",
                "* Unlike the other parts of this assignment, you will not be graded on the reading assignment. Nevertheless, you should consider it as a required reading.\n"
            ]
        },
        {
            "cell_type": "markdown",
            "metadata": {
                "nbgrader": {
                    "grade": false,
                    "grade_id": "cell-2fb80d0ee518b408",
                    "locked": true,
                    "schema_version": 3,
                    "solution": false,
                    "task": false
                },
                "editable": false,
                "deletable": false
            },
            "source": [
                "# Part 3: Yellowdig (30 points)\n",
                "\n",
                "Yellowdig is a twitter-like online discussion forum that we will be using in our course to communicate on non-personal matters (for example, to post questions about assignments, the course, etc.). \n",
                "\n",
                "To gain credit for this question, log in to Yellowdig by first entering Blackboard ([link to blackboard](https:\/\/learn.rochester.edu\/)) and clicking on the Yellowdig icon on the course's home page. Once on Yellowdig, you will see a post titled \"Welcome to the discussion board of CIS432\". Click on the smile button at the bottom-left area of the post and select the thumbs up icon. \n",
                "\n",
                "__Note__: you will not see the grade for this part, but the information about clicking the thumb up button is recorded and will be used to compute your grade."
            ]
        },
        {
            "cell_type": "markdown",
            "metadata": {
                "nbgrader": {
                    "grade": false,
                    "grade_id": "cell-f6bf68b3ec18036b",
                    "locked": true,
                    "schema_version": 3,
                    "solution": false,
                    "task": false
                },
                "editable": false,
                "deletable": false
            },
            "source": [
                "# Part 4: Installing Python locally (40 points)\n",
                "\n",
                "1. Install Python on your local computers by following these instructions: \n",
                "<a href=\"Python installation - Windows.pdf\">Windows<\/a>|<a href=\"Python installation - Mac.pdf\">Mac<\/a>.\n",
                "2. Upload the files generated in the installation process (__test.png__, __test.pdf__, and __test.txt__) to Vocareum by clicking on the upload button in the Notebook Dashboard (click back in your browser, or on the jupyter icon at the top left part of this screen). Then click on the submit button appearing at the top-right part of this webpage. You should not modify any of the cells in this notebook. After a few seconds (typically) you will see your grade on the right part of the screen. "
            ]
        },
        {
            "cell_type": "code",
            "execution_count": null,
            "metadata": {
                "nbgrader": {
                    "grade": true,
                    "grade_id": "q1",
                    "locked": true,
                    "points": 4,
                    "schema_version": 3,
                    "solution": false
                },
                "editable": false,
                "deletable": false
            },
            "outputs": [],
            "source": [
                "###\n",
                "### AUTOGRADER TEST - DO NOT REMOVE\n",
                "###\n"
            ]
        },
        {
            "cell_type": "code",
            "execution_count": null,
            "metadata": {
                "nbgrader": {
                    "grade": true,
                    "grade_id": "q2",
                    "locked": true,
                    "points": 4,
                    "schema_version": 3,
                    "solution": false
                },
                "editable": false,
                "deletable": false
            },
            "outputs": [],
            "source": [
                "###\n",
                "### AUTOGRADER TEST - DO NOT REMOVE\n",
                "###\n"
            ]
        },
        {
            "cell_type": "code",
            "execution_count": null,
            "metadata": {
                "nbgrader": {
                    "grade": true,
                    "grade_id": "q3",
                    "locked": true,
                    "points": 4,
                    "schema_version": 3,
                    "solution": false
                },
                "editable": false,
                "deletable": false
            },
            "outputs": [],
            "source": [
                "###\n",
                "### AUTOGRADER TEST - DO NOT REMOVE\n",
                "###\n"
            ]
        },
        {
            "cell_type": "code",
            "execution_count": null,
            "metadata": {
                "nbgrader": {
                    "grade": true,
                    "grade_id": "q4",
                    "locked": true,
                    "points": 4,
                    "schema_version": 3,
                    "solution": false
                },
                "editable": false,
                "deletable": false
            },
            "outputs": [],
            "source": [
                "###\n",
                "### AUTOGRADER TEST - DO NOT REMOVE\n",
                "###\n"
            ]
        },
        {
            "cell_type": "code",
            "execution_count": null,
            "metadata": {
                "nbgrader": {
                    "grade": true,
                    "grade_id": "q5",
                    "locked": true,
                    "points": 3,
                    "schema_version": 3,
                    "solution": false
                },
                "editable": false,
                "deletable": false
            },
            "outputs": [],
            "source": [
                "###\n",
                "### AUTOGRADER TEST - DO NOT REMOVE\n",
                "###\n"
            ]
        },
        {
            "cell_type": "code",
            "execution_count": null,
            "metadata": {
                "nbgrader": {
                    "grade": true,
                    "grade_id": "q6",
                    "locked": true,
                    "points": 3,
                    "schema_version": 3,
                    "solution": false
                },
                "editable": false,
                "deletable": false
            },
            "outputs": [],
            "source": [
                "###\n",
                "### AUTOGRADER TEST - DO NOT REMOVE\n",
                "###\n"
            ]
        },
        {
            "cell_type": "code",
            "execution_count": null,
            "metadata": {
                "nbgrader": {
                    "grade": true,
                    "grade_id": "q7",
                    "locked": true,
                    "points": 3,
                    "schema_version": 3,
                    "solution": false
                },
                "editable": false,
                "deletable": false
            },
            "outputs": [],
            "source": [
                "###\n",
                "### AUTOGRADER TEST - DO NOT REMOVE\n",
                "###\n"
            ]
        },
        {
            "cell_type": "code",
            "execution_count": null,
            "metadata": {
                "nbgrader": {
                    "grade": true,
                    "grade_id": "q8",
                    "locked": true,
                    "points": 3,
                    "schema_version": 3,
                    "solution": false
                },
                "editable": false,
                "deletable": false
            },
            "outputs": [],
            "source": [
                "###\n",
                "### AUTOGRADER TEST - DO NOT REMOVE\n",
                "###\n"
            ]
        },
        {
            "cell_type": "code",
            "execution_count": null,
            "metadata": {
                "nbgrader": {
                    "grade": true,
                    "grade_id": "q9",
                    "locked": true,
                    "points": 3,
                    "schema_version": 3,
                    "solution": false
                },
                "editable": false,
                "deletable": false
            },
            "outputs": [],
            "source": [
                "###\n",
                "### AUTOGRADER TEST - DO NOT REMOVE\n",
                "###\n"
            ]
        },
        {
            "cell_type": "code",
            "execution_count": null,
            "metadata": {
                "nbgrader": {
                    "grade": true,
                    "grade_id": "q10",
                    "locked": true,
                    "points": 3,
                    "schema_version": 3,
                    "solution": false
                },
                "editable": false,
                "deletable": false
            },
            "outputs": [],
            "source": [
                "###\n",
                "### AUTOGRADER TEST - DO NOT REMOVE\n",
                "###\n"
            ]
        },
        {
            "cell_type": "code",
            "execution_count": null,
            "metadata": {
                "nbgrader": {
                    "grade": true,
                    "grade_id": "q11",
                    "locked": true,
                    "points": 3,
                    "schema_version": 3,
                    "solution": false
                },
                "editable": false,
                "deletable": false
            },
            "outputs": [],
            "source": [
                "###\n",
                "### AUTOGRADER TEST - DO NOT REMOVE\n",
                "###\n"
            ]
        },
        {
            "cell_type": "code",
            "execution_count": null,
            "metadata": {
                "nbgrader": {
                    "grade": true,
                    "grade_id": "q12",
                    "locked": true,
                    "points": 3,
                    "schema_version": 3,
                    "solution": false
                },
                "editable": false,
                "deletable": false
            },
            "outputs": [],
            "source": [
                "###\n",
                "### AUTOGRADER TEST - DO NOT REMOVE\n",
                "###\n"
            ]
        }
    ],
    "metadata": {
        "celltoolbar": "Create Assignment",
        "kernelspec": {
            "display_name": "Python 3",
            "language": "python",
            "name": "python3"
        },
        "language_info": {
            "codemirror_mode": {
                "name": "ipython",
                "version": 3
            },
            "file_extension": ".py",
            "mimetype": "text\/x-python",
            "name": "python",
            "nbconvert_exporter": "python",
            "pygments_lexer": "ipython3",
            "version": "3.8.5"
        },
        "latex_envs": {
            "LaTeX_envs_menu_present": true,
            "autoclose": false,
            "autocomplete": true,
            "bibliofile": "biblio.bib",
            "cite_by": "apalike",
            "current_citInitial": 1,
            "eqLabelWithNumbers": true,
            "eqNumInitial": 1,
            "hotkeys": {
                "equation": "Ctrl-E",
                "itemize": "Ctrl-I"
            },
            "labels_anchors": false,
            "latex_user_defs": false,
            "report_style_numbering": false,
            "user_envs_cfg": false
        },
        "toc": {
            "base_numbering": 1,
            "nav_menu": [],
            "number_sections": false,
            "sideBar": true,
            "skip_h1_title": false,
            "title_cell": "Table of Contents",
            "title_sidebar": "Contents",
            "toc_cell": false,
            "toc_position": {
                "height": "789px",
                "left": "10px",
                "top": "150px",
                "width": "355.994px"
            },
            "toc_section_display": true,
            "toc_window_display": true
        }
    },
    "nbformat": 4,
    "nbformat_minor": 2
}