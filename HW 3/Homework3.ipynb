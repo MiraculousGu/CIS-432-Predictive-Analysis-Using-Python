{
    "cells": [
        {
            "cell_type": "markdown",
            "metadata": {
                "nbgrader": {
                    "grade": false,
                    "grade_id": "cell-beb82d1cf0e76f0e",
                    "locked": true,
                    "schema_version": 3,
                    "solution": false,
                    "task": false
                },
                "editable": false,
                "deletable": false
            },
            "source": [
                "<h1>Homework 3: Python programming</h1>\n",
                "<h2>Predictive Analytics using Python (CIS432)</h2>\n",
                "<h3>Simon Business School</h3>\n",
                "\n",
                "__Instructor__: Yaron Shaposhnik\n",
                "\n",
                "\n"
            ]
        },
        {
            "cell_type": "markdown",
            "metadata": {
                "nbgrader": {
                    "grade": false,
                    "grade_id": "cell-bf47835b7a801cc7",
                    "locked": true,
                    "schema_version": 3,
                    "solution": false,
                    "task": false
                },
                "editable": false,
                "deletable": false
            },
            "source": [
                "## Instructions\n",
                "\n",
                "In this homework assignment, we will practice Python programming. We will keep working with the HELOC dataset, this time performing various analysis tasks that could not be directly performed using pandas. \n",
                "\n",
                "As part of this assignment, you will explore Python's\n",
                "* Data types\n",
                "* Data structures\n",
                "* Flow control \n",
                "* Functions\n",
                "\n",
                "As well as import packages and work with data files."
            ]
        },
        {
            "cell_type": "markdown",
            "metadata": {
                "nbgrader": {
                    "grade": false,
                    "grade_id": "cell-c9473db3b6b0d741",
                    "locked": true,
                    "schema_version": 3,
                    "solution": false,
                    "task": false
                },
                "editable": false,
                "deletable": false
            },
            "source": [
                "## Answer key\n",
                "\n",
                "This assignment (as well as others) is graded by comparing your answers (that is, the variables and Python objects you create) with precomputed answers. This allows you to get immediate feedback in order to find your errors and correct them. The downside of this approach is that the grading code is strict and even slight deviations from the desired outputs could result in reduction of points. \n",
                "\n",
                "To make this learning experience more efficient, the objects that you are asked to generate are provided to you in the variable `ANSWER_KEY`. Questions may ask you to assign some value (like a number or object such as data frame) to some variable. \n",
                "For example, you might be asked to assign the variable `n_rows` with some value. To view the correct answer simply run the command `ANSWER_KEY['n_rows']`. \n",
                "\n",
                "Note that the answer key is provided to you __for debugging purposes only__. Using it in your final submission or hard-coding solutions __will be considered plagiarism__ and be reported to the student disciplinary committee."
            ]
        },
        {
            "cell_type": "code",
            "execution_count": 201,
            "metadata": {
                "nbgrader": {
                    "grade": true,
                    "grade_id": "imports",
                    "locked": true,
                    "points": 10,
                    "schema_version": 3,
                    "solution": false,
                    "task": false
                },
                "editable": false,
                "deletable": false
            },
            "outputs": [],
            "source": [
                "# you may ignore this cell\n",
                "import os\n",
                "import pandas as pd\n",
                "import numpy as np\n",
                "import matplotlib.pyplot as plt\n",
                "import pickle\n",
                "\n",
                "if os.name == 'nt':\n",
                "    ANSWER_KEY_FILE_NAME = \"answer_key(win).p\"\n",
                "elif os.name == 'posix':\n",
                "    ANSWER_KEY_FILE_NAME = \"answer_key(unix).p\"\n",
                "else:\n",
                "    raise Exception('The code was not tested on',os.name)\n",
                "\n",
                "GENERATE_ANSWER_KEY=False\n",
                "\n",
                "if GENERATE_ANSWER_KEY: \n",
                "    ANSWER_KEY = {} \n",
                "else:        \n",
                "    with open(ANSWER_KEY_FILE_NAME, \"rb\") as f:\n",
                "        ANSWER_KEY = pickle.load( f )             "
            ]
        },
        {
            "cell_type": "code",
            "execution_count": 202,
            "metadata": {
                "nbgrader": {
                    "grade": false,
                    "grade_id": "cell-8219ebfbd84c42d7",
                    "locked": true,
                    "schema_version": 3,
                    "solution": false,
                    "task": false
                },
                "editable": false,
                "deletable": false
            },
            "outputs": [
                {
                    "output_type": "stream",
                    "name": "stdout",
                    "text": [
                        "this is the expected value of the variable \"n_rows_df_models\" (which you will be asked to compute) 56\n"
                    ]
                }
            ],
            "source": [
                "# example for using answer key\n",
                "if GENERATE_ANSWER_KEY==False: \n",
                "    print('this is the expected value of the variable \"n_rows_df_models\" (which you will be asked to compute)', ANSWER_KEY['n_rows_df_models'])"
            ]
        },
        {
            "cell_type": "markdown",
            "metadata": {
                "nbgrader": {
                    "grade": false,
                    "grade_id": "cell-8654293b8a6657d3",
                    "locked": true,
                    "schema_version": 3,
                    "solution": false,
                    "task": false
                },
                "editable": false,
                "deletable": false
            },
            "source": [
                "# Beginning of homework 3"
            ]
        },
        {
            "cell_type": "markdown",
            "metadata": {
                "nbgrader": {
                    "grade": false,
                    "grade_id": "cell-db9d155c39a3bc4b",
                    "locked": true,
                    "schema_version": 3,
                    "solution": false,
                    "task": false
                },
                "editable": false,
                "deletable": false
            },
            "source": [
                "### (q1)\n",
                "The folder `preprocess_datasets` contains multiple variants of the same dataset, which differ by their column values (don't worry for now about how these values were created, this will be the focus of the next homework assignment).\n",
                "\n",
                "Create a list called `preprocessed_datasets` that holds the names of the files in this folder. (Hint: use the OS shell command `ls` to list files)"
            ]
        },
        {
            "cell_type": "code",
            "execution_count": 203,
            "metadata": {
                "nbgrader": {
                    "grade": false,
                    "grade_id": "cell-7844800c37f1509d",
                    "locked": false,
                    "schema_version": 3,
                    "solution": true,
                    "task": false
                }
            },
            "outputs": [],
            "source": [
                "preprocessed_datasets = \"replace this string with your answer\"\n",
                "###\n",
                "preprocessed_datasets = os.listdir(\"./preprocessed_datasets\")\n",
                "###\n"
            ]
        },
        {
            "cell_type": "code",
            "execution_count": 204,
            "metadata": {
                "nbgrader": {
                    "grade": true,
                    "grade_id": "q1a",
                    "locked": true,
                    "points": 6,
                    "schema_version": 3,
                    "solution": false,
                    "task": false
                },
                "editable": false,
                "deletable": false
            },
            "outputs": [],
            "source": [
                "assert(sorted(preprocessed_datasets) == sorted(ANSWER_KEY['preprocessed_datasets']))"
            ]
        },
        {
            "cell_type": "markdown",
            "metadata": {
                "nbgrader": {
                    "grade": false,
                    "grade_id": "cell-b03ea0037f49a2b0",
                    "locked": true,
                    "schema_version": 3,
                    "solution": false,
                    "task": false
                },
                "editable": false,
                "deletable": false
            },
            "source": [
                "Let's look at the file names"
            ]
        },
        {
            "cell_type": "code",
            "execution_count": 205,
            "metadata": {
                "nbgrader": {
                    "grade": false,
                    "grade_id": "cell-0914a5a8354dd509",
                    "locked": true,
                    "schema_version": 3,
                    "solution": false,
                    "task": false
                },
                "editable": false,
                "deletable": false
            },
            "outputs": [
                {
                    "output_type": "stream",
                    "name": "stdout",
                    "text": [
                        "heloc_dataset_v1(exc empty rows.).csv_pre(16,quantile).csv\nheloc_dataset_v1(exc empty rows.).csv_pre(-1,asis).csv\nheloc_dataset_v1(exc empty rows.).csv_pre(-1,manual_true).csv\nheloc_dataset_v1(exc empty rows.).csv_pre(-1,w_binary4missing).csv\nheloc_dataset_v1(exc empty rows.).csv_pre(2,quantile).csv\nheloc_dataset_v1(exc empty rows.).csv_pre(4,quantile).csv\nheloc_dataset_v1(exc empty rows.).csv_pre(8,quantile).csv\n"
                    ]
                }
            ],
            "source": [
                "for f in ANSWER_KEY['preprocessed_datasets']: # notice the syntax, how we iterate over a list of objects (strings), each time f takes a value from that list\n",
                "    print(f)"
            ]
        },
        {
            "cell_type": "markdown",
            "metadata": {
                "nbgrader": {
                    "grade": false,
                    "grade_id": "cell-6dd3763ec38584a8",
                    "locked": true,
                    "schema_version": 3,
                    "solution": false,
                    "task": false
                },
                "editable": false,
                "deletable": false
            },
            "source": [
                "We observe that the file names follow a pattern: \n",
                "\n",
                "    heloc_dataset_v1(exc empty rows.).csv_pre[PREPROCESSING_METHOD].csv\n",
                "    \n",
                "where [PREPROCESSING_METHOD] could take values such as \"(-1,asis)\" or \"(-1,manual_true)\". Again, for now, don't worry about the meaning of these methods, only that each specifies a certain \"preprocessing\" method. The focus of this assignment is practicing Python programming.\n"
            ]
        },
        {
            "cell_type": "markdown",
            "metadata": {
                "nbgrader": {
                    "grade": false,
                    "grade_id": "cell-5e24c68ad7282df5",
                    "locked": true,
                    "schema_version": 3,
                    "solution": false,
                    "task": false
                },
                "editable": false,
                "deletable": false
            },
            "source": [
                "Implement the function `file_name_to_preprocessing_method(s)` which takes a filename and extract the preprocessing method. For example, executing the command\n",
                "\n",
                "    file_name_to_preprocessing_method(\"heloc_dataset_v1(exc empty rows.).csv_pre(-1,asis).csv\")\n",
                "\n",
                "should return the string \"(-1,asis)\"\n",
                "\n",
                "Hint: you may find the string function `.find()` useful."
            ]
        },
        {
            "cell_type": "code",
            "execution_count": 206,
            "metadata": {
                "nbgrader": {
                    "grade": false,
                    "grade_id": "cell-274fe4d8a533e688",
                    "locked": false,
                    "schema_version": 3,
                    "solution": true,
                    "task": false
                }
            },
            "outputs": [],
            "source": [
                "def file_name_to_preprocessing_method(s): \n",
                "    # execute certain string functions on s, assign the answer to the variable res, and finally return res\n",
                "    # for a list of string functions, see, https://docs.python.org/3/library/string.html \n",
                "    res = \"replace this string with your answer\"\n",
                "    position = s.find('csv_pre')\n",
                "    if position >= 0:\n",
                "        res = s[position+7:-4]\n",
                "    else:\n",
                "        res = 'not found'\n",
                "    return(res)"
            ]
        },
        {
            "cell_type": "code",
            "execution_count": 207,
            "metadata": {
                "nbgrader": {
                    "grade": true,
                    "grade_id": "q1b",
                    "locked": true,
                    "points": 6,
                    "schema_version": 3,
                    "solution": false,
                    "task": false
                },
                "editable": false,
                "deletable": false
            },
            "outputs": [],
            "source": [
                "### BEGIN TESTS\n",
                "assert(file_name_to_preprocessing_method('heloc_dataset_v1(exc empty rows.).csv_pre(-1,asis).csv')=='(-1,asis)'), 'testing file_name_to_preprocessing_method'\n",
                "assert(file_name_to_preprocessing_method('heloc_dataset_v1(exc empty rows.).csv_pre(-1,manual_true).csv')=='(-1,manual_true)'), 'testing file_name_to_preprocessing_method'\n",
                "assert(file_name_to_preprocessing_method('heloc_dataset_v1(exc empty rows.).csv_pre(-1,w_binary4missing).csv')=='(-1,w_binary4missing)'), 'testing file_name_to_preprocessing_method'\n",
                "assert(file_name_to_preprocessing_method('heloc_dataset_v1(exc empty rows.).csv_pre(16,quantile).csv')=='(16,quantile)'), 'testing file_name_to_preprocessing_method'\n",
                "assert(file_name_to_preprocessing_method('heloc_dataset_v1(exc empty rows.).csv_pre(2,quantile).csv')=='(2,quantile)'), 'testing file_name_to_preprocessing_method'\n",
                "assert(file_name_to_preprocessing_method('heloc_dataset_v1(exc empty rows.).csv_pre(4,quantile).csv')=='(4,quantile)'), 'testing file_name_to_preprocessing_method'\n",
                "assert(file_name_to_preprocessing_method('heloc_dataset_v1(exc empty rows.).csv_pre(8,quantile).csv')=='(8,quantile)'), 'testing file_name_to_preprocessing_method'\n",
                "### END TESTS"
            ]
        },
        {
            "cell_type": "markdown",
            "metadata": {
                "nbgrader": {
                    "grade": false,
                    "grade_id": "cell-f450741f20dd8ddb",
                    "locked": true,
                    "schema_version": 3,
                    "solution": false,
                    "task": false
                },
                "editable": false,
                "deletable": false
            },
            "source": [
                "Implement the function `preprocessing_method_to_file_name(s)` which takes a preprocessing method `s` and returns the respective file name. For example, executing the command:\n",
                "\n",
                "    preprocessing_method_to_file_name(\"(-1,asis)\")\n",
                "\n",
                "should return the string:\n",
                "\n",
                "    \"heloc_dataset_v1(exc empty rows.).csv_pre(-1,asis).csv\"\n",
                "\n"
            ]
        },
        {
            "cell_type": "code",
            "execution_count": 208,
            "metadata": {
                "nbgrader": {
                    "grade": false,
                    "grade_id": "cell-5ea4517d3f5a4c72",
                    "locked": true,
                    "schema_version": 3,
                    "solution": false,
                    "task": false
                },
                "editable": false,
                "deletable": false
            },
            "outputs": [
                {
                    "output_type": "stream",
                    "name": "stdout",
                    "text": [
                        "3 , 1.2 , True , hello\n"
                    ]
                }
            ],
            "source": [
                "# hint: the following command injects values into the string template defined below\n",
                "i = 3       # an integer\n",
                "f = 1.234   # a floating point number\n",
                "b = True    # a boolean value\n",
                "s = 'hello' # a string\n",
                "x = '%d , %.1f , %r , %s'%(i,f,b,s) # the template injects an integer (%d), floating point number (%.1f - only 1 digit after the decimal point is shown), a boolean (%r this is actually more generic and would also work with other data types), and a string (%s)\n",
                "print(x)    # print the newly created string based on the various data types"
            ]
        },
        {
            "cell_type": "code",
            "execution_count": 209,
            "metadata": {
                "nbgrader": {
                    "grade": false,
                    "grade_id": "cell-8b3ab6b48373d403",
                    "locked": false,
                    "schema_version": 3,
                    "solution": true,
                    "task": false
                }
            },
            "outputs": [
                {
                    "output_type": "execute_result",
                    "data": {
                        "text/plain": [
                            "'heloc_dataset_v1(exc empty rows.).csv_pre(-1,asis).csv'"
                        ]
                    },
                    "metadata": {},
                    "execution_count": 209
                }
            ],
            "source": [
                "def preprocessing_method_to_file_name(s): \n",
                "    # execute certain string functions on s, assign the answer to the variable res, and finally return res\n",
                "    # for a list of string functions, see, https://docs.python.org/3/library/string.html \n",
                "    res = \"replace this string with your answer\"\n",
                "    for item in preprocessed_datasets:\n",
                "         if s in item:\n",
                "             res = item\n",
                "             break\n",
                "    return(res)\n",
                "\n",
                "preprocessing_method_to_file_name('(-1,asis)')"
            ]
        },
        {
            "cell_type": "code",
            "execution_count": 210,
            "metadata": {
                "nbgrader": {
                    "grade": true,
                    "grade_id": "q1c",
                    "locked": true,
                    "points": 6,
                    "schema_version": 3,
                    "solution": false,
                    "task": false
                },
                "editable": false,
                "deletable": false
            },
            "outputs": [],
            "source": [
                "### BEGIN TESTS\n",
                "assert(preprocessing_method_to_file_name('(-1,asis)')=='heloc_dataset_v1(exc empty rows.).csv_pre(-1,asis).csv'), 'test preprocessing_method_to_file_name'\n",
                "assert(preprocessing_method_to_file_name('(-1,manual_true)')=='heloc_dataset_v1(exc empty rows.).csv_pre(-1,manual_true).csv'), 'test preprocessing_method_to_file_name'\n",
                "assert(preprocessing_method_to_file_name('(-1,w_binary4missing)')=='heloc_dataset_v1(exc empty rows.).csv_pre(-1,w_binary4missing).csv'), 'test preprocessing_method_to_file_name'\n",
                "assert(preprocessing_method_to_file_name('(16,quantile)')=='heloc_dataset_v1(exc empty rows.).csv_pre(16,quantile).csv'), 'test preprocessing_method_to_file_name'\n",
                "assert(preprocessing_method_to_file_name('(2,quantile)')=='heloc_dataset_v1(exc empty rows.).csv_pre(2,quantile).csv'), 'test preprocessing_method_to_file_name'\n",
                "assert(preprocessing_method_to_file_name('(4,quantile)')=='heloc_dataset_v1(exc empty rows.).csv_pre(4,quantile).csv'), 'test preprocessing_method_to_file_name'\n",
                "assert(preprocessing_method_to_file_name('(8,quantile)')=='heloc_dataset_v1(exc empty rows.).csv_pre(8,quantile).csv'), 'test preprocessing_method_to_file_name'\n",
                "### END TESTS"
            ]
        },
        {
            "cell_type": "markdown",
            "metadata": {
                "nbgrader": {
                    "grade": false,
                    "grade_id": "cell-dcf24a9e8e3dd598",
                    "locked": true,
                    "schema_version": 3,
                    "solution": false,
                    "task": false
                },
                "editable": false,
                "deletable": false
            },
            "source": [
                "This example is quite common in practice. We will often work with multiple files that share common structure and which differ by some attributes. For example, we could have multiple files for different days and we will need to automate the code that processes each file and extracts some information from the file name (e.g., the date). "
            ]
        },
        {
            "cell_type": "markdown",
            "metadata": {
                "nbgrader": {
                    "grade": false,
                    "grade_id": "cell-5d90c09e32a6a322",
                    "locked": true,
                    "schema_version": 3,
                    "solution": false,
                    "task": false
                },
                "editable": false,
                "deletable": false
            },
            "source": [
                "### (q2)\n",
                "\n",
                "We do a similar exercise with the folder `models`. The folder contains a list of files, each corresponding to a preprocessing method (e.g., \"(-1,asis)\"), and a model (e.g., \"(Log. Reg.)\"). Again, don't worry about the what the model does or even mean. The key thing to understand here is that each file in `models` relates to a preprocessing method and a model, both of which are specified in the file name: \n",
                "\n",
                "    \"heloc_dataset_v1(exc empty rows.).csv_pre(-1,asis).csv_model(Log. Reg.).csv\"\n",
                "    \n"
            ]
        },
        {
            "cell_type": "markdown",
            "metadata": {
                "nbgrader": {
                    "grade": false,
                    "grade_id": "cell-51779cc2c11b083e",
                    "locked": true,
                    "schema_version": 3,
                    "solution": false,
                    "task": false
                },
                "editable": false,
                "deletable": false
            },
            "source": [
                "Create a list called `models` that holds the names of the files in the folder `models`. (Hint: use the OS shell command `ls` to list files)"
            ]
        },
        {
            "cell_type": "code",
            "execution_count": 211,
            "metadata": {
                "nbgrader": {
                    "grade": false,
                    "grade_id": "cell-7844800c37f150x",
                    "locked": false,
                    "schema_version": 3,
                    "solution": true,
                    "task": false
                }
            },
            "outputs": [],
            "source": [
                "models = \"replace this string with your answer\"\n",
                "###\n",
                "models = os.listdir('./models')\n",
                "###\n"
            ]
        },
        {
            "cell_type": "code",
            "execution_count": 212,
            "metadata": {
                "nbgrader": {
                    "grade": true,
                    "grade_id": "q2a",
                    "locked": true,
                    "points": 6,
                    "schema_version": 3,
                    "solution": false,
                    "task": false
                },
                "editable": false,
                "deletable": false
            },
            "outputs": [],
            "source": [
                "assert(sorted(models) == sorted(ANSWER_KEY['models']))"
            ]
        },
        {
            "cell_type": "markdown",
            "metadata": {
                "nbgrader": {
                    "grade": false,
                    "grade_id": "cell-e313a79385a1f014",
                    "locked": true,
                    "schema_version": 3,
                    "solution": false,
                    "task": false
                },
                "editable": false,
                "deletable": false
            },
            "source": [
                "Implement the function `file_name_to_preprocessing_method_and_model(s)` that takes a model file name and returns two values: the preprocessing method and the model. For example, running the command: \n",
                "\n",
                "    file_name_to_preprocessing_method_and_model(\"heloc_dataset_v1(exc empty rows.).csv_pre(-1,asis).csv_model(Log. Reg.).csv\")\n",
                "    \n",
                "returns the tuple:\n",
                "\n",
                "    ('(-1,asis)', '(Log. Reg.)')"
            ]
        },
        {
            "cell_type": "code",
            "execution_count": 213,
            "metadata": {
                "nbgrader": {
                    "grade": false,
                    "grade_id": "cell-8f6ebeb77325607a",
                    "locked": false,
                    "schema_version": 3,
                    "solution": true,
                    "task": false
                }
            },
            "outputs": [
                {
                    "output_type": "execute_result",
                    "data": {
                        "text/plain": [
                            "('(-1,asis)', '(Log. Reg.)')"
                        ]
                    },
                    "metadata": {},
                    "execution_count": 213
                }
            ],
            "source": [
                "def file_name_to_preprocessing_method_and_model(s): \n",
                "    # use string functions on s, assign the answer to the variables preprocessing and model, and finally return the tuple: (preprocessing, model)\n",
                "    # for a list of string functions, see, https://docs.python.org/3/library/string.html \n",
                "    preprocessing = \"replace this string with your answer\"\n",
                "    model = \"replace this string with your answer\"\n",
                "    trash,pre,mo = s.split(\"csv_\")\n",
                "    \n",
                "    #find preprocessing\n",
                "    position = pre.find('pre')\n",
                "    if position >= 0:\n",
                "        preprocessing = pre[position+3:-1]\n",
                "    else:\n",
                "        preprocessing = 'not found'\n",
                "    \n",
                "    #find model\n",
                "    position = mo.find('model')\n",
                "    if position >= 0:\n",
                "        model = mo[position+5:-4]\n",
                "    else:\n",
                "        model = 'not found'\n",
                "    return(preprocessing, model)\n",
                "\n",
                "file_name_to_preprocessing_method_and_model('heloc_dataset_v1(exc empty rows.).csv_pre(-1,asis).csv_model(Log. Reg.).csv')"
            ]
        },
        {
            "cell_type": "code",
            "execution_count": 214,
            "metadata": {
                "nbgrader": {
                    "grade": true,
                    "grade_id": "q2b",
                    "locked": true,
                    "points": 6,
                    "schema_version": 3,
                    "solution": false,
                    "task": false
                },
                "editable": false,
                "deletable": false
            },
            "outputs": [],
            "source": [
                "###\n",
                "### AUTOGRADER TEST - DO NOT REMOVE\n",
                "###\n"
            ]
        },
        {
            "cell_type": "markdown",
            "metadata": {
                "nbgrader": {
                    "grade": false,
                    "grade_id": "cell-fed34a3269595ef3",
                    "locked": true,
                    "schema_version": 3,
                    "solution": false,
                    "task": false
                },
                "editable": false,
                "deletable": false
            },
            "source": [
                "Now implement the opposite function `preprocessing_method_and_model_to_file_name(p,m)` that takes a preprocessing method `p` and a model `m` and returns the corresponding file name. For example, running the command: \n",
                "\n",
                "    preprocessing_method_and_model_to_file_name('(8,quantile)','(SVM (RBF))')\n",
                "    \n",
                "returns the string: \n",
                "\n",
                "    'heloc_dataset_v1(exc empty rows.).csv_pre(8,quantile).csv_model(SVM (RBF)).csv'\n",
                "    \n",
                "Note that both `p` and `m` are strings."
            ]
        },
        {
            "cell_type": "code",
            "execution_count": 215,
            "metadata": {
                "nbgrader": {
                    "grade": false,
                    "grade_id": "cell-7d4ac39aa5d26049",
                    "locked": false,
                    "schema_version": 3,
                    "solution": true,
                    "task": false
                }
            },
            "outputs": [
                {
                    "output_type": "execute_result",
                    "data": {
                        "text/plain": [
                            "'heloc_dataset_v1(exc empty rows.).csv_pre(8,quantile).csv_model(SVM (RBF)).csv'"
                        ]
                    },
                    "metadata": {},
                    "execution_count": 215
                }
            ],
            "source": [
                "def preprocessing_method_and_model_to_file_name(p,m): \n",
                "    # execute certain string functions on s, assign the answer to the variable res, and finally return res\n",
                "    # for a list of string functions, see, https://docs.python.org/3/library/string.html \n",
                "    res = \"replace this string with your answer\"\n",
                "    for item in models:\n",
                "         if p in item and m in item:\n",
                "             res = item\n",
                "             break\n",
                "    return(res)\n",
                "\n",
                "preprocessing_method_and_model_to_file_name('(8,quantile)','(SVM (RBF))')"
            ]
        },
        {
            "cell_type": "code",
            "execution_count": 216,
            "metadata": {
                "nbgrader": {
                    "grade": true,
                    "grade_id": "q2c",
                    "locked": true,
                    "points": 6,
                    "schema_version": 3,
                    "solution": false,
                    "task": false
                },
                "editable": false,
                "deletable": false
            },
            "outputs": [],
            "source": [
                "###\n",
                "### AUTOGRADER TEST - DO NOT REMOVE\n",
                "###\n"
            ]
        },
        {
            "cell_type": "markdown",
            "metadata": {
                "nbgrader": {
                    "grade": false,
                    "grade_id": "cell-11cb981c0c1ba01a",
                    "locked": true,
                    "schema_version": 3,
                    "solution": false,
                    "task": false
                },
                "editable": false,
                "deletable": false
            },
            "source": [
                "### (q3)\n",
                "\n",
                "Let's perform a quick sanity check on our data and check the dimensions of each data set. \n",
                "\n",
                "Create the dataframe `df_models` which contains a row per each file in the folder `models` and three columns labeled 'preprocessing', 'model', and 'file', which respectively hold the preprocessing method, the model, and the relative location of the file. \n",
                "\n",
                "The first two columns can be computed using the function `file_name_to_preprocessing_method_and_model(f)` you implemented earlier. To obtain the relative location of the file, you may use the function `join` as demonstrated below. \n",
                "\n",
                "Hint: to create a dataframe you may first create a list of dictionaries, each corresponding to a row in the data frame (and a file in the folder models). In each dictionary the key would be the column names and the dictionary value would be the respective value. "
            ]
        },
        {
            "cell_type": "code",
            "execution_count": 217,
            "metadata": {
                "nbgrader": {
                    "grade": false,
                    "grade_id": "cell-8650460bfba710f5",
                    "locked": true,
                    "schema_version": 3,
                    "solution": false,
                    "task": false
                },
                "editable": false,
                "deletable": false
            },
            "outputs": [
                {
                    "output_type": "stream",
                    "name": "stdout",
                    "text": [
                        "models/heloc_dataset_v1(exc empty rows.).csv_pre(-1,asis).csv_model(AdaBoost).csv\n"
                    ]
                }
            ],
            "source": [
                "# sample code for join\n",
                "from os.path import join\n",
                "model_file = 'heloc_dataset_v1(exc empty rows.).csv_pre(-1,asis).csv_model(AdaBoost).csv'\n",
                "print(join('models',model_file)) # we simply concatenated the folder to the file name so that we could easily access the file when needed"
            ]
        },
        {
            "cell_type": "markdown",
            "metadata": {
                "nbgrader": {
                    "grade": false,
                    "grade_id": "cell-f34f6a62e607da1a",
                    "locked": true,
                    "schema_version": 3,
                    "solution": false,
                    "task": false
                },
                "editable": false,
                "deletable": false
            },
            "source": [
                "The function `join` concatenates the folder location (this is a string) with the file name (another string). While this can be done using the '+' operator, in different operating systems different characters are used to describe paths (e.g., it could be '/' or '\\\\'). The function `join` takes care of this."
            ]
        },
        {
            "cell_type": "code",
            "execution_count": 218,
            "metadata": {
                "nbgrader": {
                    "grade": false,
                    "grade_id": "cell-8fc9a6814bd56e12",
                    "locked": false,
                    "schema_version": 3,
                    "solution": true,
                    "task": false
                }
            },
            "outputs": [
                {
                    "output_type": "execute_result",
                    "data": {
                        "text/plain": [
                            "           preprocessing        model  \\\n",
                            "0              (-1,asis)  (SVM (RBF))   \n",
                            "1           (4,quantile)        (KNN)   \n",
                            "2  (-1,w_binary4missing)       (CART)   \n",
                            "3          (16,quantile)  (SVM (RBF))   \n",
                            "4          (16,quantile)        (KNN)   \n",
                            "\n",
                            "                                                file  \n",
                            "0  models/heloc_dataset_v1(exc empty rows.).csv_p...  \n",
                            "1  models/heloc_dataset_v1(exc empty rows.).csv_p...  \n",
                            "2  models/heloc_dataset_v1(exc empty rows.).csv_p...  \n",
                            "3  models/heloc_dataset_v1(exc empty rows.).csv_p...  \n",
                            "4  models/heloc_dataset_v1(exc empty rows.).csv_p...  "
                        ],
                        "text/html": "<div>\n<style scoped>\n    .dataframe tbody tr th:only-of-type {\n        vertical-align: middle;\n    }\n\n    .dataframe tbody tr th {\n        vertical-align: top;\n    }\n\n    .dataframe thead th {\n        text-align: right;\n    }\n</style>\n<table border=\"1\" class=\"dataframe\">\n  <thead>\n    <tr style=\"text-align: right;\">\n      <th></th>\n      <th>preprocessing</th>\n      <th>model</th>\n      <th>file</th>\n    </tr>\n  </thead>\n  <tbody>\n    <tr>\n      <th>0</th>\n      <td>(-1,asis)</td>\n      <td>(SVM (RBF))</td>\n      <td>models/heloc_dataset_v1(exc empty rows.).csv_p...</td>\n    </tr>\n    <tr>\n      <th>1</th>\n      <td>(4,quantile)</td>\n      <td>(KNN)</td>\n      <td>models/heloc_dataset_v1(exc empty rows.).csv_p...</td>\n    </tr>\n    <tr>\n      <th>2</th>\n      <td>(-1,w_binary4missing)</td>\n      <td>(CART)</td>\n      <td>models/heloc_dataset_v1(exc empty rows.).csv_p...</td>\n    </tr>\n    <tr>\n      <th>3</th>\n      <td>(16,quantile)</td>\n      <td>(SVM (RBF))</td>\n      <td>models/heloc_dataset_v1(exc empty rows.).csv_p...</td>\n    </tr>\n    <tr>\n      <th>4</th>\n      <td>(16,quantile)</td>\n      <td>(KNN)</td>\n      <td>models/heloc_dataset_v1(exc empty rows.).csv_p...</td>\n    </tr>\n  </tbody>\n</table>\n</div>"
                    },
                    "metadata": {},
                    "execution_count": 218
                }
            ],
            "source": [
                "df_models = \"replace this string with your answer\"\n",
                "\n",
                "#files\n",
                "model_files = os.listdir('models/')\n",
                "files = [join('models',model) for model in model_files]\n",
                "\n",
                "#preprocessing and models\n",
                "preprocessing = []\n",
                "models = []\n",
                "for f in files:\n",
                "    preprocessing.append(file_name_to_preprocessing_method_and_model(f)[0])\n",
                "    models.append(file_name_to_preprocessing_method_and_model(f)[1])\n",
                "\n",
                "df_models = {\n",
                "    'preprocessing' : preprocessing,\n",
                "    'model' : models,\n",
                "    'file' : files\n",
                "}\n",
                "\n",
                "df_models = pd.DataFrame(df_models)\n",
                "df_models.head()\n",
                "\n"
            ]
        },
        {
            "cell_type": "code",
            "execution_count": 219,
            "metadata": {
                "nbgrader": {
                    "grade": false,
                    "grade_id": "cell-271631831212dbe0",
                    "locked": true,
                    "schema_version": 3,
                    "solution": false,
                    "task": false
                },
                "editable": false,
                "deletable": false
            },
            "outputs": [
                {
                    "output_type": "execute_result",
                    "data": {
                        "text/plain": [
                            "   preprocessing        model  \\\n",
                            "0  (16,quantile)   (AdaBoost)   \n",
                            "1  (16,quantile)       (CART)   \n",
                            "2  (16,quantile)        (KNN)   \n",
                            "3  (16,quantile)  (Log. Reg.)   \n",
                            "4  (16,quantile)         (RF)   \n",
                            "\n",
                            "                                                file  \n",
                            "0  models/heloc_dataset_v1(exc empty rows.).csv_p...  \n",
                            "1  models/heloc_dataset_v1(exc empty rows.).csv_p...  \n",
                            "2  models/heloc_dataset_v1(exc empty rows.).csv_p...  \n",
                            "3  models/heloc_dataset_v1(exc empty rows.).csv_p...  \n",
                            "4  models/heloc_dataset_v1(exc empty rows.).csv_p...  "
                        ],
                        "text/html": "<div>\n<style scoped>\n    .dataframe tbody tr th:only-of-type {\n        vertical-align: middle;\n    }\n\n    .dataframe tbody tr th {\n        vertical-align: top;\n    }\n\n    .dataframe thead th {\n        text-align: right;\n    }\n</style>\n<table border=\"1\" class=\"dataframe\">\n  <thead>\n    <tr style=\"text-align: right;\">\n      <th></th>\n      <th>preprocessing</th>\n      <th>model</th>\n      <th>file</th>\n    </tr>\n  </thead>\n  <tbody>\n    <tr>\n      <th>0</th>\n      <td>(16,quantile)</td>\n      <td>(AdaBoost)</td>\n      <td>models/heloc_dataset_v1(exc empty rows.).csv_p...</td>\n    </tr>\n    <tr>\n      <th>1</th>\n      <td>(16,quantile)</td>\n      <td>(CART)</td>\n      <td>models/heloc_dataset_v1(exc empty rows.).csv_p...</td>\n    </tr>\n    <tr>\n      <th>2</th>\n      <td>(16,quantile)</td>\n      <td>(KNN)</td>\n      <td>models/heloc_dataset_v1(exc empty rows.).csv_p...</td>\n    </tr>\n    <tr>\n      <th>3</th>\n      <td>(16,quantile)</td>\n      <td>(Log. Reg.)</td>\n      <td>models/heloc_dataset_v1(exc empty rows.).csv_p...</td>\n    </tr>\n    <tr>\n      <th>4</th>\n      <td>(16,quantile)</td>\n      <td>(RF)</td>\n      <td>models/heloc_dataset_v1(exc empty rows.).csv_p...</td>\n    </tr>\n  </tbody>\n</table>\n</div>"
                    },
                    "metadata": {},
                    "execution_count": 219
                }
            ],
            "source": [
                "# Sample of the output\n",
                "ANSWER_KEY['df_models'].head()"
            ]
        },
        {
            "cell_type": "code",
            "execution_count": 220,
            "metadata": {
                "nbgrader": {
                    "grade": true,
                    "grade_id": "q3a",
                    "locked": true,
                    "points": 6,
                    "schema_version": 3,
                    "solution": false,
                    "task": false
                },
                "editable": false,
                "deletable": false
            },
            "outputs": [],
            "source": [
                "### BEGIN TEST (DO NOT REMOVE CELL)\n",
                "sol = ANSWER_KEY['df_models'].sort_values(by='file',ignore_index=True)\n",
                "diff = sol.compare(df_models.sort_values(by='file',ignore_index=True), keep_equal=False, align_axis=0)\n",
                "assert(len(diff)==0), 'testing df_models'\n",
                "### END TEST "
            ]
        },
        {
            "cell_type": "markdown",
            "metadata": {
                "nbgrader": {
                    "grade": false,
                    "grade_id": "cell-54b422a699b800a0",
                    "locked": true,
                    "schema_version": 3,
                    "solution": false,
                    "task": false
                },
                "editable": false,
                "deletable": false
            },
            "source": [
                "Create the following variables and assign to them the indicated values: \n",
                "- `n_rows_df_models`: the number of rows in df_models\n",
                "- `n_cols_df_models`: the number of columns in df_models\n",
                "- `num_preprocessing`: the number of different preprocessing methods\n",
                "- `num_models`: the number of different models\n",
                "- `models_list`: the list of models that appear in the files in the folder `models`; sort the list using the command `sorted`\n",
                "\n",
                "Hint: you may use the series function `.unique()` to return the unique values of a certain column. (see also, https://pandas.pydata.org/pandas-docs/stable/reference/api/pandas.Series.unique.html)"
            ]
        },
        {
            "cell_type": "code",
            "execution_count": 221,
            "metadata": {
                "nbgrader": {
                    "grade": false,
                    "grade_id": "cell-018ec02e20d610cf",
                    "locked": true,
                    "schema_version": 3,
                    "solution": false,
                    "task": false
                },
                "editable": false,
                "deletable": false
            },
            "outputs": [
                {
                    "output_type": "execute_result",
                    "data": {
                        "text/plain": [
                            "[1, 3, 10]"
                        ]
                    },
                    "metadata": {},
                    "execution_count": 221
                }
            ],
            "source": [
                "# sample code\n",
                "sorted([1,10,3])"
            ]
        },
        {
            "cell_type": "code",
            "execution_count": 222,
            "metadata": {
                "nbgrader": {
                    "grade": false,
                    "grade_id": "cell-ae76d92ac64d886d",
                    "locked": false,
                    "schema_version": 3,
                    "solution": true,
                    "task": false
                }
            },
            "outputs": [],
            "source": [
                "n_rows_df_models = \"replace this string with your answer\"\n",
                "n_cols_df_models = \"replace this string with your answer\"\n",
                "num_preprocessing = \"replace this string with your answer\"\n",
                "num_models = \"replace this string with your answer\"\n",
                "models_list = \"replace this string with your answer\"\n",
                "\n",
                "# number of rows\n",
                "n_rows_df_models = len(df_models)\n",
                "\n",
                "# number of cols\n",
                "n_cols_df_models = len(df_models.columns)\n",
                "\n",
                "#number of different preprocessing methods\n",
                "num_preprocessing = len(pd.unique(df_models['preprocessing']))\n",
                "\n",
                "#number of models\n",
                "num_models = len(pd.unique(df_models['model']))\n",
                "\n",
                "#model lists\n",
                "models_list = sorted(pd.unique(df_models['model']))\n"
            ]
        },
        {
            "cell_type": "code",
            "execution_count": 223,
            "metadata": {
                "nbgrader": {
                    "grade": true,
                    "grade_id": "q3b",
                    "locked": true,
                    "points": 6,
                    "schema_version": 3,
                    "solution": false,
                    "task": false
                },
                "editable": false,
                "deletable": false
            },
            "outputs": [],
            "source": [
                "### BEGIN TEST (DO NOT REMOVE CELL)\n",
                "assert(ANSWER_KEY['n_rows_df_models']==n_rows_df_models)\n",
                "assert(ANSWER_KEY['n_cols_df_models']==n_cols_df_models)\n",
                "assert(ANSWER_KEY['num_preprocessing']==num_preprocessing)\n",
                "assert(ANSWER_KEY['num_models']==num_models)\n",
                "assert(sorted(ANSWER_KEY['models_list'])==sorted(models_list))\n",
                "### END TEST "
            ]
        },
        {
            "cell_type": "markdown",
            "metadata": {
                "nbgrader": {
                    "grade": false,
                    "grade_id": "cell-e519514103b78914",
                    "locked": true,
                    "schema_version": 3,
                    "solution": false,
                    "task": false
                },
                "editable": false,
                "deletable": false
            },
            "source": [
                "Let's examine the resulting dataframe:"
            ]
        },
        {
            "cell_type": "code",
            "execution_count": 224,
            "metadata": {
                "nbgrader": {
                    "grade": false,
                    "grade_id": "cell-8a0b8566933b729c",
                    "locked": true,
                    "schema_version": 3,
                    "solution": false,
                    "task": false
                },
                "editable": false,
                "deletable": false
            },
            "outputs": [
                {
                    "output_type": "stream",
                    "name": "stdout",
                    "text": [
                        "The number of rows in df_models: 56\nThe number of columns in df_models: 3\nThe number of different preprocessing methods: 7\nThe number of different models: 8\nThe list of models: ['(AdaBoost)', '(CART)', '(KNN)', '(Log. Reg.)', '(RF)', '(SVM (Linear))', '(SVM (Poly))', '(SVM (RBF))']\n"
                    ]
                }
            ],
            "source": [
                "print('The number of rows in df_models:', ANSWER_KEY['n_rows_df_models'])\n",
                "print('The number of columns in df_models:', ANSWER_KEY['n_cols_df_models'])\n",
                "print('The number of different preprocessing methods:', ANSWER_KEY['num_preprocessing'])\n",
                "print('The number of different models:', ANSWER_KEY['num_models'])\n",
                "print('The list of models:', ANSWER_KEY['models_list'])"
            ]
        },
        {
            "cell_type": "markdown",
            "metadata": {
                "nbgrader": {
                    "grade": false,
                    "grade_id": "cell-17c6a1cfe3d70c28",
                    "locked": true,
                    "schema_version": 3,
                    "solution": false,
                    "task": false
                },
                "editable": false,
                "deletable": false
            },
            "source": [
                "Let's add a new column to `df_models` which would hold the dimensions (shape) of the data frame in each file. Call the new column `shape`. Each element in this column should be a tuple with two integers indicating the number of rows and columns in the corresponding file.\n",
                "\n",
                "Hint: you may use the command `.apply()` to apply a function to each row (or column) of a data frame."
            ]
        },
        {
            "cell_type": "code",
            "execution_count": 225,
            "metadata": {
                "nbgrader": {
                    "grade": false,
                    "grade_id": "cell-7dc3eba1b333c931",
                    "locked": true,
                    "schema_version": 3,
                    "solution": false,
                    "task": false
                },
                "scrolled": true,
                "editable": false,
                "deletable": false
            },
            "outputs": [
                {
                    "output_type": "execute_result",
                    "data": {
                        "text/plain": [
                            "           preprocessing        model  \\\n",
                            "0              (-1,asis)  (SVM (RBF))   \n",
                            "1           (4,quantile)        (KNN)   \n",
                            "2  (-1,w_binary4missing)       (CART)   \n",
                            "\n",
                            "                                                file  \n",
                            "0  models/heloc_dataset_v1(exc empty rows.).csv_p...  \n",
                            "1  models/heloc_dataset_v1(exc empty rows.).csv_p...  \n",
                            "2  models/heloc_dataset_v1(exc empty rows.).csv_p...  "
                        ],
                        "text/html": "<div>\n<style scoped>\n    .dataframe tbody tr th:only-of-type {\n        vertical-align: middle;\n    }\n\n    .dataframe tbody tr th {\n        vertical-align: top;\n    }\n\n    .dataframe thead th {\n        text-align: right;\n    }\n</style>\n<table border=\"1\" class=\"dataframe\">\n  <thead>\n    <tr style=\"text-align: right;\">\n      <th></th>\n      <th>preprocessing</th>\n      <th>model</th>\n      <th>file</th>\n    </tr>\n  </thead>\n  <tbody>\n    <tr>\n      <th>0</th>\n      <td>(-1,asis)</td>\n      <td>(SVM (RBF))</td>\n      <td>models/heloc_dataset_v1(exc empty rows.).csv_p...</td>\n    </tr>\n    <tr>\n      <th>1</th>\n      <td>(4,quantile)</td>\n      <td>(KNN)</td>\n      <td>models/heloc_dataset_v1(exc empty rows.).csv_p...</td>\n    </tr>\n    <tr>\n      <th>2</th>\n      <td>(-1,w_binary4missing)</td>\n      <td>(CART)</td>\n      <td>models/heloc_dataset_v1(exc empty rows.).csv_p...</td>\n    </tr>\n  </tbody>\n</table>\n</div>"
                    },
                    "metadata": {},
                    "execution_count": 225
                }
            ],
            "source": [
                "# Sample code (1): for simplicity, we will apply a function to a smaller dataframe that only contains the first 3 rows of df_models \n",
                "df_models.head(3)"
            ]
        },
        {
            "cell_type": "code",
            "execution_count": 226,
            "metadata": {
                "nbgrader": {
                    "grade": false,
                    "grade_id": "cell-786649c79291f7ab",
                    "locked": true,
                    "schema_version": 3,
                    "solution": false,
                    "task": false
                },
                "editable": false,
                "deletable": false
            },
            "outputs": [
                {
                    "output_type": "execute_result",
                    "data": {
                        "text/plain": [
                            "0    11\n",
                            "1     5\n",
                            "2     6\n",
                            "dtype: int64"
                        ]
                    },
                    "metadata": {},
                    "execution_count": 226
                }
            ],
            "source": [
                "# Sample code (2)\n",
                "\n",
                "def some_function_to_apply_to_each_row(row):\n",
                "    # The function we define here counts the number of characters in the column 'model' (not a particularly interesting function, just an example)\n",
                "    return(len(row['model']))\n",
                "\n",
                "# The function apply returns the same number of elements as the number of rows in the dataframe to which it was applied\n",
                "df_models.head(3).apply(some_function_to_apply_to_each_row, axis=1) # the axis parameter means that we apply the function to each row (rather than to each column)"
            ]
        },
        {
            "cell_type": "code",
            "execution_count": 227,
            "metadata": {
                "nbgrader": {
                    "grade": false,
                    "grade_id": "cell-7a63f1d4cc6934d5",
                    "locked": true,
                    "schema_version": 3,
                    "solution": false,
                    "task": false
                },
                "editable": false,
                "deletable": false
            },
            "outputs": [
                {
                    "output_type": "execute_result",
                    "data": {
                        "text/plain": [
                            "0    11\n",
                            "1     5\n",
                            "2     6\n",
                            "dtype: int64"
                        ]
                    },
                    "metadata": {},
                    "execution_count": 227
                }
            ],
            "source": [
                "# Sample code (3): an alternative way of defining the same function using \"anonymous functions\"\n",
                "some_function_to_apply_to_each_row = lambda row:len(row['model']) # here we define the same function more compactly\n",
                "\n",
                "df_models.head(3).apply(some_function_to_apply_to_each_row, axis=1) "
            ]
        },
        {
            "cell_type": "code",
            "execution_count": 228,
            "metadata": {
                "nbgrader": {
                    "grade": false,
                    "grade_id": "cell-eecd57cdbae15fae",
                    "locked": true,
                    "schema_version": 3,
                    "solution": false,
                    "task": false
                },
                "editable": false,
                "deletable": false
            },
            "outputs": [
                {
                    "output_type": "execute_result",
                    "data": {
                        "text/plain": [
                            "0    11\n",
                            "1     5\n",
                            "2     6\n",
                            "dtype: int64"
                        ]
                    },
                    "metadata": {},
                    "execution_count": 228
                }
            ],
            "source": [
                "# Sample code (4): an even more compact way to do it\n",
                "df_models.head(3).apply(lambda row:len(row['model']), axis=1) "
            ]
        },
        {
            "cell_type": "code",
            "execution_count": 229,
            "metadata": {
                "nbgrader": {
                    "grade": false,
                    "grade_id": "cell-f343aaa8f8011a50",
                    "locked": false,
                    "schema_version": 3,
                    "solution": true,
                    "task": false
                }
            },
            "outputs": [
                {
                    "output_type": "execute_result",
                    "data": {
                        "text/plain": [
                            "           preprocessing        model  \\\n",
                            "0              (-1,asis)  (SVM (RBF))   \n",
                            "1           (4,quantile)        (KNN)   \n",
                            "2  (-1,w_binary4missing)       (CART)   \n",
                            "3          (16,quantile)  (SVM (RBF))   \n",
                            "4          (16,quantile)        (KNN)   \n",
                            "\n",
                            "                                                file        shape  \n",
                            "0  models/heloc_dataset_v1(exc empty rows.).csv_p...   (9871, 24)  \n",
                            "1  models/heloc_dataset_v1(exc empty rows.).csv_p...  (9871, 105)  \n",
                            "2  models/heloc_dataset_v1(exc empty rows.).csv_p...   (9871, 36)  \n",
                            "3  models/heloc_dataset_v1(exc empty rows.).csv_p...  (9871, 381)  \n",
                            "4  models/heloc_dataset_v1(exc empty rows.).csv_p...  (9871, 381)  "
                        ],
                        "text/html": "<div>\n<style scoped>\n    .dataframe tbody tr th:only-of-type {\n        vertical-align: middle;\n    }\n\n    .dataframe tbody tr th {\n        vertical-align: top;\n    }\n\n    .dataframe thead th {\n        text-align: right;\n    }\n</style>\n<table border=\"1\" class=\"dataframe\">\n  <thead>\n    <tr style=\"text-align: right;\">\n      <th></th>\n      <th>preprocessing</th>\n      <th>model</th>\n      <th>file</th>\n      <th>shape</th>\n    </tr>\n  </thead>\n  <tbody>\n    <tr>\n      <th>0</th>\n      <td>(-1,asis)</td>\n      <td>(SVM (RBF))</td>\n      <td>models/heloc_dataset_v1(exc empty rows.).csv_p...</td>\n      <td>(9871, 24)</td>\n    </tr>\n    <tr>\n      <th>1</th>\n      <td>(4,quantile)</td>\n      <td>(KNN)</td>\n      <td>models/heloc_dataset_v1(exc empty rows.).csv_p...</td>\n      <td>(9871, 105)</td>\n    </tr>\n    <tr>\n      <th>2</th>\n      <td>(-1,w_binary4missing)</td>\n      <td>(CART)</td>\n      <td>models/heloc_dataset_v1(exc empty rows.).csv_p...</td>\n      <td>(9871, 36)</td>\n    </tr>\n    <tr>\n      <th>3</th>\n      <td>(16,quantile)</td>\n      <td>(SVM (RBF))</td>\n      <td>models/heloc_dataset_v1(exc empty rows.).csv_p...</td>\n      <td>(9871, 381)</td>\n    </tr>\n    <tr>\n      <th>4</th>\n      <td>(16,quantile)</td>\n      <td>(KNN)</td>\n      <td>models/heloc_dataset_v1(exc empty rows.).csv_p...</td>\n      <td>(9871, 381)</td>\n    </tr>\n  </tbody>\n</table>\n</div>"
                    },
                    "metadata": {},
                    "execution_count": 229
                }
            ],
            "source": [
                "# write here code that adds the new column to df_models (running it may take a while as you might read each of the files in the folder models)\n",
                "\n",
                "#calculate num of rows and columns\n",
                "def calculate_rows_and_columns(row):\n",
                "    df = pd.read_csv(row['file'])\n",
                "    n_rows = len(df)\n",
                "    n_cols = len(df.columns)\n",
                "    return (n_rows,n_cols)\n",
                "\n",
                "#add new column\n",
                "shape = df_models.apply(calculate_rows_and_columns,axis=1)\n",
                "df_models['shape'] = shape\n",
                "df_models.head()\n"
            ]
        },
        {
            "cell_type": "code",
            "execution_count": 230,
            "metadata": {
                "nbgrader": {
                    "grade": false,
                    "grade_id": "cell-de43cca3c7f300df",
                    "locked": true,
                    "schema_version": 3,
                    "solution": false,
                    "task": false
                },
                "editable": false,
                "deletable": false
            },
            "outputs": [
                {
                    "output_type": "execute_result",
                    "data": {
                        "text/plain": [
                            "   preprocessing       model  \\\n",
                            "0  (16,quantile)  (AdaBoost)   \n",
                            "1  (16,quantile)      (CART)   \n",
                            "2  (16,quantile)       (KNN)   \n",
                            "\n",
                            "                                                file        shape  \n",
                            "0  models/heloc_dataset_v1(exc empty rows.).csv_p...  (9871, 381)  \n",
                            "1  models/heloc_dataset_v1(exc empty rows.).csv_p...  (9871, 381)  \n",
                            "2  models/heloc_dataset_v1(exc empty rows.).csv_p...  (9871, 381)  "
                        ],
                        "text/html": "<div>\n<style scoped>\n    .dataframe tbody tr th:only-of-type {\n        vertical-align: middle;\n    }\n\n    .dataframe tbody tr th {\n        vertical-align: top;\n    }\n\n    .dataframe thead th {\n        text-align: right;\n    }\n</style>\n<table border=\"1\" class=\"dataframe\">\n  <thead>\n    <tr style=\"text-align: right;\">\n      <th></th>\n      <th>preprocessing</th>\n      <th>model</th>\n      <th>file</th>\n      <th>shape</th>\n    </tr>\n  </thead>\n  <tbody>\n    <tr>\n      <th>0</th>\n      <td>(16,quantile)</td>\n      <td>(AdaBoost)</td>\n      <td>models/heloc_dataset_v1(exc empty rows.).csv_p...</td>\n      <td>(9871, 381)</td>\n    </tr>\n    <tr>\n      <th>1</th>\n      <td>(16,quantile)</td>\n      <td>(CART)</td>\n      <td>models/heloc_dataset_v1(exc empty rows.).csv_p...</td>\n      <td>(9871, 381)</td>\n    </tr>\n    <tr>\n      <th>2</th>\n      <td>(16,quantile)</td>\n      <td>(KNN)</td>\n      <td>models/heloc_dataset_v1(exc empty rows.).csv_p...</td>\n      <td>(9871, 381)</td>\n    </tr>\n  </tbody>\n</table>\n</div>"
                    },
                    "metadata": {},
                    "execution_count": 230
                }
            ],
            "source": [
                "# example of the output\n",
                "ANSWER_KEY['df_models_update1'].head(3)"
            ]
        },
        {
            "cell_type": "code",
            "execution_count": 231,
            "metadata": {
                "nbgrader": {
                    "grade": true,
                    "grade_id": "q3c",
                    "locked": true,
                    "points": 6,
                    "schema_version": 3,
                    "solution": false,
                    "task": false
                },
                "editable": false,
                "deletable": false
            },
            "outputs": [],
            "source": [
                "### BEGIN TEST (DO NOT REMOVE CELL)\n",
                "sol = ANSWER_KEY['df_models_update1'].sort_values(by='file',ignore_index=True)\n",
                "diff = sol.compare(df_models.sort_values(by='file',ignore_index=True), keep_equal=False, align_axis=0)\n",
                "assert(len(diff)==0), 'testing df_models_update1'\n",
                "### END TEST "
            ]
        },
        {
            "cell_type": "markdown",
            "metadata": {
                "nbgrader": {
                    "grade": false,
                    "grade_id": "cell-54d4f46acf4177a7",
                    "locked": true,
                    "schema_version": 3,
                    "solution": false,
                    "task": false
                },
                "editable": false,
                "deletable": false
            },
            "source": [
                "Use the function `.apply()` to add two new columns called `n_rows` and `n_cols`, respectively holding the number of rows and columns in each row. "
            ]
        },
        {
            "cell_type": "code",
            "execution_count": 232,
            "metadata": {
                "nbgrader": {
                    "grade": false,
                    "grade_id": "cell-bcb1fe40a4027f25",
                    "locked": false,
                    "schema_version": 3,
                    "solution": true,
                    "task": false
                }
            },
            "outputs": [
                {
                    "output_type": "execute_result",
                    "data": {
                        "text/plain": [
                            "           preprocessing        model  \\\n",
                            "0              (-1,asis)  (SVM (RBF))   \n",
                            "1           (4,quantile)        (KNN)   \n",
                            "2  (-1,w_binary4missing)       (CART)   \n",
                            "3          (16,quantile)  (SVM (RBF))   \n",
                            "4          (16,quantile)        (KNN)   \n",
                            "\n",
                            "                                                file        shape  n_rows  \\\n",
                            "0  models/heloc_dataset_v1(exc empty rows.).csv_p...   (9871, 24)    9871   \n",
                            "1  models/heloc_dataset_v1(exc empty rows.).csv_p...  (9871, 105)    9871   \n",
                            "2  models/heloc_dataset_v1(exc empty rows.).csv_p...   (9871, 36)    9871   \n",
                            "3  models/heloc_dataset_v1(exc empty rows.).csv_p...  (9871, 381)    9871   \n",
                            "4  models/heloc_dataset_v1(exc empty rows.).csv_p...  (9871, 381)    9871   \n",
                            "\n",
                            "   n_cols  \n",
                            "0      24  \n",
                            "1     105  \n",
                            "2      36  \n",
                            "3     381  \n",
                            "4     381  "
                        ],
                        "text/html": "<div>\n<style scoped>\n    .dataframe tbody tr th:only-of-type {\n        vertical-align: middle;\n    }\n\n    .dataframe tbody tr th {\n        vertical-align: top;\n    }\n\n    .dataframe thead th {\n        text-align: right;\n    }\n</style>\n<table border=\"1\" class=\"dataframe\">\n  <thead>\n    <tr style=\"text-align: right;\">\n      <th></th>\n      <th>preprocessing</th>\n      <th>model</th>\n      <th>file</th>\n      <th>shape</th>\n      <th>n_rows</th>\n      <th>n_cols</th>\n    </tr>\n  </thead>\n  <tbody>\n    <tr>\n      <th>0</th>\n      <td>(-1,asis)</td>\n      <td>(SVM (RBF))</td>\n      <td>models/heloc_dataset_v1(exc empty rows.).csv_p...</td>\n      <td>(9871, 24)</td>\n      <td>9871</td>\n      <td>24</td>\n    </tr>\n    <tr>\n      <th>1</th>\n      <td>(4,quantile)</td>\n      <td>(KNN)</td>\n      <td>models/heloc_dataset_v1(exc empty rows.).csv_p...</td>\n      <td>(9871, 105)</td>\n      <td>9871</td>\n      <td>105</td>\n    </tr>\n    <tr>\n      <th>2</th>\n      <td>(-1,w_binary4missing)</td>\n      <td>(CART)</td>\n      <td>models/heloc_dataset_v1(exc empty rows.).csv_p...</td>\n      <td>(9871, 36)</td>\n      <td>9871</td>\n      <td>36</td>\n    </tr>\n    <tr>\n      <th>3</th>\n      <td>(16,quantile)</td>\n      <td>(SVM (RBF))</td>\n      <td>models/heloc_dataset_v1(exc empty rows.).csv_p...</td>\n      <td>(9871, 381)</td>\n      <td>9871</td>\n      <td>381</td>\n    </tr>\n    <tr>\n      <th>4</th>\n      <td>(16,quantile)</td>\n      <td>(KNN)</td>\n      <td>models/heloc_dataset_v1(exc empty rows.).csv_p...</td>\n      <td>(9871, 381)</td>\n      <td>9871</td>\n      <td>381</td>\n    </tr>\n  </tbody>\n</table>\n</div>"
                    },
                    "metadata": {},
                    "execution_count": 232
                }
            ],
            "source": [
                "# write here code that adds the new column to df_models\n",
                "df_models['n_rows'] = df_models.apply(lambda row: len(pd.read_csv(row['file'])),axis=1)\n",
                "df_models['n_cols'] = df_models.apply(lambda row: len(pd.read_csv(row['file']).columns),axis=1)\n",
                "df_models.head()\n"
            ]
        },
        {
            "cell_type": "code",
            "execution_count": 233,
            "metadata": {
                "nbgrader": {
                    "grade": false,
                    "grade_id": "cell-2688475db658ff77",
                    "locked": true,
                    "schema_version": 3,
                    "solution": false,
                    "task": false
                },
                "editable": false,
                "deletable": false
            },
            "outputs": [
                {
                    "output_type": "execute_result",
                    "data": {
                        "text/plain": [
                            "   preprocessing       model  \\\n",
                            "0  (16,quantile)  (AdaBoost)   \n",
                            "1  (16,quantile)      (CART)   \n",
                            "2  (16,quantile)       (KNN)   \n",
                            "\n",
                            "                                                file        shape  n_rows  \\\n",
                            "0  models/heloc_dataset_v1(exc empty rows.).csv_p...  (9871, 381)    9871   \n",
                            "1  models/heloc_dataset_v1(exc empty rows.).csv_p...  (9871, 381)    9871   \n",
                            "2  models/heloc_dataset_v1(exc empty rows.).csv_p...  (9871, 381)    9871   \n",
                            "\n",
                            "   n_cols  \n",
                            "0     381  \n",
                            "1     381  \n",
                            "2     381  "
                        ],
                        "text/html": "<div>\n<style scoped>\n    .dataframe tbody tr th:only-of-type {\n        vertical-align: middle;\n    }\n\n    .dataframe tbody tr th {\n        vertical-align: top;\n    }\n\n    .dataframe thead th {\n        text-align: right;\n    }\n</style>\n<table border=\"1\" class=\"dataframe\">\n  <thead>\n    <tr style=\"text-align: right;\">\n      <th></th>\n      <th>preprocessing</th>\n      <th>model</th>\n      <th>file</th>\n      <th>shape</th>\n      <th>n_rows</th>\n      <th>n_cols</th>\n    </tr>\n  </thead>\n  <tbody>\n    <tr>\n      <th>0</th>\n      <td>(16,quantile)</td>\n      <td>(AdaBoost)</td>\n      <td>models/heloc_dataset_v1(exc empty rows.).csv_p...</td>\n      <td>(9871, 381)</td>\n      <td>9871</td>\n      <td>381</td>\n    </tr>\n    <tr>\n      <th>1</th>\n      <td>(16,quantile)</td>\n      <td>(CART)</td>\n      <td>models/heloc_dataset_v1(exc empty rows.).csv_p...</td>\n      <td>(9871, 381)</td>\n      <td>9871</td>\n      <td>381</td>\n    </tr>\n    <tr>\n      <th>2</th>\n      <td>(16,quantile)</td>\n      <td>(KNN)</td>\n      <td>models/heloc_dataset_v1(exc empty rows.).csv_p...</td>\n      <td>(9871, 381)</td>\n      <td>9871</td>\n      <td>381</td>\n    </tr>\n  </tbody>\n</table>\n</div>"
                    },
                    "metadata": {},
                    "execution_count": 233
                }
            ],
            "source": [
                "# example of the output\n",
                "ANSWER_KEY['df_models_update2'].head(3)"
            ]
        },
        {
            "cell_type": "code",
            "execution_count": 234,
            "metadata": {
                "nbgrader": {
                    "grade": true,
                    "grade_id": "q3d",
                    "locked": true,
                    "points": 6,
                    "schema_version": 3,
                    "solution": false,
                    "task": false
                },
                "editable": false,
                "deletable": false
            },
            "outputs": [],
            "source": [
                "### BEGIN TEST (DO NOT REMOVE CELL)\n",
                "sol = ANSWER_KEY['df_models_update2'].sort_values(by='file',ignore_index=True)\n",
                "diff = sol.compare(df_models.sort_values(by='file',ignore_index=True), keep_equal=False, align_axis=0)\n",
                "assert(len(diff)==0), 'testing df_models_update2'\n",
                "### END TEST "
            ]
        },
        {
            "cell_type": "markdown",
            "metadata": {
                "nbgrader": {
                    "grade": false,
                    "grade_id": "cell-8268018e2c36bbe9",
                    "locked": true,
                    "schema_version": 3,
                    "solution": false,
                    "task": false
                },
                "editable": false,
                "deletable": false
            },
            "source": [
                "Let's look at the number of rows and columns in each file:"
            ]
        },
        {
            "cell_type": "code",
            "execution_count": 235,
            "metadata": {
                "nbgrader": {
                    "grade": false,
                    "grade_id": "cell-0d9a2c1472e5cb2c",
                    "locked": true,
                    "schema_version": 3,
                    "solution": false,
                    "task": false
                },
                "editable": false,
                "deletable": false
            },
            "outputs": [
                {
                    "output_type": "execute_result",
                    "data": {
                        "text/plain": [
                            "       n_rows      n_cols\n",
                            "count    56.0   56.000000\n",
                            "mean   9871.0  130.285714\n",
                            "std       0.0  116.698479\n",
                            "min    9871.0   24.000000\n",
                            "25%    9871.0   36.000000\n",
                            "50%    9871.0  105.000000\n",
                            "75%    9871.0  197.000000\n",
                            "max    9871.0  381.000000"
                        ],
                        "text/html": "<div>\n<style scoped>\n    .dataframe tbody tr th:only-of-type {\n        vertical-align: middle;\n    }\n\n    .dataframe tbody tr th {\n        vertical-align: top;\n    }\n\n    .dataframe thead th {\n        text-align: right;\n    }\n</style>\n<table border=\"1\" class=\"dataframe\">\n  <thead>\n    <tr style=\"text-align: right;\">\n      <th></th>\n      <th>n_rows</th>\n      <th>n_cols</th>\n    </tr>\n  </thead>\n  <tbody>\n    <tr>\n      <th>count</th>\n      <td>56.0</td>\n      <td>56.000000</td>\n    </tr>\n    <tr>\n      <th>mean</th>\n      <td>9871.0</td>\n      <td>130.285714</td>\n    </tr>\n    <tr>\n      <th>std</th>\n      <td>0.0</td>\n      <td>116.698479</td>\n    </tr>\n    <tr>\n      <th>min</th>\n      <td>9871.0</td>\n      <td>24.000000</td>\n    </tr>\n    <tr>\n      <th>25%</th>\n      <td>9871.0</td>\n      <td>36.000000</td>\n    </tr>\n    <tr>\n      <th>50%</th>\n      <td>9871.0</td>\n      <td>105.000000</td>\n    </tr>\n    <tr>\n      <th>75%</th>\n      <td>9871.0</td>\n      <td>197.000000</td>\n    </tr>\n    <tr>\n      <th>max</th>\n      <td>9871.0</td>\n      <td>381.000000</td>\n    </tr>\n  </tbody>\n</table>\n</div>"
                    },
                    "metadata": {},
                    "execution_count": 235
                }
            ],
            "source": [
                "ANSWER_KEY['df_models_update2'].describe()"
            ]
        },
        {
            "cell_type": "markdown",
            "metadata": {
                "nbgrader": {
                    "grade": false,
                    "grade_id": "cell-6c95eac27afae2b6",
                    "locked": true,
                    "schema_version": 3,
                    "solution": false,
                    "task": false
                },
                "editable": false,
                "deletable": false
            },
            "source": [
                "The number of rows is always 9871 and the number of columns varies between 24 to 381 (this depends on the preprocessing method)"
            ]
        },
        {
            "cell_type": "markdown",
            "metadata": {
                "nbgrader": {
                    "grade": false,
                    "grade_id": "cell-dfa4eb5b43d02657",
                    "locked": true,
                    "schema_version": 3,
                    "solution": false,
                    "task": false
                },
                "editable": false,
                "deletable": false
            },
            "source": [
                "### (q4) \n",
                "\n",
                "The files in the folder models contain the output of predictive models trained on the same dataset that was preprocessed in a certain ways. For example, the file \n",
                "\n",
                "    heloc_dataset_v1(exc empty rows.).csv_pre(-1,asis).csv_model(AdaBoost).csv\n",
                "    \n",
                "contains the dataset that was preprocessed using the method `(-1,asis)` (whatever this means) and to which the model `(AdaBoost)` (whatever this means) was applied. The column `RiskPerformance` in that datafile contains the prediction of this model which was trained on the particular preprocessed data. \n",
                "\n",
                "In what follows, we compare the predictions made by each of these models and preprocessing methods. \n",
                "\n",
                "Key takeaway: each files in the folder model contains one columns that is of interest to us called `RiskPerformance`. This column always holds 9871 values and in this question we will compare the columns corresponding to the different files."
            ]
        },
        {
            "cell_type": "markdown",
            "metadata": {
                "nbgrader": {
                    "grade": false,
                    "grade_id": "cell-a5ca268449aa1862",
                    "locked": true,
                    "schema_version": 3,
                    "solution": false,
                    "task": false
                },
                "editable": false,
                "deletable": false
            },
            "source": [
                "Create the dataframe `df_predictions` which holds the columns of `df_models` and additional 9871 columns, one per each prediction made by the respective model and preprocessing method for the specific observation. "
            ]
        },
        {
            "cell_type": "code",
            "execution_count": 236,
            "metadata": {
                "nbgrader": {
                    "grade": false,
                    "grade_id": "cell-9860183d7362245d",
                    "locked": false,
                    "schema_version": 3,
                    "solution": true,
                    "task": false
                }
            },
            "outputs": [
                {
                    "output_type": "execute_result",
                    "data": {
                        "text/plain": [
                            "           preprocessing        model  \\\n",
                            "0              (-1,asis)  (SVM (RBF))   \n",
                            "1           (4,quantile)        (KNN)   \n",
                            "2  (-1,w_binary4missing)       (CART)   \n",
                            "3          (16,quantile)  (SVM (RBF))   \n",
                            "4          (16,quantile)        (KNN)   \n",
                            "\n",
                            "                                                file        shape  n_rows  \\\n",
                            "0  models/heloc_dataset_v1(exc empty rows.).csv_p...   (9871, 24)    9871   \n",
                            "1  models/heloc_dataset_v1(exc empty rows.).csv_p...  (9871, 105)    9871   \n",
                            "2  models/heloc_dataset_v1(exc empty rows.).csv_p...   (9871, 36)    9871   \n",
                            "3  models/heloc_dataset_v1(exc empty rows.).csv_p...  (9871, 381)    9871   \n",
                            "4  models/heloc_dataset_v1(exc empty rows.).csv_p...  (9871, 381)    9871   \n",
                            "\n",
                            "   n_cols    0    1    2    3  ... 9861  9862  9863  9864  9865  9866 9867  \\\n",
                            "0      24  Bad  Bad  Bad  Bad  ...  Bad  Good  Good  Good   Bad  Good  Bad   \n",
                            "1     105  Bad  Bad  Bad  Bad  ...  Bad  Good  Good  Good   Bad  Good  Bad   \n",
                            "2      36  Bad  Bad  Bad  Bad  ...  Bad  Good  Good  Good  Good   Bad  Bad   \n",
                            "3     381  Bad  Bad  Bad  Bad  ...  Bad  Good  Good  Good   Bad  Good  Bad   \n",
                            "4     381  Bad  Bad  Bad  Bad  ...  Bad  Good  Good  Good   Bad  Good  Bad   \n",
                            "\n",
                            "   9868  9869 9870  \n",
                            "0  Good  Good  Bad  \n",
                            "1  Good  Good  Bad  \n",
                            "2   Bad   Bad  Bad  \n",
                            "3  Good  Good  Bad  \n",
                            "4   Bad  Good  Bad  \n",
                            "\n",
                            "[5 rows x 9877 columns]"
                        ],
                        "text/html": "<div>\n<style scoped>\n    .dataframe tbody tr th:only-of-type {\n        vertical-align: middle;\n    }\n\n    .dataframe tbody tr th {\n        vertical-align: top;\n    }\n\n    .dataframe thead th {\n        text-align: right;\n    }\n</style>\n<table border=\"1\" class=\"dataframe\">\n  <thead>\n    <tr style=\"text-align: right;\">\n      <th></th>\n      <th>preprocessing</th>\n      <th>model</th>\n      <th>file</th>\n      <th>shape</th>\n      <th>n_rows</th>\n      <th>n_cols</th>\n      <th>0</th>\n      <th>1</th>\n      <th>2</th>\n      <th>3</th>\n      <th>...</th>\n      <th>9861</th>\n      <th>9862</th>\n      <th>9863</th>\n      <th>9864</th>\n      <th>9865</th>\n      <th>9866</th>\n      <th>9867</th>\n      <th>9868</th>\n      <th>9869</th>\n      <th>9870</th>\n    </tr>\n  </thead>\n  <tbody>\n    <tr>\n      <th>0</th>\n      <td>(-1,asis)</td>\n      <td>(SVM (RBF))</td>\n      <td>models/heloc_dataset_v1(exc empty rows.).csv_p...</td>\n      <td>(9871, 24)</td>\n      <td>9871</td>\n      <td>24</td>\n      <td>Bad</td>\n      <td>Bad</td>\n      <td>Bad</td>\n      <td>Bad</td>\n      <td>...</td>\n      <td>Bad</td>\n      <td>Good</td>\n      <td>Good</td>\n      <td>Good</td>\n      <td>Bad</td>\n      <td>Good</td>\n      <td>Bad</td>\n      <td>Good</td>\n      <td>Good</td>\n      <td>Bad</td>\n    </tr>\n    <tr>\n      <th>1</th>\n      <td>(4,quantile)</td>\n      <td>(KNN)</td>\n      <td>models/heloc_dataset_v1(exc empty rows.).csv_p...</td>\n      <td>(9871, 105)</td>\n      <td>9871</td>\n      <td>105</td>\n      <td>Bad</td>\n      <td>Bad</td>\n      <td>Bad</td>\n      <td>Bad</td>\n      <td>...</td>\n      <td>Bad</td>\n      <td>Good</td>\n      <td>Good</td>\n      <td>Good</td>\n      <td>Bad</td>\n      <td>Good</td>\n      <td>Bad</td>\n      <td>Good</td>\n      <td>Good</td>\n      <td>Bad</td>\n    </tr>\n    <tr>\n      <th>2</th>\n      <td>(-1,w_binary4missing)</td>\n      <td>(CART)</td>\n      <td>models/heloc_dataset_v1(exc empty rows.).csv_p...</td>\n      <td>(9871, 36)</td>\n      <td>9871</td>\n      <td>36</td>\n      <td>Bad</td>\n      <td>Bad</td>\n      <td>Bad</td>\n      <td>Bad</td>\n      <td>...</td>\n      <td>Bad</td>\n      <td>Good</td>\n      <td>Good</td>\n      <td>Good</td>\n      <td>Good</td>\n      <td>Bad</td>\n      <td>Bad</td>\n      <td>Bad</td>\n      <td>Bad</td>\n      <td>Bad</td>\n    </tr>\n    <tr>\n      <th>3</th>\n      <td>(16,quantile)</td>\n      <td>(SVM (RBF))</td>\n      <td>models/heloc_dataset_v1(exc empty rows.).csv_p...</td>\n      <td>(9871, 381)</td>\n      <td>9871</td>\n      <td>381</td>\n      <td>Bad</td>\n      <td>Bad</td>\n      <td>Bad</td>\n      <td>Bad</td>\n      <td>...</td>\n      <td>Bad</td>\n      <td>Good</td>\n      <td>Good</td>\n      <td>Good</td>\n      <td>Bad</td>\n      <td>Good</td>\n      <td>Bad</td>\n      <td>Good</td>\n      <td>Good</td>\n      <td>Bad</td>\n    </tr>\n    <tr>\n      <th>4</th>\n      <td>(16,quantile)</td>\n      <td>(KNN)</td>\n      <td>models/heloc_dataset_v1(exc empty rows.).csv_p...</td>\n      <td>(9871, 381)</td>\n      <td>9871</td>\n      <td>381</td>\n      <td>Bad</td>\n      <td>Bad</td>\n      <td>Bad</td>\n      <td>Bad</td>\n      <td>...</td>\n      <td>Bad</td>\n      <td>Good</td>\n      <td>Good</td>\n      <td>Good</td>\n      <td>Bad</td>\n      <td>Good</td>\n      <td>Bad</td>\n      <td>Bad</td>\n      <td>Good</td>\n      <td>Bad</td>\n    </tr>\n  </tbody>\n</table>\n<p>5 rows × 9877 columns</p>\n</div>"
                    },
                    "metadata": {},
                    "execution_count": 236
                }
            ],
            "source": [
                "df_predictions = \"replace this string with your answer\"\n",
                "\n",
                "#find prediction in every file\n",
                "def get_prediction(row):\n",
                "    df = pd.read_csv(row['file'])\n",
                "    res = df['RiskPerformance']\n",
                "    return res\n",
                "\n",
                "#combine all predictions\n",
                "predictions = df_models.apply(get_prediction,axis=1)\n",
                "df_predictions = df_models.join(predictions)\n",
                "df_predictions.head()"
            ]
        },
        {
            "cell_type": "code",
            "execution_count": 237,
            "metadata": {
                "nbgrader": {
                    "grade": false,
                    "grade_id": "cell-b074acd44e5f1ace",
                    "locked": true,
                    "schema_version": 3,
                    "solution": false,
                    "task": false
                },
                "scrolled": true,
                "editable": false,
                "deletable": false
            },
            "outputs": [
                {
                    "output_type": "execute_result",
                    "data": {
                        "text/plain": [
                            "   preprocessing        model  \\\n",
                            "0  (16,quantile)   (AdaBoost)   \n",
                            "1  (16,quantile)       (CART)   \n",
                            "2  (16,quantile)        (KNN)   \n",
                            "3  (16,quantile)  (Log. Reg.)   \n",
                            "4  (16,quantile)         (RF)   \n",
                            "\n",
                            "                                                file        shape  n_rows  \\\n",
                            "0  models/heloc_dataset_v1(exc empty rows.).csv_p...  (9871, 381)    9871   \n",
                            "1  models/heloc_dataset_v1(exc empty rows.).csv_p...  (9871, 381)    9871   \n",
                            "2  models/heloc_dataset_v1(exc empty rows.).csv_p...  (9871, 381)    9871   \n",
                            "3  models/heloc_dataset_v1(exc empty rows.).csv_p...  (9871, 381)    9871   \n",
                            "4  models/heloc_dataset_v1(exc empty rows.).csv_p...  (9871, 381)    9871   \n",
                            "\n",
                            "   n_cols    0    1    2    3  ... 9861  9862  9863  9864  9865  9866 9867  \\\n",
                            "0     381  Bad  Bad  Bad  Bad  ...  Bad  Good  Good  Good  Good  Good  Bad   \n",
                            "1     381  Bad  Bad  Bad  Bad  ...  Bad  Good  Good  Good  Good   Bad  Bad   \n",
                            "2     381  Bad  Bad  Bad  Bad  ...  Bad  Good  Good  Good   Bad  Good  Bad   \n",
                            "3     381  Bad  Bad  Bad  Bad  ...  Bad  Good  Good  Good  Good  Good  Bad   \n",
                            "4     381  Bad  Bad  Bad  Bad  ...  Bad  Good  Good  Good   Bad  Good  Bad   \n",
                            "\n",
                            "   9868  9869 9870  \n",
                            "0  Good  Good  Bad  \n",
                            "1  Good  Good  Bad  \n",
                            "2   Bad  Good  Bad  \n",
                            "3  Good  Good  Bad  \n",
                            "4   Bad  Good  Bad  \n",
                            "\n",
                            "[5 rows x 9877 columns]"
                        ],
                        "text/html": "<div>\n<style scoped>\n    .dataframe tbody tr th:only-of-type {\n        vertical-align: middle;\n    }\n\n    .dataframe tbody tr th {\n        vertical-align: top;\n    }\n\n    .dataframe thead th {\n        text-align: right;\n    }\n</style>\n<table border=\"1\" class=\"dataframe\">\n  <thead>\n    <tr style=\"text-align: right;\">\n      <th></th>\n      <th>preprocessing</th>\n      <th>model</th>\n      <th>file</th>\n      <th>shape</th>\n      <th>n_rows</th>\n      <th>n_cols</th>\n      <th>0</th>\n      <th>1</th>\n      <th>2</th>\n      <th>3</th>\n      <th>...</th>\n      <th>9861</th>\n      <th>9862</th>\n      <th>9863</th>\n      <th>9864</th>\n      <th>9865</th>\n      <th>9866</th>\n      <th>9867</th>\n      <th>9868</th>\n      <th>9869</th>\n      <th>9870</th>\n    </tr>\n  </thead>\n  <tbody>\n    <tr>\n      <th>0</th>\n      <td>(16,quantile)</td>\n      <td>(AdaBoost)</td>\n      <td>models/heloc_dataset_v1(exc empty rows.).csv_p...</td>\n      <td>(9871, 381)</td>\n      <td>9871</td>\n      <td>381</td>\n      <td>Bad</td>\n      <td>Bad</td>\n      <td>Bad</td>\n      <td>Bad</td>\n      <td>...</td>\n      <td>Bad</td>\n      <td>Good</td>\n      <td>Good</td>\n      <td>Good</td>\n      <td>Good</td>\n      <td>Good</td>\n      <td>Bad</td>\n      <td>Good</td>\n      <td>Good</td>\n      <td>Bad</td>\n    </tr>\n    <tr>\n      <th>1</th>\n      <td>(16,quantile)</td>\n      <td>(CART)</td>\n      <td>models/heloc_dataset_v1(exc empty rows.).csv_p...</td>\n      <td>(9871, 381)</td>\n      <td>9871</td>\n      <td>381</td>\n      <td>Bad</td>\n      <td>Bad</td>\n      <td>Bad</td>\n      <td>Bad</td>\n      <td>...</td>\n      <td>Bad</td>\n      <td>Good</td>\n      <td>Good</td>\n      <td>Good</td>\n      <td>Good</td>\n      <td>Bad</td>\n      <td>Bad</td>\n      <td>Good</td>\n      <td>Good</td>\n      <td>Bad</td>\n    </tr>\n    <tr>\n      <th>2</th>\n      <td>(16,quantile)</td>\n      <td>(KNN)</td>\n      <td>models/heloc_dataset_v1(exc empty rows.).csv_p...</td>\n      <td>(9871, 381)</td>\n      <td>9871</td>\n      <td>381</td>\n      <td>Bad</td>\n      <td>Bad</td>\n      <td>Bad</td>\n      <td>Bad</td>\n      <td>...</td>\n      <td>Bad</td>\n      <td>Good</td>\n      <td>Good</td>\n      <td>Good</td>\n      <td>Bad</td>\n      <td>Good</td>\n      <td>Bad</td>\n      <td>Bad</td>\n      <td>Good</td>\n      <td>Bad</td>\n    </tr>\n    <tr>\n      <th>3</th>\n      <td>(16,quantile)</td>\n      <td>(Log. Reg.)</td>\n      <td>models/heloc_dataset_v1(exc empty rows.).csv_p...</td>\n      <td>(9871, 381)</td>\n      <td>9871</td>\n      <td>381</td>\n      <td>Bad</td>\n      <td>Bad</td>\n      <td>Bad</td>\n      <td>Bad</td>\n      <td>...</td>\n      <td>Bad</td>\n      <td>Good</td>\n      <td>Good</td>\n      <td>Good</td>\n      <td>Good</td>\n      <td>Good</td>\n      <td>Bad</td>\n      <td>Good</td>\n      <td>Good</td>\n      <td>Bad</td>\n    </tr>\n    <tr>\n      <th>4</th>\n      <td>(16,quantile)</td>\n      <td>(RF)</td>\n      <td>models/heloc_dataset_v1(exc empty rows.).csv_p...</td>\n      <td>(9871, 381)</td>\n      <td>9871</td>\n      <td>381</td>\n      <td>Bad</td>\n      <td>Bad</td>\n      <td>Bad</td>\n      <td>Bad</td>\n      <td>...</td>\n      <td>Bad</td>\n      <td>Good</td>\n      <td>Good</td>\n      <td>Good</td>\n      <td>Bad</td>\n      <td>Good</td>\n      <td>Bad</td>\n      <td>Bad</td>\n      <td>Good</td>\n      <td>Bad</td>\n    </tr>\n  </tbody>\n</table>\n<p>5 rows × 9877 columns</p>\n</div>"
                    },
                    "metadata": {},
                    "execution_count": 237
                }
            ],
            "source": [
                "# Example of the first 5 rows of the output\n",
                "ANSWER_KEY['df_predictions'].head()"
            ]
        },
        {
            "cell_type": "markdown",
            "metadata": {
                "nbgrader": {
                    "grade": false,
                    "grade_id": "cell-6e32ff7188f470b4",
                    "locked": true,
                    "schema_version": 3,
                    "solution": false,
                    "task": false
                },
                "editable": false,
                "deletable": false
            },
            "source": [
                "(we basically added 9871 columns to each row using values from the respective file) "
            ]
        },
        {
            "cell_type": "markdown",
            "metadata": {
                "nbgrader": {
                    "grade": false,
                    "grade_id": "cell-37c9506785054907",
                    "locked": true,
                    "schema_version": 3,
                    "solution": false,
                    "task": false
                },
                "editable": false,
                "deletable": false
            },
            "source": [
                "To emphasize that the data in `df_predictions` comes from the files specified in the column `file`, below we print the prediction from the two different sources."
            ]
        },
        {
            "cell_type": "code",
            "execution_count": 238,
            "metadata": {
                "nbgrader": {
                    "grade": false,
                    "grade_id": "cell-2ec1315b1253b977",
                    "locked": true,
                    "schema_version": 3,
                    "solution": false,
                    "task": false
                },
                "editable": false,
                "deletable": false
            },
            "outputs": [
                {
                    "output_type": "stream",
                    "name": "stdout",
                    "text": [
                        "File name: models/heloc_dataset_v1(exc empty rows.).csv_pre(-1,asis).csv_model(SVM (RBF)).csv\nPrediction for the first 6 customers\n"
                    ]
                },
                {
                    "output_type": "execute_result",
                    "data": {
                        "text/plain": [
                            "0     Bad\n",
                            "1     Bad\n",
                            "2     Bad\n",
                            "3     Bad\n",
                            "4    Good\n",
                            "5     Bad\n",
                            "Name: RiskPerformance, dtype: object"
                        ]
                    },
                    "metadata": {},
                    "execution_count": 238
                }
            ],
            "source": [
                "# Here we print predictions from the file \n",
                "print('File name:', df_models.iloc[0].loc['file'])\n",
                "print('Prediction for the first 6 customers')\n",
                "pd.read_csv(df_models.iloc[0].loc['file'])['RiskPerformance'].head(6)"
            ]
        },
        {
            "cell_type": "code",
            "execution_count": 239,
            "metadata": {
                "nbgrader": {
                    "grade": false,
                    "grade_id": "cell-b659e933b6e37686",
                    "locked": true,
                    "schema_version": 3,
                    "solution": false,
                    "task": false
                },
                "editable": false,
                "deletable": false
            },
            "outputs": [
                {
                    "output_type": "execute_result",
                    "data": {
                        "text/plain": [
                            "   preprocessing       model  \\\n",
                            "0  (16,quantile)  (AdaBoost)   \n",
                            "\n",
                            "                                                file        shape  n_rows  \\\n",
                            "0  models/heloc_dataset_v1(exc empty rows.).csv_p...  (9871, 381)    9871   \n",
                            "\n",
                            "   n_cols    0    1    2    3     4    5  \n",
                            "0     381  Bad  Bad  Bad  Bad  Good  Bad  "
                        ],
                        "text/html": "<div>\n<style scoped>\n    .dataframe tbody tr th:only-of-type {\n        vertical-align: middle;\n    }\n\n    .dataframe tbody tr th {\n        vertical-align: top;\n    }\n\n    .dataframe thead th {\n        text-align: right;\n    }\n</style>\n<table border=\"1\" class=\"dataframe\">\n  <thead>\n    <tr style=\"text-align: right;\">\n      <th></th>\n      <th>preprocessing</th>\n      <th>model</th>\n      <th>file</th>\n      <th>shape</th>\n      <th>n_rows</th>\n      <th>n_cols</th>\n      <th>0</th>\n      <th>1</th>\n      <th>2</th>\n      <th>3</th>\n      <th>4</th>\n      <th>5</th>\n    </tr>\n  </thead>\n  <tbody>\n    <tr>\n      <th>0</th>\n      <td>(16,quantile)</td>\n      <td>(AdaBoost)</td>\n      <td>models/heloc_dataset_v1(exc empty rows.).csv_p...</td>\n      <td>(9871, 381)</td>\n      <td>9871</td>\n      <td>381</td>\n      <td>Bad</td>\n      <td>Bad</td>\n      <td>Bad</td>\n      <td>Bad</td>\n      <td>Good</td>\n      <td>Bad</td>\n    </tr>\n  </tbody>\n</table>\n</div>"
                    },
                    "metadata": {},
                    "execution_count": 239
                }
            ],
            "source": [
                "# Here we print the first row of df_predictions (only first 12 columns out of ~9800)\n",
                "ANSWER_KEY['df_predictions'].iloc[[0],:12]"
            ]
        },
        {
            "cell_type": "code",
            "execution_count": 240,
            "metadata": {
                "nbgrader": {
                    "grade": true,
                    "grade_id": "q4a",
                    "locked": true,
                    "points": 10,
                    "schema_version": 3,
                    "solution": false,
                    "task": false
                },
                "editable": false,
                "deletable": false
            },
            "outputs": [],
            "source": [
                "### BEGIN TEST (DO NOT REMOVE CELL)\n",
                "sol = ANSWER_KEY['df_predictions'].sort_values(by='file',ignore_index=True)\n",
                "diff = sol.compare(df_predictions.sort_values(by='file',ignore_index=True), keep_equal=False, align_axis=0)\n",
                "assert(len(diff)==0), 'testing df_predictions'\n",
                "### END TEST "
            ]
        },
        {
            "cell_type": "markdown",
            "metadata": {
                "nbgrader": {
                    "grade": false,
                    "grade_id": "cell-ecf06cff546f762e",
                    "locked": true,
                    "schema_version": 3,
                    "solution": false,
                    "task": false
                },
                "editable": false,
                "deletable": false
            },
            "source": [
                "Let's focus on one preprocessing method: `(-1,asis)`. Set the variable `df_predictions_one_method` to hold only the rows in `df_predictions` where the preprocessing method is `(-1,asis)`."
            ]
        },
        {
            "cell_type": "code",
            "execution_count": 241,
            "metadata": {
                "nbgrader": {
                    "grade": false,
                    "grade_id": "cell-6cd6c2bc9cddc0db",
                    "locked": false,
                    "schema_version": 3,
                    "solution": true,
                    "task": false
                }
            },
            "outputs": [
                {
                    "output_type": "execute_result",
                    "data": {
                        "text/plain": [
                            "   preprocessing           model  \\\n",
                            "0      (-1,asis)     (SVM (RBF))   \n",
                            "11     (-1,asis)           (KNN)   \n",
                            "23     (-1,asis)      (AdaBoost)   \n",
                            "32     (-1,asis)  (SVM (Linear))   \n",
                            "38     (-1,asis)    (SVM (Poly))   \n",
                            "41     (-1,asis)     (Log. Reg.)   \n",
                            "46     (-1,asis)          (CART)   \n",
                            "48     (-1,asis)            (RF)   \n",
                            "\n",
                            "                                                 file       shape  n_rows  \\\n",
                            "0   models/heloc_dataset_v1(exc empty rows.).csv_p...  (9871, 24)    9871   \n",
                            "11  models/heloc_dataset_v1(exc empty rows.).csv_p...  (9871, 24)    9871   \n",
                            "23  models/heloc_dataset_v1(exc empty rows.).csv_p...  (9871, 24)    9871   \n",
                            "32  models/heloc_dataset_v1(exc empty rows.).csv_p...  (9871, 24)    9871   \n",
                            "38  models/heloc_dataset_v1(exc empty rows.).csv_p...  (9871, 24)    9871   \n",
                            "41  models/heloc_dataset_v1(exc empty rows.).csv_p...  (9871, 24)    9871   \n",
                            "46  models/heloc_dataset_v1(exc empty rows.).csv_p...  (9871, 24)    9871   \n",
                            "48  models/heloc_dataset_v1(exc empty rows.).csv_p...  (9871, 24)    9871   \n",
                            "\n",
                            "    n_cols    0    1    2    3  ... 9861  9862  9863  9864  9865  9866 9867  \\\n",
                            "0       24  Bad  Bad  Bad  Bad  ...  Bad  Good  Good  Good   Bad  Good  Bad   \n",
                            "11      24  Bad  Bad  Bad  Bad  ...  Bad  Good  Good  Good   Bad  Good  Bad   \n",
                            "23      24  Bad  Bad  Bad  Bad  ...  Bad  Good  Good  Good  Good  Good  Bad   \n",
                            "32      24  Bad  Bad  Bad  Bad  ...  Bad  Good  Good  Good  Good  Good  Bad   \n",
                            "38      24  Bad  Bad  Bad  Bad  ...  Bad  Good  Good  Good   Bad  Good  Bad   \n",
                            "41      24  Bad  Bad  Bad  Bad  ...  Bad  Good  Good  Good  Good  Good  Bad   \n",
                            "46      24  Bad  Bad  Bad  Bad  ...  Bad  Good  Good  Good  Good  Good  Bad   \n",
                            "48      24  Bad  Bad  Bad  Bad  ...  Bad  Good  Good  Good  Good  Good  Bad   \n",
                            "\n",
                            "    9868  9869 9870  \n",
                            "0   Good  Good  Bad  \n",
                            "11   Bad  Good  Bad  \n",
                            "23  Good  Good  Bad  \n",
                            "32   Bad  Good  Bad  \n",
                            "38  Good  Good  Bad  \n",
                            "41   Bad  Good  Bad  \n",
                            "46  Good  Good  Bad  \n",
                            "48   Bad  Good  Bad  \n",
                            "\n",
                            "[8 rows x 9877 columns]"
                        ],
                        "text/html": "<div>\n<style scoped>\n    .dataframe tbody tr th:only-of-type {\n        vertical-align: middle;\n    }\n\n    .dataframe tbody tr th {\n        vertical-align: top;\n    }\n\n    .dataframe thead th {\n        text-align: right;\n    }\n</style>\n<table border=\"1\" class=\"dataframe\">\n  <thead>\n    <tr style=\"text-align: right;\">\n      <th></th>\n      <th>preprocessing</th>\n      <th>model</th>\n      <th>file</th>\n      <th>shape</th>\n      <th>n_rows</th>\n      <th>n_cols</th>\n      <th>0</th>\n      <th>1</th>\n      <th>2</th>\n      <th>3</th>\n      <th>...</th>\n      <th>9861</th>\n      <th>9862</th>\n      <th>9863</th>\n      <th>9864</th>\n      <th>9865</th>\n      <th>9866</th>\n      <th>9867</th>\n      <th>9868</th>\n      <th>9869</th>\n      <th>9870</th>\n    </tr>\n  </thead>\n  <tbody>\n    <tr>\n      <th>0</th>\n      <td>(-1,asis)</td>\n      <td>(SVM (RBF))</td>\n      <td>models/heloc_dataset_v1(exc empty rows.).csv_p...</td>\n      <td>(9871, 24)</td>\n      <td>9871</td>\n      <td>24</td>\n      <td>Bad</td>\n      <td>Bad</td>\n      <td>Bad</td>\n      <td>Bad</td>\n      <td>...</td>\n      <td>Bad</td>\n      <td>Good</td>\n      <td>Good</td>\n      <td>Good</td>\n      <td>Bad</td>\n      <td>Good</td>\n      <td>Bad</td>\n      <td>Good</td>\n      <td>Good</td>\n      <td>Bad</td>\n    </tr>\n    <tr>\n      <th>11</th>\n      <td>(-1,asis)</td>\n      <td>(KNN)</td>\n      <td>models/heloc_dataset_v1(exc empty rows.).csv_p...</td>\n      <td>(9871, 24)</td>\n      <td>9871</td>\n      <td>24</td>\n      <td>Bad</td>\n      <td>Bad</td>\n      <td>Bad</td>\n      <td>Bad</td>\n      <td>...</td>\n      <td>Bad</td>\n      <td>Good</td>\n      <td>Good</td>\n      <td>Good</td>\n      <td>Bad</td>\n      <td>Good</td>\n      <td>Bad</td>\n      <td>Bad</td>\n      <td>Good</td>\n      <td>Bad</td>\n    </tr>\n    <tr>\n      <th>23</th>\n      <td>(-1,asis)</td>\n      <td>(AdaBoost)</td>\n      <td>models/heloc_dataset_v1(exc empty rows.).csv_p...</td>\n      <td>(9871, 24)</td>\n      <td>9871</td>\n      <td>24</td>\n      <td>Bad</td>\n      <td>Bad</td>\n      <td>Bad</td>\n      <td>Bad</td>\n      <td>...</td>\n      <td>Bad</td>\n      <td>Good</td>\n      <td>Good</td>\n      <td>Good</td>\n      <td>Good</td>\n      <td>Good</td>\n      <td>Bad</td>\n      <td>Good</td>\n      <td>Good</td>\n      <td>Bad</td>\n    </tr>\n    <tr>\n      <th>32</th>\n      <td>(-1,asis)</td>\n      <td>(SVM (Linear))</td>\n      <td>models/heloc_dataset_v1(exc empty rows.).csv_p...</td>\n      <td>(9871, 24)</td>\n      <td>9871</td>\n      <td>24</td>\n      <td>Bad</td>\n      <td>Bad</td>\n      <td>Bad</td>\n      <td>Bad</td>\n      <td>...</td>\n      <td>Bad</td>\n      <td>Good</td>\n      <td>Good</td>\n      <td>Good</td>\n      <td>Good</td>\n      <td>Good</td>\n      <td>Bad</td>\n      <td>Bad</td>\n      <td>Good</td>\n      <td>Bad</td>\n    </tr>\n    <tr>\n      <th>38</th>\n      <td>(-1,asis)</td>\n      <td>(SVM (Poly))</td>\n      <td>models/heloc_dataset_v1(exc empty rows.).csv_p...</td>\n      <td>(9871, 24)</td>\n      <td>9871</td>\n      <td>24</td>\n      <td>Bad</td>\n      <td>Bad</td>\n      <td>Bad</td>\n      <td>Bad</td>\n      <td>...</td>\n      <td>Bad</td>\n      <td>Good</td>\n      <td>Good</td>\n      <td>Good</td>\n      <td>Bad</td>\n      <td>Good</td>\n      <td>Bad</td>\n      <td>Good</td>\n      <td>Good</td>\n      <td>Bad</td>\n    </tr>\n    <tr>\n      <th>41</th>\n      <td>(-1,asis)</td>\n      <td>(Log. Reg.)</td>\n      <td>models/heloc_dataset_v1(exc empty rows.).csv_p...</td>\n      <td>(9871, 24)</td>\n      <td>9871</td>\n      <td>24</td>\n      <td>Bad</td>\n      <td>Bad</td>\n      <td>Bad</td>\n      <td>Bad</td>\n      <td>...</td>\n      <td>Bad</td>\n      <td>Good</td>\n      <td>Good</td>\n      <td>Good</td>\n      <td>Good</td>\n      <td>Good</td>\n      <td>Bad</td>\n      <td>Bad</td>\n      <td>Good</td>\n      <td>Bad</td>\n    </tr>\n    <tr>\n      <th>46</th>\n      <td>(-1,asis)</td>\n      <td>(CART)</td>\n      <td>models/heloc_dataset_v1(exc empty rows.).csv_p...</td>\n      <td>(9871, 24)</td>\n      <td>9871</td>\n      <td>24</td>\n      <td>Bad</td>\n      <td>Bad</td>\n      <td>Bad</td>\n      <td>Bad</td>\n      <td>...</td>\n      <td>Bad</td>\n      <td>Good</td>\n      <td>Good</td>\n      <td>Good</td>\n      <td>Good</td>\n      <td>Good</td>\n      <td>Bad</td>\n      <td>Good</td>\n      <td>Good</td>\n      <td>Bad</td>\n    </tr>\n    <tr>\n      <th>48</th>\n      <td>(-1,asis)</td>\n      <td>(RF)</td>\n      <td>models/heloc_dataset_v1(exc empty rows.).csv_p...</td>\n      <td>(9871, 24)</td>\n      <td>9871</td>\n      <td>24</td>\n      <td>Bad</td>\n      <td>Bad</td>\n      <td>Bad</td>\n      <td>Bad</td>\n      <td>...</td>\n      <td>Bad</td>\n      <td>Good</td>\n      <td>Good</td>\n      <td>Good</td>\n      <td>Good</td>\n      <td>Good</td>\n      <td>Bad</td>\n      <td>Bad</td>\n      <td>Good</td>\n      <td>Bad</td>\n    </tr>\n  </tbody>\n</table>\n<p>8 rows × 9877 columns</p>\n</div>"
                    },
                    "metadata": {},
                    "execution_count": 241
                }
            ],
            "source": [
                "df_predictions_one_method = \"replace this string with your answer\"\n",
                "df_predictions_one_method = df_predictions[df_predictions['preprocessing'] == '(-1,asis)']\n",
                "df_predictions_one_method"
            ]
        },
        {
            "cell_type": "code",
            "execution_count": 242,
            "metadata": {
                "nbgrader": {
                    "grade": true,
                    "grade_id": "q4b",
                    "locked": true,
                    "points": 6,
                    "schema_version": 3,
                    "solution": false,
                    "task": false
                },
                "editable": false,
                "deletable": false
            },
            "outputs": [],
            "source": [
                "### BEGIN TEST (DO NOT REMOVE CELL)\n",
                "sol = ANSWER_KEY['df_predictions_one_method'].sort_values(by='file',ignore_index=True)\n",
                "diff = sol.compare(df_predictions_one_method.sort_values(by='file',ignore_index=True), keep_equal=False, align_axis=0)\n",
                "assert(len(diff)==0), 'testing df_predictions_one_method'\n",
                "### END TEST "
            ]
        },
        {
            "cell_type": "code",
            "execution_count": 243,
            "metadata": {
                "nbgrader": {
                    "grade": false,
                    "grade_id": "cell-85452c09460de174",
                    "locked": true,
                    "schema_version": 3,
                    "solution": false,
                    "task": false
                },
                "editable": false,
                "deletable": false
            },
            "outputs": [
                {
                    "output_type": "execute_result",
                    "data": {
                        "text/plain": [
                            "   preprocessing           model  \\\n",
                            "8      (-1,asis)      (AdaBoost)   \n",
                            "9      (-1,asis)          (CART)   \n",
                            "10     (-1,asis)           (KNN)   \n",
                            "11     (-1,asis)     (Log. Reg.)   \n",
                            "12     (-1,asis)            (RF)   \n",
                            "13     (-1,asis)  (SVM (Linear))   \n",
                            "14     (-1,asis)    (SVM (Poly))   \n",
                            "15     (-1,asis)     (SVM (RBF))   \n",
                            "\n",
                            "                                                 file       shape  n_rows  \\\n",
                            "8   models/heloc_dataset_v1(exc empty rows.).csv_p...  (9871, 24)    9871   \n",
                            "9   models/heloc_dataset_v1(exc empty rows.).csv_p...  (9871, 24)    9871   \n",
                            "10  models/heloc_dataset_v1(exc empty rows.).csv_p...  (9871, 24)    9871   \n",
                            "11  models/heloc_dataset_v1(exc empty rows.).csv_p...  (9871, 24)    9871   \n",
                            "12  models/heloc_dataset_v1(exc empty rows.).csv_p...  (9871, 24)    9871   \n",
                            "13  models/heloc_dataset_v1(exc empty rows.).csv_p...  (9871, 24)    9871   \n",
                            "14  models/heloc_dataset_v1(exc empty rows.).csv_p...  (9871, 24)    9871   \n",
                            "15  models/heloc_dataset_v1(exc empty rows.).csv_p...  (9871, 24)    9871   \n",
                            "\n",
                            "    n_cols    0    1    2    3  ... 9861  9862  9863  9864  9865  9866 9867  \\\n",
                            "8       24  Bad  Bad  Bad  Bad  ...  Bad  Good  Good  Good  Good  Good  Bad   \n",
                            "9       24  Bad  Bad  Bad  Bad  ...  Bad  Good  Good  Good  Good  Good  Bad   \n",
                            "10      24  Bad  Bad  Bad  Bad  ...  Bad  Good  Good  Good   Bad  Good  Bad   \n",
                            "11      24  Bad  Bad  Bad  Bad  ...  Bad  Good  Good  Good  Good  Good  Bad   \n",
                            "12      24  Bad  Bad  Bad  Bad  ...  Bad  Good  Good  Good  Good  Good  Bad   \n",
                            "13      24  Bad  Bad  Bad  Bad  ...  Bad  Good  Good  Good  Good  Good  Bad   \n",
                            "14      24  Bad  Bad  Bad  Bad  ...  Bad  Good  Good  Good   Bad  Good  Bad   \n",
                            "15      24  Bad  Bad  Bad  Bad  ...  Bad  Good  Good  Good   Bad  Good  Bad   \n",
                            "\n",
                            "    9868  9869 9870  \n",
                            "8   Good  Good  Bad  \n",
                            "9   Good  Good  Bad  \n",
                            "10   Bad  Good  Bad  \n",
                            "11   Bad  Good  Bad  \n",
                            "12   Bad  Good  Bad  \n",
                            "13   Bad  Good  Bad  \n",
                            "14  Good  Good  Bad  \n",
                            "15  Good  Good  Bad  \n",
                            "\n",
                            "[8 rows x 9877 columns]"
                        ],
                        "text/html": "<div>\n<style scoped>\n    .dataframe tbody tr th:only-of-type {\n        vertical-align: middle;\n    }\n\n    .dataframe tbody tr th {\n        vertical-align: top;\n    }\n\n    .dataframe thead th {\n        text-align: right;\n    }\n</style>\n<table border=\"1\" class=\"dataframe\">\n  <thead>\n    <tr style=\"text-align: right;\">\n      <th></th>\n      <th>preprocessing</th>\n      <th>model</th>\n      <th>file</th>\n      <th>shape</th>\n      <th>n_rows</th>\n      <th>n_cols</th>\n      <th>0</th>\n      <th>1</th>\n      <th>2</th>\n      <th>3</th>\n      <th>...</th>\n      <th>9861</th>\n      <th>9862</th>\n      <th>9863</th>\n      <th>9864</th>\n      <th>9865</th>\n      <th>9866</th>\n      <th>9867</th>\n      <th>9868</th>\n      <th>9869</th>\n      <th>9870</th>\n    </tr>\n  </thead>\n  <tbody>\n    <tr>\n      <th>8</th>\n      <td>(-1,asis)</td>\n      <td>(AdaBoost)</td>\n      <td>models/heloc_dataset_v1(exc empty rows.).csv_p...</td>\n      <td>(9871, 24)</td>\n      <td>9871</td>\n      <td>24</td>\n      <td>Bad</td>\n      <td>Bad</td>\n      <td>Bad</td>\n      <td>Bad</td>\n      <td>...</td>\n      <td>Bad</td>\n      <td>Good</td>\n      <td>Good</td>\n      <td>Good</td>\n      <td>Good</td>\n      <td>Good</td>\n      <td>Bad</td>\n      <td>Good</td>\n      <td>Good</td>\n      <td>Bad</td>\n    </tr>\n    <tr>\n      <th>9</th>\n      <td>(-1,asis)</td>\n      <td>(CART)</td>\n      <td>models/heloc_dataset_v1(exc empty rows.).csv_p...</td>\n      <td>(9871, 24)</td>\n      <td>9871</td>\n      <td>24</td>\n      <td>Bad</td>\n      <td>Bad</td>\n      <td>Bad</td>\n      <td>Bad</td>\n      <td>...</td>\n      <td>Bad</td>\n      <td>Good</td>\n      <td>Good</td>\n      <td>Good</td>\n      <td>Good</td>\n      <td>Good</td>\n      <td>Bad</td>\n      <td>Good</td>\n      <td>Good</td>\n      <td>Bad</td>\n    </tr>\n    <tr>\n      <th>10</th>\n      <td>(-1,asis)</td>\n      <td>(KNN)</td>\n      <td>models/heloc_dataset_v1(exc empty rows.).csv_p...</td>\n      <td>(9871, 24)</td>\n      <td>9871</td>\n      <td>24</td>\n      <td>Bad</td>\n      <td>Bad</td>\n      <td>Bad</td>\n      <td>Bad</td>\n      <td>...</td>\n      <td>Bad</td>\n      <td>Good</td>\n      <td>Good</td>\n      <td>Good</td>\n      <td>Bad</td>\n      <td>Good</td>\n      <td>Bad</td>\n      <td>Bad</td>\n      <td>Good</td>\n      <td>Bad</td>\n    </tr>\n    <tr>\n      <th>11</th>\n      <td>(-1,asis)</td>\n      <td>(Log. Reg.)</td>\n      <td>models/heloc_dataset_v1(exc empty rows.).csv_p...</td>\n      <td>(9871, 24)</td>\n      <td>9871</td>\n      <td>24</td>\n      <td>Bad</td>\n      <td>Bad</td>\n      <td>Bad</td>\n      <td>Bad</td>\n      <td>...</td>\n      <td>Bad</td>\n      <td>Good</td>\n      <td>Good</td>\n      <td>Good</td>\n      <td>Good</td>\n      <td>Good</td>\n      <td>Bad</td>\n      <td>Bad</td>\n      <td>Good</td>\n      <td>Bad</td>\n    </tr>\n    <tr>\n      <th>12</th>\n      <td>(-1,asis)</td>\n      <td>(RF)</td>\n      <td>models/heloc_dataset_v1(exc empty rows.).csv_p...</td>\n      <td>(9871, 24)</td>\n      <td>9871</td>\n      <td>24</td>\n      <td>Bad</td>\n      <td>Bad</td>\n      <td>Bad</td>\n      <td>Bad</td>\n      <td>...</td>\n      <td>Bad</td>\n      <td>Good</td>\n      <td>Good</td>\n      <td>Good</td>\n      <td>Good</td>\n      <td>Good</td>\n      <td>Bad</td>\n      <td>Bad</td>\n      <td>Good</td>\n      <td>Bad</td>\n    </tr>\n    <tr>\n      <th>13</th>\n      <td>(-1,asis)</td>\n      <td>(SVM (Linear))</td>\n      <td>models/heloc_dataset_v1(exc empty rows.).csv_p...</td>\n      <td>(9871, 24)</td>\n      <td>9871</td>\n      <td>24</td>\n      <td>Bad</td>\n      <td>Bad</td>\n      <td>Bad</td>\n      <td>Bad</td>\n      <td>...</td>\n      <td>Bad</td>\n      <td>Good</td>\n      <td>Good</td>\n      <td>Good</td>\n      <td>Good</td>\n      <td>Good</td>\n      <td>Bad</td>\n      <td>Bad</td>\n      <td>Good</td>\n      <td>Bad</td>\n    </tr>\n    <tr>\n      <th>14</th>\n      <td>(-1,asis)</td>\n      <td>(SVM (Poly))</td>\n      <td>models/heloc_dataset_v1(exc empty rows.).csv_p...</td>\n      <td>(9871, 24)</td>\n      <td>9871</td>\n      <td>24</td>\n      <td>Bad</td>\n      <td>Bad</td>\n      <td>Bad</td>\n      <td>Bad</td>\n      <td>...</td>\n      <td>Bad</td>\n      <td>Good</td>\n      <td>Good</td>\n      <td>Good</td>\n      <td>Bad</td>\n      <td>Good</td>\n      <td>Bad</td>\n      <td>Good</td>\n      <td>Good</td>\n      <td>Bad</td>\n    </tr>\n    <tr>\n      <th>15</th>\n      <td>(-1,asis)</td>\n      <td>(SVM (RBF))</td>\n      <td>models/heloc_dataset_v1(exc empty rows.).csv_p...</td>\n      <td>(9871, 24)</td>\n      <td>9871</td>\n      <td>24</td>\n      <td>Bad</td>\n      <td>Bad</td>\n      <td>Bad</td>\n      <td>Bad</td>\n      <td>...</td>\n      <td>Bad</td>\n      <td>Good</td>\n      <td>Good</td>\n      <td>Good</td>\n      <td>Bad</td>\n      <td>Good</td>\n      <td>Bad</td>\n      <td>Good</td>\n      <td>Good</td>\n      <td>Bad</td>\n    </tr>\n  </tbody>\n</table>\n<p>8 rows × 9877 columns</p>\n</div>"
                    },
                    "metadata": {},
                    "execution_count": 243
                }
            ],
            "source": [
                "# output\n",
                "ANSWER_KEY['df_predictions_one_method']"
            ]
        },
        {
            "cell_type": "markdown",
            "metadata": {
                "nbgrader": {
                    "grade": false,
                    "grade_id": "cell-86786df929f7d16a",
                    "locked": true,
                    "schema_version": 3,
                    "solution": false,
                    "task": false
                },
                "editable": false,
                "deletable": false
            },
            "source": [
                "Create the matrix `pairwise_comparison` of size 8x8 where the value of the matrix element (i,j) is the similarity between the predictions in rows i and j. \n",
                "\n",
                "For example, suppose that in row 1 the prediction were [Bad,Bad,Good,Good] and that in row 2 the prediction were [Bad, Bad, Good, Bad]. These predictions coincide in 75% of cases (in all but the 4th prediction). In this case, we would like the matrix element (1,2) to be equal to 0.75 (as well as the value of element (2,1)).\n",
                "\n",
                "Hints: \n",
                "- you may iterate over rows and columns using the for loop\n",
                "- you may compare two vectors easily by converting them to numpy arrays\n",
                "- if you convert the compared values (booleans) to 0's and 1's, the average (np.average) would return the similarity\n",
                "- the matrix is symmetric and you can save on running time using an if-else statement that checks if you're below or above the diagonal (if j>i we can use the similarity of i vs. j instead of recomputing it for j vs. i)"
            ]
        },
        {
            "cell_type": "code",
            "execution_count": 244,
            "metadata": {
                "nbgrader": {
                    "grade": false,
                    "grade_id": "cell-6ba94a51f5adaef8",
                    "locked": true,
                    "schema_version": 3,
                    "solution": false,
                    "task": false
                },
                "editable": false,
                "deletable": false
            },
            "outputs": [
                {
                    "output_type": "stream",
                    "name": "stdout",
                    "text": [
                        "this is what happens when we just compare lists: False\nhere we compare numpy arrays: [ True  True False]\nhere we convert the comparison to integers: [1 1 0]\nsimilarity 0.6666666666666666 \n\ncreate a matrix of 0's\n [[0. 0.]\n [0. 0.]]\n"
                    ]
                }
            ],
            "source": [
                "# sample code\n",
                "print('this is what happens when we just compare lists:', ['Dog','Cat','Cat'] == ['Dog','Cat','Dog'])\n",
                "comparison = np.array(['Dog','Cat','Cat']) == np.array(['Dog','Cat','Dog'])\n",
                "print('here we compare numpy arrays:', comparison)\n",
                "print('here we convert the comparison to integers:',comparison.astype(int))\n",
                "print('similarity', np.average(comparison),'\\n')\n",
                "print('create a matrix of 0\\'s\\n',np.zeros((2,2)))"
            ]
        },
        {
            "cell_type": "markdown",
            "metadata": {},
            "source": [
                "__For consistency with the automated solution, sort the dataframe `df_predictions_one_method` prior to generating the matrix according the file column by running the function:__\n",
                "\n",
                "    df_predictions_one_method = df_predictions_one_method.sort_values(by='file',ignore_index=True)"
            ]
        },
        {
            "cell_type": "code",
            "execution_count": 245,
            "metadata": {
                "nbgrader": {
                    "grade": false,
                    "grade_id": "cell-8784d24608225537",
                    "locked": false,
                    "schema_version": 3,
                    "solution": true,
                    "task": false
                }
            },
            "outputs": [
                {
                    "output_type": "execute_result",
                    "data": {
                        "text/plain": [
                            "array([[1.  , 0.91, 0.86, 0.93, 0.83, 0.93, 0.93, 0.92],\n",
                            "       [0.91, 1.  , 0.83, 0.87, 0.8 , 0.88, 0.88, 0.87],\n",
                            "       [0.86, 0.83, 1.  , 0.87, 0.82, 0.87, 0.88, 0.89],\n",
                            "       [0.93, 0.87, 0.87, 1.  , 0.82, 0.98, 0.95, 0.93],\n",
                            "       [0.83, 0.8 , 0.82, 0.82, 1.  , 0.82, 0.83, 0.85],\n",
                            "       [0.93, 0.88, 0.87, 0.98, 0.82, 1.  , 0.95, 0.93],\n",
                            "       [0.93, 0.88, 0.88, 0.95, 0.83, 0.95, 1.  , 0.96],\n",
                            "       [0.92, 0.87, 0.89, 0.93, 0.85, 0.93, 0.96, 1.  ]])"
                        ]
                    },
                    "metadata": {},
                    "execution_count": 245
                }
            ],
            "source": [
                "pairwise_comparison =  \"replace this string with your answer\"\n",
                "\n",
                "#sort\n",
                "df_predictions_one_method = df_predictions_one_method.sort_values(by='file',ignore_index=True)\n",
                "\n",
                "#intiate matrix\n",
                "pairwise_comparison = np.zeros((len(df_predictions_one_method),len(df_predictions_one_method)))\n",
                "\n",
                "#fill in matrix\n",
                "for i in range(len(df_predictions_one_method)):\n",
                "    for j in range(len(df_predictions_one_method)):\n",
                "        comparison = df_predictions_one_method.iloc[i,7:] == df_predictions_one_method.iloc[j,7:]\n",
                "        pairwise_comparison[i][j] = np.average(comparison).round(2)\n",
                "\n",
                "pairwise_comparison\n",
                "\n"
            ]
        },
        {
            "cell_type": "code",
            "execution_count": 246,
            "metadata": {
                "nbgrader": {
                    "grade": false,
                    "grade_id": "cell-7991239c6ed02852",
                    "locked": true,
                    "schema_version": 3,
                    "solution": false,
                    "task": false
                },
                "editable": false,
                "deletable": false
            },
            "outputs": [
                {
                    "output_type": "stream",
                    "name": "stdout",
                    "text": [
                        "[[1.   0.91 0.86 0.93 0.83 0.93 0.93 0.92]\n [0.91 1.   0.83 0.87 0.8  0.88 0.88 0.87]\n [0.86 0.83 1.   0.87 0.82 0.87 0.88 0.89]\n [0.93 0.87 0.87 1.   0.82 0.98 0.95 0.93]\n [0.83 0.8  0.82 0.82 1.   0.82 0.83 0.85]\n [0.93 0.88 0.87 0.98 0.82 1.   0.95 0.93]\n [0.93 0.88 0.88 0.95 0.83 0.95 1.   0.96]\n [0.92 0.87 0.89 0.93 0.85 0.93 0.96 1.  ]]\n"
                    ]
                }
            ],
            "source": [
                "# sample output\n",
                "print(ANSWER_KEY['pairwise_comparison'].round(2))"
            ]
        },
        {
            "cell_type": "code",
            "execution_count": 247,
            "metadata": {
                "nbgrader": {
                    "grade": true,
                    "grade_id": "q4c",
                    "locked": true,
                    "points": 6,
                    "schema_version": 3,
                    "solution": false,
                    "task": false
                },
                "editable": false,
                "deletable": false
            },
            "outputs": [],
            "source": [
                "### BEGIN TEST (DO NOT REMOVE CELL)\n",
                "assert(np.equal(ANSWER_KEY['pairwise_comparison'].round(2), pairwise_comparison.round(2)).all()), 'testing pairwise_comparison'\n",
                "### END TEST "
            ]
        },
        {
            "cell_type": "markdown",
            "metadata": {
                "nbgrader": {
                    "grade": false,
                    "grade_id": "cell-5d796a3d47d0ee21",
                    "locked": true,
                    "schema_version": 3,
                    "solution": false,
                    "task": false
                },
                "editable": false,
                "deletable": false
            },
            "source": [
                "Create the data frame `df_pairwise_comparison` which would hold the same values as `pairwise_comparison` but where the indexes and column names describe the models."
            ]
        },
        {
            "cell_type": "code",
            "execution_count": 248,
            "metadata": {
                "nbgrader": {
                    "grade": false,
                    "grade_id": "cell-8b61f446e1dc1b0a",
                    "locked": false,
                    "schema_version": 3,
                    "solution": true,
                    "task": false
                }
            },
            "outputs": [
                {
                    "output_type": "execute_result",
                    "data": {
                        "text/plain": [
                            "model           (AdaBoost)  (CART)  (KNN)  (Log. Reg.)  (RF)  (SVM (Linear))  \\\n",
                            "model                                                                          \n",
                            "(AdaBoost)            1.00    0.91   0.86         0.93  0.83            0.93   \n",
                            "(CART)                0.91    1.00   0.83         0.87  0.80            0.88   \n",
                            "(KNN)                 0.86    0.83   1.00         0.87  0.82            0.87   \n",
                            "(Log. Reg.)           0.93    0.87   0.87         1.00  0.82            0.98   \n",
                            "(RF)                  0.83    0.80   0.82         0.82  1.00            0.82   \n",
                            "(SVM (Linear))        0.93    0.88   0.87         0.98  0.82            1.00   \n",
                            "(SVM (Poly))          0.93    0.88   0.88         0.95  0.83            0.95   \n",
                            "(SVM (RBF))           0.92    0.87   0.89         0.93  0.85            0.93   \n",
                            "\n",
                            "model           (SVM (Poly))  (SVM (RBF))  \n",
                            "model                                      \n",
                            "(AdaBoost)              0.93         0.92  \n",
                            "(CART)                  0.88         0.87  \n",
                            "(KNN)                   0.88         0.89  \n",
                            "(Log. Reg.)             0.95         0.93  \n",
                            "(RF)                    0.83         0.85  \n",
                            "(SVM (Linear))          0.95         0.93  \n",
                            "(SVM (Poly))            1.00         0.96  \n",
                            "(SVM (RBF))             0.96         1.00  "
                        ],
                        "text/html": "<div>\n<style scoped>\n    .dataframe tbody tr th:only-of-type {\n        vertical-align: middle;\n    }\n\n    .dataframe tbody tr th {\n        vertical-align: top;\n    }\n\n    .dataframe thead th {\n        text-align: right;\n    }\n</style>\n<table border=\"1\" class=\"dataframe\">\n  <thead>\n    <tr style=\"text-align: right;\">\n      <th>model</th>\n      <th>(AdaBoost)</th>\n      <th>(CART)</th>\n      <th>(KNN)</th>\n      <th>(Log. Reg.)</th>\n      <th>(RF)</th>\n      <th>(SVM (Linear))</th>\n      <th>(SVM (Poly))</th>\n      <th>(SVM (RBF))</th>\n    </tr>\n    <tr>\n      <th>model</th>\n      <th></th>\n      <th></th>\n      <th></th>\n      <th></th>\n      <th></th>\n      <th></th>\n      <th></th>\n      <th></th>\n    </tr>\n  </thead>\n  <tbody>\n    <tr>\n      <th>(AdaBoost)</th>\n      <td>1.00</td>\n      <td>0.91</td>\n      <td>0.86</td>\n      <td>0.93</td>\n      <td>0.83</td>\n      <td>0.93</td>\n      <td>0.93</td>\n      <td>0.92</td>\n    </tr>\n    <tr>\n      <th>(CART)</th>\n      <td>0.91</td>\n      <td>1.00</td>\n      <td>0.83</td>\n      <td>0.87</td>\n      <td>0.80</td>\n      <td>0.88</td>\n      <td>0.88</td>\n      <td>0.87</td>\n    </tr>\n    <tr>\n      <th>(KNN)</th>\n      <td>0.86</td>\n      <td>0.83</td>\n      <td>1.00</td>\n      <td>0.87</td>\n      <td>0.82</td>\n      <td>0.87</td>\n      <td>0.88</td>\n      <td>0.89</td>\n    </tr>\n    <tr>\n      <th>(Log. Reg.)</th>\n      <td>0.93</td>\n      <td>0.87</td>\n      <td>0.87</td>\n      <td>1.00</td>\n      <td>0.82</td>\n      <td>0.98</td>\n      <td>0.95</td>\n      <td>0.93</td>\n    </tr>\n    <tr>\n      <th>(RF)</th>\n      <td>0.83</td>\n      <td>0.80</td>\n      <td>0.82</td>\n      <td>0.82</td>\n      <td>1.00</td>\n      <td>0.82</td>\n      <td>0.83</td>\n      <td>0.85</td>\n    </tr>\n    <tr>\n      <th>(SVM (Linear))</th>\n      <td>0.93</td>\n      <td>0.88</td>\n      <td>0.87</td>\n      <td>0.98</td>\n      <td>0.82</td>\n      <td>1.00</td>\n      <td>0.95</td>\n      <td>0.93</td>\n    </tr>\n    <tr>\n      <th>(SVM (Poly))</th>\n      <td>0.93</td>\n      <td>0.88</td>\n      <td>0.88</td>\n      <td>0.95</td>\n      <td>0.83</td>\n      <td>0.95</td>\n      <td>1.00</td>\n      <td>0.96</td>\n    </tr>\n    <tr>\n      <th>(SVM (RBF))</th>\n      <td>0.92</td>\n      <td>0.87</td>\n      <td>0.89</td>\n      <td>0.93</td>\n      <td>0.85</td>\n      <td>0.93</td>\n      <td>0.96</td>\n      <td>1.00</td>\n    </tr>\n  </tbody>\n</table>\n</div>"
                    },
                    "metadata": {},
                    "execution_count": 248
                }
            ],
            "source": [
                "df_pairwise_comparison =  \"replace this string with your answer\"\n",
                "\n",
                "df_pairwise_comparison = pd.DataFrame(pairwise_comparison,index=df_predictions_one_method['model'], columns=df_predictions_one_method['model'])\n",
                "df_pairwise_comparison"
            ]
        },
        {
            "cell_type": "code",
            "execution_count": 249,
            "metadata": {
                "nbgrader": {
                    "grade": false,
                    "grade_id": "cell-5b3e50d38edb5d65",
                    "locked": true,
                    "schema_version": 3,
                    "solution": false,
                    "task": false
                },
                "editable": false,
                "deletable": false
            },
            "outputs": [
                {
                    "output_type": "execute_result",
                    "data": {
                        "text/plain": [
                            "model           (AdaBoost)  (CART)  (KNN)  (Log. Reg.)  (RF)  (SVM (Linear))  \\\n",
                            "model                                                                          \n",
                            "(AdaBoost)            1.00    0.91   0.86         0.93  0.83            0.93   \n",
                            "(CART)                0.91    1.00   0.83         0.87  0.80            0.88   \n",
                            "(KNN)                 0.86    0.83   1.00         0.87  0.82            0.87   \n",
                            "(Log. Reg.)           0.93    0.87   0.87         1.00  0.82            0.98   \n",
                            "(RF)                  0.83    0.80   0.82         0.82  1.00            0.82   \n",
                            "(SVM (Linear))        0.93    0.88   0.87         0.98  0.82            1.00   \n",
                            "(SVM (Poly))          0.93    0.88   0.88         0.95  0.83            0.95   \n",
                            "(SVM (RBF))           0.92    0.87   0.89         0.93  0.85            0.93   \n",
                            "\n",
                            "model           (SVM (Poly))  (SVM (RBF))  \n",
                            "model                                      \n",
                            "(AdaBoost)              0.93         0.92  \n",
                            "(CART)                  0.88         0.87  \n",
                            "(KNN)                   0.88         0.89  \n",
                            "(Log. Reg.)             0.95         0.93  \n",
                            "(RF)                    0.83         0.85  \n",
                            "(SVM (Linear))          0.95         0.93  \n",
                            "(SVM (Poly))            1.00         0.96  \n",
                            "(SVM (RBF))             0.96         1.00  "
                        ],
                        "text/html": "<div>\n<style scoped>\n    .dataframe tbody tr th:only-of-type {\n        vertical-align: middle;\n    }\n\n    .dataframe tbody tr th {\n        vertical-align: top;\n    }\n\n    .dataframe thead th {\n        text-align: right;\n    }\n</style>\n<table border=\"1\" class=\"dataframe\">\n  <thead>\n    <tr style=\"text-align: right;\">\n      <th>model</th>\n      <th>(AdaBoost)</th>\n      <th>(CART)</th>\n      <th>(KNN)</th>\n      <th>(Log. Reg.)</th>\n      <th>(RF)</th>\n      <th>(SVM (Linear))</th>\n      <th>(SVM (Poly))</th>\n      <th>(SVM (RBF))</th>\n    </tr>\n    <tr>\n      <th>model</th>\n      <th></th>\n      <th></th>\n      <th></th>\n      <th></th>\n      <th></th>\n      <th></th>\n      <th></th>\n      <th></th>\n    </tr>\n  </thead>\n  <tbody>\n    <tr>\n      <th>(AdaBoost)</th>\n      <td>1.00</td>\n      <td>0.91</td>\n      <td>0.86</td>\n      <td>0.93</td>\n      <td>0.83</td>\n      <td>0.93</td>\n      <td>0.93</td>\n      <td>0.92</td>\n    </tr>\n    <tr>\n      <th>(CART)</th>\n      <td>0.91</td>\n      <td>1.00</td>\n      <td>0.83</td>\n      <td>0.87</td>\n      <td>0.80</td>\n      <td>0.88</td>\n      <td>0.88</td>\n      <td>0.87</td>\n    </tr>\n    <tr>\n      <th>(KNN)</th>\n      <td>0.86</td>\n      <td>0.83</td>\n      <td>1.00</td>\n      <td>0.87</td>\n      <td>0.82</td>\n      <td>0.87</td>\n      <td>0.88</td>\n      <td>0.89</td>\n    </tr>\n    <tr>\n      <th>(Log. Reg.)</th>\n      <td>0.93</td>\n      <td>0.87</td>\n      <td>0.87</td>\n      <td>1.00</td>\n      <td>0.82</td>\n      <td>0.98</td>\n      <td>0.95</td>\n      <td>0.93</td>\n    </tr>\n    <tr>\n      <th>(RF)</th>\n      <td>0.83</td>\n      <td>0.80</td>\n      <td>0.82</td>\n      <td>0.82</td>\n      <td>1.00</td>\n      <td>0.82</td>\n      <td>0.83</td>\n      <td>0.85</td>\n    </tr>\n    <tr>\n      <th>(SVM (Linear))</th>\n      <td>0.93</td>\n      <td>0.88</td>\n      <td>0.87</td>\n      <td>0.98</td>\n      <td>0.82</td>\n      <td>1.00</td>\n      <td>0.95</td>\n      <td>0.93</td>\n    </tr>\n    <tr>\n      <th>(SVM (Poly))</th>\n      <td>0.93</td>\n      <td>0.88</td>\n      <td>0.88</td>\n      <td>0.95</td>\n      <td>0.83</td>\n      <td>0.95</td>\n      <td>1.00</td>\n      <td>0.96</td>\n    </tr>\n    <tr>\n      <th>(SVM (RBF))</th>\n      <td>0.92</td>\n      <td>0.87</td>\n      <td>0.89</td>\n      <td>0.93</td>\n      <td>0.85</td>\n      <td>0.93</td>\n      <td>0.96</td>\n      <td>1.00</td>\n    </tr>\n  </tbody>\n</table>\n</div>"
                    },
                    "metadata": {},
                    "execution_count": 249
                }
            ],
            "source": [
                "# expected output\n",
                "ANSWER_KEY['df_pairwise_comparison'].round(2)"
            ]
        },
        {
            "cell_type": "code",
            "execution_count": 250,
            "metadata": {},
            "outputs": [
                {
                    "output_type": "stream",
                    "name": "stdout",
                    "text": [
                        "(AdaBoost)\n(AdaBoost)\n"
                    ]
                }
            ],
            "source": [
                "# example of the first row and column indexes \n",
                "print(ANSWER_KEY['df_pairwise_comparison'].index.values[0])\n",
                "print(ANSWER_KEY['df_pairwise_comparison'].columns.values[0])"
            ]
        },
        {
            "cell_type": "code",
            "execution_count": 251,
            "metadata": {},
            "outputs": [
                {
                    "output_type": "stream",
                    "name": "stdout",
                    "text": [
                        "<class 'str'>\n<class 'str'>\n"
                    ]
                }
            ],
            "source": [
                "# observe that the data type of the indexes and column names are strings \n",
                "# note that if in your dataframes these types are different the test will fail\n",
                "print(type(ANSWER_KEY['df_pairwise_comparison'].index.values[0]))\n",
                "print(type(ANSWER_KEY['df_pairwise_comparison'].columns.values[0]))"
            ]
        },
        {
            "cell_type": "code",
            "execution_count": 252,
            "metadata": {
                "nbgrader": {
                    "grade": true,
                    "grade_id": "q4d",
                    "locked": true,
                    "points": 6,
                    "schema_version": 3,
                    "solution": false,
                    "task": false
                },
                "editable": false,
                "deletable": false
            },
            "outputs": [],
            "source": [
                "### BEGIN TEST (DO NOT REMOVE CELL)\n",
                "sol = ANSWER_KEY['df_pairwise_comparison'].round(2)\n",
                "diff = sol.compare(df_pairwise_comparison.round(2), keep_equal=False, align_axis=0)\n",
                "assert(len(diff)==0), 'testing df_pairwise_comparison'\n",
                "### END TEST "
            ]
        },
        {
            "cell_type": "markdown",
            "metadata": {
                "nbgrader": {
                    "grade": false,
                    "grade_id": "cell-960906d737b06ad1",
                    "locked": true,
                    "schema_version": 3,
                    "solution": false,
                    "task": false
                },
                "editable": false,
                "deletable": false
            },
            "source": [
                "We can visualize the dataframe `df_pairwise_comparison` using a heatmap:"
            ]
        },
        {
            "cell_type": "code",
            "execution_count": 253,
            "metadata": {
                "nbgrader": {
                    "grade": false,
                    "grade_id": "cell-3ecf5134a3984115",
                    "locked": true,
                    "schema_version": 3,
                    "solution": false,
                    "task": false
                },
                "editable": false,
                "deletable": false
            },
            "outputs": [
                {
                    "output_type": "display_data",
                    "data": {
                        "text/plain": "<Figure size 432x288 with 2 Axes>",
                        "image/svg+xml": "<?xml version=\"1.0\" encoding=\"utf-8\" standalone=\"no\"?>\n<!DOCTYPE svg PUBLIC \"-//W3C//DTD SVG 1.1//EN\"\n  \"http://www.w3.org/Graphics/SVG/1.1/DTD/svg11.dtd\">\n<!-- Created with matplotlib (https://matplotlib.org/) -->\n<svg height=\"352.999375pt\" version=\"1.1\" viewBox=\"0 0 437.8395 352.999375\" width=\"437.8395pt\" xmlns=\"http://www.w3.org/2000/svg\" xmlns:xlink=\"http://www.w3.org/1999/xlink\">\n <metadata>\n  <rdf:RDF xmlns:cc=\"http://creativecommons.org/ns#\" xmlns:dc=\"http://purl.org/dc/elements/1.1/\" xmlns:rdf=\"http://www.w3.org/1999/02/22-rdf-syntax-ns#\">\n   <cc:Work>\n    <dc:type rdf:resource=\"http://purl.org/dc/dcmitype/StillImage\"/>\n    <dc:date>2021-01-25T23:44:07.747124</dc:date>\n    <dc:format>image/svg+xml</dc:format>\n    <dc:creator>\n     <cc:Agent>\n      <dc:title>Matplotlib v3.3.2, https://matplotlib.org/</dc:title>\n     </cc:Agent>\n    </dc:creator>\n   </cc:Work>\n  </rdf:RDF>\n </metadata>\n <defs>\n  <style type=\"text/css\">*{stroke-linecap:butt;stroke-linejoin:round;}</style>\n </defs>\n <g id=\"figure_1\">\n  <g id=\"patch_1\">\n   <path d=\"M 0 352.999375 \nL 437.8395 352.999375 \nL 437.8395 0 \nL 0 0 \nz\n\" style=\"fill:none;\"/>\n  </g>\n  <g id=\"axes_1\">\n   <g id=\"patch_2\">\n    <path d=\"M 99.559375 253.44 \nL 367.399375 253.44 \nL 367.399375 36 \nL 99.559375 36 \nz\n\" style=\"fill:#ffffff;\"/>\n   </g>\n   <g id=\"QuadMesh_1\">\n    <path clip-path=\"url(#pe456b27a11)\" d=\"M 99.559375 36 \nL 133.039375 36 \nL 133.039375 63.18 \nL 99.559375 63.18 \nL 99.559375 36 \n\" style=\"fill:#faebdd;\"/>\n    <path clip-path=\"url(#pe456b27a11)\" d=\"M 133.039375 36 \nL 166.519375 36 \nL 166.519375 63.18 \nL 133.039375 63.18 \nL 133.039375 36 \n\" style=\"fill:#e03143;\"/>\n    <path clip-path=\"url(#pe456b27a11)\" d=\"M 166.519375 36 \nL 199.999375 36 \nL 199.999375 63.18 \nL 166.519375 63.18 \nL 166.519375 36 \n\" style=\"fill:#7d1f5a;\"/>\n    <path clip-path=\"url(#pe456b27a11)\" d=\"M 199.999375 36 \nL 233.479375 36 \nL 233.479375 63.18 \nL 199.999375 63.18 \nL 199.999375 36 \n\" style=\"fill:#f05c42;\"/>\n    <path clip-path=\"url(#pe456b27a11)\" d=\"M 233.479375 36 \nL 266.959375 36 \nL 266.959375 63.18 \nL 233.479375 63.18 \nL 233.479375 36 \n\" style=\"fill:#2e1739;\"/>\n    <path clip-path=\"url(#pe456b27a11)\" d=\"M 266.959375 36 \nL 300.439375 36 \nL 300.439375 63.18 \nL 266.959375 63.18 \nL 266.959375 36 \n\" style=\"fill:#f06043;\"/>\n    <path clip-path=\"url(#pe456b27a11)\" d=\"M 300.439375 36 \nL 333.919375 36 \nL 333.919375 63.18 \nL 300.439375 63.18 \nL 300.439375 36 \n\" style=\"fill:#ef5640;\"/>\n    <path clip-path=\"url(#pe456b27a11)\" d=\"M 333.919375 36 \nL 367.399375 36 \nL 367.399375 63.18 \nL 333.919375 63.18 \nL 333.919375 36 \n\" style=\"fill:#e33641;\"/>\n    <path clip-path=\"url(#pe456b27a11)\" d=\"M 99.559375 63.18 \nL 133.039375 63.18 \nL 133.039375 90.36 \nL 99.559375 90.36 \nL 99.559375 63.18 \n\" style=\"fill:#e03143;\"/>\n    <path clip-path=\"url(#pe456b27a11)\" d=\"M 133.039375 63.18 \nL 166.519375 63.18 \nL 166.519375 90.36 \nL 133.039375 90.36 \nL 133.039375 63.18 \n\" style=\"fill:#faebdd;\"/>\n    <path clip-path=\"url(#pe456b27a11)\" d=\"M 166.519375 63.18 \nL 199.999375 63.18 \nL 199.999375 90.36 \nL 166.519375 90.36 \nL 166.519375 63.18 \n\" style=\"fill:#3f1b43;\"/>\n    <path clip-path=\"url(#pe456b27a11)\" d=\"M 199.999375 63.18 \nL 233.479375 63.18 \nL 233.479375 90.36 \nL 199.999375 90.36 \nL 199.999375 63.18 \n\" style=\"fill:#931c5b;\"/>\n    <path clip-path=\"url(#pe456b27a11)\" d=\"M 233.479375 63.18 \nL 266.959375 63.18 \nL 266.959375 90.36 \nL 233.479375 90.36 \nL 233.479375 63.18 \n\" style=\"fill:#03051a;\"/>\n    <path clip-path=\"url(#pe456b27a11)\" d=\"M 266.959375 63.18 \nL 300.439375 63.18 \nL 300.439375 90.36 \nL 266.959375 90.36 \nL 266.959375 63.18 \n\" style=\"fill:#9c1b5b;\"/>\n    <path clip-path=\"url(#pe456b27a11)\" d=\"M 300.439375 63.18 \nL 333.919375 63.18 \nL 333.919375 90.36 \nL 300.439375 90.36 \nL 300.439375 63.18 \n\" style=\"fill:#a11a5b;\"/>\n    <path clip-path=\"url(#pe456b27a11)\" d=\"M 333.919375 63.18 \nL 367.399375 63.18 \nL 367.399375 90.36 \nL 333.919375 90.36 \nL 333.919375 63.18 \n\" style=\"fill:#8c1d5b;\"/>\n    <path clip-path=\"url(#pe456b27a11)\" d=\"M 99.559375 90.36 \nL 133.039375 90.36 \nL 133.039375 117.54 \nL 99.559375 117.54 \nL 99.559375 90.36 \n\" style=\"fill:#7d1f5a;\"/>\n    <path clip-path=\"url(#pe456b27a11)\" d=\"M 133.039375 90.36 \nL 166.519375 90.36 \nL 166.519375 117.54 \nL 133.039375 117.54 \nL 133.039375 90.36 \n\" style=\"fill:#3f1b43;\"/>\n    <path clip-path=\"url(#pe456b27a11)\" d=\"M 166.519375 90.36 \nL 199.999375 90.36 \nL 199.999375 117.54 \nL 166.519375 117.54 \nL 166.519375 90.36 \n\" style=\"fill:#faebdd;\"/>\n    <path clip-path=\"url(#pe456b27a11)\" d=\"M 199.999375 90.36 \nL 233.479375 90.36 \nL 233.479375 117.54 \nL 199.999375 117.54 \nL 199.999375 90.36 \n\" style=\"fill:#861e5b;\"/>\n    <path clip-path=\"url(#pe456b27a11)\" d=\"M 233.479375 90.36 \nL 266.959375 90.36 \nL 266.959375 117.54 \nL 233.479375 117.54 \nL 233.479375 90.36 \n\" style=\"fill:#271534;\"/>\n    <path clip-path=\"url(#pe456b27a11)\" d=\"M 266.959375 90.36 \nL 300.439375 90.36 \nL 300.439375 117.54 \nL 266.959375 117.54 \nL 266.959375 90.36 \n\" style=\"fill:#891e5b;\"/>\n    <path clip-path=\"url(#pe456b27a11)\" d=\"M 300.439375 90.36 \nL 333.919375 90.36 \nL 333.919375 117.54 \nL 300.439375 117.54 \nL 300.439375 90.36 \n\" style=\"fill:#a11a5b;\"/>\n    <path clip-path=\"url(#pe456b27a11)\" d=\"M 333.919375 90.36 \nL 367.399375 90.36 \nL 367.399375 117.54 \nL 333.919375 117.54 \nL 333.919375 90.36 \n\" style=\"fill:#b01759;\"/>\n    <path clip-path=\"url(#pe456b27a11)\" d=\"M 99.559375 117.54 \nL 133.039375 117.54 \nL 133.039375 144.72 \nL 99.559375 144.72 \nL 99.559375 117.54 \n\" style=\"fill:#f05c42;\"/>\n    <path clip-path=\"url(#pe456b27a11)\" d=\"M 133.039375 117.54 \nL 166.519375 117.54 \nL 166.519375 144.72 \nL 133.039375 144.72 \nL 133.039375 117.54 \n\" style=\"fill:#931c5b;\"/>\n    <path clip-path=\"url(#pe456b27a11)\" d=\"M 166.519375 117.54 \nL 199.999375 117.54 \nL 199.999375 144.72 \nL 166.519375 144.72 \nL 166.519375 117.54 \n\" style=\"fill:#861e5b;\"/>\n    <path clip-path=\"url(#pe456b27a11)\" d=\"M 199.999375 117.54 \nL 233.479375 117.54 \nL 233.479375 144.72 \nL 199.999375 144.72 \nL 199.999375 117.54 \n\" style=\"fill:#faebdd;\"/>\n    <path clip-path=\"url(#pe456b27a11)\" d=\"M 233.479375 117.54 \nL 266.959375 117.54 \nL 266.959375 144.72 \nL 233.479375 144.72 \nL 233.479375 117.54 \n\" style=\"fill:#211330;\"/>\n    <path clip-path=\"url(#pe456b27a11)\" d=\"M 266.959375 117.54 \nL 300.439375 117.54 \nL 300.439375 144.72 \nL 266.959375 144.72 \nL 266.959375 117.54 \n\" style=\"fill:#f7cdb1;\"/>\n    <path clip-path=\"url(#pe456b27a11)\" d=\"M 300.439375 117.54 \nL 333.919375 117.54 \nL 333.919375 144.72 \nL 300.439375 144.72 \nL 300.439375 117.54 \n\" style=\"fill:#f58d64;\"/>\n    <path clip-path=\"url(#pe456b27a11)\" d=\"M 333.919375 117.54 \nL 367.399375 117.54 \nL 367.399375 144.72 \nL 333.919375 144.72 \nL 333.919375 117.54 \n\" style=\"fill:#ef5640;\"/>\n    <path clip-path=\"url(#pe456b27a11)\" d=\"M 99.559375 144.72 \nL 133.039375 144.72 \nL 133.039375 171.9 \nL 99.559375 171.9 \nL 99.559375 144.72 \n\" style=\"fill:#2e1739;\"/>\n    <path clip-path=\"url(#pe456b27a11)\" d=\"M 133.039375 144.72 \nL 166.519375 144.72 \nL 166.519375 171.9 \nL 133.039375 171.9 \nL 133.039375 144.72 \n\" style=\"fill:#03051a;\"/>\n    <path clip-path=\"url(#pe456b27a11)\" d=\"M 166.519375 144.72 \nL 199.999375 144.72 \nL 199.999375 171.9 \nL 166.519375 171.9 \nL 166.519375 144.72 \n\" style=\"fill:#271534;\"/>\n    <path clip-path=\"url(#pe456b27a11)\" d=\"M 199.999375 144.72 \nL 233.479375 144.72 \nL 233.479375 171.9 \nL 199.999375 171.9 \nL 199.999375 144.72 \n\" style=\"fill:#211330;\"/>\n    <path clip-path=\"url(#pe456b27a11)\" d=\"M 233.479375 144.72 \nL 266.959375 144.72 \nL 266.959375 171.9 \nL 233.479375 171.9 \nL 233.479375 144.72 \n\" style=\"fill:#faebdd;\"/>\n    <path clip-path=\"url(#pe456b27a11)\" d=\"M 266.959375 144.72 \nL 300.439375 144.72 \nL 300.439375 171.9 \nL 266.959375 171.9 \nL 266.959375 144.72 \n\" style=\"fill:#221331;\"/>\n    <path clip-path=\"url(#pe456b27a11)\" d=\"M 300.439375 144.72 \nL 333.919375 144.72 \nL 333.919375 171.9 \nL 300.439375 171.9 \nL 300.439375 144.72 \n\" style=\"fill:#33183c;\"/>\n    <path clip-path=\"url(#pe456b27a11)\" d=\"M 333.919375 144.72 \nL 367.399375 144.72 \nL 367.399375 171.9 \nL 333.919375 171.9 \nL 333.919375 144.72 \n\" style=\"fill:#5c1e51;\"/>\n    <path clip-path=\"url(#pe456b27a11)\" d=\"M 99.559375 171.9 \nL 133.039375 171.9 \nL 133.039375 199.08 \nL 99.559375 199.08 \nL 99.559375 171.9 \n\" style=\"fill:#f06043;\"/>\n    <path clip-path=\"url(#pe456b27a11)\" d=\"M 133.039375 171.9 \nL 166.519375 171.9 \nL 166.519375 199.08 \nL 133.039375 199.08 \nL 133.039375 171.9 \n\" style=\"fill:#9c1b5b;\"/>\n    <path clip-path=\"url(#pe456b27a11)\" d=\"M 166.519375 171.9 \nL 199.999375 171.9 \nL 199.999375 199.08 \nL 166.519375 199.08 \nL 166.519375 171.9 \n\" style=\"fill:#891e5b;\"/>\n    <path clip-path=\"url(#pe456b27a11)\" d=\"M 199.999375 171.9 \nL 233.479375 171.9 \nL 233.479375 199.08 \nL 199.999375 199.08 \nL 199.999375 171.9 \n\" style=\"fill:#f7cdb1;\"/>\n    <path clip-path=\"url(#pe456b27a11)\" d=\"M 233.479375 171.9 \nL 266.959375 171.9 \nL 266.959375 199.08 \nL 233.479375 199.08 \nL 233.479375 171.9 \n\" style=\"fill:#221331;\"/>\n    <path clip-path=\"url(#pe456b27a11)\" d=\"M 266.959375 171.9 \nL 300.439375 171.9 \nL 300.439375 199.08 \nL 266.959375 199.08 \nL 266.959375 171.9 \n\" style=\"fill:#faebdd;\"/>\n    <path clip-path=\"url(#pe456b27a11)\" d=\"M 300.439375 171.9 \nL 333.919375 171.9 \nL 333.919375 199.08 \nL 300.439375 199.08 \nL 300.439375 171.9 \n\" style=\"fill:#f59067;\"/>\n    <path clip-path=\"url(#pe456b27a11)\" d=\"M 333.919375 171.9 \nL 367.399375 171.9 \nL 367.399375 199.08 \nL 333.919375 199.08 \nL 333.919375 171.9 \n\" style=\"fill:#ef5a41;\"/>\n    <path clip-path=\"url(#pe456b27a11)\" d=\"M 99.559375 199.08 \nL 133.039375 199.08 \nL 133.039375 226.26 \nL 99.559375 226.26 \nL 99.559375 199.08 \n\" style=\"fill:#ef5640;\"/>\n    <path clip-path=\"url(#pe456b27a11)\" d=\"M 133.039375 199.08 \nL 166.519375 199.08 \nL 166.519375 226.26 \nL 133.039375 226.26 \nL 133.039375 199.08 \n\" style=\"fill:#a11a5b;\"/>\n    <path clip-path=\"url(#pe456b27a11)\" d=\"M 166.519375 199.08 \nL 199.999375 199.08 \nL 199.999375 226.26 \nL 166.519375 226.26 \nL 166.519375 199.08 \n\" style=\"fill:#a11a5b;\"/>\n    <path clip-path=\"url(#pe456b27a11)\" d=\"M 199.999375 199.08 \nL 233.479375 199.08 \nL 233.479375 226.26 \nL 199.999375 226.26 \nL 199.999375 199.08 \n\" style=\"fill:#f58d64;\"/>\n    <path clip-path=\"url(#pe456b27a11)\" d=\"M 233.479375 199.08 \nL 266.959375 199.08 \nL 266.959375 226.26 \nL 233.479375 226.26 \nL 233.479375 199.08 \n\" style=\"fill:#33183c;\"/>\n    <path clip-path=\"url(#pe456b27a11)\" d=\"M 266.959375 199.08 \nL 300.439375 199.08 \nL 300.439375 226.26 \nL 266.959375 226.26 \nL 266.959375 199.08 \n\" style=\"fill:#f59067;\"/>\n    <path clip-path=\"url(#pe456b27a11)\" d=\"M 300.439375 199.08 \nL 333.919375 199.08 \nL 333.919375 226.26 \nL 300.439375 226.26 \nL 300.439375 199.08 \n\" style=\"fill:#faebdd;\"/>\n    <path clip-path=\"url(#pe456b27a11)\" d=\"M 333.919375 199.08 \nL 367.399375 199.08 \nL 367.399375 226.26 \nL 333.919375 226.26 \nL 333.919375 199.08 \n\" style=\"fill:#f5966c;\"/>\n    <path clip-path=\"url(#pe456b27a11)\" d=\"M 99.559375 226.26 \nL 133.039375 226.26 \nL 133.039375 253.44 \nL 99.559375 253.44 \nL 99.559375 226.26 \n\" style=\"fill:#e33641;\"/>\n    <path clip-path=\"url(#pe456b27a11)\" d=\"M 133.039375 226.26 \nL 166.519375 226.26 \nL 166.519375 253.44 \nL 133.039375 253.44 \nL 133.039375 226.26 \n\" style=\"fill:#8c1d5b;\"/>\n    <path clip-path=\"url(#pe456b27a11)\" d=\"M 166.519375 226.26 \nL 199.999375 226.26 \nL 199.999375 253.44 \nL 166.519375 253.44 \nL 166.519375 226.26 \n\" style=\"fill:#b01759;\"/>\n    <path clip-path=\"url(#pe456b27a11)\" d=\"M 199.999375 226.26 \nL 233.479375 226.26 \nL 233.479375 253.44 \nL 199.999375 253.44 \nL 199.999375 226.26 \n\" style=\"fill:#ef5640;\"/>\n    <path clip-path=\"url(#pe456b27a11)\" d=\"M 233.479375 226.26 \nL 266.959375 226.26 \nL 266.959375 253.44 \nL 233.479375 253.44 \nL 233.479375 226.26 \n\" style=\"fill:#5c1e51;\"/>\n    <path clip-path=\"url(#pe456b27a11)\" d=\"M 266.959375 226.26 \nL 300.439375 226.26 \nL 300.439375 253.44 \nL 266.959375 253.44 \nL 266.959375 226.26 \n\" style=\"fill:#ef5a41;\"/>\n    <path clip-path=\"url(#pe456b27a11)\" d=\"M 300.439375 226.26 \nL 333.919375 226.26 \nL 333.919375 253.44 \nL 300.439375 253.44 \nL 300.439375 226.26 \n\" style=\"fill:#f5966c;\"/>\n    <path clip-path=\"url(#pe456b27a11)\" d=\"M 333.919375 226.26 \nL 367.399375 226.26 \nL 367.399375 253.44 \nL 333.919375 253.44 \nL 333.919375 226.26 \n\" style=\"fill:#faebdd;\"/>\n   </g>\n   <g id=\"matplotlib.axis_1\">\n    <g id=\"xtick_1\">\n     <g id=\"line2d_1\">\n      <defs>\n       <path d=\"M 0 0 \nL 0 3.5 \n\" id=\"m3005d8ffbb\" style=\"stroke:#000000;stroke-width:0.8;\"/>\n      </defs>\n      <g>\n       <use style=\"stroke:#000000;stroke-width:0.8;\" x=\"116.299375\" xlink:href=\"#m3005d8ffbb\" y=\"253.44\"/>\n      </g>\n     </g>\n     <g id=\"text_1\">\n      <!-- (AdaBoost) -->\n      <g transform=\"translate(119.05875 315.613437)rotate(-90)scale(0.1 -0.1)\">\n       <defs>\n        <path d=\"M 31 75.875 \nQ 24.46875 64.65625 21.28125 53.65625 \nQ 18.109375 42.671875 18.109375 31.390625 \nQ 18.109375 20.125 21.3125 9.0625 \nQ 24.515625 -2 31 -13.1875 \nL 23.1875 -13.1875 \nQ 15.875 -1.703125 12.234375 9.375 \nQ 8.59375 20.453125 8.59375 31.390625 \nQ 8.59375 42.28125 12.203125 53.3125 \nQ 15.828125 64.359375 23.1875 75.875 \nz\n\" id=\"DejaVuSans-40\"/>\n        <path d=\"M 34.1875 63.1875 \nL 20.796875 26.90625 \nL 47.609375 26.90625 \nz\nM 28.609375 72.90625 \nL 39.796875 72.90625 \nL 67.578125 0 \nL 57.328125 0 \nL 50.6875 18.703125 \nL 17.828125 18.703125 \nL 11.1875 0 \nL 0.78125 0 \nz\n\" id=\"DejaVuSans-65\"/>\n        <path d=\"M 45.40625 46.390625 \nL 45.40625 75.984375 \nL 54.390625 75.984375 \nL 54.390625 0 \nL 45.40625 0 \nL 45.40625 8.203125 \nQ 42.578125 3.328125 38.25 0.953125 \nQ 33.9375 -1.421875 27.875 -1.421875 \nQ 17.96875 -1.421875 11.734375 6.484375 \nQ 5.515625 14.40625 5.515625 27.296875 \nQ 5.515625 40.1875 11.734375 48.09375 \nQ 17.96875 56 27.875 56 \nQ 33.9375 56 38.25 53.625 \nQ 42.578125 51.265625 45.40625 46.390625 \nz\nM 14.796875 27.296875 \nQ 14.796875 17.390625 18.875 11.75 \nQ 22.953125 6.109375 30.078125 6.109375 \nQ 37.203125 6.109375 41.296875 11.75 \nQ 45.40625 17.390625 45.40625 27.296875 \nQ 45.40625 37.203125 41.296875 42.84375 \nQ 37.203125 48.484375 30.078125 48.484375 \nQ 22.953125 48.484375 18.875 42.84375 \nQ 14.796875 37.203125 14.796875 27.296875 \nz\n\" id=\"DejaVuSans-100\"/>\n        <path d=\"M 34.28125 27.484375 \nQ 23.390625 27.484375 19.1875 25 \nQ 14.984375 22.515625 14.984375 16.5 \nQ 14.984375 11.71875 18.140625 8.90625 \nQ 21.296875 6.109375 26.703125 6.109375 \nQ 34.1875 6.109375 38.703125 11.40625 \nQ 43.21875 16.703125 43.21875 25.484375 \nL 43.21875 27.484375 \nz\nM 52.203125 31.203125 \nL 52.203125 0 \nL 43.21875 0 \nL 43.21875 8.296875 \nQ 40.140625 3.328125 35.546875 0.953125 \nQ 30.953125 -1.421875 24.3125 -1.421875 \nQ 15.921875 -1.421875 10.953125 3.296875 \nQ 6 8.015625 6 15.921875 \nQ 6 25.140625 12.171875 29.828125 \nQ 18.359375 34.515625 30.609375 34.515625 \nL 43.21875 34.515625 \nL 43.21875 35.40625 \nQ 43.21875 41.609375 39.140625 45 \nQ 35.0625 48.390625 27.6875 48.390625 \nQ 23 48.390625 18.546875 47.265625 \nQ 14.109375 46.140625 10.015625 43.890625 \nL 10.015625 52.203125 \nQ 14.9375 54.109375 19.578125 55.046875 \nQ 24.21875 56 28.609375 56 \nQ 40.484375 56 46.34375 49.84375 \nQ 52.203125 43.703125 52.203125 31.203125 \nz\n\" id=\"DejaVuSans-97\"/>\n        <path d=\"M 19.671875 34.8125 \nL 19.671875 8.109375 \nL 35.5 8.109375 \nQ 43.453125 8.109375 47.28125 11.40625 \nQ 51.125 14.703125 51.125 21.484375 \nQ 51.125 28.328125 47.28125 31.5625 \nQ 43.453125 34.8125 35.5 34.8125 \nz\nM 19.671875 64.796875 \nL 19.671875 42.828125 \nL 34.28125 42.828125 \nQ 41.5 42.828125 45.03125 45.53125 \nQ 48.578125 48.25 48.578125 53.8125 \nQ 48.578125 59.328125 45.03125 62.0625 \nQ 41.5 64.796875 34.28125 64.796875 \nz\nM 9.8125 72.90625 \nL 35.015625 72.90625 \nQ 46.296875 72.90625 52.390625 68.21875 \nQ 58.5 63.53125 58.5 54.890625 \nQ 58.5 48.1875 55.375 44.234375 \nQ 52.25 40.28125 46.1875 39.3125 \nQ 53.46875 37.75 57.5 32.78125 \nQ 61.53125 27.828125 61.53125 20.40625 \nQ 61.53125 10.640625 54.890625 5.3125 \nQ 48.25 0 35.984375 0 \nL 9.8125 0 \nz\n\" id=\"DejaVuSans-66\"/>\n        <path d=\"M 30.609375 48.390625 \nQ 23.390625 48.390625 19.1875 42.75 \nQ 14.984375 37.109375 14.984375 27.296875 \nQ 14.984375 17.484375 19.15625 11.84375 \nQ 23.34375 6.203125 30.609375 6.203125 \nQ 37.796875 6.203125 41.984375 11.859375 \nQ 46.1875 17.53125 46.1875 27.296875 \nQ 46.1875 37.015625 41.984375 42.703125 \nQ 37.796875 48.390625 30.609375 48.390625 \nz\nM 30.609375 56 \nQ 42.328125 56 49.015625 48.375 \nQ 55.71875 40.765625 55.71875 27.296875 \nQ 55.71875 13.875 49.015625 6.21875 \nQ 42.328125 -1.421875 30.609375 -1.421875 \nQ 18.84375 -1.421875 12.171875 6.21875 \nQ 5.515625 13.875 5.515625 27.296875 \nQ 5.515625 40.765625 12.171875 48.375 \nQ 18.84375 56 30.609375 56 \nz\n\" id=\"DejaVuSans-111\"/>\n        <path d=\"M 44.28125 53.078125 \nL 44.28125 44.578125 \nQ 40.484375 46.53125 36.375 47.5 \nQ 32.28125 48.484375 27.875 48.484375 \nQ 21.1875 48.484375 17.84375 46.4375 \nQ 14.5 44.390625 14.5 40.28125 \nQ 14.5 37.15625 16.890625 35.375 \nQ 19.28125 33.59375 26.515625 31.984375 \nL 29.59375 31.296875 \nQ 39.15625 29.25 43.1875 25.515625 \nQ 47.21875 21.78125 47.21875 15.09375 \nQ 47.21875 7.46875 41.1875 3.015625 \nQ 35.15625 -1.421875 24.609375 -1.421875 \nQ 20.21875 -1.421875 15.453125 -0.5625 \nQ 10.6875 0.296875 5.421875 2 \nL 5.421875 11.28125 \nQ 10.40625 8.6875 15.234375 7.390625 \nQ 20.0625 6.109375 24.8125 6.109375 \nQ 31.15625 6.109375 34.5625 8.28125 \nQ 37.984375 10.453125 37.984375 14.40625 \nQ 37.984375 18.0625 35.515625 20.015625 \nQ 33.0625 21.96875 24.703125 23.78125 \nL 21.578125 24.515625 \nQ 13.234375 26.265625 9.515625 29.90625 \nQ 5.8125 33.546875 5.8125 39.890625 \nQ 5.8125 47.609375 11.28125 51.796875 \nQ 16.75 56 26.8125 56 \nQ 31.78125 56 36.171875 55.265625 \nQ 40.578125 54.546875 44.28125 53.078125 \nz\n\" id=\"DejaVuSans-115\"/>\n        <path d=\"M 18.3125 70.21875 \nL 18.3125 54.6875 \nL 36.8125 54.6875 \nL 36.8125 47.703125 \nL 18.3125 47.703125 \nL 18.3125 18.015625 \nQ 18.3125 11.328125 20.140625 9.421875 \nQ 21.96875 7.515625 27.59375 7.515625 \nL 36.8125 7.515625 \nL 36.8125 0 \nL 27.59375 0 \nQ 17.1875 0 13.234375 3.875 \nQ 9.28125 7.765625 9.28125 18.015625 \nL 9.28125 47.703125 \nL 2.6875 47.703125 \nL 2.6875 54.6875 \nL 9.28125 54.6875 \nL 9.28125 70.21875 \nz\n\" id=\"DejaVuSans-116\"/>\n        <path d=\"M 8.015625 75.875 \nL 15.828125 75.875 \nQ 23.140625 64.359375 26.78125 53.3125 \nQ 30.421875 42.28125 30.421875 31.390625 \nQ 30.421875 20.453125 26.78125 9.375 \nQ 23.140625 -1.703125 15.828125 -13.1875 \nL 8.015625 -13.1875 \nQ 14.5 -2 17.703125 9.0625 \nQ 20.90625 20.125 20.90625 31.390625 \nQ 20.90625 42.671875 17.703125 53.65625 \nQ 14.5 64.65625 8.015625 75.875 \nz\n\" id=\"DejaVuSans-41\"/>\n       </defs>\n       <use xlink:href=\"#DejaVuSans-40\"/>\n       <use x=\"39.013672\" xlink:href=\"#DejaVuSans-65\"/>\n       <use x=\"105.671875\" xlink:href=\"#DejaVuSans-100\"/>\n       <use x=\"169.148438\" xlink:href=\"#DejaVuSans-97\"/>\n       <use x=\"230.427734\" xlink:href=\"#DejaVuSans-66\"/>\n       <use x=\"299.03125\" xlink:href=\"#DejaVuSans-111\"/>\n       <use x=\"360.212891\" xlink:href=\"#DejaVuSans-111\"/>\n       <use x=\"421.394531\" xlink:href=\"#DejaVuSans-115\"/>\n       <use x=\"473.494141\" xlink:href=\"#DejaVuSans-116\"/>\n       <use x=\"512.703125\" xlink:href=\"#DejaVuSans-41\"/>\n      </g>\n     </g>\n    </g>\n    <g id=\"xtick_2\">\n     <g id=\"line2d_2\">\n      <g>\n       <use style=\"stroke:#000000;stroke-width:0.8;\" x=\"149.779375\" xlink:href=\"#m3005d8ffbb\" y=\"253.44\"/>\n      </g>\n     </g>\n     <g id=\"text_2\">\n      <!-- (CART) -->\n      <g transform=\"translate(152.53875 294.397812)rotate(-90)scale(0.1 -0.1)\">\n       <defs>\n        <path d=\"M 64.40625 67.28125 \nL 64.40625 56.890625 \nQ 59.421875 61.53125 53.78125 63.8125 \nQ 48.140625 66.109375 41.796875 66.109375 \nQ 29.296875 66.109375 22.65625 58.46875 \nQ 16.015625 50.828125 16.015625 36.375 \nQ 16.015625 21.96875 22.65625 14.328125 \nQ 29.296875 6.6875 41.796875 6.6875 \nQ 48.140625 6.6875 53.78125 8.984375 \nQ 59.421875 11.28125 64.40625 15.921875 \nL 64.40625 5.609375 \nQ 59.234375 2.09375 53.4375 0.328125 \nQ 47.65625 -1.421875 41.21875 -1.421875 \nQ 24.65625 -1.421875 15.125 8.703125 \nQ 5.609375 18.84375 5.609375 36.375 \nQ 5.609375 53.953125 15.125 64.078125 \nQ 24.65625 74.21875 41.21875 74.21875 \nQ 47.75 74.21875 53.53125 72.484375 \nQ 59.328125 70.75 64.40625 67.28125 \nz\n\" id=\"DejaVuSans-67\"/>\n        <path d=\"M 44.390625 34.1875 \nQ 47.5625 33.109375 50.5625 29.59375 \nQ 53.5625 26.078125 56.59375 19.921875 \nL 66.609375 0 \nL 56 0 \nL 46.6875 18.703125 \nQ 43.0625 26.03125 39.671875 28.421875 \nQ 36.28125 30.8125 30.421875 30.8125 \nL 19.671875 30.8125 \nL 19.671875 0 \nL 9.8125 0 \nL 9.8125 72.90625 \nL 32.078125 72.90625 \nQ 44.578125 72.90625 50.734375 67.671875 \nQ 56.890625 62.453125 56.890625 51.90625 \nQ 56.890625 45.015625 53.6875 40.46875 \nQ 50.484375 35.9375 44.390625 34.1875 \nz\nM 19.671875 64.796875 \nL 19.671875 38.921875 \nL 32.078125 38.921875 \nQ 39.203125 38.921875 42.84375 42.21875 \nQ 46.484375 45.515625 46.484375 51.90625 \nQ 46.484375 58.296875 42.84375 61.546875 \nQ 39.203125 64.796875 32.078125 64.796875 \nz\n\" id=\"DejaVuSans-82\"/>\n        <path d=\"M -0.296875 72.90625 \nL 61.375 72.90625 \nL 61.375 64.59375 \nL 35.5 64.59375 \nL 35.5 0 \nL 25.59375 0 \nL 25.59375 64.59375 \nL -0.296875 64.59375 \nz\n\" id=\"DejaVuSans-84\"/>\n       </defs>\n       <use xlink:href=\"#DejaVuSans-40\"/>\n       <use x=\"39.013672\" xlink:href=\"#DejaVuSans-67\"/>\n       <use x=\"108.837891\" xlink:href=\"#DejaVuSans-65\"/>\n       <use x=\"177.246094\" xlink:href=\"#DejaVuSans-82\"/>\n       <use x=\"239.478516\" xlink:href=\"#DejaVuSans-84\"/>\n       <use x=\"300.5625\" xlink:href=\"#DejaVuSans-41\"/>\n      </g>\n     </g>\n    </g>\n    <g id=\"xtick_3\">\n     <g id=\"line2d_3\">\n      <g>\n       <use style=\"stroke:#000000;stroke-width:0.8;\" x=\"183.259375\" xlink:href=\"#m3005d8ffbb\" y=\"253.44\"/>\n      </g>\n     </g>\n     <g id=\"text_3\">\n      <!-- (KNN) -->\n      <g transform=\"translate(186.01875 289.763437)rotate(-90)scale(0.1 -0.1)\">\n       <defs>\n        <path d=\"M 9.8125 72.90625 \nL 19.671875 72.90625 \nL 19.671875 42.09375 \nL 52.390625 72.90625 \nL 65.09375 72.90625 \nL 28.90625 38.921875 \nL 67.671875 0 \nL 54.6875 0 \nL 19.671875 35.109375 \nL 19.671875 0 \nL 9.8125 0 \nz\n\" id=\"DejaVuSans-75\"/>\n        <path d=\"M 9.8125 72.90625 \nL 23.09375 72.90625 \nL 55.421875 11.921875 \nL 55.421875 72.90625 \nL 64.984375 72.90625 \nL 64.984375 0 \nL 51.703125 0 \nL 19.390625 60.984375 \nL 19.390625 0 \nL 9.8125 0 \nz\n\" id=\"DejaVuSans-78\"/>\n       </defs>\n       <use xlink:href=\"#DejaVuSans-40\"/>\n       <use x=\"39.013672\" xlink:href=\"#DejaVuSans-75\"/>\n       <use x=\"104.589844\" xlink:href=\"#DejaVuSans-78\"/>\n       <use x=\"179.394531\" xlink:href=\"#DejaVuSans-78\"/>\n       <use x=\"254.199219\" xlink:href=\"#DejaVuSans-41\"/>\n      </g>\n     </g>\n    </g>\n    <g id=\"xtick_4\">\n     <g id=\"line2d_4\">\n      <g>\n       <use style=\"stroke:#000000;stroke-width:0.8;\" x=\"216.739375\" xlink:href=\"#m3005d8ffbb\" y=\"253.44\"/>\n      </g>\n     </g>\n     <g id=\"text_4\">\n      <!-- (Log. Reg.) -->\n      <g transform=\"translate(219.49875 314.641562)rotate(-90)scale(0.1 -0.1)\">\n       <defs>\n        <path d=\"M 9.8125 72.90625 \nL 19.671875 72.90625 \nL 19.671875 8.296875 \nL 55.171875 8.296875 \nL 55.171875 0 \nL 9.8125 0 \nz\n\" id=\"DejaVuSans-76\"/>\n        <path d=\"M 45.40625 27.984375 \nQ 45.40625 37.75 41.375 43.109375 \nQ 37.359375 48.484375 30.078125 48.484375 \nQ 22.859375 48.484375 18.828125 43.109375 \nQ 14.796875 37.75 14.796875 27.984375 \nQ 14.796875 18.265625 18.828125 12.890625 \nQ 22.859375 7.515625 30.078125 7.515625 \nQ 37.359375 7.515625 41.375 12.890625 \nQ 45.40625 18.265625 45.40625 27.984375 \nz\nM 54.390625 6.78125 \nQ 54.390625 -7.171875 48.1875 -13.984375 \nQ 42 -20.796875 29.203125 -20.796875 \nQ 24.46875 -20.796875 20.265625 -20.09375 \nQ 16.0625 -19.390625 12.109375 -17.921875 \nL 12.109375 -9.1875 \nQ 16.0625 -11.328125 19.921875 -12.34375 \nQ 23.78125 -13.375 27.78125 -13.375 \nQ 36.625 -13.375 41.015625 -8.765625 \nQ 45.40625 -4.15625 45.40625 5.171875 \nL 45.40625 9.625 \nQ 42.625 4.78125 38.28125 2.390625 \nQ 33.9375 0 27.875 0 \nQ 17.828125 0 11.671875 7.65625 \nQ 5.515625 15.328125 5.515625 27.984375 \nQ 5.515625 40.671875 11.671875 48.328125 \nQ 17.828125 56 27.875 56 \nQ 33.9375 56 38.28125 53.609375 \nQ 42.625 51.21875 45.40625 46.390625 \nL 45.40625 54.6875 \nL 54.390625 54.6875 \nz\n\" id=\"DejaVuSans-103\"/>\n        <path d=\"M 10.6875 12.40625 \nL 21 12.40625 \nL 21 0 \nL 10.6875 0 \nz\n\" id=\"DejaVuSans-46\"/>\n        <path id=\"DejaVuSans-32\"/>\n        <path d=\"M 56.203125 29.59375 \nL 56.203125 25.203125 \nL 14.890625 25.203125 \nQ 15.484375 15.921875 20.484375 11.0625 \nQ 25.484375 6.203125 34.421875 6.203125 \nQ 39.59375 6.203125 44.453125 7.46875 \nQ 49.3125 8.734375 54.109375 11.28125 \nL 54.109375 2.78125 \nQ 49.265625 0.734375 44.1875 -0.34375 \nQ 39.109375 -1.421875 33.890625 -1.421875 \nQ 20.796875 -1.421875 13.15625 6.1875 \nQ 5.515625 13.8125 5.515625 26.8125 \nQ 5.515625 40.234375 12.765625 48.109375 \nQ 20.015625 56 32.328125 56 \nQ 43.359375 56 49.78125 48.890625 \nQ 56.203125 41.796875 56.203125 29.59375 \nz\nM 47.21875 32.234375 \nQ 47.125 39.59375 43.09375 43.984375 \nQ 39.0625 48.390625 32.421875 48.390625 \nQ 24.90625 48.390625 20.390625 44.140625 \nQ 15.875 39.890625 15.1875 32.171875 \nz\n\" id=\"DejaVuSans-101\"/>\n       </defs>\n       <use xlink:href=\"#DejaVuSans-40\"/>\n       <use x=\"39.013672\" xlink:href=\"#DejaVuSans-76\"/>\n       <use x=\"92.976562\" xlink:href=\"#DejaVuSans-111\"/>\n       <use x=\"154.158203\" xlink:href=\"#DejaVuSans-103\"/>\n       <use x=\"217.634766\" xlink:href=\"#DejaVuSans-46\"/>\n       <use x=\"249.421875\" xlink:href=\"#DejaVuSans-32\"/>\n       <use x=\"281.208984\" xlink:href=\"#DejaVuSans-82\"/>\n       <use x=\"346.191406\" xlink:href=\"#DejaVuSans-101\"/>\n       <use x=\"407.714844\" xlink:href=\"#DejaVuSans-103\"/>\n       <use x=\"471.191406\" xlink:href=\"#DejaVuSans-46\"/>\n       <use x=\"502.978516\" xlink:href=\"#DejaVuSans-41\"/>\n      </g>\n     </g>\n    </g>\n    <g id=\"xtick_5\">\n     <g id=\"line2d_5\">\n      <g>\n       <use style=\"stroke:#000000;stroke-width:0.8;\" x=\"250.219375\" xlink:href=\"#m3005d8ffbb\" y=\"253.44\"/>\n      </g>\n     </g>\n     <g id=\"text_5\">\n      <!-- (RF) -->\n      <g transform=\"translate(252.97875 280.943125)rotate(-90)scale(0.1 -0.1)\">\n       <defs>\n        <path d=\"M 9.8125 72.90625 \nL 51.703125 72.90625 \nL 51.703125 64.59375 \nL 19.671875 64.59375 \nL 19.671875 43.109375 \nL 48.578125 43.109375 \nL 48.578125 34.8125 \nL 19.671875 34.8125 \nL 19.671875 0 \nL 9.8125 0 \nz\n\" id=\"DejaVuSans-70\"/>\n       </defs>\n       <use xlink:href=\"#DejaVuSans-40\"/>\n       <use x=\"39.013672\" xlink:href=\"#DejaVuSans-82\"/>\n       <use x=\"108.496094\" xlink:href=\"#DejaVuSans-70\"/>\n       <use x=\"166.015625\" xlink:href=\"#DejaVuSans-41\"/>\n      </g>\n     </g>\n    </g>\n    <g id=\"xtick_6\">\n     <g id=\"line2d_6\">\n      <g>\n       <use style=\"stroke:#000000;stroke-width:0.8;\" x=\"283.699375\" xlink:href=\"#m3005d8ffbb\" y=\"253.44\"/>\n      </g>\n     </g>\n     <g id=\"text_6\">\n      <!-- (SVM (Linear)) -->\n      <g transform=\"translate(286.45875 332.12125)rotate(-90)scale(0.1 -0.1)\">\n       <defs>\n        <path d=\"M 53.515625 70.515625 \nL 53.515625 60.890625 \nQ 47.90625 63.578125 42.921875 64.890625 \nQ 37.9375 66.21875 33.296875 66.21875 \nQ 25.25 66.21875 20.875 63.09375 \nQ 16.5 59.96875 16.5 54.203125 \nQ 16.5 49.359375 19.40625 46.890625 \nQ 22.3125 44.4375 30.421875 42.921875 \nL 36.375 41.703125 \nQ 47.40625 39.59375 52.65625 34.296875 \nQ 57.90625 29 57.90625 20.125 \nQ 57.90625 9.515625 50.796875 4.046875 \nQ 43.703125 -1.421875 29.984375 -1.421875 \nQ 24.8125 -1.421875 18.96875 -0.25 \nQ 13.140625 0.921875 6.890625 3.21875 \nL 6.890625 13.375 \nQ 12.890625 10.015625 18.65625 8.296875 \nQ 24.421875 6.59375 29.984375 6.59375 \nQ 38.421875 6.59375 43.015625 9.90625 \nQ 47.609375 13.234375 47.609375 19.390625 \nQ 47.609375 24.75 44.3125 27.78125 \nQ 41.015625 30.8125 33.5 32.328125 \nL 27.484375 33.5 \nQ 16.453125 35.6875 11.515625 40.375 \nQ 6.59375 45.0625 6.59375 53.421875 \nQ 6.59375 63.09375 13.40625 68.65625 \nQ 20.21875 74.21875 32.171875 74.21875 \nQ 37.3125 74.21875 42.625 73.28125 \nQ 47.953125 72.359375 53.515625 70.515625 \nz\n\" id=\"DejaVuSans-83\"/>\n        <path d=\"M 28.609375 0 \nL 0.78125 72.90625 \nL 11.078125 72.90625 \nL 34.1875 11.53125 \nL 57.328125 72.90625 \nL 67.578125 72.90625 \nL 39.796875 0 \nz\n\" id=\"DejaVuSans-86\"/>\n        <path d=\"M 9.8125 72.90625 \nL 24.515625 72.90625 \nL 43.109375 23.296875 \nL 61.8125 72.90625 \nL 76.515625 72.90625 \nL 76.515625 0 \nL 66.890625 0 \nL 66.890625 64.015625 \nL 48.09375 14.015625 \nL 38.1875 14.015625 \nL 19.390625 64.015625 \nL 19.390625 0 \nL 9.8125 0 \nz\n\" id=\"DejaVuSans-77\"/>\n        <path d=\"M 9.421875 54.6875 \nL 18.40625 54.6875 \nL 18.40625 0 \nL 9.421875 0 \nz\nM 9.421875 75.984375 \nL 18.40625 75.984375 \nL 18.40625 64.59375 \nL 9.421875 64.59375 \nz\n\" id=\"DejaVuSans-105\"/>\n        <path d=\"M 54.890625 33.015625 \nL 54.890625 0 \nL 45.90625 0 \nL 45.90625 32.71875 \nQ 45.90625 40.484375 42.875 44.328125 \nQ 39.84375 48.1875 33.796875 48.1875 \nQ 26.515625 48.1875 22.3125 43.546875 \nQ 18.109375 38.921875 18.109375 30.90625 \nL 18.109375 0 \nL 9.078125 0 \nL 9.078125 54.6875 \nL 18.109375 54.6875 \nL 18.109375 46.1875 \nQ 21.34375 51.125 25.703125 53.5625 \nQ 30.078125 56 35.796875 56 \nQ 45.21875 56 50.046875 50.171875 \nQ 54.890625 44.34375 54.890625 33.015625 \nz\n\" id=\"DejaVuSans-110\"/>\n        <path d=\"M 41.109375 46.296875 \nQ 39.59375 47.171875 37.8125 47.578125 \nQ 36.03125 48 33.890625 48 \nQ 26.265625 48 22.1875 43.046875 \nQ 18.109375 38.09375 18.109375 28.8125 \nL 18.109375 0 \nL 9.078125 0 \nL 9.078125 54.6875 \nL 18.109375 54.6875 \nL 18.109375 46.1875 \nQ 20.953125 51.171875 25.484375 53.578125 \nQ 30.03125 56 36.53125 56 \nQ 37.453125 56 38.578125 55.875 \nQ 39.703125 55.765625 41.0625 55.515625 \nz\n\" id=\"DejaVuSans-114\"/>\n       </defs>\n       <use xlink:href=\"#DejaVuSans-40\"/>\n       <use x=\"39.013672\" xlink:href=\"#DejaVuSans-83\"/>\n       <use x=\"102.490234\" xlink:href=\"#DejaVuSans-86\"/>\n       <use x=\"170.898438\" xlink:href=\"#DejaVuSans-77\"/>\n       <use x=\"257.177734\" xlink:href=\"#DejaVuSans-32\"/>\n       <use x=\"288.964844\" xlink:href=\"#DejaVuSans-40\"/>\n       <use x=\"327.978516\" xlink:href=\"#DejaVuSans-76\"/>\n       <use x=\"383.691406\" xlink:href=\"#DejaVuSans-105\"/>\n       <use x=\"411.474609\" xlink:href=\"#DejaVuSans-110\"/>\n       <use x=\"474.853516\" xlink:href=\"#DejaVuSans-101\"/>\n       <use x=\"536.376953\" xlink:href=\"#DejaVuSans-97\"/>\n       <use x=\"597.65625\" xlink:href=\"#DejaVuSans-114\"/>\n       <use x=\"638.769531\" xlink:href=\"#DejaVuSans-41\"/>\n       <use x=\"677.783203\" xlink:href=\"#DejaVuSans-41\"/>\n      </g>\n     </g>\n    </g>\n    <g id=\"xtick_7\">\n     <g id=\"line2d_7\">\n      <g>\n       <use style=\"stroke:#000000;stroke-width:0.8;\" x=\"317.179375\" xlink:href=\"#m3005d8ffbb\" y=\"253.44\"/>\n      </g>\n     </g>\n     <g id=\"text_7\">\n      <!-- (SVM (Poly)) -->\n      <g transform=\"translate(319.93875 321.524375)rotate(-90)scale(0.1 -0.1)\">\n       <defs>\n        <path d=\"M 19.671875 64.796875 \nL 19.671875 37.40625 \nL 32.078125 37.40625 \nQ 38.96875 37.40625 42.71875 40.96875 \nQ 46.484375 44.53125 46.484375 51.125 \nQ 46.484375 57.671875 42.71875 61.234375 \nQ 38.96875 64.796875 32.078125 64.796875 \nz\nM 9.8125 72.90625 \nL 32.078125 72.90625 \nQ 44.34375 72.90625 50.609375 67.359375 \nQ 56.890625 61.8125 56.890625 51.125 \nQ 56.890625 40.328125 50.609375 34.8125 \nQ 44.34375 29.296875 32.078125 29.296875 \nL 19.671875 29.296875 \nL 19.671875 0 \nL 9.8125 0 \nz\n\" id=\"DejaVuSans-80\"/>\n        <path d=\"M 9.421875 75.984375 \nL 18.40625 75.984375 \nL 18.40625 0 \nL 9.421875 0 \nz\n\" id=\"DejaVuSans-108\"/>\n        <path d=\"M 32.171875 -5.078125 \nQ 28.375 -14.84375 24.75 -17.8125 \nQ 21.140625 -20.796875 15.09375 -20.796875 \nL 7.90625 -20.796875 \nL 7.90625 -13.28125 \nL 13.1875 -13.28125 \nQ 16.890625 -13.28125 18.9375 -11.515625 \nQ 21 -9.765625 23.484375 -3.21875 \nL 25.09375 0.875 \nL 2.984375 54.6875 \nL 12.5 54.6875 \nL 29.59375 11.921875 \nL 46.6875 54.6875 \nL 56.203125 54.6875 \nz\n\" id=\"DejaVuSans-121\"/>\n       </defs>\n       <use xlink:href=\"#DejaVuSans-40\"/>\n       <use x=\"39.013672\" xlink:href=\"#DejaVuSans-83\"/>\n       <use x=\"102.490234\" xlink:href=\"#DejaVuSans-86\"/>\n       <use x=\"170.898438\" xlink:href=\"#DejaVuSans-77\"/>\n       <use x=\"257.177734\" xlink:href=\"#DejaVuSans-32\"/>\n       <use x=\"288.964844\" xlink:href=\"#DejaVuSans-40\"/>\n       <use x=\"327.978516\" xlink:href=\"#DejaVuSans-80\"/>\n       <use x=\"384.65625\" xlink:href=\"#DejaVuSans-111\"/>\n       <use x=\"445.837891\" xlink:href=\"#DejaVuSans-108\"/>\n       <use x=\"473.621094\" xlink:href=\"#DejaVuSans-121\"/>\n       <use x=\"532.800781\" xlink:href=\"#DejaVuSans-41\"/>\n       <use x=\"571.814453\" xlink:href=\"#DejaVuSans-41\"/>\n      </g>\n     </g>\n    </g>\n    <g id=\"xtick_8\">\n     <g id=\"line2d_8\">\n      <g>\n       <use style=\"stroke:#000000;stroke-width:0.8;\" x=\"350.659375\" xlink:href=\"#m3005d8ffbb\" y=\"253.44\"/>\n      </g>\n     </g>\n     <g id=\"text_8\">\n      <!-- (SVM (RBF)) -->\n      <g transform=\"translate(353.41875 320.6025)rotate(-90)scale(0.1 -0.1)\">\n       <use xlink:href=\"#DejaVuSans-40\"/>\n       <use x=\"39.013672\" xlink:href=\"#DejaVuSans-83\"/>\n       <use x=\"102.490234\" xlink:href=\"#DejaVuSans-86\"/>\n       <use x=\"170.898438\" xlink:href=\"#DejaVuSans-77\"/>\n       <use x=\"257.177734\" xlink:href=\"#DejaVuSans-32\"/>\n       <use x=\"288.964844\" xlink:href=\"#DejaVuSans-40\"/>\n       <use x=\"327.978516\" xlink:href=\"#DejaVuSans-82\"/>\n       <use x=\"397.460938\" xlink:href=\"#DejaVuSans-66\"/>\n       <use x=\"466.064453\" xlink:href=\"#DejaVuSans-70\"/>\n       <use x=\"523.583984\" xlink:href=\"#DejaVuSans-41\"/>\n       <use x=\"562.597656\" xlink:href=\"#DejaVuSans-41\"/>\n      </g>\n     </g>\n    </g>\n    <g id=\"text_9\">\n     <!-- model -->\n     <g transform=\"translate(217.909844 343.719687)scale(0.1 -0.1)\">\n      <defs>\n       <path d=\"M 52 44.1875 \nQ 55.375 50.25 60.0625 53.125 \nQ 64.75 56 71.09375 56 \nQ 79.640625 56 84.28125 50.015625 \nQ 88.921875 44.046875 88.921875 33.015625 \nL 88.921875 0 \nL 79.890625 0 \nL 79.890625 32.71875 \nQ 79.890625 40.578125 77.09375 44.375 \nQ 74.3125 48.1875 68.609375 48.1875 \nQ 61.625 48.1875 57.5625 43.546875 \nQ 53.515625 38.921875 53.515625 30.90625 \nL 53.515625 0 \nL 44.484375 0 \nL 44.484375 32.71875 \nQ 44.484375 40.625 41.703125 44.40625 \nQ 38.921875 48.1875 33.109375 48.1875 \nQ 26.21875 48.1875 22.15625 43.53125 \nQ 18.109375 38.875 18.109375 30.90625 \nL 18.109375 0 \nL 9.078125 0 \nL 9.078125 54.6875 \nL 18.109375 54.6875 \nL 18.109375 46.1875 \nQ 21.1875 51.21875 25.484375 53.609375 \nQ 29.78125 56 35.6875 56 \nQ 41.65625 56 45.828125 52.96875 \nQ 50 49.953125 52 44.1875 \nz\n\" id=\"DejaVuSans-109\"/>\n      </defs>\n      <use xlink:href=\"#DejaVuSans-109\"/>\n      <use x=\"97.412109\" xlink:href=\"#DejaVuSans-111\"/>\n      <use x=\"158.59375\" xlink:href=\"#DejaVuSans-100\"/>\n      <use x=\"222.070312\" xlink:href=\"#DejaVuSans-101\"/>\n      <use x=\"283.59375\" xlink:href=\"#DejaVuSans-108\"/>\n     </g>\n    </g>\n   </g>\n   <g id=\"matplotlib.axis_2\">\n    <g id=\"ytick_1\">\n     <g id=\"line2d_9\">\n      <defs>\n       <path d=\"M 0 0 \nL -3.5 0 \n\" id=\"m5d6e796405\" style=\"stroke:#000000;stroke-width:0.8;\"/>\n      </defs>\n      <g>\n       <use style=\"stroke:#000000;stroke-width:0.8;\" x=\"99.559375\" xlink:href=\"#m5d6e796405\" y=\"49.59\"/>\n      </g>\n     </g>\n     <g id=\"text_10\">\n      <!-- (AdaBoost) -->\n      <g transform=\"translate(37.385937 53.389219)scale(0.1 -0.1)\">\n       <use xlink:href=\"#DejaVuSans-40\"/>\n       <use x=\"39.013672\" xlink:href=\"#DejaVuSans-65\"/>\n       <use x=\"105.671875\" xlink:href=\"#DejaVuSans-100\"/>\n       <use x=\"169.148438\" xlink:href=\"#DejaVuSans-97\"/>\n       <use x=\"230.427734\" xlink:href=\"#DejaVuSans-66\"/>\n       <use x=\"299.03125\" xlink:href=\"#DejaVuSans-111\"/>\n       <use x=\"360.212891\" xlink:href=\"#DejaVuSans-111\"/>\n       <use x=\"421.394531\" xlink:href=\"#DejaVuSans-115\"/>\n       <use x=\"473.494141\" xlink:href=\"#DejaVuSans-116\"/>\n       <use x=\"512.703125\" xlink:href=\"#DejaVuSans-41\"/>\n      </g>\n     </g>\n    </g>\n    <g id=\"ytick_2\">\n     <g id=\"line2d_10\">\n      <g>\n       <use style=\"stroke:#000000;stroke-width:0.8;\" x=\"99.559375\" xlink:href=\"#m5d6e796405\" y=\"76.77\"/>\n      </g>\n     </g>\n     <g id=\"text_11\">\n      <!-- (CART) -->\n      <g transform=\"translate(58.601562 80.569219)scale(0.1 -0.1)\">\n       <use xlink:href=\"#DejaVuSans-40\"/>\n       <use x=\"39.013672\" xlink:href=\"#DejaVuSans-67\"/>\n       <use x=\"108.837891\" xlink:href=\"#DejaVuSans-65\"/>\n       <use x=\"177.246094\" xlink:href=\"#DejaVuSans-82\"/>\n       <use x=\"239.478516\" xlink:href=\"#DejaVuSans-84\"/>\n       <use x=\"300.5625\" xlink:href=\"#DejaVuSans-41\"/>\n      </g>\n     </g>\n    </g>\n    <g id=\"ytick_3\">\n     <g id=\"line2d_11\">\n      <g>\n       <use style=\"stroke:#000000;stroke-width:0.8;\" x=\"99.559375\" xlink:href=\"#m5d6e796405\" y=\"103.95\"/>\n      </g>\n     </g>\n     <g id=\"text_12\">\n      <!-- (KNN) -->\n      <g transform=\"translate(63.235938 107.749219)scale(0.1 -0.1)\">\n       <use xlink:href=\"#DejaVuSans-40\"/>\n       <use x=\"39.013672\" xlink:href=\"#DejaVuSans-75\"/>\n       <use x=\"104.589844\" xlink:href=\"#DejaVuSans-78\"/>\n       <use x=\"179.394531\" xlink:href=\"#DejaVuSans-78\"/>\n       <use x=\"254.199219\" xlink:href=\"#DejaVuSans-41\"/>\n      </g>\n     </g>\n    </g>\n    <g id=\"ytick_4\">\n     <g id=\"line2d_12\">\n      <g>\n       <use style=\"stroke:#000000;stroke-width:0.8;\" x=\"99.559375\" xlink:href=\"#m5d6e796405\" y=\"131.13\"/>\n      </g>\n     </g>\n     <g id=\"text_13\">\n      <!-- (Log. Reg.) -->\n      <g transform=\"translate(38.357813 134.929219)scale(0.1 -0.1)\">\n       <use xlink:href=\"#DejaVuSans-40\"/>\n       <use x=\"39.013672\" xlink:href=\"#DejaVuSans-76\"/>\n       <use x=\"92.976562\" xlink:href=\"#DejaVuSans-111\"/>\n       <use x=\"154.158203\" xlink:href=\"#DejaVuSans-103\"/>\n       <use x=\"217.634766\" xlink:href=\"#DejaVuSans-46\"/>\n       <use x=\"249.421875\" xlink:href=\"#DejaVuSans-32\"/>\n       <use x=\"281.208984\" xlink:href=\"#DejaVuSans-82\"/>\n       <use x=\"346.191406\" xlink:href=\"#DejaVuSans-101\"/>\n       <use x=\"407.714844\" xlink:href=\"#DejaVuSans-103\"/>\n       <use x=\"471.191406\" xlink:href=\"#DejaVuSans-46\"/>\n       <use x=\"502.978516\" xlink:href=\"#DejaVuSans-41\"/>\n      </g>\n     </g>\n    </g>\n    <g id=\"ytick_5\">\n     <g id=\"line2d_13\">\n      <g>\n       <use style=\"stroke:#000000;stroke-width:0.8;\" x=\"99.559375\" xlink:href=\"#m5d6e796405\" y=\"158.31\"/>\n      </g>\n     </g>\n     <g id=\"text_14\">\n      <!-- (RF) -->\n      <g transform=\"translate(72.05625 162.109219)scale(0.1 -0.1)\">\n       <use xlink:href=\"#DejaVuSans-40\"/>\n       <use x=\"39.013672\" xlink:href=\"#DejaVuSans-82\"/>\n       <use x=\"108.496094\" xlink:href=\"#DejaVuSans-70\"/>\n       <use x=\"166.015625\" xlink:href=\"#DejaVuSans-41\"/>\n      </g>\n     </g>\n    </g>\n    <g id=\"ytick_6\">\n     <g id=\"line2d_14\">\n      <g>\n       <use style=\"stroke:#000000;stroke-width:0.8;\" x=\"99.559375\" xlink:href=\"#m5d6e796405\" y=\"185.49\"/>\n      </g>\n     </g>\n     <g id=\"text_15\">\n      <!-- (SVM (Linear)) -->\n      <g transform=\"translate(20.878125 189.289219)scale(0.1 -0.1)\">\n       <use xlink:href=\"#DejaVuSans-40\"/>\n       <use x=\"39.013672\" xlink:href=\"#DejaVuSans-83\"/>\n       <use x=\"102.490234\" xlink:href=\"#DejaVuSans-86\"/>\n       <use x=\"170.898438\" xlink:href=\"#DejaVuSans-77\"/>\n       <use x=\"257.177734\" xlink:href=\"#DejaVuSans-32\"/>\n       <use x=\"288.964844\" xlink:href=\"#DejaVuSans-40\"/>\n       <use x=\"327.978516\" xlink:href=\"#DejaVuSans-76\"/>\n       <use x=\"383.691406\" xlink:href=\"#DejaVuSans-105\"/>\n       <use x=\"411.474609\" xlink:href=\"#DejaVuSans-110\"/>\n       <use x=\"474.853516\" xlink:href=\"#DejaVuSans-101\"/>\n       <use x=\"536.376953\" xlink:href=\"#DejaVuSans-97\"/>\n       <use x=\"597.65625\" xlink:href=\"#DejaVuSans-114\"/>\n       <use x=\"638.769531\" xlink:href=\"#DejaVuSans-41\"/>\n       <use x=\"677.783203\" xlink:href=\"#DejaVuSans-41\"/>\n      </g>\n     </g>\n    </g>\n    <g id=\"ytick_7\">\n     <g id=\"line2d_15\">\n      <g>\n       <use style=\"stroke:#000000;stroke-width:0.8;\" x=\"99.559375\" xlink:href=\"#m5d6e796405\" y=\"212.67\"/>\n      </g>\n     </g>\n     <g id=\"text_16\">\n      <!-- (SVM (Poly)) -->\n      <g transform=\"translate(31.475 216.469219)scale(0.1 -0.1)\">\n       <use xlink:href=\"#DejaVuSans-40\"/>\n       <use x=\"39.013672\" xlink:href=\"#DejaVuSans-83\"/>\n       <use x=\"102.490234\" xlink:href=\"#DejaVuSans-86\"/>\n       <use x=\"170.898438\" xlink:href=\"#DejaVuSans-77\"/>\n       <use x=\"257.177734\" xlink:href=\"#DejaVuSans-32\"/>\n       <use x=\"288.964844\" xlink:href=\"#DejaVuSans-40\"/>\n       <use x=\"327.978516\" xlink:href=\"#DejaVuSans-80\"/>\n       <use x=\"384.65625\" xlink:href=\"#DejaVuSans-111\"/>\n       <use x=\"445.837891\" xlink:href=\"#DejaVuSans-108\"/>\n       <use x=\"473.621094\" xlink:href=\"#DejaVuSans-121\"/>\n       <use x=\"532.800781\" xlink:href=\"#DejaVuSans-41\"/>\n       <use x=\"571.814453\" xlink:href=\"#DejaVuSans-41\"/>\n      </g>\n     </g>\n    </g>\n    <g id=\"ytick_8\">\n     <g id=\"line2d_16\">\n      <g>\n       <use style=\"stroke:#000000;stroke-width:0.8;\" x=\"99.559375\" xlink:href=\"#m5d6e796405\" y=\"239.85\"/>\n      </g>\n     </g>\n     <g id=\"text_17\">\n      <!-- (SVM (RBF)) -->\n      <g transform=\"translate(32.396875 243.649219)scale(0.1 -0.1)\">\n       <use xlink:href=\"#DejaVuSans-40\"/>\n       <use x=\"39.013672\" xlink:href=\"#DejaVuSans-83\"/>\n       <use x=\"102.490234\" xlink:href=\"#DejaVuSans-86\"/>\n       <use x=\"170.898438\" xlink:href=\"#DejaVuSans-77\"/>\n       <use x=\"257.177734\" xlink:href=\"#DejaVuSans-32\"/>\n       <use x=\"288.964844\" xlink:href=\"#DejaVuSans-40\"/>\n       <use x=\"327.978516\" xlink:href=\"#DejaVuSans-82\"/>\n       <use x=\"397.460938\" xlink:href=\"#DejaVuSans-66\"/>\n       <use x=\"466.064453\" xlink:href=\"#DejaVuSans-70\"/>\n       <use x=\"523.583984\" xlink:href=\"#DejaVuSans-41\"/>\n       <use x=\"562.597656\" xlink:href=\"#DejaVuSans-41\"/>\n      </g>\n     </g>\n    </g>\n    <g id=\"text_18\">\n     <!-- model -->\n     <g transform=\"translate(14.798437 160.289531)rotate(-90)scale(0.1 -0.1)\">\n      <use xlink:href=\"#DejaVuSans-109\"/>\n      <use x=\"97.412109\" xlink:href=\"#DejaVuSans-111\"/>\n      <use x=\"158.59375\" xlink:href=\"#DejaVuSans-100\"/>\n      <use x=\"222.070312\" xlink:href=\"#DejaVuSans-101\"/>\n      <use x=\"283.59375\" xlink:href=\"#DejaVuSans-108\"/>\n     </g>\n    </g>\n   </g>\n  </g>\n  <g id=\"axes_2\">\n   <g id=\"patch_3\">\n    <path clip-path=\"url(#p11d5b4c51b)\" d=\"M 384.139375 253.44 \nL 384.139375 252.590625 \nL 384.139375 36.849375 \nL 384.139375 36 \nL 395.011375 36 \nL 395.011375 36.849375 \nL 395.011375 252.590625 \nL 395.011375 253.44 \nz\n\" style=\"fill:#ffffff;stroke:#ffffff;stroke-linejoin:miter;stroke-width:0.01;\"/>\n   </g>\n   <image height=\"217\" id=\"image1bf7d60773\" transform=\"scale(1 -1)translate(0 -217)\" width=\"11\" x=\"384\" xlink:href=\"data:image/png;base64,\niVBORw0KGgoAAAANSUhEUgAAAAsAAADZCAYAAAD2WsoCAAABWElEQVR4nNXayQ1DMQxDQctWmkj/fSYteA4E5JwJgnpafrbqz/e3Ll9dVbfa1bv2vRidQVwr5iziIzRyMbbQIGfifLbQiGVGZ8hM7Q6O6AxnG/4p7ZYCV+zWUQepwGupzsYQGjb819LobFCM5KZAjFyB2MEhwx+buphzDl0PWVgRE40Tcx5S4L7+eOA0SBzbbhIPoSExcjSOxMB2i/hJGvdqKzB3N/oHmZFzikaR873x6hNzxswihq5YjFMUIzZI5CziA2Nnzpj5WpuMseHYdQ1BB0uIMXI0DN21Fp2xwFQMcl6x2dgtMYzGg85wobvgCWQxljhbjGCBKTF922Mx4GNNsikklu+f5c1al/yQEcxs6MT55Nr9IDqjQTFG0CjabuMcE9uto+G/f9KPyWwxhtCYMUhUYC5zzLlKtrtfpBE7XzIbxnnGbKzzmRCD/mWRvHVC48UCYVP+AcgtI1uRO0cAAAAASUVORK5CYII=\" y=\"-35\"/>\n   <g id=\"matplotlib.axis_3\"/>\n   <g id=\"matplotlib.axis_4\">\n    <g id=\"ytick_9\">\n     <g id=\"line2d_17\">\n      <defs>\n       <path d=\"M 0 0 \nL 3.5 0 \n\" id=\"m65905cc2a4\" style=\"stroke:#000000;stroke-width:0.8;\"/>\n      </defs>\n      <g>\n       <use style=\"stroke:#000000;stroke-width:0.8;\" x=\"395.011375\" xlink:href=\"#m65905cc2a4\" y=\"227.443064\"/>\n      </g>\n     </g>\n     <g id=\"text_19\">\n      <!-- 0.825 -->\n      <g transform=\"translate(402.011375 231.242283)scale(0.1 -0.1)\">\n       <defs>\n        <path d=\"M 31.78125 66.40625 \nQ 24.171875 66.40625 20.328125 58.90625 \nQ 16.5 51.421875 16.5 36.375 \nQ 16.5 21.390625 20.328125 13.890625 \nQ 24.171875 6.390625 31.78125 6.390625 \nQ 39.453125 6.390625 43.28125 13.890625 \nQ 47.125 21.390625 47.125 36.375 \nQ 47.125 51.421875 43.28125 58.90625 \nQ 39.453125 66.40625 31.78125 66.40625 \nz\nM 31.78125 74.21875 \nQ 44.046875 74.21875 50.515625 64.515625 \nQ 56.984375 54.828125 56.984375 36.375 \nQ 56.984375 17.96875 50.515625 8.265625 \nQ 44.046875 -1.421875 31.78125 -1.421875 \nQ 19.53125 -1.421875 13.0625 8.265625 \nQ 6.59375 17.96875 6.59375 36.375 \nQ 6.59375 54.828125 13.0625 64.515625 \nQ 19.53125 74.21875 31.78125 74.21875 \nz\n\" id=\"DejaVuSans-48\"/>\n        <path d=\"M 31.78125 34.625 \nQ 24.75 34.625 20.71875 30.859375 \nQ 16.703125 27.09375 16.703125 20.515625 \nQ 16.703125 13.921875 20.71875 10.15625 \nQ 24.75 6.390625 31.78125 6.390625 \nQ 38.8125 6.390625 42.859375 10.171875 \nQ 46.921875 13.96875 46.921875 20.515625 \nQ 46.921875 27.09375 42.890625 30.859375 \nQ 38.875 34.625 31.78125 34.625 \nz\nM 21.921875 38.8125 \nQ 15.578125 40.375 12.03125 44.71875 \nQ 8.5 49.078125 8.5 55.328125 \nQ 8.5 64.0625 14.71875 69.140625 \nQ 20.953125 74.21875 31.78125 74.21875 \nQ 42.671875 74.21875 48.875 69.140625 \nQ 55.078125 64.0625 55.078125 55.328125 \nQ 55.078125 49.078125 51.53125 44.71875 \nQ 48 40.375 41.703125 38.8125 \nQ 48.828125 37.15625 52.796875 32.3125 \nQ 56.78125 27.484375 56.78125 20.515625 \nQ 56.78125 9.90625 50.3125 4.234375 \nQ 43.84375 -1.421875 31.78125 -1.421875 \nQ 19.734375 -1.421875 13.25 4.234375 \nQ 6.78125 9.90625 6.78125 20.515625 \nQ 6.78125 27.484375 10.78125 32.3125 \nQ 14.796875 37.15625 21.921875 38.8125 \nz\nM 18.3125 54.390625 \nQ 18.3125 48.734375 21.84375 45.5625 \nQ 25.390625 42.390625 31.78125 42.390625 \nQ 38.140625 42.390625 41.71875 45.5625 \nQ 45.3125 48.734375 45.3125 54.390625 \nQ 45.3125 60.0625 41.71875 63.234375 \nQ 38.140625 66.40625 31.78125 66.40625 \nQ 25.390625 66.40625 21.84375 63.234375 \nQ 18.3125 60.0625 18.3125 54.390625 \nz\n\" id=\"DejaVuSans-56\"/>\n        <path d=\"M 19.1875 8.296875 \nL 53.609375 8.296875 \nL 53.609375 0 \nL 7.328125 0 \nL 7.328125 8.296875 \nQ 12.9375 14.109375 22.625 23.890625 \nQ 32.328125 33.6875 34.8125 36.53125 \nQ 39.546875 41.84375 41.421875 45.53125 \nQ 43.3125 49.21875 43.3125 52.78125 \nQ 43.3125 58.59375 39.234375 62.25 \nQ 35.15625 65.921875 28.609375 65.921875 \nQ 23.96875 65.921875 18.8125 64.3125 \nQ 13.671875 62.703125 7.8125 59.421875 \nL 7.8125 69.390625 \nQ 13.765625 71.78125 18.9375 73 \nQ 24.125 74.21875 28.421875 74.21875 \nQ 39.75 74.21875 46.484375 68.546875 \nQ 53.21875 62.890625 53.21875 53.421875 \nQ 53.21875 48.921875 51.53125 44.890625 \nQ 49.859375 40.875 45.40625 35.40625 \nQ 44.1875 33.984375 37.640625 27.21875 \nQ 31.109375 20.453125 19.1875 8.296875 \nz\n\" id=\"DejaVuSans-50\"/>\n        <path d=\"M 10.796875 72.90625 \nL 49.515625 72.90625 \nL 49.515625 64.59375 \nL 19.828125 64.59375 \nL 19.828125 46.734375 \nQ 21.96875 47.46875 24.109375 47.828125 \nQ 26.265625 48.1875 28.421875 48.1875 \nQ 40.625 48.1875 47.75 41.5 \nQ 54.890625 34.8125 54.890625 23.390625 \nQ 54.890625 11.625 47.5625 5.09375 \nQ 40.234375 -1.421875 26.90625 -1.421875 \nQ 22.3125 -1.421875 17.546875 -0.640625 \nQ 12.796875 0.140625 7.71875 1.703125 \nL 7.71875 11.625 \nQ 12.109375 9.234375 16.796875 8.0625 \nQ 21.484375 6.890625 26.703125 6.890625 \nQ 35.15625 6.890625 40.078125 11.328125 \nQ 45.015625 15.765625 45.015625 23.390625 \nQ 45.015625 31 40.078125 35.4375 \nQ 35.15625 39.890625 26.703125 39.890625 \nQ 22.75 39.890625 18.8125 39.015625 \nQ 14.890625 38.140625 10.796875 36.28125 \nz\n\" id=\"DejaVuSans-53\"/>\n       </defs>\n       <use xlink:href=\"#DejaVuSans-48\"/>\n       <use x=\"63.623047\" xlink:href=\"#DejaVuSans-46\"/>\n       <use x=\"95.410156\" xlink:href=\"#DejaVuSans-56\"/>\n       <use x=\"159.033203\" xlink:href=\"#DejaVuSans-50\"/>\n       <use x=\"222.65625\" xlink:href=\"#DejaVuSans-53\"/>\n      </g>\n     </g>\n    </g>\n    <g id=\"ytick_10\">\n     <g id=\"line2d_18\">\n      <g>\n       <use style=\"stroke:#000000;stroke-width:0.8;\" x=\"395.011375\" xlink:href=\"#m65905cc2a4\" y=\"200.094055\"/>\n      </g>\n     </g>\n     <g id=\"text_20\">\n      <!-- 0.850 -->\n      <g transform=\"translate(402.011375 203.893274)scale(0.1 -0.1)\">\n       <use xlink:href=\"#DejaVuSans-48\"/>\n       <use x=\"63.623047\" xlink:href=\"#DejaVuSans-46\"/>\n       <use x=\"95.410156\" xlink:href=\"#DejaVuSans-56\"/>\n       <use x=\"159.033203\" xlink:href=\"#DejaVuSans-53\"/>\n       <use x=\"222.65625\" xlink:href=\"#DejaVuSans-48\"/>\n      </g>\n     </g>\n    </g>\n    <g id=\"ytick_11\">\n     <g id=\"line2d_19\">\n      <g>\n       <use style=\"stroke:#000000;stroke-width:0.8;\" x=\"395.011375\" xlink:href=\"#m65905cc2a4\" y=\"172.745046\"/>\n      </g>\n     </g>\n     <g id=\"text_21\">\n      <!-- 0.875 -->\n      <g transform=\"translate(402.011375 176.544265)scale(0.1 -0.1)\">\n       <defs>\n        <path d=\"M 8.203125 72.90625 \nL 55.078125 72.90625 \nL 55.078125 68.703125 \nL 28.609375 0 \nL 18.3125 0 \nL 43.21875 64.59375 \nL 8.203125 64.59375 \nz\n\" id=\"DejaVuSans-55\"/>\n       </defs>\n       <use xlink:href=\"#DejaVuSans-48\"/>\n       <use x=\"63.623047\" xlink:href=\"#DejaVuSans-46\"/>\n       <use x=\"95.410156\" xlink:href=\"#DejaVuSans-56\"/>\n       <use x=\"159.033203\" xlink:href=\"#DejaVuSans-55\"/>\n       <use x=\"222.65625\" xlink:href=\"#DejaVuSans-53\"/>\n      </g>\n     </g>\n    </g>\n    <g id=\"ytick_12\">\n     <g id=\"line2d_20\">\n      <g>\n       <use style=\"stroke:#000000;stroke-width:0.8;\" x=\"395.011375\" xlink:href=\"#m65905cc2a4\" y=\"145.396037\"/>\n      </g>\n     </g>\n     <g id=\"text_22\">\n      <!-- 0.900 -->\n      <g transform=\"translate(402.011375 149.195255)scale(0.1 -0.1)\">\n       <defs>\n        <path d=\"M 10.984375 1.515625 \nL 10.984375 10.5 \nQ 14.703125 8.734375 18.5 7.8125 \nQ 22.3125 6.890625 25.984375 6.890625 \nQ 35.75 6.890625 40.890625 13.453125 \nQ 46.046875 20.015625 46.78125 33.40625 \nQ 43.953125 29.203125 39.59375 26.953125 \nQ 35.25 24.703125 29.984375 24.703125 \nQ 19.046875 24.703125 12.671875 31.3125 \nQ 6.296875 37.9375 6.296875 49.421875 \nQ 6.296875 60.640625 12.9375 67.421875 \nQ 19.578125 74.21875 30.609375 74.21875 \nQ 43.265625 74.21875 49.921875 64.515625 \nQ 56.59375 54.828125 56.59375 36.375 \nQ 56.59375 19.140625 48.40625 8.859375 \nQ 40.234375 -1.421875 26.421875 -1.421875 \nQ 22.703125 -1.421875 18.890625 -0.6875 \nQ 15.09375 0.046875 10.984375 1.515625 \nz\nM 30.609375 32.421875 \nQ 37.25 32.421875 41.125 36.953125 \nQ 45.015625 41.5 45.015625 49.421875 \nQ 45.015625 57.28125 41.125 61.84375 \nQ 37.25 66.40625 30.609375 66.40625 \nQ 23.96875 66.40625 20.09375 61.84375 \nQ 16.21875 57.28125 16.21875 49.421875 \nQ 16.21875 41.5 20.09375 36.953125 \nQ 23.96875 32.421875 30.609375 32.421875 \nz\n\" id=\"DejaVuSans-57\"/>\n       </defs>\n       <use xlink:href=\"#DejaVuSans-48\"/>\n       <use x=\"63.623047\" xlink:href=\"#DejaVuSans-46\"/>\n       <use x=\"95.410156\" xlink:href=\"#DejaVuSans-57\"/>\n       <use x=\"159.033203\" xlink:href=\"#DejaVuSans-48\"/>\n       <use x=\"222.65625\" xlink:href=\"#DejaVuSans-48\"/>\n      </g>\n     </g>\n    </g>\n    <g id=\"ytick_13\">\n     <g id=\"line2d_21\">\n      <g>\n       <use style=\"stroke:#000000;stroke-width:0.8;\" x=\"395.011375\" xlink:href=\"#m65905cc2a4\" y=\"118.047028\"/>\n      </g>\n     </g>\n     <g id=\"text_23\">\n      <!-- 0.925 -->\n      <g transform=\"translate(402.011375 121.846246)scale(0.1 -0.1)\">\n       <use xlink:href=\"#DejaVuSans-48\"/>\n       <use x=\"63.623047\" xlink:href=\"#DejaVuSans-46\"/>\n       <use x=\"95.410156\" xlink:href=\"#DejaVuSans-57\"/>\n       <use x=\"159.033203\" xlink:href=\"#DejaVuSans-50\"/>\n       <use x=\"222.65625\" xlink:href=\"#DejaVuSans-53\"/>\n      </g>\n     </g>\n    </g>\n    <g id=\"ytick_14\">\n     <g id=\"line2d_22\">\n      <g>\n       <use style=\"stroke:#000000;stroke-width:0.8;\" x=\"395.011375\" xlink:href=\"#m65905cc2a4\" y=\"90.698018\"/>\n      </g>\n     </g>\n     <g id=\"text_24\">\n      <!-- 0.950 -->\n      <g transform=\"translate(402.011375 94.497237)scale(0.1 -0.1)\">\n       <use xlink:href=\"#DejaVuSans-48\"/>\n       <use x=\"63.623047\" xlink:href=\"#DejaVuSans-46\"/>\n       <use x=\"95.410156\" xlink:href=\"#DejaVuSans-57\"/>\n       <use x=\"159.033203\" xlink:href=\"#DejaVuSans-53\"/>\n       <use x=\"222.65625\" xlink:href=\"#DejaVuSans-48\"/>\n      </g>\n     </g>\n    </g>\n    <g id=\"ytick_15\">\n     <g id=\"line2d_23\">\n      <g>\n       <use style=\"stroke:#000000;stroke-width:0.8;\" x=\"395.011375\" xlink:href=\"#m65905cc2a4\" y=\"63.349009\"/>\n      </g>\n     </g>\n     <g id=\"text_25\">\n      <!-- 0.975 -->\n      <g transform=\"translate(402.011375 67.148228)scale(0.1 -0.1)\">\n       <use xlink:href=\"#DejaVuSans-48\"/>\n       <use x=\"63.623047\" xlink:href=\"#DejaVuSans-46\"/>\n       <use x=\"95.410156\" xlink:href=\"#DejaVuSans-57\"/>\n       <use x=\"159.033203\" xlink:href=\"#DejaVuSans-55\"/>\n       <use x=\"222.65625\" xlink:href=\"#DejaVuSans-53\"/>\n      </g>\n     </g>\n    </g>\n    <g id=\"ytick_16\">\n     <g id=\"line2d_24\">\n      <g>\n       <use style=\"stroke:#000000;stroke-width:0.8;\" x=\"395.011375\" xlink:href=\"#m65905cc2a4\" y=\"36\"/>\n      </g>\n     </g>\n     <g id=\"text_26\">\n      <!-- 1.000 -->\n      <g transform=\"translate(402.011375 39.799219)scale(0.1 -0.1)\">\n       <defs>\n        <path d=\"M 12.40625 8.296875 \nL 28.515625 8.296875 \nL 28.515625 63.921875 \nL 10.984375 60.40625 \nL 10.984375 69.390625 \nL 28.421875 72.90625 \nL 38.28125 72.90625 \nL 38.28125 8.296875 \nL 54.390625 8.296875 \nL 54.390625 0 \nL 12.40625 0 \nz\n\" id=\"DejaVuSans-49\"/>\n       </defs>\n       <use xlink:href=\"#DejaVuSans-49\"/>\n       <use x=\"63.623047\" xlink:href=\"#DejaVuSans-46\"/>\n       <use x=\"95.410156\" xlink:href=\"#DejaVuSans-48\"/>\n       <use x=\"159.033203\" xlink:href=\"#DejaVuSans-48\"/>\n       <use x=\"222.65625\" xlink:href=\"#DejaVuSans-48\"/>\n      </g>\n     </g>\n    </g>\n   </g>\n   <g id=\"patch_4\">\n    <path d=\"M 384.139375 253.44 \nL 384.139375 252.590625 \nL 384.139375 36.849375 \nL 384.139375 36 \nL 395.011375 36 \nL 395.011375 36.849375 \nL 395.011375 252.590625 \nL 395.011375 253.44 \nz\n\" style=\"fill:none;\"/>\n   </g>\n  </g>\n  <g id=\"text_27\">\n   <!-- Pairwise comparison between models' predictions -->\n   <g transform=\"translate(111.71875 16.318125)scale(0.12 -0.12)\">\n    <defs>\n     <path d=\"M 4.203125 54.6875 \nL 13.1875 54.6875 \nL 24.421875 12.015625 \nL 35.59375 54.6875 \nL 46.1875 54.6875 \nL 57.421875 12.015625 \nL 68.609375 54.6875 \nL 77.59375 54.6875 \nL 63.28125 0 \nL 52.6875 0 \nL 40.921875 44.828125 \nL 29.109375 0 \nL 18.5 0 \nz\n\" id=\"DejaVuSans-119\"/>\n     <path d=\"M 48.78125 52.59375 \nL 48.78125 44.1875 \nQ 44.96875 46.296875 41.140625 47.34375 \nQ 37.3125 48.390625 33.40625 48.390625 \nQ 24.65625 48.390625 19.8125 42.84375 \nQ 14.984375 37.3125 14.984375 27.296875 \nQ 14.984375 17.28125 19.8125 11.734375 \nQ 24.65625 6.203125 33.40625 6.203125 \nQ 37.3125 6.203125 41.140625 7.25 \nQ 44.96875 8.296875 48.78125 10.40625 \nL 48.78125 2.09375 \nQ 45.015625 0.34375 40.984375 -0.53125 \nQ 36.96875 -1.421875 32.421875 -1.421875 \nQ 20.0625 -1.421875 12.78125 6.34375 \nQ 5.515625 14.109375 5.515625 27.296875 \nQ 5.515625 40.671875 12.859375 48.328125 \nQ 20.21875 56 33.015625 56 \nQ 37.15625 56 41.109375 55.140625 \nQ 45.0625 54.296875 48.78125 52.59375 \nz\n\" id=\"DejaVuSans-99\"/>\n     <path d=\"M 18.109375 8.203125 \nL 18.109375 -20.796875 \nL 9.078125 -20.796875 \nL 9.078125 54.6875 \nL 18.109375 54.6875 \nL 18.109375 46.390625 \nQ 20.953125 51.265625 25.265625 53.625 \nQ 29.59375 56 35.59375 56 \nQ 45.5625 56 51.78125 48.09375 \nQ 58.015625 40.1875 58.015625 27.296875 \nQ 58.015625 14.40625 51.78125 6.484375 \nQ 45.5625 -1.421875 35.59375 -1.421875 \nQ 29.59375 -1.421875 25.265625 0.953125 \nQ 20.953125 3.328125 18.109375 8.203125 \nz\nM 48.6875 27.296875 \nQ 48.6875 37.203125 44.609375 42.84375 \nQ 40.53125 48.484375 33.40625 48.484375 \nQ 26.265625 48.484375 22.1875 42.84375 \nQ 18.109375 37.203125 18.109375 27.296875 \nQ 18.109375 17.390625 22.1875 11.75 \nQ 26.265625 6.109375 33.40625 6.109375 \nQ 40.53125 6.109375 44.609375 11.75 \nQ 48.6875 17.390625 48.6875 27.296875 \nz\n\" id=\"DejaVuSans-112\"/>\n     <path d=\"M 48.6875 27.296875 \nQ 48.6875 37.203125 44.609375 42.84375 \nQ 40.53125 48.484375 33.40625 48.484375 \nQ 26.265625 48.484375 22.1875 42.84375 \nQ 18.109375 37.203125 18.109375 27.296875 \nQ 18.109375 17.390625 22.1875 11.75 \nQ 26.265625 6.109375 33.40625 6.109375 \nQ 40.53125 6.109375 44.609375 11.75 \nQ 48.6875 17.390625 48.6875 27.296875 \nz\nM 18.109375 46.390625 \nQ 20.953125 51.265625 25.265625 53.625 \nQ 29.59375 56 35.59375 56 \nQ 45.5625 56 51.78125 48.09375 \nQ 58.015625 40.1875 58.015625 27.296875 \nQ 58.015625 14.40625 51.78125 6.484375 \nQ 45.5625 -1.421875 35.59375 -1.421875 \nQ 29.59375 -1.421875 25.265625 0.953125 \nQ 20.953125 3.328125 18.109375 8.203125 \nL 18.109375 0 \nL 9.078125 0 \nL 9.078125 75.984375 \nL 18.109375 75.984375 \nz\n\" id=\"DejaVuSans-98\"/>\n     <path d=\"M 17.921875 72.90625 \nL 17.921875 45.796875 \nL 9.625 45.796875 \nL 9.625 72.90625 \nz\n\" id=\"DejaVuSans-39\"/>\n    </defs>\n    <use xlink:href=\"#DejaVuSans-80\"/>\n    <use x=\"55.802734\" xlink:href=\"#DejaVuSans-97\"/>\n    <use x=\"117.082031\" xlink:href=\"#DejaVuSans-105\"/>\n    <use x=\"144.865234\" xlink:href=\"#DejaVuSans-114\"/>\n    <use x=\"185.978516\" xlink:href=\"#DejaVuSans-119\"/>\n    <use x=\"267.765625\" xlink:href=\"#DejaVuSans-105\"/>\n    <use x=\"295.548828\" xlink:href=\"#DejaVuSans-115\"/>\n    <use x=\"347.648438\" xlink:href=\"#DejaVuSans-101\"/>\n    <use x=\"409.171875\" xlink:href=\"#DejaVuSans-32\"/>\n    <use x=\"440.958984\" xlink:href=\"#DejaVuSans-99\"/>\n    <use x=\"495.939453\" xlink:href=\"#DejaVuSans-111\"/>\n    <use x=\"557.121094\" xlink:href=\"#DejaVuSans-109\"/>\n    <use x=\"654.533203\" xlink:href=\"#DejaVuSans-112\"/>\n    <use x=\"718.009766\" xlink:href=\"#DejaVuSans-97\"/>\n    <use x=\"779.289062\" xlink:href=\"#DejaVuSans-114\"/>\n    <use x=\"820.402344\" xlink:href=\"#DejaVuSans-105\"/>\n    <use x=\"848.185547\" xlink:href=\"#DejaVuSans-115\"/>\n    <use x=\"900.285156\" xlink:href=\"#DejaVuSans-111\"/>\n    <use x=\"961.466797\" xlink:href=\"#DejaVuSans-110\"/>\n    <use x=\"1024.845703\" xlink:href=\"#DejaVuSans-32\"/>\n    <use x=\"1056.632812\" xlink:href=\"#DejaVuSans-98\"/>\n    <use x=\"1120.109375\" xlink:href=\"#DejaVuSans-101\"/>\n    <use x=\"1181.632812\" xlink:href=\"#DejaVuSans-116\"/>\n    <use x=\"1220.841797\" xlink:href=\"#DejaVuSans-119\"/>\n    <use x=\"1302.628906\" xlink:href=\"#DejaVuSans-101\"/>\n    <use x=\"1364.152344\" xlink:href=\"#DejaVuSans-101\"/>\n    <use x=\"1425.675781\" xlink:href=\"#DejaVuSans-110\"/>\n    <use x=\"1489.054688\" xlink:href=\"#DejaVuSans-32\"/>\n    <use x=\"1520.841797\" xlink:href=\"#DejaVuSans-109\"/>\n    <use x=\"1618.253906\" xlink:href=\"#DejaVuSans-111\"/>\n    <use x=\"1679.435547\" xlink:href=\"#DejaVuSans-100\"/>\n    <use x=\"1742.912109\" xlink:href=\"#DejaVuSans-101\"/>\n    <use x=\"1804.435547\" xlink:href=\"#DejaVuSans-108\"/>\n    <use x=\"1832.21875\" xlink:href=\"#DejaVuSans-115\"/>\n    <use x=\"1884.318359\" xlink:href=\"#DejaVuSans-39\"/>\n    <use x=\"1911.808594\" xlink:href=\"#DejaVuSans-32\"/>\n    <use x=\"1943.595703\" xlink:href=\"#DejaVuSans-112\"/>\n    <use x=\"2007.072266\" xlink:href=\"#DejaVuSans-114\"/>\n    <use x=\"2045.935547\" xlink:href=\"#DejaVuSans-101\"/>\n    <use x=\"2107.458984\" xlink:href=\"#DejaVuSans-100\"/>\n    <use x=\"2170.935547\" xlink:href=\"#DejaVuSans-105\"/>\n    <use x=\"2198.71875\" xlink:href=\"#DejaVuSans-99\"/>\n    <use x=\"2253.699219\" xlink:href=\"#DejaVuSans-116\"/>\n    <use x=\"2292.908203\" xlink:href=\"#DejaVuSans-105\"/>\n    <use x=\"2320.691406\" xlink:href=\"#DejaVuSans-111\"/>\n    <use x=\"2381.873047\" xlink:href=\"#DejaVuSans-110\"/>\n    <use x=\"2445.251953\" xlink:href=\"#DejaVuSans-115\"/>\n   </g>\n  </g>\n </g>\n <defs>\n  <clipPath id=\"pe456b27a11\">\n   <rect height=\"217.44\" width=\"267.84\" x=\"99.559375\" y=\"36\"/>\n  </clipPath>\n  <clipPath id=\"p11d5b4c51b\">\n   <rect height=\"217.44\" width=\"10.872\" x=\"384.139375\" y=\"36\"/>\n  </clipPath>\n </defs>\n</svg>\n",
                        "image/png": "[encoded data removed]"
                    },
                    "metadata": {
                        "needs_background": "light"
                    }
                }
            ],
            "source": [
                "import seaborn as sns\n",
                "fig, ax = plt.subplots(figsize=(6, 4))\n",
                "ax = sns.heatmap(ANSWER_KEY['df_pairwise_comparison']) # notice how compact the code is due to the indexes and column names of the dataframe\n",
                "fig.suptitle('Pairwise comparison between models\\' predictions');"
            ]
        },
        {
            "cell_type": "markdown",
            "metadata": {
                "nbgrader": {
                    "grade": false,
                    "grade_id": "cell-48a5552bcbd4e050",
                    "locked": true,
                    "schema_version": 3,
                    "solution": false,
                    "task": false
                },
                "editable": false,
                "deletable": false
            },
            "source": [
                "Comparing the predictions that different models make on the same data, we observe that overall the models operate quite differently. The closest models are Logistic regression (Log. Reg.) and Linear SVM, both of which are linear models (we will discuss these models in detail later in the course).\n",
                "   \n",
                "    \n",
                "    "
            ]
        },
        {
            "cell_type": "markdown",
            "metadata": {
                "nbgrader": {
                    "grade": false,
                    "grade_id": "cell-ff79dd76cf3bd045",
                    "locked": true,
                    "schema_version": 3,
                    "solution": false,
                    "task": false
                },
                "editable": false,
                "deletable": false
            },
            "source": [
                "### (q5)\n",
                "Finally, let's export the pairwise comparison to files for future use. First as a csv file and then as a json file. In both case, round the values in the dataframe `df_pairwise_comparison` to two digits after the decimal point using the dataframe function `round()`.\n",
                "\n",
                "Use the dataframe function `to_csv` to export the dataframe `df_pairwise_comparison` as CSV to the file `df_pairwise_comparison.csv`. "
            ]
        },
        {
            "cell_type": "code",
            "execution_count": 254,
            "metadata": {
                "nbgrader": {
                    "grade": false,
                    "grade_id": "cell-397eb9051b02c326",
                    "locked": false,
                    "schema_version": 3,
                    "solution": true,
                    "task": false
                }
            },
            "outputs": [],
            "source": [
                "#round\n",
                "df_pairwise_comparison.apply(lambda row:row.round(2), axis = 1)\n",
                "\n",
                "#export to csv\n",
                "df_pairwise_comparison.to_csv('df_pairwise_comparison.csv')"
            ]
        },
        {
            "cell_type": "code",
            "execution_count": 255,
            "metadata": {
                "nbgrader": {
                    "grade": true,
                    "grade_id": "q5a",
                    "locked": true,
                    "points": 6,
                    "schema_version": 3,
                    "solution": false,
                    "task": false
                },
                "editable": false,
                "deletable": false
            },
            "outputs": [],
            "source": [
                "### BEGIN TEST (DO NOT REMOVE CELL)\n",
                "sol = df_pairwise_comparison.round(2)\n",
                "diff = sol.compare(pd.read_csv('df_pairwise_comparison.csv', index_col=0).round(2), keep_equal=False, align_axis=0)\n",
                "assert(len(diff)==0), 'testing csv export'\n",
                "### END TEST "
            ]
        },
        {
            "cell_type": "markdown",
            "metadata": {
                "nbgrader": {
                    "grade": false,
                    "grade_id": "cell-2e0a0d2aef5fee21",
                    "locked": true,
                    "schema_version": 3,
                    "solution": false,
                    "task": false
                },
                "editable": false,
                "deletable": false
            },
            "source": [
                "The image below shows how the csv file looks like:\n",
                "\n",
                "<img src=\"csv.png\">"
            ]
        },
        {
            "cell_type": "markdown",
            "metadata": {
                "nbgrader": {
                    "grade": false,
                    "grade_id": "cell-3a8ce59da5e9d842",
                    "locked": true,
                    "schema_version": 3,
                    "solution": false,
                    "task": false
                },
                "editable": false,
                "deletable": false
            },
            "source": [
                "Use the dataframe function `to_json` to export the dataframe `df_pairwise_comparison` as JSON the file `df_pairwise_comparison.json` (use the parameter `orient=\"split\"` and `indent=2`).\n"
            ]
        },
        {
            "cell_type": "code",
            "execution_count": 256,
            "metadata": {
                "nbgrader": {
                    "grade": false,
                    "grade_id": "cell-57e4be0724ed947e",
                    "locked": false,
                    "schema_version": 3,
                    "solution": true,
                    "task": false
                },
                "scrolled": true
            },
            "outputs": [],
            "source": [
                "#export to json\n",
                "df_pairwise_comparison.to_json('df_pairwise_comparison.json',orient='split',indent=2)\n"
            ]
        },
        {
            "cell_type": "markdown",
            "metadata": {
                "nbgrader": {
                    "grade": false,
                    "grade_id": "cell-0cac1e41dd9e4468",
                    "locked": true,
                    "schema_version": 3,
                    "solution": false,
                    "task": false
                },
                "editable": false,
                "deletable": false
            },
            "source": [
                "The image below shows how the json file looks like: ('dictionary' with 'columns' holding the list of column names, 'index' holding the list of indexes, and 'data' which holds a matrix represented as a list of lists; the first list holds the values in the first row, the second list holds values in the second row, etc.)\n",
                "\n",
                "<img src=\"json.png\">"
            ]
        },
        {
            "cell_type": "code",
            "execution_count": 257,
            "metadata": {
                "nbgrader": {
                    "grade": true,
                    "grade_id": "q5b",
                    "locked": true,
                    "points": 6,
                    "schema_version": 3,
                    "solution": false,
                    "task": false
                },
                "editable": false,
                "deletable": false
            },
            "outputs": [],
            "source": [
                "### BEGIN TEST (DO NOT REMOVE CELL)\n",
                "sol = df_pairwise_comparison.round(2)\n",
                "diff = sol.compare(pd.read_json('df_pairwise_comparison.json', orient=\"split\").round(2), keep_equal=False, align_axis=0)\n",
                "assert(len(diff)==0), 'testing csv export'\n",
                "### END TEST "
            ]
        },
        {
            "cell_type": "markdown",
            "metadata": {
                "nbgrader": {
                    "grade": false,
                    "grade_id": "cell-a31e421e4a6b064f",
                    "locked": true,
                    "schema_version": 3,
                    "solution": false,
                    "task": false
                },
                "editable": false,
                "deletable": false
            },
            "source": [
                "# Summary\n",
                "\n",
                "\n",
                "In this homework assignment, we practiced Python programming. Working with the HELOC dataset, we automated the loading of data files, extracted information from their names, and compared their content. We explored various data types, data structures, flow control methods and wrote functions. The data files we worked with contains information about preprocessing methods and models. In the next assignment, we will explore these at a greater depth. "
            ]
        },
        {
            "cell_type": "code",
            "execution_count": 258,
            "metadata": {
                "nbgrader": {
                    "grade": true,
                    "grade_id": "cell-56a7f83815146078",
                    "locked": true,
                    "points": 0,
                    "schema_version": 3,
                    "solution": false,
                    "task": false
                },
                "editable": false,
                "deletable": false
            },
            "outputs": [],
            "source": [
                "### BEGIN TEST (DO NOT REMOVE CELL)\n",
                "if GENERATE_ANSWER_KEY: \n",
                "    with open(ANSWER_KEY_FILE_NAME, \"wb\") as f:\n",
                "        pickle.dump( ANSWER_KEY,  f)\n",
                "### END TEST "
            ]
        },
        {
            "cell_type": "markdown",
            "metadata": {
                "nbgrader": {
                    "grade": false,
                    "grade_id": "cell-de4459e60753beb5",
                    "locked": true,
                    "schema_version": 3,
                    "solution": false,
                    "task": false
                },
                "editable": false,
                "deletable": false
            },
            "source": []
        }
    ],
    "metadata": {
        "celltoolbar": "Create Assignment",
        "kernelspec": {
            "display_name": "Python 3",
            "language": "python",
            "name": "python3"
        },
        "language_info": {
            "codemirror_mode": {
                "name": "ipython",
                "version": 3
            },
            "file_extension": ".py",
            "mimetype": "text/x-python",
            "name": "python",
            "nbconvert_exporter": "python",
            "pygments_lexer": "ipython3",
            "version": "3.8.5-final"
        },
        "latex_envs": {
            "LaTeX_envs_menu_present": true,
            "autoclose": false,
            "autocomplete": true,
            "bibliofile": "biblio.bib",
            "cite_by": "apalike",
            "current_citInitial": 1,
            "eqLabelWithNumbers": true,
            "eqNumInitial": 1,
            "hotkeys": {
                "equation": "Ctrl-E",
                "itemize": "Ctrl-I"
            },
            "labels_anchors": false,
            "latex_user_defs": false,
            "report_style_numbering": false,
            "user_envs_cfg": false
        },
        "toc": {
            "base_numbering": 1,
            "nav_menu": [],
            "number_sections": false,
            "sideBar": true,
            "skip_h1_title": false,
            "title_cell": "Table of Contents",
            "title_sidebar": "Contents",
            "toc_cell": false,
            "toc_position": {
                "height": "calc(100% - 180px)",
                "left": "10px",
                "top": "150px",
                "width": "281px"
            },
            "toc_section_display": true,
            "toc_window_display": true
        }
    },
    "nbformat": 4,
    "nbformat_minor": 4
}