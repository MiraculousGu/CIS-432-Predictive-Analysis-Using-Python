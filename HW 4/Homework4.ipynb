{
    "cells": [
        {
            "cell_type": "markdown",
            "metadata": {
                "nbgrader": {
                    "grade": false,
                    "grade_id": "cell-beb82d1cf0e76f0e",
                    "locked": true,
                    "schema_version": 3,
                    "solution": false,
                    "task": false
                },
                "editable": false,
                "deletable": false
            },
            "source": [
                "<h1>Homework 4: Training and evaluating predictive models</h1>\n",
                "<h2>Predictive Analytics using Python (CIS432)</h2>\n",
                "<h3>Simon Business School</h3>\n",
                "\n",
                "__Instructor__: Yaron Shaposhnik\n",
                "\n",
                "\n"
            ]
        },
        {
            "cell_type": "markdown",
            "metadata": {
                "nbgrader": {
                    "grade": false,
                    "grade_id": "cell-bf47835b7a801cc7",
                    "locked": true,
                    "schema_version": 3,
                    "solution": false,
                    "task": false
                },
                "editable": false,
                "deletable": false
            },
            "source": [
                "### Instructions\n",
                "\n",
                "In this homework assignment, we will train and evaluate predictive models based on the HELOC dataset. We will reinforce the following concepts and techniques: \n",
                "* Preprocessing, imputers, and pipelines\n",
                "* Model training, Hyper-parameter tuning, grid search, and prediction\n",
                "* Validation set and cross validation\n",
                "* Confusion matrix\n",
                "* Performance metrics"
            ]
        },
        {
            "cell_type": "markdown",
            "metadata": {
                "nbgrader": {
                    "grade": false,
                    "grade_id": "cell-c9473db3b6b0d741",
                    "locked": true,
                    "schema_version": 3,
                    "solution": false,
                    "task": false
                },
                "editable": false,
                "deletable": false
            },
            "source": [
                "### Answer key\n",
                "\n",
                "This assignment (as well as others) is graded by comparing your answers (that is, the variables and Python objects you create) with precomputed answers. This allows you to get immediate feedback in order to find your errors and correct them. The downside of this approach is that the grading code is strict and even slight deviations from the desired outputs could result in reduction of points. \n",
                "\n",
                "To make this learning experience more efficient, the objects that you are asked to generate are provided to you in the variable `ANSWER_KEY`. Questions may ask you to assign some value (like a number or object such as data frame) to some variable. \n",
                "For example, you might be asked to assign the variable `n_rows` with some value. To view the correct answer simply run the command `ANSWER_KEY['n_rows']`. \n",
                "\n",
                "Note that the answer key is provided to you __for debugging purposes only__. Using it in your final submission or hard-coding solutions __will be considered plagiarism__ and be reported to the student disciplinary committee."
            ]
        },
        {
            "cell_type": "code",
            "execution_count": 1,
            "metadata": {
                "nbgrader": {
                    "grade": true,
                    "grade_id": "imports",
                    "locked": true,
                    "points": 10,
                    "schema_version": 3,
                    "solution": false,
                    "task": false
                },
                "editable": false,
                "deletable": false
            },
            "outputs": [],
            "source": [
                "# you may ignore this cell\n",
                "import os\n",
                "import pandas as pd\n",
                "import numpy as np\n",
                "import matplotlib.pyplot as plt\n",
                "import pickle\n",
                "\n",
                "if os.name == 'nt':\n",
                "    ANSWER_KEY_FILE_NAME = \"answer_key(win).p\"\n",
                "elif os.name == 'posix':\n",
                "    ANSWER_KEY_FILE_NAME = \"answer_key(unix).p\"\n",
                "else:\n",
                "    raise Exception('The code was not tested on',os.name)\n",
                "\n",
                "GENERATE_ANSWER_KEY=False\n",
                "\n",
                "if GENERATE_ANSWER_KEY: \n",
                "    ANSWER_KEY = {} \n",
                "else:        \n",
                "    with open(ANSWER_KEY_FILE_NAME, \"rb\") as f:\n",
                "        ANSWER_KEY = pickle.load( f )       "
            ]
        },
        {
            "cell_type": "code",
            "execution_count": 2,
            "metadata": {
                "nbgrader": {
                    "grade": false,
                    "grade_id": "cell-8219ebfbd84c42d7",
                    "locked": true,
                    "schema_version": 3,
                    "solution": false,
                    "task": false
                },
                "editable": false,
                "deletable": false
            },
            "outputs": [
                {
                    "output_type": "stream",
                    "name": "stdout",
                    "text": [
                        "0    1\n1    1\nName: RiskPerformance, dtype: int64\n"
                    ]
                }
            ],
            "source": [
                "# TODO CHANGE THIS\n",
                "\n",
                "# example for using answer key\n",
                "if GENERATE_ANSWER_KEY==False: \n",
                "    print(ANSWER_KEY['Y'].head(2))"
            ]
        },
        {
            "cell_type": "markdown",
            "metadata": {
                "nbgrader": {
                    "grade": false,
                    "grade_id": "cell-8654293b8a6657dx",
                    "locked": true,
                    "schema_version": 3,
                    "solution": false,
                    "task": false
                },
                "editable": false,
                "deletable": false
            },
            "source": [
                "# Beginning of homework 4"
            ]
        },
        {
            "cell_type": "markdown",
            "metadata": {
                "nbgrader": {
                    "grade": false,
                    "grade_id": "cell-086a03c61637ee62",
                    "locked": true,
                    "schema_version": 3,
                    "solution": false,
                    "task": false
                },
                "editable": false,
                "deletable": false
            },
            "source": [
                "# Part 1: Formulating a prediction problem\n",
                "\n",
                "In the previous assignments we explored the HELOC dataset. \n",
                "\n",
                "Load the csv file `heloc_dataset_v1(exc empty rows.).csv_pre(-1,asis).csv` into the variable `df`"
            ]
        },
        {
            "cell_type": "code",
            "execution_count": 3,
            "metadata": {
                "nbgrader": {
                    "grade": false,
                    "grade_id": "cell-370df72e75f92728",
                    "locked": false,
                    "schema_version": 3,
                    "solution": true,
                    "task": false
                }
            },
            "outputs": [],
            "source": [
                "df = \"replace this string with your answer\"\n",
                "\n",
                "#read csv\n",
                "df = pd.read_csv(\"heloc_dataset_v1(exc empty rows.).csv_pre(-1,asis).csv\")\n"
            ]
        },
        {
            "cell_type": "code",
            "execution_count": 4,
            "metadata": {
                "nbgrader": {
                    "grade": true,
                    "grade_id": "q1a_",
                    "locked": true,
                    "points": 3,
                    "schema_version": 3,
                    "solution": false,
                    "task": false
                },
                "editable": false,
                "deletable": false
            },
            "outputs": [],
            "source": [
                "### BEGIN TEST (DO NOT REMOVE CELL)\n",
                "sol = ANSWER_KEY['df']\n",
                "diff = sol.compare(df, keep_equal=False, align_axis=0)\n",
                "assert(len(diff)==0), 'testing df'\n",
                "### END TEST "
            ]
        },
        {
            "cell_type": "code",
            "execution_count": 5,
            "metadata": {
                "nbgrader": {
                    "grade": false,
                    "grade_id": "cell-6a313d11d9f6d457",
                    "locked": true,
                    "schema_version": 3,
                    "solution": false,
                    "task": false
                },
                "editable": false,
                "deletable": false
            },
            "outputs": [
                {
                    "output_type": "execute_result",
                    "data": {
                        "text/plain": [
                            "   ExternalRiskEstimate  MSinceOldestTradeOpen  MSinceMostRecentTradeOpen  \\\n",
                            "0                    55                    144                          4   \n",
                            "1                    61                     58                         15   \n",
                            "2                    67                     66                          5   \n",
                            "3                    66                    169                          1   \n",
                            "4                    81                    333                         27   \n",
                            "\n",
                            "   AverageMInFile  NumSatisfactoryTrades  NumTrades60Ever2DerogPubRec  \\\n",
                            "0              84                     20                            3   \n",
                            "1              41                      2                            4   \n",
                            "2              24                      9                            0   \n",
                            "3              73                     28                            1   \n",
                            "4             132                     12                            0   \n",
                            "\n",
                            "   NumTrades90Ever2DerogPubRec  PercentTradesNeverDelq  MSinceMostRecentDelq  \\\n",
                            "0                            0                      83                     2   \n",
                            "1                            4                     100                    -7   \n",
                            "2                            0                     100                    -7   \n",
                            "3                            1                      93                    76   \n",
                            "4                            0                     100                    -7   \n",
                            "\n",
                            "   MaxDelq2PublicRecLast12M  ...  MSinceMostRecentInqexcl7days  NumInqLast6M  \\\n",
                            "0                         3  ...                             0             0   \n",
                            "1                         0  ...                             0             0   \n",
                            "2                         7  ...                             0             4   \n",
                            "3                         6  ...                             0             5   \n",
                            "4                         7  ...                             0             1   \n",
                            "\n",
                            "   NumInqLast6Mexcl7days  NetFractionRevolvingBurden  \\\n",
                            "0                      0                          33   \n",
                            "1                      0                           0   \n",
                            "2                      4                          53   \n",
                            "3                      4                          72   \n",
                            "4                      1                          51   \n",
                            "\n",
                            "   NetFractionInstallBurden  NumRevolvingTradesWBalance  \\\n",
                            "0                        -8                           8   \n",
                            "1                        -8                           0   \n",
                            "2                        66                           4   \n",
                            "3                        83                           6   \n",
                            "4                        89                           3   \n",
                            "\n",
                            "   NumInstallTradesWBalance  NumBank2NatlTradesWHighUtilization  \\\n",
                            "0                         1                                   1   \n",
                            "1                        -8                                  -8   \n",
                            "2                         2                                   1   \n",
                            "3                         4                                   3   \n",
                            "4                         1                                   0   \n",
                            "\n",
                            "   PercentTradesWBalance  RiskPerformance  \n",
                            "0                     69              Bad  \n",
                            "1                      0              Bad  \n",
                            "2                     86              Bad  \n",
                            "3                     91              Bad  \n",
                            "4                     80              Bad  \n",
                            "\n",
                            "[5 rows x 24 columns]"
                        ],
                        "text/html": "<div>\n<style scoped>\n    .dataframe tbody tr th:only-of-type {\n        vertical-align: middle;\n    }\n\n    .dataframe tbody tr th {\n        vertical-align: top;\n    }\n\n    .dataframe thead th {\n        text-align: right;\n    }\n</style>\n<table border=\"1\" class=\"dataframe\">\n  <thead>\n    <tr style=\"text-align: right;\">\n      <th></th>\n      <th>ExternalRiskEstimate</th>\n      <th>MSinceOldestTradeOpen</th>\n      <th>MSinceMostRecentTradeOpen</th>\n      <th>AverageMInFile</th>\n      <th>NumSatisfactoryTrades</th>\n      <th>NumTrades60Ever2DerogPubRec</th>\n      <th>NumTrades90Ever2DerogPubRec</th>\n      <th>PercentTradesNeverDelq</th>\n      <th>MSinceMostRecentDelq</th>\n      <th>MaxDelq2PublicRecLast12M</th>\n      <th>...</th>\n      <th>MSinceMostRecentInqexcl7days</th>\n      <th>NumInqLast6M</th>\n      <th>NumInqLast6Mexcl7days</th>\n      <th>NetFractionRevolvingBurden</th>\n      <th>NetFractionInstallBurden</th>\n      <th>NumRevolvingTradesWBalance</th>\n      <th>NumInstallTradesWBalance</th>\n      <th>NumBank2NatlTradesWHighUtilization</th>\n      <th>PercentTradesWBalance</th>\n      <th>RiskPerformance</th>\n    </tr>\n  </thead>\n  <tbody>\n    <tr>\n      <th>0</th>\n      <td>55</td>\n      <td>144</td>\n      <td>4</td>\n      <td>84</td>\n      <td>20</td>\n      <td>3</td>\n      <td>0</td>\n      <td>83</td>\n      <td>2</td>\n      <td>3</td>\n      <td>...</td>\n      <td>0</td>\n      <td>0</td>\n      <td>0</td>\n      <td>33</td>\n      <td>-8</td>\n      <td>8</td>\n      <td>1</td>\n      <td>1</td>\n      <td>69</td>\n      <td>Bad</td>\n    </tr>\n    <tr>\n      <th>1</th>\n      <td>61</td>\n      <td>58</td>\n      <td>15</td>\n      <td>41</td>\n      <td>2</td>\n      <td>4</td>\n      <td>4</td>\n      <td>100</td>\n      <td>-7</td>\n      <td>0</td>\n      <td>...</td>\n      <td>0</td>\n      <td>0</td>\n      <td>0</td>\n      <td>0</td>\n      <td>-8</td>\n      <td>0</td>\n      <td>-8</td>\n      <td>-8</td>\n      <td>0</td>\n      <td>Bad</td>\n    </tr>\n    <tr>\n      <th>2</th>\n      <td>67</td>\n      <td>66</td>\n      <td>5</td>\n      <td>24</td>\n      <td>9</td>\n      <td>0</td>\n      <td>0</td>\n      <td>100</td>\n      <td>-7</td>\n      <td>7</td>\n      <td>...</td>\n      <td>0</td>\n      <td>4</td>\n      <td>4</td>\n      <td>53</td>\n      <td>66</td>\n      <td>4</td>\n      <td>2</td>\n      <td>1</td>\n      <td>86</td>\n      <td>Bad</td>\n    </tr>\n    <tr>\n      <th>3</th>\n      <td>66</td>\n      <td>169</td>\n      <td>1</td>\n      <td>73</td>\n      <td>28</td>\n      <td>1</td>\n      <td>1</td>\n      <td>93</td>\n      <td>76</td>\n      <td>6</td>\n      <td>...</td>\n      <td>0</td>\n      <td>5</td>\n      <td>4</td>\n      <td>72</td>\n      <td>83</td>\n      <td>6</td>\n      <td>4</td>\n      <td>3</td>\n      <td>91</td>\n      <td>Bad</td>\n    </tr>\n    <tr>\n      <th>4</th>\n      <td>81</td>\n      <td>333</td>\n      <td>27</td>\n      <td>132</td>\n      <td>12</td>\n      <td>0</td>\n      <td>0</td>\n      <td>100</td>\n      <td>-7</td>\n      <td>7</td>\n      <td>...</td>\n      <td>0</td>\n      <td>1</td>\n      <td>1</td>\n      <td>51</td>\n      <td>89</td>\n      <td>3</td>\n      <td>1</td>\n      <td>0</td>\n      <td>80</td>\n      <td>Bad</td>\n    </tr>\n  </tbody>\n</table>\n<p>5 rows × 24 columns</p>\n</div>"
                    },
                    "metadata": {},
                    "execution_count": 5
                }
            ],
            "source": [
                "ANSWER_KEY['df'].head()"
            ]
        },
        {
            "cell_type": "markdown",
            "metadata": {
                "nbgrader": {
                    "grade": false,
                    "grade_id": "cell-0dd34c0bcca3fac2",
                    "locked": true,
                    "schema_version": 3,
                    "solution": false,
                    "task": false
                },
                "editable": false,
                "deletable": false
            },
            "source": [
                "It has 9871 rows and 24 columns. Each row represents a loan taken by a customer, and columns provide information about each customer and loan (for additional information, see the file `heloc_data_dictionary-2.xlsx`). The first 23 columns contain information known to the company prior to the approval of the application based on his/her credit history (i.e., observable information), while the last column (`RiskPerformance`) holds the outcome of granting the loan, specifically, whether or not the customer was late in his/her payments. \n",
                "\n",
                "Our goal in this assignment is to predict `RiskPerformance` based on the observable information. \n",
                "\n"
            ]
        },
        {
            "cell_type": "markdown",
            "metadata": {
                "nbgrader": {
                    "grade": false,
                    "grade_id": "cell-ff35003c2c5b3ca9",
                    "locked": true,
                    "schema_version": 3,
                    "solution": false,
                    "task": false
                },
                "editable": false,
                "deletable": false
            },
            "source": [
                "### (q1)\n",
                "Initialize the variables `X` to hold the data/design matrix (the first 23 columns containing the features) and `Y` to hold the labels (the last column). Convert the values in `Y` to 1 and 0 for the labels \"Bad\" and \"Good\", respectively. This conversion allows us to compute the average value in the column `Y` to estimate the probability of defaulting. For example, averaging over the entire data frame would tell us the percentage of customers who defaulted, while averaging on a subset of customer would tell us the probability that a customer within this group defaults. "
            ]
        },
        {
            "cell_type": "code",
            "execution_count": 6,
            "metadata": {
                "nbgrader": {
                    "grade": false,
                    "grade_id": "cell-633d6b4b8fd9d97b",
                    "locked": false,
                    "schema_version": 3,
                    "solution": true,
                    "task": false
                }
            },
            "outputs": [],
            "source": [
                "X = \"replace this string with your answer\"\n",
                "Y = \"replace this string with your answer\"\n",
                "\n",
                "#X\n",
                "X = df.iloc[:,0:23]\n",
                "\n",
                "#Y\n",
                "Y = df.iloc[:,-1]\n",
                "#convert to 0 and 1\n",
                "Y = Y.map(dict(Bad = 1, Good = 0))\n"
            ]
        },
        {
            "cell_type": "code",
            "execution_count": 7,
            "metadata": {
                "nbgrader": {
                    "grade": true,
                    "grade_id": "q1b_",
                    "locked": true,
                    "points": 3,
                    "schema_version": 3,
                    "solution": false,
                    "task": false
                },
                "editable": false,
                "deletable": false
            },
            "outputs": [],
            "source": [
                "### BEGIN TEST (DO NOT REMOVE CELL)\n",
                "sol = ANSWER_KEY['X']\n",
                "diff = sol.compare(X, keep_equal=False, align_axis=0)\n",
                "assert(len(diff)==0), 'testing X'\n",
                "### END TEST "
            ]
        },
        {
            "cell_type": "code",
            "execution_count": 8,
            "metadata": {
                "nbgrader": {
                    "grade": true,
                    "grade_id": "q1c_",
                    "locked": true,
                    "points": 3,
                    "schema_version": 3,
                    "solution": false,
                    "task": false
                },
                "editable": false,
                "deletable": false
            },
            "outputs": [],
            "source": [
                "### BEGIN TEST (DO NOT REMOVE CELL)\n",
                "sol = ANSWER_KEY['Y']\n",
                "diff = sol.compare(Y, keep_equal=False, align_axis=0)\n",
                "assert(len(diff)==0), 'testing Y'\n",
                "### END TEST "
            ]
        },
        {
            "cell_type": "markdown",
            "metadata": {
                "nbgrader": {
                    "grade": false,
                    "grade_id": "cell-c2658d2b3fe75d04",
                    "locked": true,
                    "schema_version": 3,
                    "solution": false,
                    "task": false
                },
                "editable": false,
                "deletable": false
            },
            "source": [
                "`X` should be a matrix (data frame) with 9871 rows and 23 columns, while `Y` is a vector (series) with 9871 values."
            ]
        },
        {
            "cell_type": "code",
            "execution_count": 9,
            "metadata": {
                "nbgrader": {
                    "grade": false,
                    "grade_id": "cell-2e06ec52b45ad054",
                    "locked": true,
                    "schema_version": 3,
                    "solution": false,
                    "task": false
                },
                "editable": false,
                "deletable": false
            },
            "outputs": [
                {
                    "output_type": "execute_result",
                    "data": {
                        "text/plain": [
                            "   ExternalRiskEstimate  MSinceOldestTradeOpen  MSinceMostRecentTradeOpen  \\\n",
                            "0                    55                    144                          4   \n",
                            "1                    61                     58                         15   \n",
                            "\n",
                            "   AverageMInFile  NumSatisfactoryTrades  NumTrades60Ever2DerogPubRec  \\\n",
                            "0              84                     20                            3   \n",
                            "1              41                      2                            4   \n",
                            "\n",
                            "   NumTrades90Ever2DerogPubRec  PercentTradesNeverDelq  MSinceMostRecentDelq  \\\n",
                            "0                            0                      83                     2   \n",
                            "1                            4                     100                    -7   \n",
                            "\n",
                            "   MaxDelq2PublicRecLast12M  ...  PercentInstallTrades  \\\n",
                            "0                         3  ...                    43   \n",
                            "1                         0  ...                    67   \n",
                            "\n",
                            "   MSinceMostRecentInqexcl7days  NumInqLast6M  NumInqLast6Mexcl7days  \\\n",
                            "0                             0             0                      0   \n",
                            "1                             0             0                      0   \n",
                            "\n",
                            "   NetFractionRevolvingBurden  NetFractionInstallBurden  \\\n",
                            "0                          33                        -8   \n",
                            "1                           0                        -8   \n",
                            "\n",
                            "   NumRevolvingTradesWBalance  NumInstallTradesWBalance  \\\n",
                            "0                           8                         1   \n",
                            "1                           0                        -8   \n",
                            "\n",
                            "   NumBank2NatlTradesWHighUtilization  PercentTradesWBalance  \n",
                            "0                                   1                     69  \n",
                            "1                                  -8                      0  \n",
                            "\n",
                            "[2 rows x 23 columns]"
                        ],
                        "text/html": "<div>\n<style scoped>\n    .dataframe tbody tr th:only-of-type {\n        vertical-align: middle;\n    }\n\n    .dataframe tbody tr th {\n        vertical-align: top;\n    }\n\n    .dataframe thead th {\n        text-align: right;\n    }\n</style>\n<table border=\"1\" class=\"dataframe\">\n  <thead>\n    <tr style=\"text-align: right;\">\n      <th></th>\n      <th>ExternalRiskEstimate</th>\n      <th>MSinceOldestTradeOpen</th>\n      <th>MSinceMostRecentTradeOpen</th>\n      <th>AverageMInFile</th>\n      <th>NumSatisfactoryTrades</th>\n      <th>NumTrades60Ever2DerogPubRec</th>\n      <th>NumTrades90Ever2DerogPubRec</th>\n      <th>PercentTradesNeverDelq</th>\n      <th>MSinceMostRecentDelq</th>\n      <th>MaxDelq2PublicRecLast12M</th>\n      <th>...</th>\n      <th>PercentInstallTrades</th>\n      <th>MSinceMostRecentInqexcl7days</th>\n      <th>NumInqLast6M</th>\n      <th>NumInqLast6Mexcl7days</th>\n      <th>NetFractionRevolvingBurden</th>\n      <th>NetFractionInstallBurden</th>\n      <th>NumRevolvingTradesWBalance</th>\n      <th>NumInstallTradesWBalance</th>\n      <th>NumBank2NatlTradesWHighUtilization</th>\n      <th>PercentTradesWBalance</th>\n    </tr>\n  </thead>\n  <tbody>\n    <tr>\n      <th>0</th>\n      <td>55</td>\n      <td>144</td>\n      <td>4</td>\n      <td>84</td>\n      <td>20</td>\n      <td>3</td>\n      <td>0</td>\n      <td>83</td>\n      <td>2</td>\n      <td>3</td>\n      <td>...</td>\n      <td>43</td>\n      <td>0</td>\n      <td>0</td>\n      <td>0</td>\n      <td>33</td>\n      <td>-8</td>\n      <td>8</td>\n      <td>1</td>\n      <td>1</td>\n      <td>69</td>\n    </tr>\n    <tr>\n      <th>1</th>\n      <td>61</td>\n      <td>58</td>\n      <td>15</td>\n      <td>41</td>\n      <td>2</td>\n      <td>4</td>\n      <td>4</td>\n      <td>100</td>\n      <td>-7</td>\n      <td>0</td>\n      <td>...</td>\n      <td>67</td>\n      <td>0</td>\n      <td>0</td>\n      <td>0</td>\n      <td>0</td>\n      <td>-8</td>\n      <td>0</td>\n      <td>-8</td>\n      <td>-8</td>\n      <td>0</td>\n    </tr>\n  </tbody>\n</table>\n<p>2 rows × 23 columns</p>\n</div>"
                    },
                    "metadata": {},
                    "execution_count": 9
                }
            ],
            "source": [
                "ANSWER_KEY['X'].head(2) # illustrate the output"
            ]
        },
        {
            "cell_type": "code",
            "execution_count": 10,
            "metadata": {
                "nbgrader": {
                    "grade": false,
                    "grade_id": "cell-6988e04962b0cf1f",
                    "locked": true,
                    "schema_version": 3,
                    "solution": false,
                    "task": false
                },
                "editable": false,
                "deletable": false
            },
            "outputs": [
                {
                    "output_type": "execute_result",
                    "data": {
                        "text/plain": [
                            "0    1\n",
                            "1    1\n",
                            "Name: RiskPerformance, dtype: int64"
                        ]
                    },
                    "metadata": {},
                    "execution_count": 10
                }
            ],
            "source": [
                "ANSWER_KEY['Y'].head(2) # illustrate the output"
            ]
        },
        {
            "cell_type": "code",
            "execution_count": 11,
            "metadata": {
                "nbgrader": {
                    "grade": false,
                    "grade_id": "cell-c6692ec7f4f2c193",
                    "locked": true,
                    "schema_version": 3,
                    "solution": false,
                    "task": false
                },
                "editable": false,
                "deletable": false
            },
            "outputs": [
                {
                    "output_type": "stream",
                    "name": "stdout",
                    "text": [
                        "(9871, 23) (9871,)\n"
                    ]
                }
            ],
            "source": [
                "print(ANSWER_KEY['X'].shape, ANSWER_KEY['Y'].shape)"
            ]
        },
        {
            "cell_type": "markdown",
            "metadata": {
                "nbgrader": {
                    "grade": false,
                    "grade_id": "cell-c9007daf35f7b7a5",
                    "locked": true,
                    "schema_version": 3,
                    "solution": false,
                    "task": false
                },
                "editable": false,
                "deletable": false
            },
            "source": [
                "### (q2) \n",
                "\n",
                "Use the function `train_test_split` to split the data into train and test sets. Allocate 20% of your data to the test set (`test_size=0.2`), and set the parameter `random_state` to 1234. This number was arbitrarily chosen and its purpose is to guarantee that when even the command  `train_test_split` is executed, the data will be partitioned the same way. This is important for replicability (so you and other could replicate the analysis) and to prevent contamination of the test set.\n",
                "\n",
                "Specifically, initialize the following variables `X_train, X_test, Y_train, Y_test` according to their names (whether they hold the train or test set, of the data matrix `X` or the labels `Y`)."
            ]
        },
        {
            "cell_type": "code",
            "execution_count": 12,
            "metadata": {
                "nbgrader": {
                    "grade": false,
                    "grade_id": "cell-81ad5020e7326ddf",
                    "locked": false,
                    "schema_version": 3,
                    "solution": true,
                    "task": false
                }
            },
            "outputs": [],
            "source": [
                "from sklearn.model_selection import train_test_split\n",
                "X_train = \"replace this string with your answer\"\n",
                "X_test  = \"replace this string with your answer\"\n",
                "Y_train = \"replace this string with your answer\"\n",
                "Y_test  = \"replace this string with your answer\"\n",
                "\n",
                "#split df\n",
                "X_train, X_test, Y_train, Y_test = train_test_split(X, Y, test_size=0.2,random_state=1234)\n"
            ]
        },
        {
            "cell_type": "code",
            "execution_count": 13,
            "metadata": {
                "nbgrader": {
                    "grade": true,
                    "grade_id": "q2a_",
                    "locked": true,
                    "points": 3,
                    "schema_version": 3,
                    "solution": false,
                    "task": false
                },
                "editable": false,
                "deletable": false
            },
            "outputs": [],
            "source": [
                "### BEGIN TEST (DO NOT REMOVE CELL)\n",
                "sol = ANSWER_KEY['X_train']\n",
                "diff = sol.compare(X_train, keep_equal=False, align_axis=0)\n",
                "assert(len(diff)==0), 'testing X_train'\n",
                "### END TEST "
            ]
        },
        {
            "cell_type": "code",
            "execution_count": 14,
            "metadata": {
                "nbgrader": {
                    "grade": true,
                    "grade_id": "q2b_",
                    "locked": true,
                    "points": 3,
                    "schema_version": 3,
                    "solution": false,
                    "task": false
                },
                "editable": false,
                "deletable": false
            },
            "outputs": [],
            "source": [
                "### BEGIN TEST (DO NOT REMOVE CELL)\n",
                "sol = ANSWER_KEY['X_test']\n",
                "diff = sol.compare(X_test, keep_equal=False, align_axis=0)\n",
                "assert(len(diff)==0), 'testing X_test'\n",
                "### END TEST "
            ]
        },
        {
            "cell_type": "code",
            "execution_count": 15,
            "metadata": {
                "nbgrader": {
                    "grade": true,
                    "grade_id": "q2c_",
                    "locked": true,
                    "points": 3,
                    "schema_version": 3,
                    "solution": false,
                    "task": false
                },
                "editable": false,
                "deletable": false
            },
            "outputs": [],
            "source": [
                "### BEGIN TEST (DO NOT REMOVE CELL)\n",
                "sol = ANSWER_KEY['Y_train']\n",
                "diff = sol.compare(Y_train, keep_equal=False, align_axis=0)\n",
                "assert(len(diff)==0), 'testing Y_train'\n",
                "### END TEST "
            ]
        },
        {
            "cell_type": "code",
            "execution_count": 16,
            "metadata": {
                "nbgrader": {
                    "grade": true,
                    "grade_id": "q2d_",
                    "locked": true,
                    "points": 3,
                    "schema_version": 3,
                    "solution": false,
                    "task": false
                },
                "editable": false,
                "deletable": false
            },
            "outputs": [],
            "source": [
                "### BEGIN TEST (DO NOT REMOVE CELL)\n",
                "sol = ANSWER_KEY['Y_test']\n",
                "diff = sol.compare(Y_test, keep_equal=False, align_axis=0)\n",
                "assert(len(diff)==0), 'testing Y_test'\n",
                "### END TEST "
            ]
        },
        {
            "cell_type": "code",
            "execution_count": 17,
            "metadata": {
                "nbgrader": {
                    "grade": false,
                    "grade_id": "cell-5ebb550b59e2cf9f",
                    "locked": true,
                    "schema_version": 3,
                    "solution": false,
                    "task": false
                },
                "editable": false,
                "deletable": false
            },
            "outputs": [
                {
                    "output_type": "stream",
                    "name": "stdout",
                    "text": [
                        "The shapes of X_train, X_test, Y_train, Y_test:\n(7896, 23) (1975, 23) (7896,) (1975,)\n"
                    ]
                }
            ],
            "source": [
                "print('The shapes of X_train, X_test, Y_train, Y_test:')\n",
                "print(ANSWER_KEY['X_train'].shape, ANSWER_KEY['X_test'].shape, ANSWER_KEY['Y_train'].shape, ANSWER_KEY['Y_test'].shape)"
            ]
        },
        {
            "cell_type": "markdown",
            "metadata": {
                "nbgrader": {
                    "grade": false,
                    "grade_id": "cell-26cf8e389924e514",
                    "locked": true,
                    "schema_version": 3,
                    "solution": false,
                    "task": false
                },
                "editable": false,
                "deletable": false
            },
            "source": [
                "# Part 2: Preprocessing\n",
                "\n",
                "Recall from previous assignments that our data contains missing values encoded by -7,-8, and -9. We next discuss and apply different techniques to handle missing values and transform our data matrix to become more amenable to learning. \n",
                "\n",
                "### (q3)\n",
                "To facilitate the visualization, combine  `X_train` and `Y_train` to a data frame called `df_train`. "
            ]
        },
        {
            "cell_type": "code",
            "execution_count": 18,
            "metadata": {
                "nbgrader": {
                    "grade": false,
                    "grade_id": "cell-c8373a60761a41cc",
                    "locked": false,
                    "schema_version": 3,
                    "solution": true,
                    "task": false
                }
            },
            "outputs": [
                {
                    "output_type": "execute_result",
                    "data": {
                        "text/plain": [
                            "      ExternalRiskEstimate  MSinceOldestTradeOpen  MSinceMostRecentTradeOpen  \\\n",
                            "720                     68                     60                          7   \n",
                            "1759                    60                    123                          1   \n",
                            "3964                    65                     56                          3   \n",
                            "\n",
                            "      AverageMInFile  NumSatisfactoryTrades  NumTrades60Ever2DerogPubRec  \\\n",
                            "720               31                     11                            1   \n",
                            "1759              47                     18                            0   \n",
                            "3964              21                      7                            0   \n",
                            "\n",
                            "      NumTrades90Ever2DerogPubRec  PercentTradesNeverDelq  \\\n",
                            "720                             0                      92   \n",
                            "1759                            0                     100   \n",
                            "3964                            0                      86   \n",
                            "\n",
                            "      MSinceMostRecentDelq  MaxDelq2PublicRecLast12M  ...  \\\n",
                            "720                     27                         6  ...   \n",
                            "1759                    -7                         7  ...   \n",
                            "3964                    38                         6  ...   \n",
                            "\n",
                            "      MSinceMostRecentInqexcl7days  NumInqLast6M  NumInqLast6Mexcl7days  \\\n",
                            "720                              0             1                      1   \n",
                            "1759                             0             1                      1   \n",
                            "3964                             0             3                      3   \n",
                            "\n",
                            "      NetFractionRevolvingBurden  NetFractionInstallBurden  \\\n",
                            "720                           50                        77   \n",
                            "1759                          90                        -8   \n",
                            "3964                          23                        98   \n",
                            "\n",
                            "      NumRevolvingTradesWBalance  NumInstallTradesWBalance  \\\n",
                            "720                            5                         2   \n",
                            "1759                           6                         1   \n",
                            "3964                           3                         1   \n",
                            "\n",
                            "      NumBank2NatlTradesWHighUtilization  PercentTradesWBalance  \\\n",
                            "720                                    1                     88   \n",
                            "1759                                   5                     70   \n",
                            "3964                                   1                     80   \n",
                            "\n",
                            "      RiskPerformance  \n",
                            "720                 1  \n",
                            "1759                1  \n",
                            "3964                0  \n",
                            "\n",
                            "[3 rows x 24 columns]"
                        ],
                        "text/html": "<div>\n<style scoped>\n    .dataframe tbody tr th:only-of-type {\n        vertical-align: middle;\n    }\n\n    .dataframe tbody tr th {\n        vertical-align: top;\n    }\n\n    .dataframe thead th {\n        text-align: right;\n    }\n</style>\n<table border=\"1\" class=\"dataframe\">\n  <thead>\n    <tr style=\"text-align: right;\">\n      <th></th>\n      <th>ExternalRiskEstimate</th>\n      <th>MSinceOldestTradeOpen</th>\n      <th>MSinceMostRecentTradeOpen</th>\n      <th>AverageMInFile</th>\n      <th>NumSatisfactoryTrades</th>\n      <th>NumTrades60Ever2DerogPubRec</th>\n      <th>NumTrades90Ever2DerogPubRec</th>\n      <th>PercentTradesNeverDelq</th>\n      <th>MSinceMostRecentDelq</th>\n      <th>MaxDelq2PublicRecLast12M</th>\n      <th>...</th>\n      <th>MSinceMostRecentInqexcl7days</th>\n      <th>NumInqLast6M</th>\n      <th>NumInqLast6Mexcl7days</th>\n      <th>NetFractionRevolvingBurden</th>\n      <th>NetFractionInstallBurden</th>\n      <th>NumRevolvingTradesWBalance</th>\n      <th>NumInstallTradesWBalance</th>\n      <th>NumBank2NatlTradesWHighUtilization</th>\n      <th>PercentTradesWBalance</th>\n      <th>RiskPerformance</th>\n    </tr>\n  </thead>\n  <tbody>\n    <tr>\n      <th>720</th>\n      <td>68</td>\n      <td>60</td>\n      <td>7</td>\n      <td>31</td>\n      <td>11</td>\n      <td>1</td>\n      <td>0</td>\n      <td>92</td>\n      <td>27</td>\n      <td>6</td>\n      <td>...</td>\n      <td>0</td>\n      <td>1</td>\n      <td>1</td>\n      <td>50</td>\n      <td>77</td>\n      <td>5</td>\n      <td>2</td>\n      <td>1</td>\n      <td>88</td>\n      <td>1</td>\n    </tr>\n    <tr>\n      <th>1759</th>\n      <td>60</td>\n      <td>123</td>\n      <td>1</td>\n      <td>47</td>\n      <td>18</td>\n      <td>0</td>\n      <td>0</td>\n      <td>100</td>\n      <td>-7</td>\n      <td>7</td>\n      <td>...</td>\n      <td>0</td>\n      <td>1</td>\n      <td>1</td>\n      <td>90</td>\n      <td>-8</td>\n      <td>6</td>\n      <td>1</td>\n      <td>5</td>\n      <td>70</td>\n      <td>1</td>\n    </tr>\n    <tr>\n      <th>3964</th>\n      <td>65</td>\n      <td>56</td>\n      <td>3</td>\n      <td>21</td>\n      <td>7</td>\n      <td>0</td>\n      <td>0</td>\n      <td>86</td>\n      <td>38</td>\n      <td>6</td>\n      <td>...</td>\n      <td>0</td>\n      <td>3</td>\n      <td>3</td>\n      <td>23</td>\n      <td>98</td>\n      <td>3</td>\n      <td>1</td>\n      <td>1</td>\n      <td>80</td>\n      <td>0</td>\n    </tr>\n  </tbody>\n</table>\n<p>3 rows × 24 columns</p>\n</div>"
                    },
                    "metadata": {},
                    "execution_count": 18
                }
            ],
            "source": [
                "df_train = \"replace this string with your answer\"\n",
                "\n",
                "#combin two train sets\n",
                "df_train = pd.concat([X_train,Y_train], axis=1)\n",
                "df_train.head(3)\n"
            ]
        },
        {
            "cell_type": "code",
            "execution_count": 19,
            "metadata": {},
            "outputs": [
                {
                    "output_type": "execute_result",
                    "data": {
                        "text/plain": [
                            "      ExternalRiskEstimate  MSinceOldestTradeOpen  MSinceMostRecentTradeOpen  \\\n",
                            "720                     68                     60                          7   \n",
                            "1759                    60                    123                          1   \n",
                            "3964                    65                     56                          3   \n",
                            "\n",
                            "      AverageMInFile  NumSatisfactoryTrades  NumTrades60Ever2DerogPubRec  \\\n",
                            "720               31                     11                            1   \n",
                            "1759              47                     18                            0   \n",
                            "3964              21                      7                            0   \n",
                            "\n",
                            "      NumTrades90Ever2DerogPubRec  PercentTradesNeverDelq  \\\n",
                            "720                             0                      92   \n",
                            "1759                            0                     100   \n",
                            "3964                            0                      86   \n",
                            "\n",
                            "      MSinceMostRecentDelq  MaxDelq2PublicRecLast12M  ...  \\\n",
                            "720                     27                         6  ...   \n",
                            "1759                    -7                         7  ...   \n",
                            "3964                    38                         6  ...   \n",
                            "\n",
                            "      MSinceMostRecentInqexcl7days  NumInqLast6M  NumInqLast6Mexcl7days  \\\n",
                            "720                              0             1                      1   \n",
                            "1759                             0             1                      1   \n",
                            "3964                             0             3                      3   \n",
                            "\n",
                            "      NetFractionRevolvingBurden  NetFractionInstallBurden  \\\n",
                            "720                           50                        77   \n",
                            "1759                          90                        -8   \n",
                            "3964                          23                        98   \n",
                            "\n",
                            "      NumRevolvingTradesWBalance  NumInstallTradesWBalance  \\\n",
                            "720                            5                         2   \n",
                            "1759                           6                         1   \n",
                            "3964                           3                         1   \n",
                            "\n",
                            "      NumBank2NatlTradesWHighUtilization  PercentTradesWBalance  \\\n",
                            "720                                    1                     88   \n",
                            "1759                                   5                     70   \n",
                            "3964                                   1                     80   \n",
                            "\n",
                            "      RiskPerformance  \n",
                            "720                 1  \n",
                            "1759                1  \n",
                            "3964                0  \n",
                            "\n",
                            "[3 rows x 24 columns]"
                        ],
                        "text/html": "<div>\n<style scoped>\n    .dataframe tbody tr th:only-of-type {\n        vertical-align: middle;\n    }\n\n    .dataframe tbody tr th {\n        vertical-align: top;\n    }\n\n    .dataframe thead th {\n        text-align: right;\n    }\n</style>\n<table border=\"1\" class=\"dataframe\">\n  <thead>\n    <tr style=\"text-align: right;\">\n      <th></th>\n      <th>ExternalRiskEstimate</th>\n      <th>MSinceOldestTradeOpen</th>\n      <th>MSinceMostRecentTradeOpen</th>\n      <th>AverageMInFile</th>\n      <th>NumSatisfactoryTrades</th>\n      <th>NumTrades60Ever2DerogPubRec</th>\n      <th>NumTrades90Ever2DerogPubRec</th>\n      <th>PercentTradesNeverDelq</th>\n      <th>MSinceMostRecentDelq</th>\n      <th>MaxDelq2PublicRecLast12M</th>\n      <th>...</th>\n      <th>MSinceMostRecentInqexcl7days</th>\n      <th>NumInqLast6M</th>\n      <th>NumInqLast6Mexcl7days</th>\n      <th>NetFractionRevolvingBurden</th>\n      <th>NetFractionInstallBurden</th>\n      <th>NumRevolvingTradesWBalance</th>\n      <th>NumInstallTradesWBalance</th>\n      <th>NumBank2NatlTradesWHighUtilization</th>\n      <th>PercentTradesWBalance</th>\n      <th>RiskPerformance</th>\n    </tr>\n  </thead>\n  <tbody>\n    <tr>\n      <th>720</th>\n      <td>68</td>\n      <td>60</td>\n      <td>7</td>\n      <td>31</td>\n      <td>11</td>\n      <td>1</td>\n      <td>0</td>\n      <td>92</td>\n      <td>27</td>\n      <td>6</td>\n      <td>...</td>\n      <td>0</td>\n      <td>1</td>\n      <td>1</td>\n      <td>50</td>\n      <td>77</td>\n      <td>5</td>\n      <td>2</td>\n      <td>1</td>\n      <td>88</td>\n      <td>1</td>\n    </tr>\n    <tr>\n      <th>1759</th>\n      <td>60</td>\n      <td>123</td>\n      <td>1</td>\n      <td>47</td>\n      <td>18</td>\n      <td>0</td>\n      <td>0</td>\n      <td>100</td>\n      <td>-7</td>\n      <td>7</td>\n      <td>...</td>\n      <td>0</td>\n      <td>1</td>\n      <td>1</td>\n      <td>90</td>\n      <td>-8</td>\n      <td>6</td>\n      <td>1</td>\n      <td>5</td>\n      <td>70</td>\n      <td>1</td>\n    </tr>\n    <tr>\n      <th>3964</th>\n      <td>65</td>\n      <td>56</td>\n      <td>3</td>\n      <td>21</td>\n      <td>7</td>\n      <td>0</td>\n      <td>0</td>\n      <td>86</td>\n      <td>38</td>\n      <td>6</td>\n      <td>...</td>\n      <td>0</td>\n      <td>3</td>\n      <td>3</td>\n      <td>23</td>\n      <td>98</td>\n      <td>3</td>\n      <td>1</td>\n      <td>1</td>\n      <td>80</td>\n      <td>0</td>\n    </tr>\n  </tbody>\n</table>\n<p>3 rows × 24 columns</p>\n</div>"
                    },
                    "metadata": {},
                    "execution_count": 19
                }
            ],
            "source": [
                "# example of output\n",
                "ANSWER_KEY['df_train'].head(3)"
            ]
        },
        {
            "cell_type": "code",
            "execution_count": 20,
            "metadata": {
                "nbgrader": {
                    "grade": true,
                    "grade_id": "q3_0",
                    "locked": true,
                    "points": 2,
                    "schema_version": 3,
                    "solution": false,
                    "task": false
                },
                "editable": false,
                "deletable": false
            },
            "outputs": [],
            "source": [
                "### BEGIN TEST (DO NOT REMOVE CELL)\n",
                "sol = ANSWER_KEY['df_train']\n",
                "diff = sol.compare(df_train, keep_equal=False, align_axis=0)\n",
                "assert(len(diff)==0), 'testing df_train'\n",
                "### END TEST "
            ]
        },
        {
            "cell_type": "markdown",
            "metadata": {},
            "source": [
                "Let plot the default risk as a function of the feature `ExternalRiskEstimate`. To this end, aggregate the values in the data frame `df_train` by computing the average risk (average value of `RiskPerformance`) per `ExternalRiskEstimate`. Store the results in the series `means` where the values are the risk estimates and indexes are the corresponding values of the `ExternalRiskEstimate`.\n",
                "\n",
                "Hint: use the function `.groupby()`"
            ]
        },
        {
            "cell_type": "code",
            "execution_count": 21,
            "metadata": {
                "nbgrader": {
                    "grade": false,
                    "grade_id": "cell-3037cc57bf34f33c",
                    "locked": false,
                    "schema_version": 3,
                    "solution": true,
                    "task": false
                },
                "tags": []
            },
            "outputs": [
                {
                    "output_type": "stream",
                    "name": "stdout",
                    "text": [
                        "ExternalRiskEstimate\n-9     0.875000\n 34    0.000000\n 36    1.000000\n 37    1.000000\n 39    1.000000\n 40    1.000000\n 41    1.000000\n 43    0.600000\n 44    1.000000\n 45    0.666667\n 46    1.000000\n 47    1.000000\n 48    0.666667\n 49    0.750000\n 50    0.857143\n 51    0.875000\n 52    0.727273\n 53    0.500000\n 54    0.829268\n 55    0.877551\n 56    0.849057\n 57    0.846154\n 58    0.851064\n 59    0.885870\n 60    0.743316\n 61    0.816594\n 62    0.811224\n 63    0.780303\n 64    0.730612\n 65    0.719178\n 66    0.690554\n 67    0.713636\n 68    0.648387\n 69    0.644898\n 70    0.605263\n 71    0.482759\n 72    0.532872\n 73    0.545139\n 74    0.493274\n 75    0.417625\n 76    0.383178\n 77    0.368201\n 78    0.344262\n 79    0.313305\n 80    0.309013\n 81    0.253589\n 82    0.235023\n 83    0.260116\n 84    0.207965\n 85    0.176136\n 86    0.170854\n 87    0.142857\n 88    0.165714\n 89    0.114754\n 90    0.129412\n 91    0.150000\n 92    0.193548\n 93    0.153846\n 94    1.000000\nName: RiskPerformance, dtype: float64\n"
                    ]
                }
            ],
            "source": [
                "means = \"replace this string with your answer\"\n",
                "\n",
                "#compute average of RiskPerformance\n",
                "means = df_train.groupby(['ExternalRiskEstimate']).mean()['RiskPerformance']\n",
                "\n",
                "print(means)\n"
            ]
        },
        {
            "cell_type": "code",
            "execution_count": 22,
            "metadata": {
                "nbgrader": {
                    "grade": true,
                    "grade_id": "q3_1",
                    "locked": true,
                    "points": 3,
                    "schema_version": 3,
                    "solution": false,
                    "task": false
                },
                "editable": false,
                "deletable": false
            },
            "outputs": [],
            "source": [
                "### BEGIN TEST (DO NOT REMOVE CELL)\n",
                "sol = ANSWER_KEY['means']\n",
                "diff = sol.compare(means, keep_equal=False, align_axis=0)\n",
                "assert(len(diff)==0), 'testing means'\n",
                "### END TEST "
            ]
        },
        {
            "cell_type": "code",
            "execution_count": 23,
            "metadata": {
                "scrolled": true
            },
            "outputs": [
                {
                    "output_type": "stream",
                    "name": "stdout",
                    "text": [
                        "ExternalRiskEstimate\n-9     0.875000\n 34    0.000000\n 36    1.000000\n 37    1.000000\n 39    1.000000\n 40    1.000000\n 41    1.000000\n 43    0.600000\n 44    1.000000\n 45    0.666667\n 46    1.000000\n 47    1.000000\n 48    0.666667\n 49    0.750000\n 50    0.857143\n 51    0.875000\n 52    0.727273\n 53    0.500000\n 54    0.829268\n 55    0.877551\n 56    0.849057\n 57    0.846154\n 58    0.851064\n 59    0.885870\n 60    0.743316\n 61    0.816594\n 62    0.811224\n 63    0.780303\n 64    0.730612\n 65    0.719178\n 66    0.690554\n 67    0.713636\n 68    0.648387\n 69    0.644898\n 70    0.605263\n 71    0.482759\n 72    0.532872\n 73    0.545139\n 74    0.493274\n 75    0.417625\n 76    0.383178\n 77    0.368201\n 78    0.344262\n 79    0.313305\n 80    0.309013\n 81    0.253589\n 82    0.235023\n 83    0.260116\n 84    0.207965\n 85    0.176136\n 86    0.170854\n 87    0.142857\n 88    0.165714\n 89    0.114754\n 90    0.129412\n 91    0.150000\n 92    0.193548\n 93    0.153846\n 94    1.000000\nName: RiskPerformance, dtype: float64\n"
                    ]
                }
            ],
            "source": [
                "# example of output\n",
                "print(ANSWER_KEY['means'])"
            ]
        },
        {
            "cell_type": "markdown",
            "metadata": {},
            "source": [
                "For example, we see 0.875 of the customers whose `ExternalRiskEstimate` is equal to 51 were late on their payments.\n",
                "\n",
                "Similarly to `means`, create the variable `counts` which counts the number of customers with a certain `ExternalRiskEstimate`."
            ]
        },
        {
            "cell_type": "code",
            "execution_count": 24,
            "metadata": {
                "nbgrader": {
                    "grade": false,
                    "grade_id": "cell-017adfb324619d35",
                    "locked": false,
                    "schema_version": 3,
                    "solution": true,
                    "task": false
                },
                "tags": []
            },
            "outputs": [
                {
                    "output_type": "stream",
                    "name": "stdout",
                    "text": [
                        "ExternalRiskEstimate\n-9       8\n 34      1\n 36      1\n 37      1\n 39      1\n 40      2\n 41      1\n 43      5\n 44      2\n 45      3\n 46      1\n 47      5\n 48      3\n 49      4\n 50     14\n 51      8\n 52     11\n 53      2\n 54     82\n 55     98\n 56    159\n 57    156\n 58    141\n 59    184\n 60    187\n 61    229\n 62    196\n 63    264\n 64    245\n 65    292\n 66    307\n 67    220\n 68    310\n 69    245\n 70    266\n 71    232\n 72    289\n 73    288\n 74    223\n 75    261\n 76    214\n 77    239\n 78    183\n 79    233\n 80    233\n 81    209\n 82    217\n 83    173\n 84    226\n 85    176\n 86    199\n 87    140\n 88    175\n 89    122\n 90     85\n 91     80\n 92     31\n 93     13\n 94      1\nName: RiskPerformance, dtype: int64\n"
                    ]
                }
            ],
            "source": [
                "counts = \"replace this string with your answer\"\n",
                "\n",
                "#count the number of customers with a certain ExternalRiskPeroformance\n",
                "counts = df_train.groupby(['ExternalRiskEstimate']).count()['RiskPerformance']\n",
                "\n",
                "print(counts)\n"
            ]
        },
        {
            "cell_type": "code",
            "execution_count": 25,
            "metadata": {
                "nbgrader": {
                    "grade": true,
                    "grade_id": "q3_2",
                    "locked": true,
                    "points": 3,
                    "schema_version": 3,
                    "solution": false,
                    "task": false
                },
                "editable": false,
                "deletable": false
            },
            "outputs": [],
            "source": [
                "### BEGIN TEST (DO NOT REMOVE CELL)\n",
                "sol = ANSWER_KEY['counts']\n",
                "diff = sol.compare(counts, keep_equal=False, align_axis=0)\n",
                "assert(len(diff)==0), 'testing counts'\n",
                "### END TEST "
            ]
        },
        {
            "cell_type": "code",
            "execution_count": 26,
            "metadata": {
                "scrolled": true
            },
            "outputs": [
                {
                    "output_type": "stream",
                    "name": "stdout",
                    "text": [
                        "ExternalRiskEstimate\n-9       8\n 34      1\n 36      1\n 37      1\n 39      1\n 40      2\n 41      1\n 43      5\n 44      2\n 45      3\n 46      1\n 47      5\n 48      3\n 49      4\n 50     14\n 51      8\n 52     11\n 53      2\n 54     82\n 55     98\n 56    159\n 57    156\n 58    141\n 59    184\n 60    187\n 61    229\n 62    196\n 63    264\n 64    245\n 65    292\n 66    307\n 67    220\n 68    310\n 69    245\n 70    266\n 71    232\n 72    289\n 73    288\n 74    223\n 75    261\n 76    214\n 77    239\n 78    183\n 79    233\n 80    233\n 81    209\n 82    217\n 83    173\n 84    226\n 85    176\n 86    199\n 87    140\n 88    175\n 89    122\n 90     85\n 91     80\n 92     31\n 93     13\n 94      1\nName: RiskPerformance, dtype: int64\n"
                    ]
                }
            ],
            "source": [
                "# example of output\n",
                "print(ANSWER_KEY['counts'])"
            ]
        },
        {
            "cell_type": "markdown",
            "metadata": {
                "nbgrader": {
                    "grade": false,
                    "grade_id": "cell-9d26ffea4fcb18dd",
                    "locked": true,
                    "schema_version": 3,
                    "solution": false,
                    "task": false
                },
                "editable": false,
                "deletable": false
            },
            "source": [
                "For example, there are 14 customers in the train data for whom `ExternalRiskEstimate=50`.\n",
                "\n",
                "Let's plot the default risk as a function of the `ExternalRiskEstimate` and the corresponding counts."
            ]
        },
        {
            "cell_type": "code",
            "execution_count": 27,
            "metadata": {
                "nbgrader": {
                    "grade": false,
                    "grade_id": "cell-4f37173d95668e2d",
                    "locked": true,
                    "schema_version": 3,
                    "solution": false,
                    "task": false
                },
                "scrolled": true,
                "editable": false,
                "deletable": false
            },
            "outputs": [
                {
                    "output_type": "display_data",
                    "data": {
                        "text/plain": "<Figure size 1440x504 with 2 Axes>",
                        "image/svg+xml": "<?xml version=\"1.0\" encoding=\"utf-8\" standalone=\"no\"?>\n<!DOCTYPE svg PUBLIC \"-//W3C//DTD SVG 1.1//EN\"\n  \"http://www.w3.org/Graphics/SVG/1.1/DTD/svg11.dtd\">\n<!-- Created with matplotlib (https://matplotlib.org/) -->\n<svg height=\"495.57125pt\" version=\"1.1\" viewBox=\"0 0 1432.002046 495.57125\" width=\"1432.002046pt\" xmlns=\"http://www.w3.org/2000/svg\" xmlns:xlink=\"http://www.w3.org/1999/xlink\">\n <metadata>\n  <rdf:RDF xmlns:cc=\"http://creativecommons.org/ns#\" xmlns:dc=\"http://purl.org/dc/elements/1.1/\" xmlns:rdf=\"http://www.w3.org/1999/02/22-rdf-syntax-ns#\">\n   <cc:Work>\n    <dc:type rdf:resource=\"http://purl.org/dc/dcmitype/StillImage\"/>\n    <dc:date>2021-02-03T22:20:36.622609</dc:date>\n    <dc:format>image/svg+xml</dc:format>\n    <dc:creator>\n     <cc:Agent>\n      <dc:title>Matplotlib v3.3.2, https://matplotlib.org/</dc:title>\n     </cc:Agent>\n    </dc:creator>\n   </cc:Work>\n  </rdf:RDF>\n </metadata>\n <defs>\n  <style type=\"text/css\">*{stroke-linecap:butt;stroke-linejoin:round;}</style>\n </defs>\n <g id=\"figure_1\">\n  <g id=\"patch_1\">\n   <path d=\"M 0 495.57125 \nL 1432.002046 495.57125 \nL 1432.002046 0 \nL 0 0 \nz\n\" style=\"fill:none;\"/>\n  </g>\n  <g id=\"axes_1\">\n   <g id=\"patch_2\">\n    <path d=\"M 30.103125 454.968125 \nL 708.639546 454.968125 \nL 708.639546 22.318125 \nL 30.103125 22.318125 \nz\n\" style=\"fill:#ffffff;\"/>\n   </g>\n   <g id=\"patch_3\">\n    <path clip-path=\"url(#p73de09d340)\" d=\"M 32.978279 454.968125 \nL 38.728588 454.968125 \nL 38.728588 94.426458 \nL 32.978279 94.426458 \nz\n\" style=\"fill:#1f77b4;\"/>\n   </g>\n   <g id=\"patch_4\">\n    <path clip-path=\"url(#p73de09d340)\" d=\"M 44.478897 454.968125 \nL 50.229205 454.968125 \nL 50.229205 454.968125 \nL 44.478897 454.968125 \nz\n\" style=\"fill:#1f77b4;\"/>\n   </g>\n   <g id=\"patch_5\">\n    <path clip-path=\"url(#p73de09d340)\" d=\"M 55.979514 454.968125 \nL 61.729823 454.968125 \nL 61.729823 42.920506 \nL 55.979514 42.920506 \nz\n\" style=\"fill:#1f77b4;\"/>\n   </g>\n   <g id=\"patch_6\">\n    <path clip-path=\"url(#p73de09d340)\" d=\"M 67.480131 454.968125 \nL 73.23044 454.968125 \nL 73.23044 42.920506 \nL 67.480131 42.920506 \nz\n\" style=\"fill:#1f77b4;\"/>\n   </g>\n   <g id=\"patch_7\">\n    <path clip-path=\"url(#p73de09d340)\" d=\"M 78.980749 454.968125 \nL 84.731057 454.968125 \nL 84.731057 42.920506 \nL 78.980749 42.920506 \nz\n\" style=\"fill:#1f77b4;\"/>\n   </g>\n   <g id=\"patch_8\">\n    <path clip-path=\"url(#p73de09d340)\" d=\"M 90.481366 454.968125 \nL 96.231675 454.968125 \nL 96.231675 42.920506 \nL 90.481366 42.920506 \nz\n\" style=\"fill:#1f77b4;\"/>\n   </g>\n   <g id=\"patch_9\">\n    <path clip-path=\"url(#p73de09d340)\" d=\"M 101.981983 454.968125 \nL 107.732292 454.968125 \nL 107.732292 42.920506 \nL 101.981983 42.920506 \nz\n\" style=\"fill:#1f77b4;\"/>\n   </g>\n   <g id=\"patch_10\">\n    <path clip-path=\"url(#p73de09d340)\" d=\"M 113.482601 454.968125 \nL 119.232909 454.968125 \nL 119.232909 207.739554 \nL 113.482601 207.739554 \nz\n\" style=\"fill:#1f77b4;\"/>\n   </g>\n   <g id=\"patch_11\">\n    <path clip-path=\"url(#p73de09d340)\" d=\"M 124.983218 454.968125 \nL 130.733526 454.968125 \nL 130.733526 42.920506 \nL 124.983218 42.920506 \nz\n\" style=\"fill:#1f77b4;\"/>\n   </g>\n   <g id=\"patch_12\">\n    <path clip-path=\"url(#p73de09d340)\" d=\"M 136.483835 454.968125 \nL 142.234144 454.968125 \nL 142.234144 180.269712 \nL 136.483835 180.269712 \nz\n\" style=\"fill:#1f77b4;\"/>\n   </g>\n   <g id=\"patch_13\">\n    <path clip-path=\"url(#p73de09d340)\" d=\"M 147.984452 454.968125 \nL 153.734761 454.968125 \nL 153.734761 42.920506 \nL 147.984452 42.920506 \nz\n\" style=\"fill:#1f77b4;\"/>\n   </g>\n   <g id=\"patch_14\">\n    <path clip-path=\"url(#p73de09d340)\" d=\"M 159.48507 454.968125 \nL 165.235378 454.968125 \nL 165.235378 42.920506 \nL 159.48507 42.920506 \nz\n\" style=\"fill:#1f77b4;\"/>\n   </g>\n   <g id=\"patch_15\">\n    <path clip-path=\"url(#p73de09d340)\" d=\"M 170.985687 454.968125 \nL 176.735996 454.968125 \nL 176.735996 180.269712 \nL 170.985687 180.269712 \nz\n\" style=\"fill:#1f77b4;\"/>\n   </g>\n   <g id=\"patch_16\">\n    <path clip-path=\"url(#p73de09d340)\" d=\"M 182.486304 454.968125 \nL 188.236613 454.968125 \nL 188.236613 145.932411 \nL 182.486304 145.932411 \nz\n\" style=\"fill:#1f77b4;\"/>\n   </g>\n   <g id=\"patch_17\">\n    <path clip-path=\"url(#p73de09d340)\" d=\"M 193.986922 454.968125 \nL 199.73723 454.968125 \nL 199.73723 101.784452 \nL 193.986922 101.784452 \nz\n\" style=\"fill:#1f77b4;\"/>\n   </g>\n   <g id=\"patch_18\">\n    <path clip-path=\"url(#p73de09d340)\" d=\"M 205.487539 454.968125 \nL 211.237848 454.968125 \nL 211.237848 94.426458 \nL 205.487539 94.426458 \nz\n\" style=\"fill:#1f77b4;\"/>\n   </g>\n   <g id=\"patch_19\">\n    <path clip-path=\"url(#p73de09d340)\" d=\"M 216.988156 454.968125 \nL 222.738465 454.968125 \nL 222.738465 155.297129 \nL 216.988156 155.297129 \nz\n\" style=\"fill:#1f77b4;\"/>\n   </g>\n   <g id=\"patch_20\">\n    <path clip-path=\"url(#p73de09d340)\" d=\"M 228.488774 454.968125 \nL 234.239082 454.968125 \nL 234.239082 248.944315 \nL 228.488774 248.944315 \nz\n\" style=\"fill:#1f77b4;\"/>\n   </g>\n   <g id=\"patch_21\">\n    <path clip-path=\"url(#p73de09d340)\" d=\"M 239.989391 454.968125 \nL 245.7397 454.968125 \nL 245.7397 113.270099 \nL 239.989391 113.270099 \nz\n\" style=\"fill:#1f77b4;\"/>\n   </g>\n   <g id=\"patch_22\">\n    <path clip-path=\"url(#p73de09d340)\" d=\"M 251.490008 454.968125 \nL 257.240317 454.968125 \nL 257.240317 93.375316 \nL 251.490008 93.375316 \nz\n\" style=\"fill:#1f77b4;\"/>\n   </g>\n   <g id=\"patch_23\">\n    <path clip-path=\"url(#p73de09d340)\" d=\"M 262.990626 454.968125 \nL 268.740934 454.968125 \nL 268.740934 105.116373 \nL 262.990626 105.116373 \nz\n\" style=\"fill:#1f77b4;\"/>\n   </g>\n   <g id=\"patch_24\">\n    <path clip-path=\"url(#p73de09d340)\" d=\"M 274.491243 454.968125 \nL 280.241552 454.968125 \nL 280.241552 106.312447 \nL 274.491243 106.312447 \nz\n\" style=\"fill:#1f77b4;\"/>\n   </g>\n   <g id=\"patch_25\">\n    <path clip-path=\"url(#p73de09d340)\" d=\"M 285.99186 454.968125 \nL 291.742169 454.968125 \nL 291.742169 104.2893 \nL 285.99186 104.2893 \nz\n\" style=\"fill:#1f77b4;\"/>\n   </g>\n   <g id=\"patch_26\">\n    <path clip-path=\"url(#p73de09d340)\" d=\"M 297.492478 454.968125 \nL 303.242786 454.968125 \nL 303.242786 89.94768 \nL 297.492478 89.94768 \nz\n\" style=\"fill:#1f77b4;\"/>\n   </g>\n   <g id=\"patch_27\">\n    <path clip-path=\"url(#p73de09d340)\" d=\"M 308.993095 454.968125 \nL 314.743403 454.968125 \nL 314.743403 148.68674 \nL 308.993095 148.68674 \nz\n\" style=\"fill:#1f77b4;\"/>\n   </g>\n   <g id=\"patch_28\">\n    <path clip-path=\"url(#p73de09d340)\" d=\"M 320.493712 454.968125 \nL 326.244021 454.968125 \nL 326.244021 118.492558 \nL 320.493712 118.492558 \nz\n\" style=\"fill:#1f77b4;\"/>\n   </g>\n   <g id=\"patch_29\">\n    <path clip-path=\"url(#p73de09d340)\" d=\"M 331.994329 454.968125 \nL 337.744638 454.968125 \nL 337.744638 120.705005 \nL 331.994329 120.705005 \nz\n\" style=\"fill:#1f77b4;\"/>\n   </g>\n   <g id=\"patch_30\">\n    <path clip-path=\"url(#p73de09d340)\" d=\"M 343.494947 454.968125 \nL 349.245255 454.968125 \nL 349.245255 133.446119 \nL 343.494947 133.446119 \nz\n\" style=\"fill:#1f77b4;\"/>\n   </g>\n   <g id=\"patch_31\">\n    <path clip-path=\"url(#p73de09d340)\" d=\"M 354.995564 454.968125 \nL 360.745873 454.968125 \nL 360.745873 153.921089 \nL 354.995564 153.921089 \nz\n\" style=\"fill:#1f77b4;\"/>\n   </g>\n   <g id=\"patch_32\">\n    <path clip-path=\"url(#p73de09d340)\" d=\"M 366.496181 454.968125 \nL 372.24649 454.968125 \nL 372.24649 158.632509 \nL 366.496181 158.632509 \nz\n\" style=\"fill:#1f77b4;\"/>\n   </g>\n   <g id=\"patch_33\">\n    <path clip-path=\"url(#p73de09d340)\" d=\"M 377.996799 454.968125 \nL 383.747107 454.968125 \nL 383.747107 170.427098 \nL 377.996799 170.427098 \nz\n\" style=\"fill:#1f77b4;\"/>\n   </g>\n   <g id=\"patch_34\">\n    <path clip-path=\"url(#p73de09d340)\" d=\"M 389.497416 454.968125 \nL 395.247725 454.968125 \nL 395.247725 160.91596 \nL 389.497416 160.91596 \nz\n\" style=\"fill:#1f77b4;\"/>\n   </g>\n   <g id=\"patch_35\">\n    <path clip-path=\"url(#p73de09d340)\" d=\"M 400.998033 454.968125 \nL 406.748342 454.968125 \nL 406.748342 187.801766 \nL 400.998033 187.801766 \nz\n\" style=\"fill:#1f77b4;\"/>\n   </g>\n   <g id=\"patch_36\">\n    <path clip-path=\"url(#p73de09d340)\" d=\"M 412.498651 454.968125 \nL 418.248959 454.968125 \nL 418.248959 189.239456 \nL 412.498651 189.239456 \nz\n\" style=\"fill:#1f77b4;\"/>\n   </g>\n   <g id=\"patch_37\">\n    <path clip-path=\"url(#p73de09d340)\" d=\"M 423.999268 454.968125 \nL 429.749577 454.968125 \nL 429.749577 205.570882 \nL 423.999268 205.570882 \nz\n\" style=\"fill:#1f77b4;\"/>\n   </g>\n   <g id=\"patch_38\">\n    <path clip-path=\"url(#p73de09d340)\" d=\"M 435.499885 454.968125 \nL 441.250194 454.968125 \nL 441.250194 256.048585 \nL 435.499885 256.048585 \nz\n\" style=\"fill:#1f77b4;\"/>\n   </g>\n   <g id=\"patch_39\">\n    <path clip-path=\"url(#p73de09d340)\" d=\"M 447.000503 454.968125 \nL 452.750811 454.968125 \nL 452.750811 235.399498 \nL 447.000503 235.399498 \nz\n\" style=\"fill:#1f77b4;\"/>\n   </g>\n   <g id=\"patch_40\">\n    <path clip-path=\"url(#p73de09d340)\" d=\"M 458.50112 454.968125 \nL 464.251429 454.968125 \nL 464.251429 230.344944 \nL 458.50112 230.344944 \nz\n\" style=\"fill:#1f77b4;\"/>\n   </g>\n   <g id=\"patch_41\">\n    <path clip-path=\"url(#p73de09d340)\" d=\"M 470.001737 454.968125 \nL 475.752046 454.968125 \nL 475.752046 251.715936 \nL 470.001737 251.715936 \nz\n\" style=\"fill:#1f77b4;\"/>\n   </g>\n   <g id=\"patch_42\">\n    <path clip-path=\"url(#p73de09d340)\" d=\"M 481.502355 454.968125 \nL 487.252663 454.968125 \nL 487.252663 282.886935 \nL 481.502355 282.886935 \nz\n\" style=\"fill:#1f77b4;\"/>\n   </g>\n   <g id=\"patch_43\">\n    <path clip-path=\"url(#p73de09d340)\" d=\"M 493.002972 454.968125 \nL 498.75328 454.968125 \nL 498.75328 297.08072 \nL 493.002972 297.08072 \nz\n\" style=\"fill:#1f77b4;\"/>\n   </g>\n   <g id=\"patch_44\">\n    <path clip-path=\"url(#p73de09d340)\" d=\"M 504.503589 454.968125 \nL 510.253898 454.968125 \nL 510.253898 303.251847 \nL 504.503589 303.251847 \nz\n\" style=\"fill:#1f77b4;\"/>\n   </g>\n   <g id=\"patch_45\">\n    <path clip-path=\"url(#p73de09d340)\" d=\"M 516.004206 454.968125 \nL 521.754515 454.968125 \nL 521.754515 313.115666 \nL 516.004206 313.115666 \nz\n\" style=\"fill:#1f77b4;\"/>\n   </g>\n   <g id=\"patch_46\">\n    <path clip-path=\"url(#p73de09d340)\" d=\"M 527.504824 454.968125 \nL 533.255132 454.968125 \nL 533.255132 325.871661 \nL 527.504824 325.871661 \nz\n\" style=\"fill:#1f77b4;\"/>\n   </g>\n   <g id=\"patch_47\">\n    <path clip-path=\"url(#p73de09d340)\" d=\"M 539.005441 454.968125 \nL 544.75575 454.968125 \nL 544.75575 327.640105 \nL 539.005441 327.640105 \nz\n\" style=\"fill:#1f77b4;\"/>\n   </g>\n   <g id=\"patch_48\">\n    <path clip-path=\"url(#p73de09d340)\" d=\"M 550.506058 454.968125 \nL 556.256367 454.968125 \nL 556.256367 350.47758 \nL 550.506058 350.47758 \nz\n\" style=\"fill:#1f77b4;\"/>\n   </g>\n   <g id=\"patch_49\">\n    <path clip-path=\"url(#p73de09d340)\" d=\"M 562.006676 454.968125 \nL 567.756984 454.968125 \nL 567.756984 358.12744 \nL 562.006676 358.12744 \nz\n\" style=\"fill:#1f77b4;\"/>\n   </g>\n   <g id=\"patch_50\">\n    <path clip-path=\"url(#p73de09d340)\" d=\"M 573.507293 454.968125 \nL 579.257602 454.968125 \nL 579.257602 347.788108 \nL 573.507293 347.788108 \nz\n\" style=\"fill:#1f77b4;\"/>\n   </g>\n   <g id=\"patch_51\">\n    <path clip-path=\"url(#p73de09d340)\" d=\"M 585.00791 454.968125 \nL 590.758219 454.968125 \nL 590.758219 369.276806 \nL 585.00791 369.276806 \nz\n\" style=\"fill:#1f77b4;\"/>\n   </g>\n   <g id=\"patch_52\">\n    <path clip-path=\"url(#p73de09d340)\" d=\"M 596.508528 454.968125 \nL 602.258836 454.968125 \nL 602.258836 382.391556 \nL 596.508528 382.391556 \nz\n\" style=\"fill:#1f77b4;\"/>\n   </g>\n   <g id=\"patch_53\">\n    <path clip-path=\"url(#p73de09d340)\" d=\"M 608.009145 454.968125 \nL 613.759454 454.968125 \nL 613.759454 384.568029 \nL 608.009145 384.568029 \nz\n\" style=\"fill:#1f77b4;\"/>\n   </g>\n   <g id=\"patch_54\">\n    <path clip-path=\"url(#p73de09d340)\" d=\"M 619.509762 454.968125 \nL 625.260071 454.968125 \nL 625.260071 396.104179 \nL 619.509762 396.104179 \nz\n\" style=\"fill:#1f77b4;\"/>\n   </g>\n   <g id=\"patch_55\">\n    <path clip-path=\"url(#p73de09d340)\" d=\"M 631.01038 454.968125 \nL 636.760688 454.968125 \nL 636.760688 386.685948 \nL 631.01038 386.685948 \nz\n\" style=\"fill:#1f77b4;\"/>\n   </g>\n   <g id=\"patch_56\">\n    <path clip-path=\"url(#p73de09d340)\" d=\"M 642.510997 454.968125 \nL 648.261306 454.968125 \nL 648.261306 407.683972 \nL 642.510997 407.683972 \nz\n\" style=\"fill:#1f77b4;\"/>\n   </g>\n   <g id=\"patch_57\">\n    <path clip-path=\"url(#p73de09d340)\" d=\"M 654.011614 454.968125 \nL 659.761923 454.968125 \nL 659.761923 401.644315 \nL 654.011614 401.644315 \nz\n\" style=\"fill:#1f77b4;\"/>\n   </g>\n   <g id=\"patch_58\">\n    <path clip-path=\"url(#p73de09d340)\" d=\"M 665.512231 454.968125 \nL 671.26254 454.968125 \nL 671.26254 393.160982 \nL 665.512231 393.160982 \nz\n\" style=\"fill:#1f77b4;\"/>\n   </g>\n   <g id=\"patch_59\">\n    <path clip-path=\"url(#p73de09d340)\" d=\"M 677.012849 454.968125 \nL 682.763157 454.968125 \nL 682.763157 375.216973 \nL 677.012849 375.216973 \nz\n\" style=\"fill:#1f77b4;\"/>\n   </g>\n   <g id=\"patch_60\">\n    <path clip-path=\"url(#p73de09d340)\" d=\"M 688.513466 454.968125 \nL 694.263775 454.968125 \nL 694.263775 391.576184 \nL 688.513466 391.576184 \nz\n\" style=\"fill:#1f77b4;\"/>\n   </g>\n   <g id=\"patch_61\">\n    <path clip-path=\"url(#p73de09d340)\" d=\"M 700.014083 454.968125 \nL 705.764392 454.968125 \nL 705.764392 42.920506 \nL 700.014083 42.920506 \nz\n\" style=\"fill:#1f77b4;\"/>\n   </g>\n   <g id=\"matplotlib.axis_1\">\n    <g id=\"xtick_1\">\n     <g id=\"line2d_1\">\n      <defs>\n       <path d=\"M 0 0 \nL 0 3.5 \n\" id=\"m70ab8f37e7\" style=\"stroke:#000000;stroke-width:0.8;\"/>\n      </defs>\n      <g>\n       <use style=\"stroke:#000000;stroke-width:0.8;\" x=\"35.853434\" xlink:href=\"#m70ab8f37e7\" y=\"454.968125\"/>\n      </g>\n     </g>\n     <g id=\"text_1\">\n      <!-- -9 -->\n      <g transform=\"translate(38.612809 471.938438)rotate(-90)scale(0.1 -0.1)\">\n       <defs>\n        <path d=\"M 4.890625 31.390625 \nL 31.203125 31.390625 \nL 31.203125 23.390625 \nL 4.890625 23.390625 \nz\n\" id=\"DejaVuSans-45\"/>\n        <path d=\"M 10.984375 1.515625 \nL 10.984375 10.5 \nQ 14.703125 8.734375 18.5 7.8125 \nQ 22.3125 6.890625 25.984375 6.890625 \nQ 35.75 6.890625 40.890625 13.453125 \nQ 46.046875 20.015625 46.78125 33.40625 \nQ 43.953125 29.203125 39.59375 26.953125 \nQ 35.25 24.703125 29.984375 24.703125 \nQ 19.046875 24.703125 12.671875 31.3125 \nQ 6.296875 37.9375 6.296875 49.421875 \nQ 6.296875 60.640625 12.9375 67.421875 \nQ 19.578125 74.21875 30.609375 74.21875 \nQ 43.265625 74.21875 49.921875 64.515625 \nQ 56.59375 54.828125 56.59375 36.375 \nQ 56.59375 19.140625 48.40625 8.859375 \nQ 40.234375 -1.421875 26.421875 -1.421875 \nQ 22.703125 -1.421875 18.890625 -0.6875 \nQ 15.09375 0.046875 10.984375 1.515625 \nz\nM 30.609375 32.421875 \nQ 37.25 32.421875 41.125 36.953125 \nQ 45.015625 41.5 45.015625 49.421875 \nQ 45.015625 57.28125 41.125 61.84375 \nQ 37.25 66.40625 30.609375 66.40625 \nQ 23.96875 66.40625 20.09375 61.84375 \nQ 16.21875 57.28125 16.21875 49.421875 \nQ 16.21875 41.5 20.09375 36.953125 \nQ 23.96875 32.421875 30.609375 32.421875 \nz\n\" id=\"DejaVuSans-57\"/>\n       </defs>\n       <use xlink:href=\"#DejaVuSans-45\"/>\n       <use x=\"36.083984\" xlink:href=\"#DejaVuSans-57\"/>\n      </g>\n     </g>\n    </g>\n    <g id=\"xtick_2\">\n     <g id=\"line2d_2\">\n      <g>\n       <use style=\"stroke:#000000;stroke-width:0.8;\" x=\"47.354051\" xlink:href=\"#m70ab8f37e7\" y=\"454.968125\"/>\n      </g>\n     </g>\n     <g id=\"text_2\">\n      <!-- 34 -->\n      <g transform=\"translate(50.113426 474.693125)rotate(-90)scale(0.1 -0.1)\">\n       <defs>\n        <path d=\"M 40.578125 39.3125 \nQ 47.65625 37.796875 51.625 33 \nQ 55.609375 28.21875 55.609375 21.1875 \nQ 55.609375 10.40625 48.1875 4.484375 \nQ 40.765625 -1.421875 27.09375 -1.421875 \nQ 22.515625 -1.421875 17.65625 -0.515625 \nQ 12.796875 0.390625 7.625 2.203125 \nL 7.625 11.71875 \nQ 11.71875 9.328125 16.59375 8.109375 \nQ 21.484375 6.890625 26.8125 6.890625 \nQ 36.078125 6.890625 40.9375 10.546875 \nQ 45.796875 14.203125 45.796875 21.1875 \nQ 45.796875 27.640625 41.28125 31.265625 \nQ 36.765625 34.90625 28.71875 34.90625 \nL 20.21875 34.90625 \nL 20.21875 43.015625 \nL 29.109375 43.015625 \nQ 36.375 43.015625 40.234375 45.921875 \nQ 44.09375 48.828125 44.09375 54.296875 \nQ 44.09375 59.90625 40.109375 62.90625 \nQ 36.140625 65.921875 28.71875 65.921875 \nQ 24.65625 65.921875 20.015625 65.03125 \nQ 15.375 64.15625 9.8125 62.3125 \nL 9.8125 71.09375 \nQ 15.4375 72.65625 20.34375 73.4375 \nQ 25.25 74.21875 29.59375 74.21875 \nQ 40.828125 74.21875 47.359375 69.109375 \nQ 53.90625 64.015625 53.90625 55.328125 \nQ 53.90625 49.265625 50.4375 45.09375 \nQ 46.96875 40.921875 40.578125 39.3125 \nz\n\" id=\"DejaVuSans-51\"/>\n        <path d=\"M 37.796875 64.3125 \nL 12.890625 25.390625 \nL 37.796875 25.390625 \nz\nM 35.203125 72.90625 \nL 47.609375 72.90625 \nL 47.609375 25.390625 \nL 58.015625 25.390625 \nL 58.015625 17.1875 \nL 47.609375 17.1875 \nL 47.609375 0 \nL 37.796875 0 \nL 37.796875 17.1875 \nL 4.890625 17.1875 \nL 4.890625 26.703125 \nz\n\" id=\"DejaVuSans-52\"/>\n       </defs>\n       <use xlink:href=\"#DejaVuSans-51\"/>\n       <use x=\"63.623047\" xlink:href=\"#DejaVuSans-52\"/>\n      </g>\n     </g>\n    </g>\n    <g id=\"xtick_3\">\n     <g id=\"line2d_3\">\n      <g>\n       <use style=\"stroke:#000000;stroke-width:0.8;\" x=\"58.854668\" xlink:href=\"#m70ab8f37e7\" y=\"454.968125\"/>\n      </g>\n     </g>\n     <g id=\"text_3\">\n      <!-- 36 -->\n      <g transform=\"translate(61.614043 474.693125)rotate(-90)scale(0.1 -0.1)\">\n       <defs>\n        <path d=\"M 33.015625 40.375 \nQ 26.375 40.375 22.484375 35.828125 \nQ 18.609375 31.296875 18.609375 23.390625 \nQ 18.609375 15.53125 22.484375 10.953125 \nQ 26.375 6.390625 33.015625 6.390625 \nQ 39.65625 6.390625 43.53125 10.953125 \nQ 47.40625 15.53125 47.40625 23.390625 \nQ 47.40625 31.296875 43.53125 35.828125 \nQ 39.65625 40.375 33.015625 40.375 \nz\nM 52.59375 71.296875 \nL 52.59375 62.3125 \nQ 48.875 64.0625 45.09375 64.984375 \nQ 41.3125 65.921875 37.59375 65.921875 \nQ 27.828125 65.921875 22.671875 59.328125 \nQ 17.53125 52.734375 16.796875 39.40625 \nQ 19.671875 43.65625 24.015625 45.921875 \nQ 28.375 48.1875 33.59375 48.1875 \nQ 44.578125 48.1875 50.953125 41.515625 \nQ 57.328125 34.859375 57.328125 23.390625 \nQ 57.328125 12.15625 50.6875 5.359375 \nQ 44.046875 -1.421875 33.015625 -1.421875 \nQ 20.359375 -1.421875 13.671875 8.265625 \nQ 6.984375 17.96875 6.984375 36.375 \nQ 6.984375 53.65625 15.1875 63.9375 \nQ 23.390625 74.21875 37.203125 74.21875 \nQ 40.921875 74.21875 44.703125 73.484375 \nQ 48.484375 72.75 52.59375 71.296875 \nz\n\" id=\"DejaVuSans-54\"/>\n       </defs>\n       <use xlink:href=\"#DejaVuSans-51\"/>\n       <use x=\"63.623047\" xlink:href=\"#DejaVuSans-54\"/>\n      </g>\n     </g>\n    </g>\n    <g id=\"xtick_4\">\n     <g id=\"line2d_4\">\n      <g>\n       <use style=\"stroke:#000000;stroke-width:0.8;\" x=\"70.355286\" xlink:href=\"#m70ab8f37e7\" y=\"454.968125\"/>\n      </g>\n     </g>\n     <g id=\"text_4\">\n      <!-- 37 -->\n      <g transform=\"translate(73.114661 474.693125)rotate(-90)scale(0.1 -0.1)\">\n       <defs>\n        <path d=\"M 8.203125 72.90625 \nL 55.078125 72.90625 \nL 55.078125 68.703125 \nL 28.609375 0 \nL 18.3125 0 \nL 43.21875 64.59375 \nL 8.203125 64.59375 \nz\n\" id=\"DejaVuSans-55\"/>\n       </defs>\n       <use xlink:href=\"#DejaVuSans-51\"/>\n       <use x=\"63.623047\" xlink:href=\"#DejaVuSans-55\"/>\n      </g>\n     </g>\n    </g>\n    <g id=\"xtick_5\">\n     <g id=\"line2d_5\">\n      <g>\n       <use style=\"stroke:#000000;stroke-width:0.8;\" x=\"81.855903\" xlink:href=\"#m70ab8f37e7\" y=\"454.968125\"/>\n      </g>\n     </g>\n     <g id=\"text_5\">\n      <!-- 39 -->\n      <g transform=\"translate(84.615278 474.693125)rotate(-90)scale(0.1 -0.1)\">\n       <use xlink:href=\"#DejaVuSans-51\"/>\n       <use x=\"63.623047\" xlink:href=\"#DejaVuSans-57\"/>\n      </g>\n     </g>\n    </g>\n    <g id=\"xtick_6\">\n     <g id=\"line2d_6\">\n      <g>\n       <use style=\"stroke:#000000;stroke-width:0.8;\" x=\"93.35652\" xlink:href=\"#m70ab8f37e7\" y=\"454.968125\"/>\n      </g>\n     </g>\n     <g id=\"text_6\">\n      <!-- 40 -->\n      <g transform=\"translate(96.115895 474.693125)rotate(-90)scale(0.1 -0.1)\">\n       <defs>\n        <path d=\"M 31.78125 66.40625 \nQ 24.171875 66.40625 20.328125 58.90625 \nQ 16.5 51.421875 16.5 36.375 \nQ 16.5 21.390625 20.328125 13.890625 \nQ 24.171875 6.390625 31.78125 6.390625 \nQ 39.453125 6.390625 43.28125 13.890625 \nQ 47.125 21.390625 47.125 36.375 \nQ 47.125 51.421875 43.28125 58.90625 \nQ 39.453125 66.40625 31.78125 66.40625 \nz\nM 31.78125 74.21875 \nQ 44.046875 74.21875 50.515625 64.515625 \nQ 56.984375 54.828125 56.984375 36.375 \nQ 56.984375 17.96875 50.515625 8.265625 \nQ 44.046875 -1.421875 31.78125 -1.421875 \nQ 19.53125 -1.421875 13.0625 8.265625 \nQ 6.59375 17.96875 6.59375 36.375 \nQ 6.59375 54.828125 13.0625 64.515625 \nQ 19.53125 74.21875 31.78125 74.21875 \nz\n\" id=\"DejaVuSans-48\"/>\n       </defs>\n       <use xlink:href=\"#DejaVuSans-52\"/>\n       <use x=\"63.623047\" xlink:href=\"#DejaVuSans-48\"/>\n      </g>\n     </g>\n    </g>\n    <g id=\"xtick_7\">\n     <g id=\"line2d_7\">\n      <g>\n       <use style=\"stroke:#000000;stroke-width:0.8;\" x=\"104.857138\" xlink:href=\"#m70ab8f37e7\" y=\"454.968125\"/>\n      </g>\n     </g>\n     <g id=\"text_7\">\n      <!-- 41 -->\n      <g transform=\"translate(107.616513 474.693125)rotate(-90)scale(0.1 -0.1)\">\n       <defs>\n        <path d=\"M 12.40625 8.296875 \nL 28.515625 8.296875 \nL 28.515625 63.921875 \nL 10.984375 60.40625 \nL 10.984375 69.390625 \nL 28.421875 72.90625 \nL 38.28125 72.90625 \nL 38.28125 8.296875 \nL 54.390625 8.296875 \nL 54.390625 0 \nL 12.40625 0 \nz\n\" id=\"DejaVuSans-49\"/>\n       </defs>\n       <use xlink:href=\"#DejaVuSans-52\"/>\n       <use x=\"63.623047\" xlink:href=\"#DejaVuSans-49\"/>\n      </g>\n     </g>\n    </g>\n    <g id=\"xtick_8\">\n     <g id=\"line2d_8\">\n      <g>\n       <use style=\"stroke:#000000;stroke-width:0.8;\" x=\"116.357755\" xlink:href=\"#m70ab8f37e7\" y=\"454.968125\"/>\n      </g>\n     </g>\n     <g id=\"text_8\">\n      <!-- 43 -->\n      <g transform=\"translate(119.11713 474.693125)rotate(-90)scale(0.1 -0.1)\">\n       <use xlink:href=\"#DejaVuSans-52\"/>\n       <use x=\"63.623047\" xlink:href=\"#DejaVuSans-51\"/>\n      </g>\n     </g>\n    </g>\n    <g id=\"xtick_9\">\n     <g id=\"line2d_9\">\n      <g>\n       <use style=\"stroke:#000000;stroke-width:0.8;\" x=\"127.858372\" xlink:href=\"#m70ab8f37e7\" y=\"454.968125\"/>\n      </g>\n     </g>\n     <g id=\"text_9\">\n      <!-- 44 -->\n      <g transform=\"translate(130.617747 474.693125)rotate(-90)scale(0.1 -0.1)\">\n       <use xlink:href=\"#DejaVuSans-52\"/>\n       <use x=\"63.623047\" xlink:href=\"#DejaVuSans-52\"/>\n      </g>\n     </g>\n    </g>\n    <g id=\"xtick_10\">\n     <g id=\"line2d_10\">\n      <g>\n       <use style=\"stroke:#000000;stroke-width:0.8;\" x=\"139.358989\" xlink:href=\"#m70ab8f37e7\" y=\"454.968125\"/>\n      </g>\n     </g>\n     <g id=\"text_10\">\n      <!-- 45 -->\n      <g transform=\"translate(142.118364 474.693125)rotate(-90)scale(0.1 -0.1)\">\n       <defs>\n        <path d=\"M 10.796875 72.90625 \nL 49.515625 72.90625 \nL 49.515625 64.59375 \nL 19.828125 64.59375 \nL 19.828125 46.734375 \nQ 21.96875 47.46875 24.109375 47.828125 \nQ 26.265625 48.1875 28.421875 48.1875 \nQ 40.625 48.1875 47.75 41.5 \nQ 54.890625 34.8125 54.890625 23.390625 \nQ 54.890625 11.625 47.5625 5.09375 \nQ 40.234375 -1.421875 26.90625 -1.421875 \nQ 22.3125 -1.421875 17.546875 -0.640625 \nQ 12.796875 0.140625 7.71875 1.703125 \nL 7.71875 11.625 \nQ 12.109375 9.234375 16.796875 8.0625 \nQ 21.484375 6.890625 26.703125 6.890625 \nQ 35.15625 6.890625 40.078125 11.328125 \nQ 45.015625 15.765625 45.015625 23.390625 \nQ 45.015625 31 40.078125 35.4375 \nQ 35.15625 39.890625 26.703125 39.890625 \nQ 22.75 39.890625 18.8125 39.015625 \nQ 14.890625 38.140625 10.796875 36.28125 \nz\n\" id=\"DejaVuSans-53\"/>\n       </defs>\n       <use xlink:href=\"#DejaVuSans-52\"/>\n       <use x=\"63.623047\" xlink:href=\"#DejaVuSans-53\"/>\n      </g>\n     </g>\n    </g>\n    <g id=\"xtick_11\">\n     <g id=\"line2d_11\">\n      <g>\n       <use style=\"stroke:#000000;stroke-width:0.8;\" x=\"150.859607\" xlink:href=\"#m70ab8f37e7\" y=\"454.968125\"/>\n      </g>\n     </g>\n     <g id=\"text_11\">\n      <!-- 46 -->\n      <g transform=\"translate(153.618982 474.693125)rotate(-90)scale(0.1 -0.1)\">\n       <use xlink:href=\"#DejaVuSans-52\"/>\n       <use x=\"63.623047\" xlink:href=\"#DejaVuSans-54\"/>\n      </g>\n     </g>\n    </g>\n    <g id=\"xtick_12\">\n     <g id=\"line2d_12\">\n      <g>\n       <use style=\"stroke:#000000;stroke-width:0.8;\" x=\"162.360224\" xlink:href=\"#m70ab8f37e7\" y=\"454.968125\"/>\n      </g>\n     </g>\n     <g id=\"text_12\">\n      <!-- 47 -->\n      <g transform=\"translate(165.119599 474.693125)rotate(-90)scale(0.1 -0.1)\">\n       <use xlink:href=\"#DejaVuSans-52\"/>\n       <use x=\"63.623047\" xlink:href=\"#DejaVuSans-55\"/>\n      </g>\n     </g>\n    </g>\n    <g id=\"xtick_13\">\n     <g id=\"line2d_13\">\n      <g>\n       <use style=\"stroke:#000000;stroke-width:0.8;\" x=\"173.860841\" xlink:href=\"#m70ab8f37e7\" y=\"454.968125\"/>\n      </g>\n     </g>\n     <g id=\"text_13\">\n      <!-- 48 -->\n      <g transform=\"translate(176.620216 474.693125)rotate(-90)scale(0.1 -0.1)\">\n       <defs>\n        <path d=\"M 31.78125 34.625 \nQ 24.75 34.625 20.71875 30.859375 \nQ 16.703125 27.09375 16.703125 20.515625 \nQ 16.703125 13.921875 20.71875 10.15625 \nQ 24.75 6.390625 31.78125 6.390625 \nQ 38.8125 6.390625 42.859375 10.171875 \nQ 46.921875 13.96875 46.921875 20.515625 \nQ 46.921875 27.09375 42.890625 30.859375 \nQ 38.875 34.625 31.78125 34.625 \nz\nM 21.921875 38.8125 \nQ 15.578125 40.375 12.03125 44.71875 \nQ 8.5 49.078125 8.5 55.328125 \nQ 8.5 64.0625 14.71875 69.140625 \nQ 20.953125 74.21875 31.78125 74.21875 \nQ 42.671875 74.21875 48.875 69.140625 \nQ 55.078125 64.0625 55.078125 55.328125 \nQ 55.078125 49.078125 51.53125 44.71875 \nQ 48 40.375 41.703125 38.8125 \nQ 48.828125 37.15625 52.796875 32.3125 \nQ 56.78125 27.484375 56.78125 20.515625 \nQ 56.78125 9.90625 50.3125 4.234375 \nQ 43.84375 -1.421875 31.78125 -1.421875 \nQ 19.734375 -1.421875 13.25 4.234375 \nQ 6.78125 9.90625 6.78125 20.515625 \nQ 6.78125 27.484375 10.78125 32.3125 \nQ 14.796875 37.15625 21.921875 38.8125 \nz\nM 18.3125 54.390625 \nQ 18.3125 48.734375 21.84375 45.5625 \nQ 25.390625 42.390625 31.78125 42.390625 \nQ 38.140625 42.390625 41.71875 45.5625 \nQ 45.3125 48.734375 45.3125 54.390625 \nQ 45.3125 60.0625 41.71875 63.234375 \nQ 38.140625 66.40625 31.78125 66.40625 \nQ 25.390625 66.40625 21.84375 63.234375 \nQ 18.3125 60.0625 18.3125 54.390625 \nz\n\" id=\"DejaVuSans-56\"/>\n       </defs>\n       <use xlink:href=\"#DejaVuSans-52\"/>\n       <use x=\"63.623047\" xlink:href=\"#DejaVuSans-56\"/>\n      </g>\n     </g>\n    </g>\n    <g id=\"xtick_14\">\n     <g id=\"line2d_14\">\n      <g>\n       <use style=\"stroke:#000000;stroke-width:0.8;\" x=\"185.361459\" xlink:href=\"#m70ab8f37e7\" y=\"454.968125\"/>\n      </g>\n     </g>\n     <g id=\"text_14\">\n      <!-- 49 -->\n      <g transform=\"translate(188.120834 474.693125)rotate(-90)scale(0.1 -0.1)\">\n       <use xlink:href=\"#DejaVuSans-52\"/>\n       <use x=\"63.623047\" xlink:href=\"#DejaVuSans-57\"/>\n      </g>\n     </g>\n    </g>\n    <g id=\"xtick_15\">\n     <g id=\"line2d_15\">\n      <g>\n       <use style=\"stroke:#000000;stroke-width:0.8;\" x=\"196.862076\" xlink:href=\"#m70ab8f37e7\" y=\"454.968125\"/>\n      </g>\n     </g>\n     <g id=\"text_15\">\n      <!-- 50 -->\n      <g transform=\"translate(199.621451 474.693125)rotate(-90)scale(0.1 -0.1)\">\n       <use xlink:href=\"#DejaVuSans-53\"/>\n       <use x=\"63.623047\" xlink:href=\"#DejaVuSans-48\"/>\n      </g>\n     </g>\n    </g>\n    <g id=\"xtick_16\">\n     <g id=\"line2d_16\">\n      <g>\n       <use style=\"stroke:#000000;stroke-width:0.8;\" x=\"208.362693\" xlink:href=\"#m70ab8f37e7\" y=\"454.968125\"/>\n      </g>\n     </g>\n     <g id=\"text_16\">\n      <!-- 51 -->\n      <g transform=\"translate(211.122068 474.693125)rotate(-90)scale(0.1 -0.1)\">\n       <use xlink:href=\"#DejaVuSans-53\"/>\n       <use x=\"63.623047\" xlink:href=\"#DejaVuSans-49\"/>\n      </g>\n     </g>\n    </g>\n    <g id=\"xtick_17\">\n     <g id=\"line2d_17\">\n      <g>\n       <use style=\"stroke:#000000;stroke-width:0.8;\" x=\"219.863311\" xlink:href=\"#m70ab8f37e7\" y=\"454.968125\"/>\n      </g>\n     </g>\n     <g id=\"text_17\">\n      <!-- 52 -->\n      <g transform=\"translate(222.622686 474.693125)rotate(-90)scale(0.1 -0.1)\">\n       <defs>\n        <path d=\"M 19.1875 8.296875 \nL 53.609375 8.296875 \nL 53.609375 0 \nL 7.328125 0 \nL 7.328125 8.296875 \nQ 12.9375 14.109375 22.625 23.890625 \nQ 32.328125 33.6875 34.8125 36.53125 \nQ 39.546875 41.84375 41.421875 45.53125 \nQ 43.3125 49.21875 43.3125 52.78125 \nQ 43.3125 58.59375 39.234375 62.25 \nQ 35.15625 65.921875 28.609375 65.921875 \nQ 23.96875 65.921875 18.8125 64.3125 \nQ 13.671875 62.703125 7.8125 59.421875 \nL 7.8125 69.390625 \nQ 13.765625 71.78125 18.9375 73 \nQ 24.125 74.21875 28.421875 74.21875 \nQ 39.75 74.21875 46.484375 68.546875 \nQ 53.21875 62.890625 53.21875 53.421875 \nQ 53.21875 48.921875 51.53125 44.890625 \nQ 49.859375 40.875 45.40625 35.40625 \nQ 44.1875 33.984375 37.640625 27.21875 \nQ 31.109375 20.453125 19.1875 8.296875 \nz\n\" id=\"DejaVuSans-50\"/>\n       </defs>\n       <use xlink:href=\"#DejaVuSans-53\"/>\n       <use x=\"63.623047\" xlink:href=\"#DejaVuSans-50\"/>\n      </g>\n     </g>\n    </g>\n    <g id=\"xtick_18\">\n     <g id=\"line2d_18\">\n      <g>\n       <use style=\"stroke:#000000;stroke-width:0.8;\" x=\"231.363928\" xlink:href=\"#m70ab8f37e7\" y=\"454.968125\"/>\n      </g>\n     </g>\n     <g id=\"text_18\">\n      <!-- 53 -->\n      <g transform=\"translate(234.123303 474.693125)rotate(-90)scale(0.1 -0.1)\">\n       <use xlink:href=\"#DejaVuSans-53\"/>\n       <use x=\"63.623047\" xlink:href=\"#DejaVuSans-51\"/>\n      </g>\n     </g>\n    </g>\n    <g id=\"xtick_19\">\n     <g id=\"line2d_19\">\n      <g>\n       <use style=\"stroke:#000000;stroke-width:0.8;\" x=\"242.864545\" xlink:href=\"#m70ab8f37e7\" y=\"454.968125\"/>\n      </g>\n     </g>\n     <g id=\"text_19\">\n      <!-- 54 -->\n      <g transform=\"translate(245.62392 474.693125)rotate(-90)scale(0.1 -0.1)\">\n       <use xlink:href=\"#DejaVuSans-53\"/>\n       <use x=\"63.623047\" xlink:href=\"#DejaVuSans-52\"/>\n      </g>\n     </g>\n    </g>\n    <g id=\"xtick_20\">\n     <g id=\"line2d_20\">\n      <g>\n       <use style=\"stroke:#000000;stroke-width:0.8;\" x=\"254.365163\" xlink:href=\"#m70ab8f37e7\" y=\"454.968125\"/>\n      </g>\n     </g>\n     <g id=\"text_20\">\n      <!-- 55 -->\n      <g transform=\"translate(257.124538 474.693125)rotate(-90)scale(0.1 -0.1)\">\n       <use xlink:href=\"#DejaVuSans-53\"/>\n       <use x=\"63.623047\" xlink:href=\"#DejaVuSans-53\"/>\n      </g>\n     </g>\n    </g>\n    <g id=\"xtick_21\">\n     <g id=\"line2d_21\">\n      <g>\n       <use style=\"stroke:#000000;stroke-width:0.8;\" x=\"265.86578\" xlink:href=\"#m70ab8f37e7\" y=\"454.968125\"/>\n      </g>\n     </g>\n     <g id=\"text_21\">\n      <!-- 56 -->\n      <g transform=\"translate(268.625155 474.693125)rotate(-90)scale(0.1 -0.1)\">\n       <use xlink:href=\"#DejaVuSans-53\"/>\n       <use x=\"63.623047\" xlink:href=\"#DejaVuSans-54\"/>\n      </g>\n     </g>\n    </g>\n    <g id=\"xtick_22\">\n     <g id=\"line2d_22\">\n      <g>\n       <use style=\"stroke:#000000;stroke-width:0.8;\" x=\"277.366397\" xlink:href=\"#m70ab8f37e7\" y=\"454.968125\"/>\n      </g>\n     </g>\n     <g id=\"text_22\">\n      <!-- 57 -->\n      <g transform=\"translate(280.125772 474.693125)rotate(-90)scale(0.1 -0.1)\">\n       <use xlink:href=\"#DejaVuSans-53\"/>\n       <use x=\"63.623047\" xlink:href=\"#DejaVuSans-55\"/>\n      </g>\n     </g>\n    </g>\n    <g id=\"xtick_23\">\n     <g id=\"line2d_23\">\n      <g>\n       <use style=\"stroke:#000000;stroke-width:0.8;\" x=\"288.867015\" xlink:href=\"#m70ab8f37e7\" y=\"454.968125\"/>\n      </g>\n     </g>\n     <g id=\"text_23\">\n      <!-- 58 -->\n      <g transform=\"translate(291.62639 474.693125)rotate(-90)scale(0.1 -0.1)\">\n       <use xlink:href=\"#DejaVuSans-53\"/>\n       <use x=\"63.623047\" xlink:href=\"#DejaVuSans-56\"/>\n      </g>\n     </g>\n    </g>\n    <g id=\"xtick_24\">\n     <g id=\"line2d_24\">\n      <g>\n       <use style=\"stroke:#000000;stroke-width:0.8;\" x=\"300.367632\" xlink:href=\"#m70ab8f37e7\" y=\"454.968125\"/>\n      </g>\n     </g>\n     <g id=\"text_24\">\n      <!-- 59 -->\n      <g transform=\"translate(303.127007 474.693125)rotate(-90)scale(0.1 -0.1)\">\n       <use xlink:href=\"#DejaVuSans-53\"/>\n       <use x=\"63.623047\" xlink:href=\"#DejaVuSans-57\"/>\n      </g>\n     </g>\n    </g>\n    <g id=\"xtick_25\">\n     <g id=\"line2d_25\">\n      <g>\n       <use style=\"stroke:#000000;stroke-width:0.8;\" x=\"311.868249\" xlink:href=\"#m70ab8f37e7\" y=\"454.968125\"/>\n      </g>\n     </g>\n     <g id=\"text_25\">\n      <!-- 60 -->\n      <g transform=\"translate(314.627624 474.693125)rotate(-90)scale(0.1 -0.1)\">\n       <use xlink:href=\"#DejaVuSans-54\"/>\n       <use x=\"63.623047\" xlink:href=\"#DejaVuSans-48\"/>\n      </g>\n     </g>\n    </g>\n    <g id=\"xtick_26\">\n     <g id=\"line2d_26\">\n      <g>\n       <use style=\"stroke:#000000;stroke-width:0.8;\" x=\"323.368866\" xlink:href=\"#m70ab8f37e7\" y=\"454.968125\"/>\n      </g>\n     </g>\n     <g id=\"text_26\">\n      <!-- 61 -->\n      <g transform=\"translate(326.128241 474.693125)rotate(-90)scale(0.1 -0.1)\">\n       <use xlink:href=\"#DejaVuSans-54\"/>\n       <use x=\"63.623047\" xlink:href=\"#DejaVuSans-49\"/>\n      </g>\n     </g>\n    </g>\n    <g id=\"xtick_27\">\n     <g id=\"line2d_27\">\n      <g>\n       <use style=\"stroke:#000000;stroke-width:0.8;\" x=\"334.869484\" xlink:href=\"#m70ab8f37e7\" y=\"454.968125\"/>\n      </g>\n     </g>\n     <g id=\"text_27\">\n      <!-- 62 -->\n      <g transform=\"translate(337.628859 474.693125)rotate(-90)scale(0.1 -0.1)\">\n       <use xlink:href=\"#DejaVuSans-54\"/>\n       <use x=\"63.623047\" xlink:href=\"#DejaVuSans-50\"/>\n      </g>\n     </g>\n    </g>\n    <g id=\"xtick_28\">\n     <g id=\"line2d_28\">\n      <g>\n       <use style=\"stroke:#000000;stroke-width:0.8;\" x=\"346.370101\" xlink:href=\"#m70ab8f37e7\" y=\"454.968125\"/>\n      </g>\n     </g>\n     <g id=\"text_28\">\n      <!-- 63 -->\n      <g transform=\"translate(349.129476 474.693125)rotate(-90)scale(0.1 -0.1)\">\n       <use xlink:href=\"#DejaVuSans-54\"/>\n       <use x=\"63.623047\" xlink:href=\"#DejaVuSans-51\"/>\n      </g>\n     </g>\n    </g>\n    <g id=\"xtick_29\">\n     <g id=\"line2d_29\">\n      <g>\n       <use style=\"stroke:#000000;stroke-width:0.8;\" x=\"357.870718\" xlink:href=\"#m70ab8f37e7\" y=\"454.968125\"/>\n      </g>\n     </g>\n     <g id=\"text_29\">\n      <!-- 64 -->\n      <g transform=\"translate(360.630093 474.693125)rotate(-90)scale(0.1 -0.1)\">\n       <use xlink:href=\"#DejaVuSans-54\"/>\n       <use x=\"63.623047\" xlink:href=\"#DejaVuSans-52\"/>\n      </g>\n     </g>\n    </g>\n    <g id=\"xtick_30\">\n     <g id=\"line2d_30\">\n      <g>\n       <use style=\"stroke:#000000;stroke-width:0.8;\" x=\"369.371336\" xlink:href=\"#m70ab8f37e7\" y=\"454.968125\"/>\n      </g>\n     </g>\n     <g id=\"text_30\">\n      <!-- 65 -->\n      <g transform=\"translate(372.130711 474.693125)rotate(-90)scale(0.1 -0.1)\">\n       <use xlink:href=\"#DejaVuSans-54\"/>\n       <use x=\"63.623047\" xlink:href=\"#DejaVuSans-53\"/>\n      </g>\n     </g>\n    </g>\n    <g id=\"xtick_31\">\n     <g id=\"line2d_31\">\n      <g>\n       <use style=\"stroke:#000000;stroke-width:0.8;\" x=\"380.871953\" xlink:href=\"#m70ab8f37e7\" y=\"454.968125\"/>\n      </g>\n     </g>\n     <g id=\"text_31\">\n      <!-- 66 -->\n      <g transform=\"translate(383.631328 474.693125)rotate(-90)scale(0.1 -0.1)\">\n       <use xlink:href=\"#DejaVuSans-54\"/>\n       <use x=\"63.623047\" xlink:href=\"#DejaVuSans-54\"/>\n      </g>\n     </g>\n    </g>\n    <g id=\"xtick_32\">\n     <g id=\"line2d_32\">\n      <g>\n       <use style=\"stroke:#000000;stroke-width:0.8;\" x=\"392.37257\" xlink:href=\"#m70ab8f37e7\" y=\"454.968125\"/>\n      </g>\n     </g>\n     <g id=\"text_32\">\n      <!-- 67 -->\n      <g transform=\"translate(395.131945 474.693125)rotate(-90)scale(0.1 -0.1)\">\n       <use xlink:href=\"#DejaVuSans-54\"/>\n       <use x=\"63.623047\" xlink:href=\"#DejaVuSans-55\"/>\n      </g>\n     </g>\n    </g>\n    <g id=\"xtick_33\">\n     <g id=\"line2d_33\">\n      <g>\n       <use style=\"stroke:#000000;stroke-width:0.8;\" x=\"403.873188\" xlink:href=\"#m70ab8f37e7\" y=\"454.968125\"/>\n      </g>\n     </g>\n     <g id=\"text_33\">\n      <!-- 68 -->\n      <g transform=\"translate(406.632563 474.693125)rotate(-90)scale(0.1 -0.1)\">\n       <use xlink:href=\"#DejaVuSans-54\"/>\n       <use x=\"63.623047\" xlink:href=\"#DejaVuSans-56\"/>\n      </g>\n     </g>\n    </g>\n    <g id=\"xtick_34\">\n     <g id=\"line2d_34\">\n      <g>\n       <use style=\"stroke:#000000;stroke-width:0.8;\" x=\"415.373805\" xlink:href=\"#m70ab8f37e7\" y=\"454.968125\"/>\n      </g>\n     </g>\n     <g id=\"text_34\">\n      <!-- 69 -->\n      <g transform=\"translate(418.13318 474.693125)rotate(-90)scale(0.1 -0.1)\">\n       <use xlink:href=\"#DejaVuSans-54\"/>\n       <use x=\"63.623047\" xlink:href=\"#DejaVuSans-57\"/>\n      </g>\n     </g>\n    </g>\n    <g id=\"xtick_35\">\n     <g id=\"line2d_35\">\n      <g>\n       <use style=\"stroke:#000000;stroke-width:0.8;\" x=\"426.874422\" xlink:href=\"#m70ab8f37e7\" y=\"454.968125\"/>\n      </g>\n     </g>\n     <g id=\"text_35\">\n      <!-- 70 -->\n      <g transform=\"translate(429.633797 474.693125)rotate(-90)scale(0.1 -0.1)\">\n       <use xlink:href=\"#DejaVuSans-55\"/>\n       <use x=\"63.623047\" xlink:href=\"#DejaVuSans-48\"/>\n      </g>\n     </g>\n    </g>\n    <g id=\"xtick_36\">\n     <g id=\"line2d_36\">\n      <g>\n       <use style=\"stroke:#000000;stroke-width:0.8;\" x=\"438.37504\" xlink:href=\"#m70ab8f37e7\" y=\"454.968125\"/>\n      </g>\n     </g>\n     <g id=\"text_36\">\n      <!-- 71 -->\n      <g transform=\"translate(441.134415 474.693125)rotate(-90)scale(0.1 -0.1)\">\n       <use xlink:href=\"#DejaVuSans-55\"/>\n       <use x=\"63.623047\" xlink:href=\"#DejaVuSans-49\"/>\n      </g>\n     </g>\n    </g>\n    <g id=\"xtick_37\">\n     <g id=\"line2d_37\">\n      <g>\n       <use style=\"stroke:#000000;stroke-width:0.8;\" x=\"449.875657\" xlink:href=\"#m70ab8f37e7\" y=\"454.968125\"/>\n      </g>\n     </g>\n     <g id=\"text_37\">\n      <!-- 72 -->\n      <g transform=\"translate(452.635032 474.693125)rotate(-90)scale(0.1 -0.1)\">\n       <use xlink:href=\"#DejaVuSans-55\"/>\n       <use x=\"63.623047\" xlink:href=\"#DejaVuSans-50\"/>\n      </g>\n     </g>\n    </g>\n    <g id=\"xtick_38\">\n     <g id=\"line2d_38\">\n      <g>\n       <use style=\"stroke:#000000;stroke-width:0.8;\" x=\"461.376274\" xlink:href=\"#m70ab8f37e7\" y=\"454.968125\"/>\n      </g>\n     </g>\n     <g id=\"text_38\">\n      <!-- 73 -->\n      <g transform=\"translate(464.135649 474.693125)rotate(-90)scale(0.1 -0.1)\">\n       <use xlink:href=\"#DejaVuSans-55\"/>\n       <use x=\"63.623047\" xlink:href=\"#DejaVuSans-51\"/>\n      </g>\n     </g>\n    </g>\n    <g id=\"xtick_39\">\n     <g id=\"line2d_39\">\n      <g>\n       <use style=\"stroke:#000000;stroke-width:0.8;\" x=\"472.876892\" xlink:href=\"#m70ab8f37e7\" y=\"454.968125\"/>\n      </g>\n     </g>\n     <g id=\"text_39\">\n      <!-- 74 -->\n      <g transform=\"translate(475.636267 474.693125)rotate(-90)scale(0.1 -0.1)\">\n       <use xlink:href=\"#DejaVuSans-55\"/>\n       <use x=\"63.623047\" xlink:href=\"#DejaVuSans-52\"/>\n      </g>\n     </g>\n    </g>\n    <g id=\"xtick_40\">\n     <g id=\"line2d_40\">\n      <g>\n       <use style=\"stroke:#000000;stroke-width:0.8;\" x=\"484.377509\" xlink:href=\"#m70ab8f37e7\" y=\"454.968125\"/>\n      </g>\n     </g>\n     <g id=\"text_40\">\n      <!-- 75 -->\n      <g transform=\"translate(487.136884 474.693125)rotate(-90)scale(0.1 -0.1)\">\n       <use xlink:href=\"#DejaVuSans-55\"/>\n       <use x=\"63.623047\" xlink:href=\"#DejaVuSans-53\"/>\n      </g>\n     </g>\n    </g>\n    <g id=\"xtick_41\">\n     <g id=\"line2d_41\">\n      <g>\n       <use style=\"stroke:#000000;stroke-width:0.8;\" x=\"495.878126\" xlink:href=\"#m70ab8f37e7\" y=\"454.968125\"/>\n      </g>\n     </g>\n     <g id=\"text_41\">\n      <!-- 76 -->\n      <g transform=\"translate(498.637501 474.693125)rotate(-90)scale(0.1 -0.1)\">\n       <use xlink:href=\"#DejaVuSans-55\"/>\n       <use x=\"63.623047\" xlink:href=\"#DejaVuSans-54\"/>\n      </g>\n     </g>\n    </g>\n    <g id=\"xtick_42\">\n     <g id=\"line2d_42\">\n      <g>\n       <use style=\"stroke:#000000;stroke-width:0.8;\" x=\"507.378743\" xlink:href=\"#m70ab8f37e7\" y=\"454.968125\"/>\n      </g>\n     </g>\n     <g id=\"text_42\">\n      <!-- 77 -->\n      <g transform=\"translate(510.138118 474.693125)rotate(-90)scale(0.1 -0.1)\">\n       <use xlink:href=\"#DejaVuSans-55\"/>\n       <use x=\"63.623047\" xlink:href=\"#DejaVuSans-55\"/>\n      </g>\n     </g>\n    </g>\n    <g id=\"xtick_43\">\n     <g id=\"line2d_43\">\n      <g>\n       <use style=\"stroke:#000000;stroke-width:0.8;\" x=\"518.879361\" xlink:href=\"#m70ab8f37e7\" y=\"454.968125\"/>\n      </g>\n     </g>\n     <g id=\"text_43\">\n      <!-- 78 -->\n      <g transform=\"translate(521.638736 474.693125)rotate(-90)scale(0.1 -0.1)\">\n       <use xlink:href=\"#DejaVuSans-55\"/>\n       <use x=\"63.623047\" xlink:href=\"#DejaVuSans-56\"/>\n      </g>\n     </g>\n    </g>\n    <g id=\"xtick_44\">\n     <g id=\"line2d_44\">\n      <g>\n       <use style=\"stroke:#000000;stroke-width:0.8;\" x=\"530.379978\" xlink:href=\"#m70ab8f37e7\" y=\"454.968125\"/>\n      </g>\n     </g>\n     <g id=\"text_44\">\n      <!-- 79 -->\n      <g transform=\"translate(533.139353 474.693125)rotate(-90)scale(0.1 -0.1)\">\n       <use xlink:href=\"#DejaVuSans-55\"/>\n       <use x=\"63.623047\" xlink:href=\"#DejaVuSans-57\"/>\n      </g>\n     </g>\n    </g>\n    <g id=\"xtick_45\">\n     <g id=\"line2d_45\">\n      <g>\n       <use style=\"stroke:#000000;stroke-width:0.8;\" x=\"541.880595\" xlink:href=\"#m70ab8f37e7\" y=\"454.968125\"/>\n      </g>\n     </g>\n     <g id=\"text_45\">\n      <!-- 80 -->\n      <g transform=\"translate(544.63997 474.693125)rotate(-90)scale(0.1 -0.1)\">\n       <use xlink:href=\"#DejaVuSans-56\"/>\n       <use x=\"63.623047\" xlink:href=\"#DejaVuSans-48\"/>\n      </g>\n     </g>\n    </g>\n    <g id=\"xtick_46\">\n     <g id=\"line2d_46\">\n      <g>\n       <use style=\"stroke:#000000;stroke-width:0.8;\" x=\"553.381213\" xlink:href=\"#m70ab8f37e7\" y=\"454.968125\"/>\n      </g>\n     </g>\n     <g id=\"text_46\">\n      <!-- 81 -->\n      <g transform=\"translate(556.140588 474.693125)rotate(-90)scale(0.1 -0.1)\">\n       <use xlink:href=\"#DejaVuSans-56\"/>\n       <use x=\"63.623047\" xlink:href=\"#DejaVuSans-49\"/>\n      </g>\n     </g>\n    </g>\n    <g id=\"xtick_47\">\n     <g id=\"line2d_47\">\n      <g>\n       <use style=\"stroke:#000000;stroke-width:0.8;\" x=\"564.88183\" xlink:href=\"#m70ab8f37e7\" y=\"454.968125\"/>\n      </g>\n     </g>\n     <g id=\"text_47\">\n      <!-- 82 -->\n      <g transform=\"translate(567.641205 474.693125)rotate(-90)scale(0.1 -0.1)\">\n       <use xlink:href=\"#DejaVuSans-56\"/>\n       <use x=\"63.623047\" xlink:href=\"#DejaVuSans-50\"/>\n      </g>\n     </g>\n    </g>\n    <g id=\"xtick_48\">\n     <g id=\"line2d_48\">\n      <g>\n       <use style=\"stroke:#000000;stroke-width:0.8;\" x=\"576.382447\" xlink:href=\"#m70ab8f37e7\" y=\"454.968125\"/>\n      </g>\n     </g>\n     <g id=\"text_48\">\n      <!-- 83 -->\n      <g transform=\"translate(579.141822 474.693125)rotate(-90)scale(0.1 -0.1)\">\n       <use xlink:href=\"#DejaVuSans-56\"/>\n       <use x=\"63.623047\" xlink:href=\"#DejaVuSans-51\"/>\n      </g>\n     </g>\n    </g>\n    <g id=\"xtick_49\">\n     <g id=\"line2d_49\">\n      <g>\n       <use style=\"stroke:#000000;stroke-width:0.8;\" x=\"587.883065\" xlink:href=\"#m70ab8f37e7\" y=\"454.968125\"/>\n      </g>\n     </g>\n     <g id=\"text_49\">\n      <!-- 84 -->\n      <g transform=\"translate(590.64244 474.693125)rotate(-90)scale(0.1 -0.1)\">\n       <use xlink:href=\"#DejaVuSans-56\"/>\n       <use x=\"63.623047\" xlink:href=\"#DejaVuSans-52\"/>\n      </g>\n     </g>\n    </g>\n    <g id=\"xtick_50\">\n     <g id=\"line2d_50\">\n      <g>\n       <use style=\"stroke:#000000;stroke-width:0.8;\" x=\"599.383682\" xlink:href=\"#m70ab8f37e7\" y=\"454.968125\"/>\n      </g>\n     </g>\n     <g id=\"text_50\">\n      <!-- 85 -->\n      <g transform=\"translate(602.143057 474.693125)rotate(-90)scale(0.1 -0.1)\">\n       <use xlink:href=\"#DejaVuSans-56\"/>\n       <use x=\"63.623047\" xlink:href=\"#DejaVuSans-53\"/>\n      </g>\n     </g>\n    </g>\n    <g id=\"xtick_51\">\n     <g id=\"line2d_51\">\n      <g>\n       <use style=\"stroke:#000000;stroke-width:0.8;\" x=\"610.884299\" xlink:href=\"#m70ab8f37e7\" y=\"454.968125\"/>\n      </g>\n     </g>\n     <g id=\"text_51\">\n      <!-- 86 -->\n      <g transform=\"translate(613.643674 474.693125)rotate(-90)scale(0.1 -0.1)\">\n       <use xlink:href=\"#DejaVuSans-56\"/>\n       <use x=\"63.623047\" xlink:href=\"#DejaVuSans-54\"/>\n      </g>\n     </g>\n    </g>\n    <g id=\"xtick_52\">\n     <g id=\"line2d_52\">\n      <g>\n       <use style=\"stroke:#000000;stroke-width:0.8;\" x=\"622.384917\" xlink:href=\"#m70ab8f37e7\" y=\"454.968125\"/>\n      </g>\n     </g>\n     <g id=\"text_52\">\n      <!-- 87 -->\n      <g transform=\"translate(625.144292 474.693125)rotate(-90)scale(0.1 -0.1)\">\n       <use xlink:href=\"#DejaVuSans-56\"/>\n       <use x=\"63.623047\" xlink:href=\"#DejaVuSans-55\"/>\n      </g>\n     </g>\n    </g>\n    <g id=\"xtick_53\">\n     <g id=\"line2d_53\">\n      <g>\n       <use style=\"stroke:#000000;stroke-width:0.8;\" x=\"633.885534\" xlink:href=\"#m70ab8f37e7\" y=\"454.968125\"/>\n      </g>\n     </g>\n     <g id=\"text_53\">\n      <!-- 88 -->\n      <g transform=\"translate(636.644909 474.693125)rotate(-90)scale(0.1 -0.1)\">\n       <use xlink:href=\"#DejaVuSans-56\"/>\n       <use x=\"63.623047\" xlink:href=\"#DejaVuSans-56\"/>\n      </g>\n     </g>\n    </g>\n    <g id=\"xtick_54\">\n     <g id=\"line2d_54\">\n      <g>\n       <use style=\"stroke:#000000;stroke-width:0.8;\" x=\"645.386151\" xlink:href=\"#m70ab8f37e7\" y=\"454.968125\"/>\n      </g>\n     </g>\n     <g id=\"text_54\">\n      <!-- 89 -->\n      <g transform=\"translate(648.145526 474.693125)rotate(-90)scale(0.1 -0.1)\">\n       <use xlink:href=\"#DejaVuSans-56\"/>\n       <use x=\"63.623047\" xlink:href=\"#DejaVuSans-57\"/>\n      </g>\n     </g>\n    </g>\n    <g id=\"xtick_55\">\n     <g id=\"line2d_55\">\n      <g>\n       <use style=\"stroke:#000000;stroke-width:0.8;\" x=\"656.886769\" xlink:href=\"#m70ab8f37e7\" y=\"454.968125\"/>\n      </g>\n     </g>\n     <g id=\"text_55\">\n      <!-- 90 -->\n      <g transform=\"translate(659.646144 474.693125)rotate(-90)scale(0.1 -0.1)\">\n       <use xlink:href=\"#DejaVuSans-57\"/>\n       <use x=\"63.623047\" xlink:href=\"#DejaVuSans-48\"/>\n      </g>\n     </g>\n    </g>\n    <g id=\"xtick_56\">\n     <g id=\"line2d_56\">\n      <g>\n       <use style=\"stroke:#000000;stroke-width:0.8;\" x=\"668.387386\" xlink:href=\"#m70ab8f37e7\" y=\"454.968125\"/>\n      </g>\n     </g>\n     <g id=\"text_56\">\n      <!-- 91 -->\n      <g transform=\"translate(671.146761 474.693125)rotate(-90)scale(0.1 -0.1)\">\n       <use xlink:href=\"#DejaVuSans-57\"/>\n       <use x=\"63.623047\" xlink:href=\"#DejaVuSans-49\"/>\n      </g>\n     </g>\n    </g>\n    <g id=\"xtick_57\">\n     <g id=\"line2d_57\">\n      <g>\n       <use style=\"stroke:#000000;stroke-width:0.8;\" x=\"679.888003\" xlink:href=\"#m70ab8f37e7\" y=\"454.968125\"/>\n      </g>\n     </g>\n     <g id=\"text_57\">\n      <!-- 92 -->\n      <g transform=\"translate(682.647378 474.693125)rotate(-90)scale(0.1 -0.1)\">\n       <use xlink:href=\"#DejaVuSans-57\"/>\n       <use x=\"63.623047\" xlink:href=\"#DejaVuSans-50\"/>\n      </g>\n     </g>\n    </g>\n    <g id=\"xtick_58\">\n     <g id=\"line2d_58\">\n      <g>\n       <use style=\"stroke:#000000;stroke-width:0.8;\" x=\"691.38862\" xlink:href=\"#m70ab8f37e7\" y=\"454.968125\"/>\n      </g>\n     </g>\n     <g id=\"text_58\">\n      <!-- 93 -->\n      <g transform=\"translate(694.147995 474.693125)rotate(-90)scale(0.1 -0.1)\">\n       <use xlink:href=\"#DejaVuSans-57\"/>\n       <use x=\"63.623047\" xlink:href=\"#DejaVuSans-51\"/>\n      </g>\n     </g>\n    </g>\n    <g id=\"xtick_59\">\n     <g id=\"line2d_59\">\n      <g>\n       <use style=\"stroke:#000000;stroke-width:0.8;\" x=\"702.889238\" xlink:href=\"#m70ab8f37e7\" y=\"454.968125\"/>\n      </g>\n     </g>\n     <g id=\"text_59\">\n      <!-- 94 -->\n      <g transform=\"translate(705.648613 474.693125)rotate(-90)scale(0.1 -0.1)\">\n       <use xlink:href=\"#DejaVuSans-57\"/>\n       <use x=\"63.623047\" xlink:href=\"#DejaVuSans-52\"/>\n      </g>\n     </g>\n    </g>\n    <g id=\"text_60\">\n     <!-- ExternalRiskEstimate -->\n     <g transform=\"translate(316.178367 486.291562)scale(0.1 -0.1)\">\n      <defs>\n       <path d=\"M 9.8125 72.90625 \nL 55.90625 72.90625 \nL 55.90625 64.59375 \nL 19.671875 64.59375 \nL 19.671875 43.015625 \nL 54.390625 43.015625 \nL 54.390625 34.71875 \nL 19.671875 34.71875 \nL 19.671875 8.296875 \nL 56.78125 8.296875 \nL 56.78125 0 \nL 9.8125 0 \nz\n\" id=\"DejaVuSans-69\"/>\n       <path d=\"M 54.890625 54.6875 \nL 35.109375 28.078125 \nL 55.90625 0 \nL 45.3125 0 \nL 29.390625 21.484375 \nL 13.484375 0 \nL 2.875 0 \nL 24.125 28.609375 \nL 4.6875 54.6875 \nL 15.28125 54.6875 \nL 29.78125 35.203125 \nL 44.28125 54.6875 \nz\n\" id=\"DejaVuSans-120\"/>\n       <path d=\"M 18.3125 70.21875 \nL 18.3125 54.6875 \nL 36.8125 54.6875 \nL 36.8125 47.703125 \nL 18.3125 47.703125 \nL 18.3125 18.015625 \nQ 18.3125 11.328125 20.140625 9.421875 \nQ 21.96875 7.515625 27.59375 7.515625 \nL 36.8125 7.515625 \nL 36.8125 0 \nL 27.59375 0 \nQ 17.1875 0 13.234375 3.875 \nQ 9.28125 7.765625 9.28125 18.015625 \nL 9.28125 47.703125 \nL 2.6875 47.703125 \nL 2.6875 54.6875 \nL 9.28125 54.6875 \nL 9.28125 70.21875 \nz\n\" id=\"DejaVuSans-116\"/>\n       <path d=\"M 56.203125 29.59375 \nL 56.203125 25.203125 \nL 14.890625 25.203125 \nQ 15.484375 15.921875 20.484375 11.0625 \nQ 25.484375 6.203125 34.421875 6.203125 \nQ 39.59375 6.203125 44.453125 7.46875 \nQ 49.3125 8.734375 54.109375 11.28125 \nL 54.109375 2.78125 \nQ 49.265625 0.734375 44.1875 -0.34375 \nQ 39.109375 -1.421875 33.890625 -1.421875 \nQ 20.796875 -1.421875 13.15625 6.1875 \nQ 5.515625 13.8125 5.515625 26.8125 \nQ 5.515625 40.234375 12.765625 48.109375 \nQ 20.015625 56 32.328125 56 \nQ 43.359375 56 49.78125 48.890625 \nQ 56.203125 41.796875 56.203125 29.59375 \nz\nM 47.21875 32.234375 \nQ 47.125 39.59375 43.09375 43.984375 \nQ 39.0625 48.390625 32.421875 48.390625 \nQ 24.90625 48.390625 20.390625 44.140625 \nQ 15.875 39.890625 15.1875 32.171875 \nz\n\" id=\"DejaVuSans-101\"/>\n       <path d=\"M 41.109375 46.296875 \nQ 39.59375 47.171875 37.8125 47.578125 \nQ 36.03125 48 33.890625 48 \nQ 26.265625 48 22.1875 43.046875 \nQ 18.109375 38.09375 18.109375 28.8125 \nL 18.109375 0 \nL 9.078125 0 \nL 9.078125 54.6875 \nL 18.109375 54.6875 \nL 18.109375 46.1875 \nQ 20.953125 51.171875 25.484375 53.578125 \nQ 30.03125 56 36.53125 56 \nQ 37.453125 56 38.578125 55.875 \nQ 39.703125 55.765625 41.0625 55.515625 \nz\n\" id=\"DejaVuSans-114\"/>\n       <path d=\"M 54.890625 33.015625 \nL 54.890625 0 \nL 45.90625 0 \nL 45.90625 32.71875 \nQ 45.90625 40.484375 42.875 44.328125 \nQ 39.84375 48.1875 33.796875 48.1875 \nQ 26.515625 48.1875 22.3125 43.546875 \nQ 18.109375 38.921875 18.109375 30.90625 \nL 18.109375 0 \nL 9.078125 0 \nL 9.078125 54.6875 \nL 18.109375 54.6875 \nL 18.109375 46.1875 \nQ 21.34375 51.125 25.703125 53.5625 \nQ 30.078125 56 35.796875 56 \nQ 45.21875 56 50.046875 50.171875 \nQ 54.890625 44.34375 54.890625 33.015625 \nz\n\" id=\"DejaVuSans-110\"/>\n       <path d=\"M 34.28125 27.484375 \nQ 23.390625 27.484375 19.1875 25 \nQ 14.984375 22.515625 14.984375 16.5 \nQ 14.984375 11.71875 18.140625 8.90625 \nQ 21.296875 6.109375 26.703125 6.109375 \nQ 34.1875 6.109375 38.703125 11.40625 \nQ 43.21875 16.703125 43.21875 25.484375 \nL 43.21875 27.484375 \nz\nM 52.203125 31.203125 \nL 52.203125 0 \nL 43.21875 0 \nL 43.21875 8.296875 \nQ 40.140625 3.328125 35.546875 0.953125 \nQ 30.953125 -1.421875 24.3125 -1.421875 \nQ 15.921875 -1.421875 10.953125 3.296875 \nQ 6 8.015625 6 15.921875 \nQ 6 25.140625 12.171875 29.828125 \nQ 18.359375 34.515625 30.609375 34.515625 \nL 43.21875 34.515625 \nL 43.21875 35.40625 \nQ 43.21875 41.609375 39.140625 45 \nQ 35.0625 48.390625 27.6875 48.390625 \nQ 23 48.390625 18.546875 47.265625 \nQ 14.109375 46.140625 10.015625 43.890625 \nL 10.015625 52.203125 \nQ 14.9375 54.109375 19.578125 55.046875 \nQ 24.21875 56 28.609375 56 \nQ 40.484375 56 46.34375 49.84375 \nQ 52.203125 43.703125 52.203125 31.203125 \nz\n\" id=\"DejaVuSans-97\"/>\n       <path d=\"M 9.421875 75.984375 \nL 18.40625 75.984375 \nL 18.40625 0 \nL 9.421875 0 \nz\n\" id=\"DejaVuSans-108\"/>\n       <path d=\"M 44.390625 34.1875 \nQ 47.5625 33.109375 50.5625 29.59375 \nQ 53.5625 26.078125 56.59375 19.921875 \nL 66.609375 0 \nL 56 0 \nL 46.6875 18.703125 \nQ 43.0625 26.03125 39.671875 28.421875 \nQ 36.28125 30.8125 30.421875 30.8125 \nL 19.671875 30.8125 \nL 19.671875 0 \nL 9.8125 0 \nL 9.8125 72.90625 \nL 32.078125 72.90625 \nQ 44.578125 72.90625 50.734375 67.671875 \nQ 56.890625 62.453125 56.890625 51.90625 \nQ 56.890625 45.015625 53.6875 40.46875 \nQ 50.484375 35.9375 44.390625 34.1875 \nz\nM 19.671875 64.796875 \nL 19.671875 38.921875 \nL 32.078125 38.921875 \nQ 39.203125 38.921875 42.84375 42.21875 \nQ 46.484375 45.515625 46.484375 51.90625 \nQ 46.484375 58.296875 42.84375 61.546875 \nQ 39.203125 64.796875 32.078125 64.796875 \nz\n\" id=\"DejaVuSans-82\"/>\n       <path d=\"M 9.421875 54.6875 \nL 18.40625 54.6875 \nL 18.40625 0 \nL 9.421875 0 \nz\nM 9.421875 75.984375 \nL 18.40625 75.984375 \nL 18.40625 64.59375 \nL 9.421875 64.59375 \nz\n\" id=\"DejaVuSans-105\"/>\n       <path d=\"M 44.28125 53.078125 \nL 44.28125 44.578125 \nQ 40.484375 46.53125 36.375 47.5 \nQ 32.28125 48.484375 27.875 48.484375 \nQ 21.1875 48.484375 17.84375 46.4375 \nQ 14.5 44.390625 14.5 40.28125 \nQ 14.5 37.15625 16.890625 35.375 \nQ 19.28125 33.59375 26.515625 31.984375 \nL 29.59375 31.296875 \nQ 39.15625 29.25 43.1875 25.515625 \nQ 47.21875 21.78125 47.21875 15.09375 \nQ 47.21875 7.46875 41.1875 3.015625 \nQ 35.15625 -1.421875 24.609375 -1.421875 \nQ 20.21875 -1.421875 15.453125 -0.5625 \nQ 10.6875 0.296875 5.421875 2 \nL 5.421875 11.28125 \nQ 10.40625 8.6875 15.234375 7.390625 \nQ 20.0625 6.109375 24.8125 6.109375 \nQ 31.15625 6.109375 34.5625 8.28125 \nQ 37.984375 10.453125 37.984375 14.40625 \nQ 37.984375 18.0625 35.515625 20.015625 \nQ 33.0625 21.96875 24.703125 23.78125 \nL 21.578125 24.515625 \nQ 13.234375 26.265625 9.515625 29.90625 \nQ 5.8125 33.546875 5.8125 39.890625 \nQ 5.8125 47.609375 11.28125 51.796875 \nQ 16.75 56 26.8125 56 \nQ 31.78125 56 36.171875 55.265625 \nQ 40.578125 54.546875 44.28125 53.078125 \nz\n\" id=\"DejaVuSans-115\"/>\n       <path d=\"M 9.078125 75.984375 \nL 18.109375 75.984375 \nL 18.109375 31.109375 \nL 44.921875 54.6875 \nL 56.390625 54.6875 \nL 27.390625 29.109375 \nL 57.625 0 \nL 45.90625 0 \nL 18.109375 26.703125 \nL 18.109375 0 \nL 9.078125 0 \nz\n\" id=\"DejaVuSans-107\"/>\n       <path d=\"M 52 44.1875 \nQ 55.375 50.25 60.0625 53.125 \nQ 64.75 56 71.09375 56 \nQ 79.640625 56 84.28125 50.015625 \nQ 88.921875 44.046875 88.921875 33.015625 \nL 88.921875 0 \nL 79.890625 0 \nL 79.890625 32.71875 \nQ 79.890625 40.578125 77.09375 44.375 \nQ 74.3125 48.1875 68.609375 48.1875 \nQ 61.625 48.1875 57.5625 43.546875 \nQ 53.515625 38.921875 53.515625 30.90625 \nL 53.515625 0 \nL 44.484375 0 \nL 44.484375 32.71875 \nQ 44.484375 40.625 41.703125 44.40625 \nQ 38.921875 48.1875 33.109375 48.1875 \nQ 26.21875 48.1875 22.15625 43.53125 \nQ 18.109375 38.875 18.109375 30.90625 \nL 18.109375 0 \nL 9.078125 0 \nL 9.078125 54.6875 \nL 18.109375 54.6875 \nL 18.109375 46.1875 \nQ 21.1875 51.21875 25.484375 53.609375 \nQ 29.78125 56 35.6875 56 \nQ 41.65625 56 45.828125 52.96875 \nQ 50 49.953125 52 44.1875 \nz\n\" id=\"DejaVuSans-109\"/>\n      </defs>\n      <use xlink:href=\"#DejaVuSans-69\"/>\n      <use x=\"63.183594\" xlink:href=\"#DejaVuSans-120\"/>\n      <use x=\"122.363281\" xlink:href=\"#DejaVuSans-116\"/>\n      <use x=\"161.572266\" xlink:href=\"#DejaVuSans-101\"/>\n      <use x=\"223.095703\" xlink:href=\"#DejaVuSans-114\"/>\n      <use x=\"262.458984\" xlink:href=\"#DejaVuSans-110\"/>\n      <use x=\"325.837891\" xlink:href=\"#DejaVuSans-97\"/>\n      <use x=\"387.117188\" xlink:href=\"#DejaVuSans-108\"/>\n      <use x=\"414.900391\" xlink:href=\"#DejaVuSans-82\"/>\n      <use x=\"484.382812\" xlink:href=\"#DejaVuSans-105\"/>\n      <use x=\"512.166016\" xlink:href=\"#DejaVuSans-115\"/>\n      <use x=\"564.265625\" xlink:href=\"#DejaVuSans-107\"/>\n      <use x=\"622.175781\" xlink:href=\"#DejaVuSans-69\"/>\n      <use x=\"685.359375\" xlink:href=\"#DejaVuSans-115\"/>\n      <use x=\"737.458984\" xlink:href=\"#DejaVuSans-116\"/>\n      <use x=\"776.667969\" xlink:href=\"#DejaVuSans-105\"/>\n      <use x=\"804.451172\" xlink:href=\"#DejaVuSans-109\"/>\n      <use x=\"901.863281\" xlink:href=\"#DejaVuSans-97\"/>\n      <use x=\"963.142578\" xlink:href=\"#DejaVuSans-116\"/>\n      <use x=\"1002.351562\" xlink:href=\"#DejaVuSans-101\"/>\n     </g>\n    </g>\n   </g>\n   <g id=\"matplotlib.axis_2\">\n    <g id=\"ytick_1\">\n     <g id=\"line2d_60\">\n      <defs>\n       <path d=\"M 0 0 \nL -3.5 0 \n\" id=\"md70c002b21\" style=\"stroke:#000000;stroke-width:0.8;\"/>\n      </defs>\n      <g>\n       <use style=\"stroke:#000000;stroke-width:0.8;\" x=\"30.103125\" xlink:href=\"#md70c002b21\" y=\"454.968125\"/>\n      </g>\n     </g>\n     <g id=\"text_61\">\n      <!-- 0.0 -->\n      <g transform=\"translate(7.2 458.767344)scale(0.1 -0.1)\">\n       <defs>\n        <path d=\"M 10.6875 12.40625 \nL 21 12.40625 \nL 21 0 \nL 10.6875 0 \nz\n\" id=\"DejaVuSans-46\"/>\n       </defs>\n       <use xlink:href=\"#DejaVuSans-48\"/>\n       <use x=\"63.623047\" xlink:href=\"#DejaVuSans-46\"/>\n       <use x=\"95.410156\" xlink:href=\"#DejaVuSans-48\"/>\n      </g>\n     </g>\n    </g>\n    <g id=\"ytick_2\">\n     <g id=\"line2d_61\">\n      <g>\n       <use style=\"stroke:#000000;stroke-width:0.8;\" x=\"30.103125\" xlink:href=\"#md70c002b21\" y=\"372.558601\"/>\n      </g>\n     </g>\n     <g id=\"text_62\">\n      <!-- 0.2 -->\n      <g transform=\"translate(7.2 376.35782)scale(0.1 -0.1)\">\n       <use xlink:href=\"#DejaVuSans-48\"/>\n       <use x=\"63.623047\" xlink:href=\"#DejaVuSans-46\"/>\n       <use x=\"95.410156\" xlink:href=\"#DejaVuSans-50\"/>\n      </g>\n     </g>\n    </g>\n    <g id=\"ytick_3\">\n     <g id=\"line2d_62\">\n      <g>\n       <use style=\"stroke:#000000;stroke-width:0.8;\" x=\"30.103125\" xlink:href=\"#md70c002b21\" y=\"290.149077\"/>\n      </g>\n     </g>\n     <g id=\"text_63\">\n      <!-- 0.4 -->\n      <g transform=\"translate(7.2 293.948296)scale(0.1 -0.1)\">\n       <use xlink:href=\"#DejaVuSans-48\"/>\n       <use x=\"63.623047\" xlink:href=\"#DejaVuSans-46\"/>\n       <use x=\"95.410156\" xlink:href=\"#DejaVuSans-52\"/>\n      </g>\n     </g>\n    </g>\n    <g id=\"ytick_4\">\n     <g id=\"line2d_63\">\n      <g>\n       <use style=\"stroke:#000000;stroke-width:0.8;\" x=\"30.103125\" xlink:href=\"#md70c002b21\" y=\"207.739554\"/>\n      </g>\n     </g>\n     <g id=\"text_64\">\n      <!-- 0.6 -->\n      <g transform=\"translate(7.2 211.538772)scale(0.1 -0.1)\">\n       <use xlink:href=\"#DejaVuSans-48\"/>\n       <use x=\"63.623047\" xlink:href=\"#DejaVuSans-46\"/>\n       <use x=\"95.410156\" xlink:href=\"#DejaVuSans-54\"/>\n      </g>\n     </g>\n    </g>\n    <g id=\"ytick_5\">\n     <g id=\"line2d_64\">\n      <g>\n       <use style=\"stroke:#000000;stroke-width:0.8;\" x=\"30.103125\" xlink:href=\"#md70c002b21\" y=\"125.33003\"/>\n      </g>\n     </g>\n     <g id=\"text_65\">\n      <!-- 0.8 -->\n      <g transform=\"translate(7.2 129.129249)scale(0.1 -0.1)\">\n       <use xlink:href=\"#DejaVuSans-48\"/>\n       <use x=\"63.623047\" xlink:href=\"#DejaVuSans-46\"/>\n       <use x=\"95.410156\" xlink:href=\"#DejaVuSans-56\"/>\n      </g>\n     </g>\n    </g>\n    <g id=\"ytick_6\">\n     <g id=\"line2d_65\">\n      <g>\n       <use style=\"stroke:#000000;stroke-width:0.8;\" x=\"30.103125\" xlink:href=\"#md70c002b21\" y=\"42.920506\"/>\n      </g>\n     </g>\n     <g id=\"text_66\">\n      <!-- 1.0 -->\n      <g transform=\"translate(7.2 46.719725)scale(0.1 -0.1)\">\n       <use xlink:href=\"#DejaVuSans-49\"/>\n       <use x=\"63.623047\" xlink:href=\"#DejaVuSans-46\"/>\n       <use x=\"95.410156\" xlink:href=\"#DejaVuSans-48\"/>\n      </g>\n     </g>\n    </g>\n   </g>\n   <g id=\"patch_62\">\n    <path d=\"M 30.103125 454.968125 \nL 30.103125 22.318125 \n\" style=\"fill:none;stroke:#000000;stroke-linecap:square;stroke-linejoin:miter;stroke-width:0.8;\"/>\n   </g>\n   <g id=\"patch_63\">\n    <path d=\"M 708.639546 454.968125 \nL 708.639546 22.318125 \n\" style=\"fill:none;stroke:#000000;stroke-linecap:square;stroke-linejoin:miter;stroke-width:0.8;\"/>\n   </g>\n   <g id=\"patch_64\">\n    <path d=\"M 30.103125 454.968125 \nL 708.639546 454.968125 \n\" style=\"fill:none;stroke:#000000;stroke-linecap:square;stroke-linejoin:miter;stroke-width:0.8;\"/>\n   </g>\n   <g id=\"patch_65\">\n    <path d=\"M 30.103125 22.318125 \nL 708.639546 22.318125 \n\" style=\"fill:none;stroke:#000000;stroke-linecap:square;stroke-linejoin:miter;stroke-width:0.8;\"/>\n   </g>\n   <g id=\"text_67\">\n    <!-- Probability of defaulting vs. ExternalRiskEstimate -->\n    <g transform=\"translate(221.440398 16.318125)scale(0.12 -0.12)\">\n     <defs>\n      <path d=\"M 19.671875 64.796875 \nL 19.671875 37.40625 \nL 32.078125 37.40625 \nQ 38.96875 37.40625 42.71875 40.96875 \nQ 46.484375 44.53125 46.484375 51.125 \nQ 46.484375 57.671875 42.71875 61.234375 \nQ 38.96875 64.796875 32.078125 64.796875 \nz\nM 9.8125 72.90625 \nL 32.078125 72.90625 \nQ 44.34375 72.90625 50.609375 67.359375 \nQ 56.890625 61.8125 56.890625 51.125 \nQ 56.890625 40.328125 50.609375 34.8125 \nQ 44.34375 29.296875 32.078125 29.296875 \nL 19.671875 29.296875 \nL 19.671875 0 \nL 9.8125 0 \nz\n\" id=\"DejaVuSans-80\"/>\n      <path d=\"M 30.609375 48.390625 \nQ 23.390625 48.390625 19.1875 42.75 \nQ 14.984375 37.109375 14.984375 27.296875 \nQ 14.984375 17.484375 19.15625 11.84375 \nQ 23.34375 6.203125 30.609375 6.203125 \nQ 37.796875 6.203125 41.984375 11.859375 \nQ 46.1875 17.53125 46.1875 27.296875 \nQ 46.1875 37.015625 41.984375 42.703125 \nQ 37.796875 48.390625 30.609375 48.390625 \nz\nM 30.609375 56 \nQ 42.328125 56 49.015625 48.375 \nQ 55.71875 40.765625 55.71875 27.296875 \nQ 55.71875 13.875 49.015625 6.21875 \nQ 42.328125 -1.421875 30.609375 -1.421875 \nQ 18.84375 -1.421875 12.171875 6.21875 \nQ 5.515625 13.875 5.515625 27.296875 \nQ 5.515625 40.765625 12.171875 48.375 \nQ 18.84375 56 30.609375 56 \nz\n\" id=\"DejaVuSans-111\"/>\n      <path d=\"M 48.6875 27.296875 \nQ 48.6875 37.203125 44.609375 42.84375 \nQ 40.53125 48.484375 33.40625 48.484375 \nQ 26.265625 48.484375 22.1875 42.84375 \nQ 18.109375 37.203125 18.109375 27.296875 \nQ 18.109375 17.390625 22.1875 11.75 \nQ 26.265625 6.109375 33.40625 6.109375 \nQ 40.53125 6.109375 44.609375 11.75 \nQ 48.6875 17.390625 48.6875 27.296875 \nz\nM 18.109375 46.390625 \nQ 20.953125 51.265625 25.265625 53.625 \nQ 29.59375 56 35.59375 56 \nQ 45.5625 56 51.78125 48.09375 \nQ 58.015625 40.1875 58.015625 27.296875 \nQ 58.015625 14.40625 51.78125 6.484375 \nQ 45.5625 -1.421875 35.59375 -1.421875 \nQ 29.59375 -1.421875 25.265625 0.953125 \nQ 20.953125 3.328125 18.109375 8.203125 \nL 18.109375 0 \nL 9.078125 0 \nL 9.078125 75.984375 \nL 18.109375 75.984375 \nz\n\" id=\"DejaVuSans-98\"/>\n      <path d=\"M 32.171875 -5.078125 \nQ 28.375 -14.84375 24.75 -17.8125 \nQ 21.140625 -20.796875 15.09375 -20.796875 \nL 7.90625 -20.796875 \nL 7.90625 -13.28125 \nL 13.1875 -13.28125 \nQ 16.890625 -13.28125 18.9375 -11.515625 \nQ 21 -9.765625 23.484375 -3.21875 \nL 25.09375 0.875 \nL 2.984375 54.6875 \nL 12.5 54.6875 \nL 29.59375 11.921875 \nL 46.6875 54.6875 \nL 56.203125 54.6875 \nz\n\" id=\"DejaVuSans-121\"/>\n      <path id=\"DejaVuSans-32\"/>\n      <path d=\"M 37.109375 75.984375 \nL 37.109375 68.5 \nL 28.515625 68.5 \nQ 23.6875 68.5 21.796875 66.546875 \nQ 19.921875 64.59375 19.921875 59.515625 \nL 19.921875 54.6875 \nL 34.71875 54.6875 \nL 34.71875 47.703125 \nL 19.921875 47.703125 \nL 19.921875 0 \nL 10.890625 0 \nL 10.890625 47.703125 \nL 2.296875 47.703125 \nL 2.296875 54.6875 \nL 10.890625 54.6875 \nL 10.890625 58.5 \nQ 10.890625 67.625 15.140625 71.796875 \nQ 19.390625 75.984375 28.609375 75.984375 \nz\n\" id=\"DejaVuSans-102\"/>\n      <path d=\"M 45.40625 46.390625 \nL 45.40625 75.984375 \nL 54.390625 75.984375 \nL 54.390625 0 \nL 45.40625 0 \nL 45.40625 8.203125 \nQ 42.578125 3.328125 38.25 0.953125 \nQ 33.9375 -1.421875 27.875 -1.421875 \nQ 17.96875 -1.421875 11.734375 6.484375 \nQ 5.515625 14.40625 5.515625 27.296875 \nQ 5.515625 40.1875 11.734375 48.09375 \nQ 17.96875 56 27.875 56 \nQ 33.9375 56 38.25 53.625 \nQ 42.578125 51.265625 45.40625 46.390625 \nz\nM 14.796875 27.296875 \nQ 14.796875 17.390625 18.875 11.75 \nQ 22.953125 6.109375 30.078125 6.109375 \nQ 37.203125 6.109375 41.296875 11.75 \nQ 45.40625 17.390625 45.40625 27.296875 \nQ 45.40625 37.203125 41.296875 42.84375 \nQ 37.203125 48.484375 30.078125 48.484375 \nQ 22.953125 48.484375 18.875 42.84375 \nQ 14.796875 37.203125 14.796875 27.296875 \nz\n\" id=\"DejaVuSans-100\"/>\n      <path d=\"M 8.5 21.578125 \nL 8.5 54.6875 \nL 17.484375 54.6875 \nL 17.484375 21.921875 \nQ 17.484375 14.15625 20.5 10.265625 \nQ 23.53125 6.390625 29.59375 6.390625 \nQ 36.859375 6.390625 41.078125 11.03125 \nQ 45.3125 15.671875 45.3125 23.6875 \nL 45.3125 54.6875 \nL 54.296875 54.6875 \nL 54.296875 0 \nL 45.3125 0 \nL 45.3125 8.40625 \nQ 42.046875 3.421875 37.71875 1 \nQ 33.40625 -1.421875 27.6875 -1.421875 \nQ 18.265625 -1.421875 13.375 4.4375 \nQ 8.5 10.296875 8.5 21.578125 \nz\nM 31.109375 56 \nz\n\" id=\"DejaVuSans-117\"/>\n      <path d=\"M 45.40625 27.984375 \nQ 45.40625 37.75 41.375 43.109375 \nQ 37.359375 48.484375 30.078125 48.484375 \nQ 22.859375 48.484375 18.828125 43.109375 \nQ 14.796875 37.75 14.796875 27.984375 \nQ 14.796875 18.265625 18.828125 12.890625 \nQ 22.859375 7.515625 30.078125 7.515625 \nQ 37.359375 7.515625 41.375 12.890625 \nQ 45.40625 18.265625 45.40625 27.984375 \nz\nM 54.390625 6.78125 \nQ 54.390625 -7.171875 48.1875 -13.984375 \nQ 42 -20.796875 29.203125 -20.796875 \nQ 24.46875 -20.796875 20.265625 -20.09375 \nQ 16.0625 -19.390625 12.109375 -17.921875 \nL 12.109375 -9.1875 \nQ 16.0625 -11.328125 19.921875 -12.34375 \nQ 23.78125 -13.375 27.78125 -13.375 \nQ 36.625 -13.375 41.015625 -8.765625 \nQ 45.40625 -4.15625 45.40625 5.171875 \nL 45.40625 9.625 \nQ 42.625 4.78125 38.28125 2.390625 \nQ 33.9375 0 27.875 0 \nQ 17.828125 0 11.671875 7.65625 \nQ 5.515625 15.328125 5.515625 27.984375 \nQ 5.515625 40.671875 11.671875 48.328125 \nQ 17.828125 56 27.875 56 \nQ 33.9375 56 38.28125 53.609375 \nQ 42.625 51.21875 45.40625 46.390625 \nL 45.40625 54.6875 \nL 54.390625 54.6875 \nz\n\" id=\"DejaVuSans-103\"/>\n      <path d=\"M 2.984375 54.6875 \nL 12.5 54.6875 \nL 29.59375 8.796875 \nL 46.6875 54.6875 \nL 56.203125 54.6875 \nL 35.6875 0 \nL 23.484375 0 \nz\n\" id=\"DejaVuSans-118\"/>\n     </defs>\n     <use xlink:href=\"#DejaVuSans-80\"/>\n     <use x=\"58.552734\" xlink:href=\"#DejaVuSans-114\"/>\n     <use x=\"97.416016\" xlink:href=\"#DejaVuSans-111\"/>\n     <use x=\"158.597656\" xlink:href=\"#DejaVuSans-98\"/>\n     <use x=\"222.074219\" xlink:href=\"#DejaVuSans-97\"/>\n     <use x=\"283.353516\" xlink:href=\"#DejaVuSans-98\"/>\n     <use x=\"346.830078\" xlink:href=\"#DejaVuSans-105\"/>\n     <use x=\"374.613281\" xlink:href=\"#DejaVuSans-108\"/>\n     <use x=\"402.396484\" xlink:href=\"#DejaVuSans-105\"/>\n     <use x=\"430.179688\" xlink:href=\"#DejaVuSans-116\"/>\n     <use x=\"469.388672\" xlink:href=\"#DejaVuSans-121\"/>\n     <use x=\"528.568359\" xlink:href=\"#DejaVuSans-32\"/>\n     <use x=\"560.355469\" xlink:href=\"#DejaVuSans-111\"/>\n     <use x=\"621.537109\" xlink:href=\"#DejaVuSans-102\"/>\n     <use x=\"656.742188\" xlink:href=\"#DejaVuSans-32\"/>\n     <use x=\"688.529297\" xlink:href=\"#DejaVuSans-100\"/>\n     <use x=\"752.005859\" xlink:href=\"#DejaVuSans-101\"/>\n     <use x=\"813.529297\" xlink:href=\"#DejaVuSans-102\"/>\n     <use x=\"848.734375\" xlink:href=\"#DejaVuSans-97\"/>\n     <use x=\"910.013672\" xlink:href=\"#DejaVuSans-117\"/>\n     <use x=\"973.392578\" xlink:href=\"#DejaVuSans-108\"/>\n     <use x=\"1001.175781\" xlink:href=\"#DejaVuSans-116\"/>\n     <use x=\"1040.384766\" xlink:href=\"#DejaVuSans-105\"/>\n     <use x=\"1068.167969\" xlink:href=\"#DejaVuSans-110\"/>\n     <use x=\"1131.546875\" xlink:href=\"#DejaVuSans-103\"/>\n     <use x=\"1195.023438\" xlink:href=\"#DejaVuSans-32\"/>\n     <use x=\"1226.810547\" xlink:href=\"#DejaVuSans-118\"/>\n     <use x=\"1285.990234\" xlink:href=\"#DejaVuSans-115\"/>\n     <use x=\"1338.089844\" xlink:href=\"#DejaVuSans-46\"/>\n     <use x=\"1369.876953\" xlink:href=\"#DejaVuSans-32\"/>\n     <use x=\"1401.664062\" xlink:href=\"#DejaVuSans-69\"/>\n     <use x=\"1464.847656\" xlink:href=\"#DejaVuSans-120\"/>\n     <use x=\"1524.027344\" xlink:href=\"#DejaVuSans-116\"/>\n     <use x=\"1563.236328\" xlink:href=\"#DejaVuSans-101\"/>\n     <use x=\"1624.759766\" xlink:href=\"#DejaVuSans-114\"/>\n     <use x=\"1664.123047\" xlink:href=\"#DejaVuSans-110\"/>\n     <use x=\"1727.501953\" xlink:href=\"#DejaVuSans-97\"/>\n     <use x=\"1788.78125\" xlink:href=\"#DejaVuSans-108\"/>\n     <use x=\"1816.564453\" xlink:href=\"#DejaVuSans-82\"/>\n     <use x=\"1886.046875\" xlink:href=\"#DejaVuSans-105\"/>\n     <use x=\"1913.830078\" xlink:href=\"#DejaVuSans-115\"/>\n     <use x=\"1965.929688\" xlink:href=\"#DejaVuSans-107\"/>\n     <use x=\"2023.839844\" xlink:href=\"#DejaVuSans-69\"/>\n     <use x=\"2087.023438\" xlink:href=\"#DejaVuSans-115\"/>\n     <use x=\"2139.123047\" xlink:href=\"#DejaVuSans-116\"/>\n     <use x=\"2178.332031\" xlink:href=\"#DejaVuSans-105\"/>\n     <use x=\"2206.115234\" xlink:href=\"#DejaVuSans-109\"/>\n     <use x=\"2303.527344\" xlink:href=\"#DejaVuSans-97\"/>\n     <use x=\"2364.806641\" xlink:href=\"#DejaVuSans-116\"/>\n     <use x=\"2404.015625\" xlink:href=\"#DejaVuSans-101\"/>\n    </g>\n   </g>\n  </g>\n  <g id=\"axes_2\">\n   <g id=\"patch_66\">\n    <path d=\"M 746.265625 454.968125 \nL 1424.802046 454.968125 \nL 1424.802046 22.318125 \nL 746.265625 22.318125 \nz\n\" style=\"fill:#ffffff;\"/>\n   </g>\n   <g id=\"patch_67\">\n    <path clip-path=\"url(#pdc29aec65b)\" d=\"M 749.140779 454.968125 \nL 754.891088 454.968125 \nL 754.891088 444.334638 \nL 749.140779 444.334638 \nz\n\" style=\"fill:#1f77b4;\"/>\n   </g>\n   <g id=\"patch_68\">\n    <path clip-path=\"url(#pdc29aec65b)\" d=\"M 760.641397 454.968125 \nL 766.391705 454.968125 \nL 766.391705 453.638939 \nL 760.641397 453.638939 \nz\n\" style=\"fill:#1f77b4;\"/>\n   </g>\n   <g id=\"patch_69\">\n    <path clip-path=\"url(#pdc29aec65b)\" d=\"M 772.142014 454.968125 \nL 777.892323 454.968125 \nL 777.892323 453.638939 \nL 772.142014 453.638939 \nz\n\" style=\"fill:#1f77b4;\"/>\n   </g>\n   <g id=\"patch_70\">\n    <path clip-path=\"url(#pdc29aec65b)\" d=\"M 783.642631 454.968125 \nL 789.39294 454.968125 \nL 789.39294 453.638939 \nL 783.642631 453.638939 \nz\n\" style=\"fill:#1f77b4;\"/>\n   </g>\n   <g id=\"patch_71\">\n    <path clip-path=\"url(#pdc29aec65b)\" d=\"M 795.143249 454.968125 \nL 800.893557 454.968125 \nL 800.893557 453.638939 \nL 795.143249 453.638939 \nz\n\" style=\"fill:#1f77b4;\"/>\n   </g>\n   <g id=\"patch_72\">\n    <path clip-path=\"url(#pdc29aec65b)\" d=\"M 806.643866 454.968125 \nL 812.394175 454.968125 \nL 812.394175 452.309753 \nL 806.643866 452.309753 \nz\n\" style=\"fill:#1f77b4;\"/>\n   </g>\n   <g id=\"patch_73\">\n    <path clip-path=\"url(#pdc29aec65b)\" d=\"M 818.144483 454.968125 \nL 823.894792 454.968125 \nL 823.894792 453.638939 \nL 818.144483 453.638939 \nz\n\" style=\"fill:#1f77b4;\"/>\n   </g>\n   <g id=\"patch_74\">\n    <path clip-path=\"url(#pdc29aec65b)\" d=\"M 829.645101 454.968125 \nL 835.395409 454.968125 \nL 835.395409 448.322196 \nL 829.645101 448.322196 \nz\n\" style=\"fill:#1f77b4;\"/>\n   </g>\n   <g id=\"patch_75\">\n    <path clip-path=\"url(#pdc29aec65b)\" d=\"M 841.145718 454.968125 \nL 846.896026 454.968125 \nL 846.896026 452.309753 \nL 841.145718 452.309753 \nz\n\" style=\"fill:#1f77b4;\"/>\n   </g>\n   <g id=\"patch_76\">\n    <path clip-path=\"url(#pdc29aec65b)\" d=\"M 852.646335 454.968125 \nL 858.396644 454.968125 \nL 858.396644 450.980567 \nL 852.646335 450.980567 \nz\n\" style=\"fill:#1f77b4;\"/>\n   </g>\n   <g id=\"patch_77\">\n    <path clip-path=\"url(#pdc29aec65b)\" d=\"M 864.146952 454.968125 \nL 869.897261 454.968125 \nL 869.897261 453.638939 \nL 864.146952 453.638939 \nz\n\" style=\"fill:#1f77b4;\"/>\n   </g>\n   <g id=\"patch_78\">\n    <path clip-path=\"url(#pdc29aec65b)\" d=\"M 875.64757 454.968125 \nL 881.397878 454.968125 \nL 881.397878 448.322196 \nL 875.64757 448.322196 \nz\n\" style=\"fill:#1f77b4;\"/>\n   </g>\n   <g id=\"patch_79\">\n    <path clip-path=\"url(#pdc29aec65b)\" d=\"M 887.148187 454.968125 \nL 892.898496 454.968125 \nL 892.898496 450.980567 \nL 887.148187 450.980567 \nz\n\" style=\"fill:#1f77b4;\"/>\n   </g>\n   <g id=\"patch_80\">\n    <path clip-path=\"url(#pdc29aec65b)\" d=\"M 898.648804 454.968125 \nL 904.399113 454.968125 \nL 904.399113 449.651382 \nL 898.648804 449.651382 \nz\n\" style=\"fill:#1f77b4;\"/>\n   </g>\n   <g id=\"patch_81\">\n    <path clip-path=\"url(#pdc29aec65b)\" d=\"M 910.149422 454.968125 \nL 915.89973 454.968125 \nL 915.89973 436.359523 \nL 910.149422 436.359523 \nz\n\" style=\"fill:#1f77b4;\"/>\n   </g>\n   <g id=\"patch_82\">\n    <path clip-path=\"url(#pdc29aec65b)\" d=\"M 921.650039 454.968125 \nL 927.400348 454.968125 \nL 927.400348 444.334638 \nL 921.650039 444.334638 \nz\n\" style=\"fill:#1f77b4;\"/>\n   </g>\n   <g id=\"patch_83\">\n    <path clip-path=\"url(#pdc29aec65b)\" d=\"M 933.150656 454.968125 \nL 938.900965 454.968125 \nL 938.900965 440.34708 \nL 933.150656 440.34708 \nz\n\" style=\"fill:#1f77b4;\"/>\n   </g>\n   <g id=\"patch_84\">\n    <path clip-path=\"url(#pdc29aec65b)\" d=\"M 944.651274 454.968125 \nL 950.401582 454.968125 \nL 950.401582 452.309753 \nL 944.651274 452.309753 \nz\n\" style=\"fill:#1f77b4;\"/>\n   </g>\n   <g id=\"patch_85\">\n    <path clip-path=\"url(#pdc29aec65b)\" d=\"M 956.151891 454.968125 \nL 961.9022 454.968125 \nL 961.9022 345.974884 \nL 956.151891 345.974884 \nz\n\" style=\"fill:#1f77b4;\"/>\n   </g>\n   <g id=\"patch_86\">\n    <path clip-path=\"url(#pdc29aec65b)\" d=\"M 967.652508 454.968125 \nL 973.402817 454.968125 \nL 973.402817 324.70791 \nL 967.652508 324.70791 \nz\n\" style=\"fill:#1f77b4;\"/>\n   </g>\n   <g id=\"patch_87\">\n    <path clip-path=\"url(#pdc29aec65b)\" d=\"M 979.153126 454.968125 \nL 984.903434 454.968125 \nL 984.903434 243.627572 \nL 979.153126 243.627572 \nz\n\" style=\"fill:#1f77b4;\"/>\n   </g>\n   <g id=\"patch_88\">\n    <path clip-path=\"url(#pdc29aec65b)\" d=\"M 990.653743 454.968125 \nL 996.404052 454.968125 \nL 996.404052 247.61513 \nL 990.653743 247.61513 \nz\n\" style=\"fill:#1f77b4;\"/>\n   </g>\n   <g id=\"patch_89\">\n    <path clip-path=\"url(#pdc29aec65b)\" d=\"M 1002.15436 454.968125 \nL 1007.904669 454.968125 \nL 1007.904669 267.552918 \nL 1002.15436 267.552918 \nz\n\" style=\"fill:#1f77b4;\"/>\n   </g>\n   <g id=\"patch_90\">\n    <path clip-path=\"url(#pdc29aec65b)\" d=\"M 1013.654978 454.968125 \nL 1019.405286 454.968125 \nL 1019.405286 210.397925 \nL 1013.654978 210.397925 \nz\n\" style=\"fill:#1f77b4;\"/>\n   </g>\n   <g id=\"patch_91\">\n    <path clip-path=\"url(#pdc29aec65b)\" d=\"M 1025.155595 454.968125 \nL 1030.905903 454.968125 \nL 1030.905903 206.410368 \nL 1025.155595 206.410368 \nz\n\" style=\"fill:#1f77b4;\"/>\n   </g>\n   <g id=\"patch_92\">\n    <path clip-path=\"url(#pdc29aec65b)\" d=\"M 1036.656212 454.968125 \nL 1042.406521 454.968125 \nL 1042.406521 150.584561 \nL 1036.656212 150.584561 \nz\n\" style=\"fill:#1f77b4;\"/>\n   </g>\n   <g id=\"patch_93\">\n    <path clip-path=\"url(#pdc29aec65b)\" d=\"M 1048.156829 454.968125 \nL 1053.907138 454.968125 \nL 1053.907138 194.447695 \nL 1048.156829 194.447695 \nz\n\" style=\"fill:#1f77b4;\"/>\n   </g>\n   <g id=\"patch_94\">\n    <path clip-path=\"url(#pdc29aec65b)\" d=\"M 1059.657447 454.968125 \nL 1065.407755 454.968125 \nL 1065.407755 104.063056 \nL 1059.657447 104.063056 \nz\n\" style=\"fill:#1f77b4;\"/>\n   </g>\n   <g id=\"patch_95\">\n    <path clip-path=\"url(#pdc29aec65b)\" d=\"M 1071.158064 454.968125 \nL 1076.908373 454.968125 \nL 1076.908373 129.317587 \nL 1071.158064 129.317587 \nz\n\" style=\"fill:#1f77b4;\"/>\n   </g>\n   <g id=\"patch_96\">\n    <path clip-path=\"url(#pdc29aec65b)\" d=\"M 1082.658681 454.968125 \nL 1088.40899 454.968125 \nL 1088.40899 66.845852 \nL 1082.658681 66.845852 \nz\n\" style=\"fill:#1f77b4;\"/>\n   </g>\n   <g id=\"patch_97\">\n    <path clip-path=\"url(#pdc29aec65b)\" d=\"M 1094.159299 454.968125 \nL 1099.909607 454.968125 \nL 1099.909607 46.908064 \nL 1094.159299 46.908064 \nz\n\" style=\"fill:#1f77b4;\"/>\n   </g>\n   <g id=\"patch_98\">\n    <path clip-path=\"url(#pdc29aec65b)\" d=\"M 1105.659916 454.968125 \nL 1111.410225 454.968125 \nL 1111.410225 162.547234 \nL 1105.659916 162.547234 \nz\n\" style=\"fill:#1f77b4;\"/>\n   </g>\n   <g id=\"patch_99\">\n    <path clip-path=\"url(#pdc29aec65b)\" d=\"M 1117.160533 454.968125 \nL 1122.910842 454.968125 \nL 1122.910842 42.920506 \nL 1117.160533 42.920506 \nz\n\" style=\"fill:#1f77b4;\"/>\n   </g>\n   <g id=\"patch_100\">\n    <path clip-path=\"url(#pdc29aec65b)\" d=\"M 1128.661151 454.968125 \nL 1134.411459 454.968125 \nL 1134.411459 129.317587 \nL 1128.661151 129.317587 \nz\n\" style=\"fill:#1f77b4;\"/>\n   </g>\n   <g id=\"patch_101\">\n    <path clip-path=\"url(#pdc29aec65b)\" d=\"M 1140.161768 454.968125 \nL 1145.912077 454.968125 \nL 1145.912077 101.404684 \nL 1140.161768 101.404684 \nz\n\" style=\"fill:#1f77b4;\"/>\n   </g>\n   <g id=\"patch_102\">\n    <path clip-path=\"url(#pdc29aec65b)\" d=\"M 1151.662385 454.968125 \nL 1157.412694 454.968125 \nL 1157.412694 146.597004 \nL 1151.662385 146.597004 \nz\n\" style=\"fill:#1f77b4;\"/>\n   </g>\n   <g id=\"patch_103\">\n    <path clip-path=\"url(#pdc29aec65b)\" d=\"M 1163.163003 454.968125 \nL 1168.913311 454.968125 \nL 1168.913311 70.833409 \nL 1163.163003 70.833409 \nz\n\" style=\"fill:#1f77b4;\"/>\n   </g>\n   <g id=\"patch_104\">\n    <path clip-path=\"url(#pdc29aec65b)\" d=\"M 1174.66362 454.968125 \nL 1180.413929 454.968125 \nL 1180.413929 72.162595 \nL 1174.66362 72.162595 \nz\n\" style=\"fill:#1f77b4;\"/>\n   </g>\n   <g id=\"patch_105\">\n    <path clip-path=\"url(#pdc29aec65b)\" d=\"M 1186.164237 454.968125 \nL 1191.914546 454.968125 \nL 1191.914546 158.559676 \nL 1186.164237 158.559676 \nz\n\" style=\"fill:#1f77b4;\"/>\n   </g>\n   <g id=\"patch_106\">\n    <path clip-path=\"url(#pdc29aec65b)\" d=\"M 1197.664855 454.968125 \nL 1203.415163 454.968125 \nL 1203.415163 108.050613 \nL 1197.664855 108.050613 \nz\n\" style=\"fill:#1f77b4;\"/>\n   </g>\n   <g id=\"patch_107\">\n    <path clip-path=\"url(#pdc29aec65b)\" d=\"M 1209.165472 454.968125 \nL 1214.91578 454.968125 \nL 1214.91578 170.522349 \nL 1209.165472 170.522349 \nz\n\" style=\"fill:#1f77b4;\"/>\n   </g>\n   <g id=\"patch_108\">\n    <path clip-path=\"url(#pdc29aec65b)\" d=\"M 1220.666089 454.968125 \nL 1226.416398 454.968125 \nL 1226.416398 137.292703 \nL 1220.666089 137.292703 \nz\n\" style=\"fill:#1f77b4;\"/>\n   </g>\n   <g id=\"patch_109\">\n    <path clip-path=\"url(#pdc29aec65b)\" d=\"M 1232.166706 454.968125 \nL 1237.917015 454.968125 \nL 1237.917015 211.727111 \nL 1232.166706 211.727111 \nz\n\" style=\"fill:#1f77b4;\"/>\n   </g>\n   <g id=\"patch_110\">\n    <path clip-path=\"url(#pdc29aec65b)\" d=\"M 1243.667324 454.968125 \nL 1249.417632 454.968125 \nL 1249.417632 145.267818 \nL 1243.667324 145.267818 \nz\n\" style=\"fill:#1f77b4;\"/>\n   </g>\n   <g id=\"patch_111\">\n    <path clip-path=\"url(#pdc29aec65b)\" d=\"M 1255.167941 454.968125 \nL 1260.91825 454.968125 \nL 1260.91825 145.267818 \nL 1255.167941 145.267818 \nz\n\" style=\"fill:#1f77b4;\"/>\n   </g>\n   <g id=\"patch_112\">\n    <path clip-path=\"url(#pdc29aec65b)\" d=\"M 1266.668558 454.968125 \nL 1272.418867 454.968125 \nL 1272.418867 177.168279 \nL 1266.668558 177.168279 \nz\n\" style=\"fill:#1f77b4;\"/>\n   </g>\n   <g id=\"patch_113\">\n    <path clip-path=\"url(#pdc29aec65b)\" d=\"M 1278.169176 454.968125 \nL 1283.919484 454.968125 \nL 1283.919484 166.534792 \nL 1278.169176 166.534792 \nz\n\" style=\"fill:#1f77b4;\"/>\n   </g>\n   <g id=\"patch_114\">\n    <path clip-path=\"url(#pdc29aec65b)\" d=\"M 1289.669793 454.968125 \nL 1295.420102 454.968125 \nL 1295.420102 225.01897 \nL 1289.669793 225.01897 \nz\n\" style=\"fill:#1f77b4;\"/>\n   </g>\n   <g id=\"patch_115\">\n    <path clip-path=\"url(#pdc29aec65b)\" d=\"M 1301.17041 454.968125 \nL 1306.920719 454.968125 \nL 1306.920719 154.572119 \nL 1301.17041 154.572119 \nz\n\" style=\"fill:#1f77b4;\"/>\n   </g>\n   <g id=\"patch_116\">\n    <path clip-path=\"url(#pdc29aec65b)\" d=\"M 1312.671028 454.968125 \nL 1318.421336 454.968125 \nL 1318.421336 221.031412 \nL 1312.671028 221.031412 \nz\n\" style=\"fill:#1f77b4;\"/>\n   </g>\n   <g id=\"patch_117\">\n    <path clip-path=\"url(#pdc29aec65b)\" d=\"M 1324.171645 454.968125 \nL 1329.921954 454.968125 \nL 1329.921954 190.460137 \nL 1324.171645 190.460137 \nz\n\" style=\"fill:#1f77b4;\"/>\n   </g>\n   <g id=\"patch_118\">\n    <path clip-path=\"url(#pdc29aec65b)\" d=\"M 1335.672262 454.968125 \nL 1341.422571 454.968125 \nL 1341.422571 268.882103 \nL 1335.672262 268.882103 \nz\n\" style=\"fill:#1f77b4;\"/>\n   </g>\n   <g id=\"patch_119\">\n    <path clip-path=\"url(#pdc29aec65b)\" d=\"M 1347.17288 454.968125 \nL 1352.923188 454.968125 \nL 1352.923188 222.360598 \nL 1347.17288 222.360598 \nz\n\" style=\"fill:#1f77b4;\"/>\n   </g>\n   <g id=\"patch_120\">\n    <path clip-path=\"url(#pdc29aec65b)\" d=\"M 1358.673497 454.968125 \nL 1364.423806 454.968125 \nL 1364.423806 292.807449 \nL 1358.673497 292.807449 \nz\n\" style=\"fill:#1f77b4;\"/>\n   </g>\n   <g id=\"patch_121\">\n    <path clip-path=\"url(#pdc29aec65b)\" d=\"M 1370.174114 454.968125 \nL 1375.924423 454.968125 \nL 1375.924423 341.987326 \nL 1370.174114 341.987326 \nz\n\" style=\"fill:#1f77b4;\"/>\n   </g>\n   <g id=\"patch_122\">\n    <path clip-path=\"url(#pdc29aec65b)\" d=\"M 1381.674731 454.968125 \nL 1387.42504 454.968125 \nL 1387.42504 348.633256 \nL 1381.674731 348.633256 \nz\n\" style=\"fill:#1f77b4;\"/>\n   </g>\n   <g id=\"patch_123\">\n    <path clip-path=\"url(#pdc29aec65b)\" d=\"M 1393.175349 454.968125 \nL 1398.925657 454.968125 \nL 1398.925657 413.763363 \nL 1393.175349 413.763363 \nz\n\" style=\"fill:#1f77b4;\"/>\n   </g>\n   <g id=\"patch_124\">\n    <path clip-path=\"url(#pdc29aec65b)\" d=\"M 1404.675966 454.968125 \nL 1410.426275 454.968125 \nL 1410.426275 437.688709 \nL 1404.675966 437.688709 \nz\n\" style=\"fill:#1f77b4;\"/>\n   </g>\n   <g id=\"patch_125\">\n    <path clip-path=\"url(#pdc29aec65b)\" d=\"M 1416.176583 454.968125 \nL 1421.926892 454.968125 \nL 1421.926892 453.638939 \nL 1416.176583 453.638939 \nz\n\" style=\"fill:#1f77b4;\"/>\n   </g>\n   <g id=\"matplotlib.axis_3\">\n    <g id=\"xtick_60\">\n     <g id=\"line2d_66\">\n      <g>\n       <use style=\"stroke:#000000;stroke-width:0.8;\" x=\"752.015934\" xlink:href=\"#m70ab8f37e7\" y=\"454.968125\"/>\n      </g>\n     </g>\n     <g id=\"text_68\">\n      <!-- -9 -->\n      <g transform=\"translate(754.775309 471.938438)rotate(-90)scale(0.1 -0.1)\">\n       <use xlink:href=\"#DejaVuSans-45\"/>\n       <use x=\"36.083984\" xlink:href=\"#DejaVuSans-57\"/>\n      </g>\n     </g>\n    </g>\n    <g id=\"xtick_61\">\n     <g id=\"line2d_67\">\n      <g>\n       <use style=\"stroke:#000000;stroke-width:0.8;\" x=\"763.516551\" xlink:href=\"#m70ab8f37e7\" y=\"454.968125\"/>\n      </g>\n     </g>\n     <g id=\"text_69\">\n      <!-- 34 -->\n      <g transform=\"translate(766.275926 474.693125)rotate(-90)scale(0.1 -0.1)\">\n       <use xlink:href=\"#DejaVuSans-51\"/>\n       <use x=\"63.623047\" xlink:href=\"#DejaVuSans-52\"/>\n      </g>\n     </g>\n    </g>\n    <g id=\"xtick_62\">\n     <g id=\"line2d_68\">\n      <g>\n       <use style=\"stroke:#000000;stroke-width:0.8;\" x=\"775.017168\" xlink:href=\"#m70ab8f37e7\" y=\"454.968125\"/>\n      </g>\n     </g>\n     <g id=\"text_70\">\n      <!-- 36 -->\n      <g transform=\"translate(777.776543 474.693125)rotate(-90)scale(0.1 -0.1)\">\n       <use xlink:href=\"#DejaVuSans-51\"/>\n       <use x=\"63.623047\" xlink:href=\"#DejaVuSans-54\"/>\n      </g>\n     </g>\n    </g>\n    <g id=\"xtick_63\">\n     <g id=\"line2d_69\">\n      <g>\n       <use style=\"stroke:#000000;stroke-width:0.8;\" x=\"786.517786\" xlink:href=\"#m70ab8f37e7\" y=\"454.968125\"/>\n      </g>\n     </g>\n     <g id=\"text_71\">\n      <!-- 37 -->\n      <g transform=\"translate(789.277161 474.693125)rotate(-90)scale(0.1 -0.1)\">\n       <use xlink:href=\"#DejaVuSans-51\"/>\n       <use x=\"63.623047\" xlink:href=\"#DejaVuSans-55\"/>\n      </g>\n     </g>\n    </g>\n    <g id=\"xtick_64\">\n     <g id=\"line2d_70\">\n      <g>\n       <use style=\"stroke:#000000;stroke-width:0.8;\" x=\"798.018403\" xlink:href=\"#m70ab8f37e7\" y=\"454.968125\"/>\n      </g>\n     </g>\n     <g id=\"text_72\">\n      <!-- 39 -->\n      <g transform=\"translate(800.777778 474.693125)rotate(-90)scale(0.1 -0.1)\">\n       <use xlink:href=\"#DejaVuSans-51\"/>\n       <use x=\"63.623047\" xlink:href=\"#DejaVuSans-57\"/>\n      </g>\n     </g>\n    </g>\n    <g id=\"xtick_65\">\n     <g id=\"line2d_71\">\n      <g>\n       <use style=\"stroke:#000000;stroke-width:0.8;\" x=\"809.51902\" xlink:href=\"#m70ab8f37e7\" y=\"454.968125\"/>\n      </g>\n     </g>\n     <g id=\"text_73\">\n      <!-- 40 -->\n      <g transform=\"translate(812.278395 474.693125)rotate(-90)scale(0.1 -0.1)\">\n       <use xlink:href=\"#DejaVuSans-52\"/>\n       <use x=\"63.623047\" xlink:href=\"#DejaVuSans-48\"/>\n      </g>\n     </g>\n    </g>\n    <g id=\"xtick_66\">\n     <g id=\"line2d_72\">\n      <g>\n       <use style=\"stroke:#000000;stroke-width:0.8;\" x=\"821.019638\" xlink:href=\"#m70ab8f37e7\" y=\"454.968125\"/>\n      </g>\n     </g>\n     <g id=\"text_74\">\n      <!-- 41 -->\n      <g transform=\"translate(823.779013 474.693125)rotate(-90)scale(0.1 -0.1)\">\n       <use xlink:href=\"#DejaVuSans-52\"/>\n       <use x=\"63.623047\" xlink:href=\"#DejaVuSans-49\"/>\n      </g>\n     </g>\n    </g>\n    <g id=\"xtick_67\">\n     <g id=\"line2d_73\">\n      <g>\n       <use style=\"stroke:#000000;stroke-width:0.8;\" x=\"832.520255\" xlink:href=\"#m70ab8f37e7\" y=\"454.968125\"/>\n      </g>\n     </g>\n     <g id=\"text_75\">\n      <!-- 43 -->\n      <g transform=\"translate(835.27963 474.693125)rotate(-90)scale(0.1 -0.1)\">\n       <use xlink:href=\"#DejaVuSans-52\"/>\n       <use x=\"63.623047\" xlink:href=\"#DejaVuSans-51\"/>\n      </g>\n     </g>\n    </g>\n    <g id=\"xtick_68\">\n     <g id=\"line2d_74\">\n      <g>\n       <use style=\"stroke:#000000;stroke-width:0.8;\" x=\"844.020872\" xlink:href=\"#m70ab8f37e7\" y=\"454.968125\"/>\n      </g>\n     </g>\n     <g id=\"text_76\">\n      <!-- 44 -->\n      <g transform=\"translate(846.780247 474.693125)rotate(-90)scale(0.1 -0.1)\">\n       <use xlink:href=\"#DejaVuSans-52\"/>\n       <use x=\"63.623047\" xlink:href=\"#DejaVuSans-52\"/>\n      </g>\n     </g>\n    </g>\n    <g id=\"xtick_69\">\n     <g id=\"line2d_75\">\n      <g>\n       <use style=\"stroke:#000000;stroke-width:0.8;\" x=\"855.521489\" xlink:href=\"#m70ab8f37e7\" y=\"454.968125\"/>\n      </g>\n     </g>\n     <g id=\"text_77\">\n      <!-- 45 -->\n      <g transform=\"translate(858.280864 474.693125)rotate(-90)scale(0.1 -0.1)\">\n       <use xlink:href=\"#DejaVuSans-52\"/>\n       <use x=\"63.623047\" xlink:href=\"#DejaVuSans-53\"/>\n      </g>\n     </g>\n    </g>\n    <g id=\"xtick_70\">\n     <g id=\"line2d_76\">\n      <g>\n       <use style=\"stroke:#000000;stroke-width:0.8;\" x=\"867.022107\" xlink:href=\"#m70ab8f37e7\" y=\"454.968125\"/>\n      </g>\n     </g>\n     <g id=\"text_78\">\n      <!-- 46 -->\n      <g transform=\"translate(869.781482 474.693125)rotate(-90)scale(0.1 -0.1)\">\n       <use xlink:href=\"#DejaVuSans-52\"/>\n       <use x=\"63.623047\" xlink:href=\"#DejaVuSans-54\"/>\n      </g>\n     </g>\n    </g>\n    <g id=\"xtick_71\">\n     <g id=\"line2d_77\">\n      <g>\n       <use style=\"stroke:#000000;stroke-width:0.8;\" x=\"878.522724\" xlink:href=\"#m70ab8f37e7\" y=\"454.968125\"/>\n      </g>\n     </g>\n     <g id=\"text_79\">\n      <!-- 47 -->\n      <g transform=\"translate(881.282099 474.693125)rotate(-90)scale(0.1 -0.1)\">\n       <use xlink:href=\"#DejaVuSans-52\"/>\n       <use x=\"63.623047\" xlink:href=\"#DejaVuSans-55\"/>\n      </g>\n     </g>\n    </g>\n    <g id=\"xtick_72\">\n     <g id=\"line2d_78\">\n      <g>\n       <use style=\"stroke:#000000;stroke-width:0.8;\" x=\"890.023341\" xlink:href=\"#m70ab8f37e7\" y=\"454.968125\"/>\n      </g>\n     </g>\n     <g id=\"text_80\">\n      <!-- 48 -->\n      <g transform=\"translate(892.782716 474.693125)rotate(-90)scale(0.1 -0.1)\">\n       <use xlink:href=\"#DejaVuSans-52\"/>\n       <use x=\"63.623047\" xlink:href=\"#DejaVuSans-56\"/>\n      </g>\n     </g>\n    </g>\n    <g id=\"xtick_73\">\n     <g id=\"line2d_79\">\n      <g>\n       <use style=\"stroke:#000000;stroke-width:0.8;\" x=\"901.523959\" xlink:href=\"#m70ab8f37e7\" y=\"454.968125\"/>\n      </g>\n     </g>\n     <g id=\"text_81\">\n      <!-- 49 -->\n      <g transform=\"translate(904.283334 474.693125)rotate(-90)scale(0.1 -0.1)\">\n       <use xlink:href=\"#DejaVuSans-52\"/>\n       <use x=\"63.623047\" xlink:href=\"#DejaVuSans-57\"/>\n      </g>\n     </g>\n    </g>\n    <g id=\"xtick_74\">\n     <g id=\"line2d_80\">\n      <g>\n       <use style=\"stroke:#000000;stroke-width:0.8;\" x=\"913.024576\" xlink:href=\"#m70ab8f37e7\" y=\"454.968125\"/>\n      </g>\n     </g>\n     <g id=\"text_82\">\n      <!-- 50 -->\n      <g transform=\"translate(915.783951 474.693125)rotate(-90)scale(0.1 -0.1)\">\n       <use xlink:href=\"#DejaVuSans-53\"/>\n       <use x=\"63.623047\" xlink:href=\"#DejaVuSans-48\"/>\n      </g>\n     </g>\n    </g>\n    <g id=\"xtick_75\">\n     <g id=\"line2d_81\">\n      <g>\n       <use style=\"stroke:#000000;stroke-width:0.8;\" x=\"924.525193\" xlink:href=\"#m70ab8f37e7\" y=\"454.968125\"/>\n      </g>\n     </g>\n     <g id=\"text_83\">\n      <!-- 51 -->\n      <g transform=\"translate(927.284568 474.693125)rotate(-90)scale(0.1 -0.1)\">\n       <use xlink:href=\"#DejaVuSans-53\"/>\n       <use x=\"63.623047\" xlink:href=\"#DejaVuSans-49\"/>\n      </g>\n     </g>\n    </g>\n    <g id=\"xtick_76\">\n     <g id=\"line2d_82\">\n      <g>\n       <use style=\"stroke:#000000;stroke-width:0.8;\" x=\"936.025811\" xlink:href=\"#m70ab8f37e7\" y=\"454.968125\"/>\n      </g>\n     </g>\n     <g id=\"text_84\">\n      <!-- 52 -->\n      <g transform=\"translate(938.785186 474.693125)rotate(-90)scale(0.1 -0.1)\">\n       <use xlink:href=\"#DejaVuSans-53\"/>\n       <use x=\"63.623047\" xlink:href=\"#DejaVuSans-50\"/>\n      </g>\n     </g>\n    </g>\n    <g id=\"xtick_77\">\n     <g id=\"line2d_83\">\n      <g>\n       <use style=\"stroke:#000000;stroke-width:0.8;\" x=\"947.526428\" xlink:href=\"#m70ab8f37e7\" y=\"454.968125\"/>\n      </g>\n     </g>\n     <g id=\"text_85\">\n      <!-- 53 -->\n      <g transform=\"translate(950.285803 474.693125)rotate(-90)scale(0.1 -0.1)\">\n       <use xlink:href=\"#DejaVuSans-53\"/>\n       <use x=\"63.623047\" xlink:href=\"#DejaVuSans-51\"/>\n      </g>\n     </g>\n    </g>\n    <g id=\"xtick_78\">\n     <g id=\"line2d_84\">\n      <g>\n       <use style=\"stroke:#000000;stroke-width:0.8;\" x=\"959.027045\" xlink:href=\"#m70ab8f37e7\" y=\"454.968125\"/>\n      </g>\n     </g>\n     <g id=\"text_86\">\n      <!-- 54 -->\n      <g transform=\"translate(961.78642 474.693125)rotate(-90)scale(0.1 -0.1)\">\n       <use xlink:href=\"#DejaVuSans-53\"/>\n       <use x=\"63.623047\" xlink:href=\"#DejaVuSans-52\"/>\n      </g>\n     </g>\n    </g>\n    <g id=\"xtick_79\">\n     <g id=\"line2d_85\">\n      <g>\n       <use style=\"stroke:#000000;stroke-width:0.8;\" x=\"970.527663\" xlink:href=\"#m70ab8f37e7\" y=\"454.968125\"/>\n      </g>\n     </g>\n     <g id=\"text_87\">\n      <!-- 55 -->\n      <g transform=\"translate(973.287038 474.693125)rotate(-90)scale(0.1 -0.1)\">\n       <use xlink:href=\"#DejaVuSans-53\"/>\n       <use x=\"63.623047\" xlink:href=\"#DejaVuSans-53\"/>\n      </g>\n     </g>\n    </g>\n    <g id=\"xtick_80\">\n     <g id=\"line2d_86\">\n      <g>\n       <use style=\"stroke:#000000;stroke-width:0.8;\" x=\"982.02828\" xlink:href=\"#m70ab8f37e7\" y=\"454.968125\"/>\n      </g>\n     </g>\n     <g id=\"text_88\">\n      <!-- 56 -->\n      <g transform=\"translate(984.787655 474.693125)rotate(-90)scale(0.1 -0.1)\">\n       <use xlink:href=\"#DejaVuSans-53\"/>\n       <use x=\"63.623047\" xlink:href=\"#DejaVuSans-54\"/>\n      </g>\n     </g>\n    </g>\n    <g id=\"xtick_81\">\n     <g id=\"line2d_87\">\n      <g>\n       <use style=\"stroke:#000000;stroke-width:0.8;\" x=\"993.528897\" xlink:href=\"#m70ab8f37e7\" y=\"454.968125\"/>\n      </g>\n     </g>\n     <g id=\"text_89\">\n      <!-- 57 -->\n      <g transform=\"translate(996.288272 474.693125)rotate(-90)scale(0.1 -0.1)\">\n       <use xlink:href=\"#DejaVuSans-53\"/>\n       <use x=\"63.623047\" xlink:href=\"#DejaVuSans-55\"/>\n      </g>\n     </g>\n    </g>\n    <g id=\"xtick_82\">\n     <g id=\"line2d_88\">\n      <g>\n       <use style=\"stroke:#000000;stroke-width:0.8;\" x=\"1005.029515\" xlink:href=\"#m70ab8f37e7\" y=\"454.968125\"/>\n      </g>\n     </g>\n     <g id=\"text_90\">\n      <!-- 58 -->\n      <g transform=\"translate(1007.78889 474.693125)rotate(-90)scale(0.1 -0.1)\">\n       <use xlink:href=\"#DejaVuSans-53\"/>\n       <use x=\"63.623047\" xlink:href=\"#DejaVuSans-56\"/>\n      </g>\n     </g>\n    </g>\n    <g id=\"xtick_83\">\n     <g id=\"line2d_89\">\n      <g>\n       <use style=\"stroke:#000000;stroke-width:0.8;\" x=\"1016.530132\" xlink:href=\"#m70ab8f37e7\" y=\"454.968125\"/>\n      </g>\n     </g>\n     <g id=\"text_91\">\n      <!-- 59 -->\n      <g transform=\"translate(1019.289507 474.693125)rotate(-90)scale(0.1 -0.1)\">\n       <use xlink:href=\"#DejaVuSans-53\"/>\n       <use x=\"63.623047\" xlink:href=\"#DejaVuSans-57\"/>\n      </g>\n     </g>\n    </g>\n    <g id=\"xtick_84\">\n     <g id=\"line2d_90\">\n      <g>\n       <use style=\"stroke:#000000;stroke-width:0.8;\" x=\"1028.030749\" xlink:href=\"#m70ab8f37e7\" y=\"454.968125\"/>\n      </g>\n     </g>\n     <g id=\"text_92\">\n      <!-- 60 -->\n      <g transform=\"translate(1030.790124 474.693125)rotate(-90)scale(0.1 -0.1)\">\n       <use xlink:href=\"#DejaVuSans-54\"/>\n       <use x=\"63.623047\" xlink:href=\"#DejaVuSans-48\"/>\n      </g>\n     </g>\n    </g>\n    <g id=\"xtick_85\">\n     <g id=\"line2d_91\">\n      <g>\n       <use style=\"stroke:#000000;stroke-width:0.8;\" x=\"1039.531366\" xlink:href=\"#m70ab8f37e7\" y=\"454.968125\"/>\n      </g>\n     </g>\n     <g id=\"text_93\">\n      <!-- 61 -->\n      <g transform=\"translate(1042.290741 474.693125)rotate(-90)scale(0.1 -0.1)\">\n       <use xlink:href=\"#DejaVuSans-54\"/>\n       <use x=\"63.623047\" xlink:href=\"#DejaVuSans-49\"/>\n      </g>\n     </g>\n    </g>\n    <g id=\"xtick_86\">\n     <g id=\"line2d_92\">\n      <g>\n       <use style=\"stroke:#000000;stroke-width:0.8;\" x=\"1051.031984\" xlink:href=\"#m70ab8f37e7\" y=\"454.968125\"/>\n      </g>\n     </g>\n     <g id=\"text_94\">\n      <!-- 62 -->\n      <g transform=\"translate(1053.791359 474.693125)rotate(-90)scale(0.1 -0.1)\">\n       <use xlink:href=\"#DejaVuSans-54\"/>\n       <use x=\"63.623047\" xlink:href=\"#DejaVuSans-50\"/>\n      </g>\n     </g>\n    </g>\n    <g id=\"xtick_87\">\n     <g id=\"line2d_93\">\n      <g>\n       <use style=\"stroke:#000000;stroke-width:0.8;\" x=\"1062.532601\" xlink:href=\"#m70ab8f37e7\" y=\"454.968125\"/>\n      </g>\n     </g>\n     <g id=\"text_95\">\n      <!-- 63 -->\n      <g transform=\"translate(1065.291976 474.693125)rotate(-90)scale(0.1 -0.1)\">\n       <use xlink:href=\"#DejaVuSans-54\"/>\n       <use x=\"63.623047\" xlink:href=\"#DejaVuSans-51\"/>\n      </g>\n     </g>\n    </g>\n    <g id=\"xtick_88\">\n     <g id=\"line2d_94\">\n      <g>\n       <use style=\"stroke:#000000;stroke-width:0.8;\" x=\"1074.033218\" xlink:href=\"#m70ab8f37e7\" y=\"454.968125\"/>\n      </g>\n     </g>\n     <g id=\"text_96\">\n      <!-- 64 -->\n      <g transform=\"translate(1076.792593 474.693125)rotate(-90)scale(0.1 -0.1)\">\n       <use xlink:href=\"#DejaVuSans-54\"/>\n       <use x=\"63.623047\" xlink:href=\"#DejaVuSans-52\"/>\n      </g>\n     </g>\n    </g>\n    <g id=\"xtick_89\">\n     <g id=\"line2d_95\">\n      <g>\n       <use style=\"stroke:#000000;stroke-width:0.8;\" x=\"1085.533836\" xlink:href=\"#m70ab8f37e7\" y=\"454.968125\"/>\n      </g>\n     </g>\n     <g id=\"text_97\">\n      <!-- 65 -->\n      <g transform=\"translate(1088.293211 474.693125)rotate(-90)scale(0.1 -0.1)\">\n       <use xlink:href=\"#DejaVuSans-54\"/>\n       <use x=\"63.623047\" xlink:href=\"#DejaVuSans-53\"/>\n      </g>\n     </g>\n    </g>\n    <g id=\"xtick_90\">\n     <g id=\"line2d_96\">\n      <g>\n       <use style=\"stroke:#000000;stroke-width:0.8;\" x=\"1097.034453\" xlink:href=\"#m70ab8f37e7\" y=\"454.968125\"/>\n      </g>\n     </g>\n     <g id=\"text_98\">\n      <!-- 66 -->\n      <g transform=\"translate(1099.793828 474.693125)rotate(-90)scale(0.1 -0.1)\">\n       <use xlink:href=\"#DejaVuSans-54\"/>\n       <use x=\"63.623047\" xlink:href=\"#DejaVuSans-54\"/>\n      </g>\n     </g>\n    </g>\n    <g id=\"xtick_91\">\n     <g id=\"line2d_97\">\n      <g>\n       <use style=\"stroke:#000000;stroke-width:0.8;\" x=\"1108.53507\" xlink:href=\"#m70ab8f37e7\" y=\"454.968125\"/>\n      </g>\n     </g>\n     <g id=\"text_99\">\n      <!-- 67 -->\n      <g transform=\"translate(1111.294445 474.693125)rotate(-90)scale(0.1 -0.1)\">\n       <use xlink:href=\"#DejaVuSans-54\"/>\n       <use x=\"63.623047\" xlink:href=\"#DejaVuSans-55\"/>\n      </g>\n     </g>\n    </g>\n    <g id=\"xtick_92\">\n     <g id=\"line2d_98\">\n      <g>\n       <use style=\"stroke:#000000;stroke-width:0.8;\" x=\"1120.035688\" xlink:href=\"#m70ab8f37e7\" y=\"454.968125\"/>\n      </g>\n     </g>\n     <g id=\"text_100\">\n      <!-- 68 -->\n      <g transform=\"translate(1122.795063 474.693125)rotate(-90)scale(0.1 -0.1)\">\n       <use xlink:href=\"#DejaVuSans-54\"/>\n       <use x=\"63.623047\" xlink:href=\"#DejaVuSans-56\"/>\n      </g>\n     </g>\n    </g>\n    <g id=\"xtick_93\">\n     <g id=\"line2d_99\">\n      <g>\n       <use style=\"stroke:#000000;stroke-width:0.8;\" x=\"1131.536305\" xlink:href=\"#m70ab8f37e7\" y=\"454.968125\"/>\n      </g>\n     </g>\n     <g id=\"text_101\">\n      <!-- 69 -->\n      <g transform=\"translate(1134.29568 474.693125)rotate(-90)scale(0.1 -0.1)\">\n       <use xlink:href=\"#DejaVuSans-54\"/>\n       <use x=\"63.623047\" xlink:href=\"#DejaVuSans-57\"/>\n      </g>\n     </g>\n    </g>\n    <g id=\"xtick_94\">\n     <g id=\"line2d_100\">\n      <g>\n       <use style=\"stroke:#000000;stroke-width:0.8;\" x=\"1143.036922\" xlink:href=\"#m70ab8f37e7\" y=\"454.968125\"/>\n      </g>\n     </g>\n     <g id=\"text_102\">\n      <!-- 70 -->\n      <g transform=\"translate(1145.796297 474.693125)rotate(-90)scale(0.1 -0.1)\">\n       <use xlink:href=\"#DejaVuSans-55\"/>\n       <use x=\"63.623047\" xlink:href=\"#DejaVuSans-48\"/>\n      </g>\n     </g>\n    </g>\n    <g id=\"xtick_95\">\n     <g id=\"line2d_101\">\n      <g>\n       <use style=\"stroke:#000000;stroke-width:0.8;\" x=\"1154.53754\" xlink:href=\"#m70ab8f37e7\" y=\"454.968125\"/>\n      </g>\n     </g>\n     <g id=\"text_103\">\n      <!-- 71 -->\n      <g transform=\"translate(1157.296915 474.693125)rotate(-90)scale(0.1 -0.1)\">\n       <use xlink:href=\"#DejaVuSans-55\"/>\n       <use x=\"63.623047\" xlink:href=\"#DejaVuSans-49\"/>\n      </g>\n     </g>\n    </g>\n    <g id=\"xtick_96\">\n     <g id=\"line2d_102\">\n      <g>\n       <use style=\"stroke:#000000;stroke-width:0.8;\" x=\"1166.038157\" xlink:href=\"#m70ab8f37e7\" y=\"454.968125\"/>\n      </g>\n     </g>\n     <g id=\"text_104\">\n      <!-- 72 -->\n      <g transform=\"translate(1168.797532 474.693125)rotate(-90)scale(0.1 -0.1)\">\n       <use xlink:href=\"#DejaVuSans-55\"/>\n       <use x=\"63.623047\" xlink:href=\"#DejaVuSans-50\"/>\n      </g>\n     </g>\n    </g>\n    <g id=\"xtick_97\">\n     <g id=\"line2d_103\">\n      <g>\n       <use style=\"stroke:#000000;stroke-width:0.8;\" x=\"1177.538774\" xlink:href=\"#m70ab8f37e7\" y=\"454.968125\"/>\n      </g>\n     </g>\n     <g id=\"text_105\">\n      <!-- 73 -->\n      <g transform=\"translate(1180.298149 474.693125)rotate(-90)scale(0.1 -0.1)\">\n       <use xlink:href=\"#DejaVuSans-55\"/>\n       <use x=\"63.623047\" xlink:href=\"#DejaVuSans-51\"/>\n      </g>\n     </g>\n    </g>\n    <g id=\"xtick_98\">\n     <g id=\"line2d_104\">\n      <g>\n       <use style=\"stroke:#000000;stroke-width:0.8;\" x=\"1189.039392\" xlink:href=\"#m70ab8f37e7\" y=\"454.968125\"/>\n      </g>\n     </g>\n     <g id=\"text_106\">\n      <!-- 74 -->\n      <g transform=\"translate(1191.798767 474.693125)rotate(-90)scale(0.1 -0.1)\">\n       <use xlink:href=\"#DejaVuSans-55\"/>\n       <use x=\"63.623047\" xlink:href=\"#DejaVuSans-52\"/>\n      </g>\n     </g>\n    </g>\n    <g id=\"xtick_99\">\n     <g id=\"line2d_105\">\n      <g>\n       <use style=\"stroke:#000000;stroke-width:0.8;\" x=\"1200.540009\" xlink:href=\"#m70ab8f37e7\" y=\"454.968125\"/>\n      </g>\n     </g>\n     <g id=\"text_107\">\n      <!-- 75 -->\n      <g transform=\"translate(1203.299384 474.693125)rotate(-90)scale(0.1 -0.1)\">\n       <use xlink:href=\"#DejaVuSans-55\"/>\n       <use x=\"63.623047\" xlink:href=\"#DejaVuSans-53\"/>\n      </g>\n     </g>\n    </g>\n    <g id=\"xtick_100\">\n     <g id=\"line2d_106\">\n      <g>\n       <use style=\"stroke:#000000;stroke-width:0.8;\" x=\"1212.040626\" xlink:href=\"#m70ab8f37e7\" y=\"454.968125\"/>\n      </g>\n     </g>\n     <g id=\"text_108\">\n      <!-- 76 -->\n      <g transform=\"translate(1214.800001 474.693125)rotate(-90)scale(0.1 -0.1)\">\n       <use xlink:href=\"#DejaVuSans-55\"/>\n       <use x=\"63.623047\" xlink:href=\"#DejaVuSans-54\"/>\n      </g>\n     </g>\n    </g>\n    <g id=\"xtick_101\">\n     <g id=\"line2d_107\">\n      <g>\n       <use style=\"stroke:#000000;stroke-width:0.8;\" x=\"1223.541243\" xlink:href=\"#m70ab8f37e7\" y=\"454.968125\"/>\n      </g>\n     </g>\n     <g id=\"text_109\">\n      <!-- 77 -->\n      <g transform=\"translate(1226.300618 474.693125)rotate(-90)scale(0.1 -0.1)\">\n       <use xlink:href=\"#DejaVuSans-55\"/>\n       <use x=\"63.623047\" xlink:href=\"#DejaVuSans-55\"/>\n      </g>\n     </g>\n    </g>\n    <g id=\"xtick_102\">\n     <g id=\"line2d_108\">\n      <g>\n       <use style=\"stroke:#000000;stroke-width:0.8;\" x=\"1235.041861\" xlink:href=\"#m70ab8f37e7\" y=\"454.968125\"/>\n      </g>\n     </g>\n     <g id=\"text_110\">\n      <!-- 78 -->\n      <g transform=\"translate(1237.801236 474.693125)rotate(-90)scale(0.1 -0.1)\">\n       <use xlink:href=\"#DejaVuSans-55\"/>\n       <use x=\"63.623047\" xlink:href=\"#DejaVuSans-56\"/>\n      </g>\n     </g>\n    </g>\n    <g id=\"xtick_103\">\n     <g id=\"line2d_109\">\n      <g>\n       <use style=\"stroke:#000000;stroke-width:0.8;\" x=\"1246.542478\" xlink:href=\"#m70ab8f37e7\" y=\"454.968125\"/>\n      </g>\n     </g>\n     <g id=\"text_111\">\n      <!-- 79 -->\n      <g transform=\"translate(1249.301853 474.693125)rotate(-90)scale(0.1 -0.1)\">\n       <use xlink:href=\"#DejaVuSans-55\"/>\n       <use x=\"63.623047\" xlink:href=\"#DejaVuSans-57\"/>\n      </g>\n     </g>\n    </g>\n    <g id=\"xtick_104\">\n     <g id=\"line2d_110\">\n      <g>\n       <use style=\"stroke:#000000;stroke-width:0.8;\" x=\"1258.043095\" xlink:href=\"#m70ab8f37e7\" y=\"454.968125\"/>\n      </g>\n     </g>\n     <g id=\"text_112\">\n      <!-- 80 -->\n      <g transform=\"translate(1260.80247 474.693125)rotate(-90)scale(0.1 -0.1)\">\n       <use xlink:href=\"#DejaVuSans-56\"/>\n       <use x=\"63.623047\" xlink:href=\"#DejaVuSans-48\"/>\n      </g>\n     </g>\n    </g>\n    <g id=\"xtick_105\">\n     <g id=\"line2d_111\">\n      <g>\n       <use style=\"stroke:#000000;stroke-width:0.8;\" x=\"1269.543713\" xlink:href=\"#m70ab8f37e7\" y=\"454.968125\"/>\n      </g>\n     </g>\n     <g id=\"text_113\">\n      <!-- 81 -->\n      <g transform=\"translate(1272.303088 474.693125)rotate(-90)scale(0.1 -0.1)\">\n       <use xlink:href=\"#DejaVuSans-56\"/>\n       <use x=\"63.623047\" xlink:href=\"#DejaVuSans-49\"/>\n      </g>\n     </g>\n    </g>\n    <g id=\"xtick_106\">\n     <g id=\"line2d_112\">\n      <g>\n       <use style=\"stroke:#000000;stroke-width:0.8;\" x=\"1281.04433\" xlink:href=\"#m70ab8f37e7\" y=\"454.968125\"/>\n      </g>\n     </g>\n     <g id=\"text_114\">\n      <!-- 82 -->\n      <g transform=\"translate(1283.803705 474.693125)rotate(-90)scale(0.1 -0.1)\">\n       <use xlink:href=\"#DejaVuSans-56\"/>\n       <use x=\"63.623047\" xlink:href=\"#DejaVuSans-50\"/>\n      </g>\n     </g>\n    </g>\n    <g id=\"xtick_107\">\n     <g id=\"line2d_113\">\n      <g>\n       <use style=\"stroke:#000000;stroke-width:0.8;\" x=\"1292.544947\" xlink:href=\"#m70ab8f37e7\" y=\"454.968125\"/>\n      </g>\n     </g>\n     <g id=\"text_115\">\n      <!-- 83 -->\n      <g transform=\"translate(1295.304322 474.693125)rotate(-90)scale(0.1 -0.1)\">\n       <use xlink:href=\"#DejaVuSans-56\"/>\n       <use x=\"63.623047\" xlink:href=\"#DejaVuSans-51\"/>\n      </g>\n     </g>\n    </g>\n    <g id=\"xtick_108\">\n     <g id=\"line2d_114\">\n      <g>\n       <use style=\"stroke:#000000;stroke-width:0.8;\" x=\"1304.045565\" xlink:href=\"#m70ab8f37e7\" y=\"454.968125\"/>\n      </g>\n     </g>\n     <g id=\"text_116\">\n      <!-- 84 -->\n      <g transform=\"translate(1306.80494 474.693125)rotate(-90)scale(0.1 -0.1)\">\n       <use xlink:href=\"#DejaVuSans-56\"/>\n       <use x=\"63.623047\" xlink:href=\"#DejaVuSans-52\"/>\n      </g>\n     </g>\n    </g>\n    <g id=\"xtick_109\">\n     <g id=\"line2d_115\">\n      <g>\n       <use style=\"stroke:#000000;stroke-width:0.8;\" x=\"1315.546182\" xlink:href=\"#m70ab8f37e7\" y=\"454.968125\"/>\n      </g>\n     </g>\n     <g id=\"text_117\">\n      <!-- 85 -->\n      <g transform=\"translate(1318.305557 474.693125)rotate(-90)scale(0.1 -0.1)\">\n       <use xlink:href=\"#DejaVuSans-56\"/>\n       <use x=\"63.623047\" xlink:href=\"#DejaVuSans-53\"/>\n      </g>\n     </g>\n    </g>\n    <g id=\"xtick_110\">\n     <g id=\"line2d_116\">\n      <g>\n       <use style=\"stroke:#000000;stroke-width:0.8;\" x=\"1327.046799\" xlink:href=\"#m70ab8f37e7\" y=\"454.968125\"/>\n      </g>\n     </g>\n     <g id=\"text_118\">\n      <!-- 86 -->\n      <g transform=\"translate(1329.806174 474.693125)rotate(-90)scale(0.1 -0.1)\">\n       <use xlink:href=\"#DejaVuSans-56\"/>\n       <use x=\"63.623047\" xlink:href=\"#DejaVuSans-54\"/>\n      </g>\n     </g>\n    </g>\n    <g id=\"xtick_111\">\n     <g id=\"line2d_117\">\n      <g>\n       <use style=\"stroke:#000000;stroke-width:0.8;\" x=\"1338.547417\" xlink:href=\"#m70ab8f37e7\" y=\"454.968125\"/>\n      </g>\n     </g>\n     <g id=\"text_119\">\n      <!-- 87 -->\n      <g transform=\"translate(1341.306792 474.693125)rotate(-90)scale(0.1 -0.1)\">\n       <use xlink:href=\"#DejaVuSans-56\"/>\n       <use x=\"63.623047\" xlink:href=\"#DejaVuSans-55\"/>\n      </g>\n     </g>\n    </g>\n    <g id=\"xtick_112\">\n     <g id=\"line2d_118\">\n      <g>\n       <use style=\"stroke:#000000;stroke-width:0.8;\" x=\"1350.048034\" xlink:href=\"#m70ab8f37e7\" y=\"454.968125\"/>\n      </g>\n     </g>\n     <g id=\"text_120\">\n      <!-- 88 -->\n      <g transform=\"translate(1352.807409 474.693125)rotate(-90)scale(0.1 -0.1)\">\n       <use xlink:href=\"#DejaVuSans-56\"/>\n       <use x=\"63.623047\" xlink:href=\"#DejaVuSans-56\"/>\n      </g>\n     </g>\n    </g>\n    <g id=\"xtick_113\">\n     <g id=\"line2d_119\">\n      <g>\n       <use style=\"stroke:#000000;stroke-width:0.8;\" x=\"1361.548651\" xlink:href=\"#m70ab8f37e7\" y=\"454.968125\"/>\n      </g>\n     </g>\n     <g id=\"text_121\">\n      <!-- 89 -->\n      <g transform=\"translate(1364.308026 474.693125)rotate(-90)scale(0.1 -0.1)\">\n       <use xlink:href=\"#DejaVuSans-56\"/>\n       <use x=\"63.623047\" xlink:href=\"#DejaVuSans-57\"/>\n      </g>\n     </g>\n    </g>\n    <g id=\"xtick_114\">\n     <g id=\"line2d_120\">\n      <g>\n       <use style=\"stroke:#000000;stroke-width:0.8;\" x=\"1373.049269\" xlink:href=\"#m70ab8f37e7\" y=\"454.968125\"/>\n      </g>\n     </g>\n     <g id=\"text_122\">\n      <!-- 90 -->\n      <g transform=\"translate(1375.808644 474.693125)rotate(-90)scale(0.1 -0.1)\">\n       <use xlink:href=\"#DejaVuSans-57\"/>\n       <use x=\"63.623047\" xlink:href=\"#DejaVuSans-48\"/>\n      </g>\n     </g>\n    </g>\n    <g id=\"xtick_115\">\n     <g id=\"line2d_121\">\n      <g>\n       <use style=\"stroke:#000000;stroke-width:0.8;\" x=\"1384.549886\" xlink:href=\"#m70ab8f37e7\" y=\"454.968125\"/>\n      </g>\n     </g>\n     <g id=\"text_123\">\n      <!-- 91 -->\n      <g transform=\"translate(1387.309261 474.693125)rotate(-90)scale(0.1 -0.1)\">\n       <use xlink:href=\"#DejaVuSans-57\"/>\n       <use x=\"63.623047\" xlink:href=\"#DejaVuSans-49\"/>\n      </g>\n     </g>\n    </g>\n    <g id=\"xtick_116\">\n     <g id=\"line2d_122\">\n      <g>\n       <use style=\"stroke:#000000;stroke-width:0.8;\" x=\"1396.050503\" xlink:href=\"#m70ab8f37e7\" y=\"454.968125\"/>\n      </g>\n     </g>\n     <g id=\"text_124\">\n      <!-- 92 -->\n      <g transform=\"translate(1398.809878 474.693125)rotate(-90)scale(0.1 -0.1)\">\n       <use xlink:href=\"#DejaVuSans-57\"/>\n       <use x=\"63.623047\" xlink:href=\"#DejaVuSans-50\"/>\n      </g>\n     </g>\n    </g>\n    <g id=\"xtick_117\">\n     <g id=\"line2d_123\">\n      <g>\n       <use style=\"stroke:#000000;stroke-width:0.8;\" x=\"1407.55112\" xlink:href=\"#m70ab8f37e7\" y=\"454.968125\"/>\n      </g>\n     </g>\n     <g id=\"text_125\">\n      <!-- 93 -->\n      <g transform=\"translate(1410.310495 474.693125)rotate(-90)scale(0.1 -0.1)\">\n       <use xlink:href=\"#DejaVuSans-57\"/>\n       <use x=\"63.623047\" xlink:href=\"#DejaVuSans-51\"/>\n      </g>\n     </g>\n    </g>\n    <g id=\"xtick_118\">\n     <g id=\"line2d_124\">\n      <g>\n       <use style=\"stroke:#000000;stroke-width:0.8;\" x=\"1419.051738\" xlink:href=\"#m70ab8f37e7\" y=\"454.968125\"/>\n      </g>\n     </g>\n     <g id=\"text_126\">\n      <!-- 94 -->\n      <g transform=\"translate(1421.811113 474.693125)rotate(-90)scale(0.1 -0.1)\">\n       <use xlink:href=\"#DejaVuSans-57\"/>\n       <use x=\"63.623047\" xlink:href=\"#DejaVuSans-52\"/>\n      </g>\n     </g>\n    </g>\n    <g id=\"text_127\">\n     <!-- ExternalRiskEstimate -->\n     <g transform=\"translate(1032.340867 486.291562)scale(0.1 -0.1)\">\n      <use xlink:href=\"#DejaVuSans-69\"/>\n      <use x=\"63.183594\" xlink:href=\"#DejaVuSans-120\"/>\n      <use x=\"122.363281\" xlink:href=\"#DejaVuSans-116\"/>\n      <use x=\"161.572266\" xlink:href=\"#DejaVuSans-101\"/>\n      <use x=\"223.095703\" xlink:href=\"#DejaVuSans-114\"/>\n      <use x=\"262.458984\" xlink:href=\"#DejaVuSans-110\"/>\n      <use x=\"325.837891\" xlink:href=\"#DejaVuSans-97\"/>\n      <use x=\"387.117188\" xlink:href=\"#DejaVuSans-108\"/>\n      <use x=\"414.900391\" xlink:href=\"#DejaVuSans-82\"/>\n      <use x=\"484.382812\" xlink:href=\"#DejaVuSans-105\"/>\n      <use x=\"512.166016\" xlink:href=\"#DejaVuSans-115\"/>\n      <use x=\"564.265625\" xlink:href=\"#DejaVuSans-107\"/>\n      <use x=\"622.175781\" xlink:href=\"#DejaVuSans-69\"/>\n      <use x=\"685.359375\" xlink:href=\"#DejaVuSans-115\"/>\n      <use x=\"737.458984\" xlink:href=\"#DejaVuSans-116\"/>\n      <use x=\"776.667969\" xlink:href=\"#DejaVuSans-105\"/>\n      <use x=\"804.451172\" xlink:href=\"#DejaVuSans-109\"/>\n      <use x=\"901.863281\" xlink:href=\"#DejaVuSans-97\"/>\n      <use x=\"963.142578\" xlink:href=\"#DejaVuSans-116\"/>\n      <use x=\"1002.351562\" xlink:href=\"#DejaVuSans-101\"/>\n     </g>\n    </g>\n   </g>\n   <g id=\"matplotlib.axis_4\">\n    <g id=\"ytick_7\">\n     <g id=\"line2d_125\">\n      <g>\n       <use style=\"stroke:#000000;stroke-width:0.8;\" x=\"746.265625\" xlink:href=\"#md70c002b21\" y=\"454.968125\"/>\n      </g>\n     </g>\n     <g id=\"text_128\">\n      <!-- 0 -->\n      <g transform=\"translate(732.903125 458.767344)scale(0.1 -0.1)\">\n       <use xlink:href=\"#DejaVuSans-48\"/>\n      </g>\n     </g>\n    </g>\n    <g id=\"ytick_8\">\n     <g id=\"line2d_126\">\n      <g>\n       <use style=\"stroke:#000000;stroke-width:0.8;\" x=\"746.265625\" xlink:href=\"#md70c002b21\" y=\"388.508832\"/>\n      </g>\n     </g>\n     <g id=\"text_129\">\n      <!-- 50 -->\n      <g transform=\"translate(726.540625 392.30805)scale(0.1 -0.1)\">\n       <use xlink:href=\"#DejaVuSans-53\"/>\n       <use x=\"63.623047\" xlink:href=\"#DejaVuSans-48\"/>\n      </g>\n     </g>\n    </g>\n    <g id=\"ytick_9\">\n     <g id=\"line2d_127\">\n      <g>\n       <use style=\"stroke:#000000;stroke-width:0.8;\" x=\"746.265625\" xlink:href=\"#md70c002b21\" y=\"322.049538\"/>\n      </g>\n     </g>\n     <g id=\"text_130\">\n      <!-- 100 -->\n      <g transform=\"translate(720.178125 325.848757)scale(0.1 -0.1)\">\n       <use xlink:href=\"#DejaVuSans-49\"/>\n       <use x=\"63.623047\" xlink:href=\"#DejaVuSans-48\"/>\n       <use x=\"127.246094\" xlink:href=\"#DejaVuSans-48\"/>\n      </g>\n     </g>\n    </g>\n    <g id=\"ytick_10\">\n     <g id=\"line2d_128\">\n      <g>\n       <use style=\"stroke:#000000;stroke-width:0.8;\" x=\"746.265625\" xlink:href=\"#md70c002b21\" y=\"255.590245\"/>\n      </g>\n     </g>\n     <g id=\"text_131\">\n      <!-- 150 -->\n      <g transform=\"translate(720.178125 259.389464)scale(0.1 -0.1)\">\n       <use xlink:href=\"#DejaVuSans-49\"/>\n       <use x=\"63.623047\" xlink:href=\"#DejaVuSans-53\"/>\n       <use x=\"127.246094\" xlink:href=\"#DejaVuSans-48\"/>\n      </g>\n     </g>\n    </g>\n    <g id=\"ytick_11\">\n     <g id=\"line2d_129\">\n      <g>\n       <use style=\"stroke:#000000;stroke-width:0.8;\" x=\"746.265625\" xlink:href=\"#md70c002b21\" y=\"189.130951\"/>\n      </g>\n     </g>\n     <g id=\"text_132\">\n      <!-- 200 -->\n      <g transform=\"translate(720.178125 192.93017)scale(0.1 -0.1)\">\n       <use xlink:href=\"#DejaVuSans-50\"/>\n       <use x=\"63.623047\" xlink:href=\"#DejaVuSans-48\"/>\n       <use x=\"127.246094\" xlink:href=\"#DejaVuSans-48\"/>\n      </g>\n     </g>\n    </g>\n    <g id=\"ytick_12\">\n     <g id=\"line2d_130\">\n      <g>\n       <use style=\"stroke:#000000;stroke-width:0.8;\" x=\"746.265625\" xlink:href=\"#md70c002b21\" y=\"122.671658\"/>\n      </g>\n     </g>\n     <g id=\"text_133\">\n      <!-- 250 -->\n      <g transform=\"translate(720.178125 126.470877)scale(0.1 -0.1)\">\n       <use xlink:href=\"#DejaVuSans-50\"/>\n       <use x=\"63.623047\" xlink:href=\"#DejaVuSans-53\"/>\n       <use x=\"127.246094\" xlink:href=\"#DejaVuSans-48\"/>\n      </g>\n     </g>\n    </g>\n    <g id=\"ytick_13\">\n     <g id=\"line2d_131\">\n      <g>\n       <use style=\"stroke:#000000;stroke-width:0.8;\" x=\"746.265625\" xlink:href=\"#md70c002b21\" y=\"56.212365\"/>\n      </g>\n     </g>\n     <g id=\"text_134\">\n      <!-- 300 -->\n      <g transform=\"translate(720.178125 60.011583)scale(0.1 -0.1)\">\n       <use xlink:href=\"#DejaVuSans-51\"/>\n       <use x=\"63.623047\" xlink:href=\"#DejaVuSans-48\"/>\n       <use x=\"127.246094\" xlink:href=\"#DejaVuSans-48\"/>\n      </g>\n     </g>\n    </g>\n   </g>\n   <g id=\"patch_126\">\n    <path d=\"M 746.265625 454.968125 \nL 746.265625 22.318125 \n\" style=\"fill:none;stroke:#000000;stroke-linecap:square;stroke-linejoin:miter;stroke-width:0.8;\"/>\n   </g>\n   <g id=\"patch_127\">\n    <path d=\"M 1424.802046 454.968125 \nL 1424.802046 22.318125 \n\" style=\"fill:none;stroke:#000000;stroke-linecap:square;stroke-linejoin:miter;stroke-width:0.8;\"/>\n   </g>\n   <g id=\"patch_128\">\n    <path d=\"M 746.265625 454.968125 \nL 1424.802046 454.968125 \n\" style=\"fill:none;stroke:#000000;stroke-linecap:square;stroke-linejoin:miter;stroke-width:0.8;\"/>\n   </g>\n   <g id=\"patch_129\">\n    <path d=\"M 746.265625 22.318125 \nL 1424.802046 22.318125 \n\" style=\"fill:none;stroke:#000000;stroke-linecap:square;stroke-linejoin:miter;stroke-width:0.8;\"/>\n   </g>\n   <g id=\"text_135\">\n    <!-- Number of observations vs. ExternalRiskEstimate -->\n    <g transform=\"translate(936.993523 16.318125)scale(0.12 -0.12)\">\n     <defs>\n      <path d=\"M 9.8125 72.90625 \nL 23.09375 72.90625 \nL 55.421875 11.921875 \nL 55.421875 72.90625 \nL 64.984375 72.90625 \nL 64.984375 0 \nL 51.703125 0 \nL 19.390625 60.984375 \nL 19.390625 0 \nL 9.8125 0 \nz\n\" id=\"DejaVuSans-78\"/>\n     </defs>\n     <use xlink:href=\"#DejaVuSans-78\"/>\n     <use x=\"74.804688\" xlink:href=\"#DejaVuSans-117\"/>\n     <use x=\"138.183594\" xlink:href=\"#DejaVuSans-109\"/>\n     <use x=\"235.595703\" xlink:href=\"#DejaVuSans-98\"/>\n     <use x=\"299.072266\" xlink:href=\"#DejaVuSans-101\"/>\n     <use x=\"360.595703\" xlink:href=\"#DejaVuSans-114\"/>\n     <use x=\"401.708984\" xlink:href=\"#DejaVuSans-32\"/>\n     <use x=\"433.496094\" xlink:href=\"#DejaVuSans-111\"/>\n     <use x=\"494.677734\" xlink:href=\"#DejaVuSans-102\"/>\n     <use x=\"529.882812\" xlink:href=\"#DejaVuSans-32\"/>\n     <use x=\"561.669922\" xlink:href=\"#DejaVuSans-111\"/>\n     <use x=\"622.851562\" xlink:href=\"#DejaVuSans-98\"/>\n     <use x=\"686.328125\" xlink:href=\"#DejaVuSans-115\"/>\n     <use x=\"738.427734\" xlink:href=\"#DejaVuSans-101\"/>\n     <use x=\"799.951172\" xlink:href=\"#DejaVuSans-114\"/>\n     <use x=\"841.064453\" xlink:href=\"#DejaVuSans-118\"/>\n     <use x=\"900.244141\" xlink:href=\"#DejaVuSans-97\"/>\n     <use x=\"961.523438\" xlink:href=\"#DejaVuSans-116\"/>\n     <use x=\"1000.732422\" xlink:href=\"#DejaVuSans-105\"/>\n     <use x=\"1028.515625\" xlink:href=\"#DejaVuSans-111\"/>\n     <use x=\"1089.697266\" xlink:href=\"#DejaVuSans-110\"/>\n     <use x=\"1153.076172\" xlink:href=\"#DejaVuSans-115\"/>\n     <use x=\"1205.175781\" xlink:href=\"#DejaVuSans-32\"/>\n     <use x=\"1236.962891\" xlink:href=\"#DejaVuSans-118\"/>\n     <use x=\"1296.142578\" xlink:href=\"#DejaVuSans-115\"/>\n     <use x=\"1348.242188\" xlink:href=\"#DejaVuSans-46\"/>\n     <use x=\"1380.029297\" xlink:href=\"#DejaVuSans-32\"/>\n     <use x=\"1411.816406\" xlink:href=\"#DejaVuSans-69\"/>\n     <use x=\"1475\" xlink:href=\"#DejaVuSans-120\"/>\n     <use x=\"1534.179688\" xlink:href=\"#DejaVuSans-116\"/>\n     <use x=\"1573.388672\" xlink:href=\"#DejaVuSans-101\"/>\n     <use x=\"1634.912109\" xlink:href=\"#DejaVuSans-114\"/>\n     <use x=\"1674.275391\" xlink:href=\"#DejaVuSans-110\"/>\n     <use x=\"1737.654297\" xlink:href=\"#DejaVuSans-97\"/>\n     <use x=\"1798.933594\" xlink:href=\"#DejaVuSans-108\"/>\n     <use x=\"1826.716797\" xlink:href=\"#DejaVuSans-82\"/>\n     <use x=\"1896.199219\" xlink:href=\"#DejaVuSans-105\"/>\n     <use x=\"1923.982422\" xlink:href=\"#DejaVuSans-115\"/>\n     <use x=\"1976.082031\" xlink:href=\"#DejaVuSans-107\"/>\n     <use x=\"2033.992188\" xlink:href=\"#DejaVuSans-69\"/>\n     <use x=\"2097.175781\" xlink:href=\"#DejaVuSans-115\"/>\n     <use x=\"2149.275391\" xlink:href=\"#DejaVuSans-116\"/>\n     <use x=\"2188.484375\" xlink:href=\"#DejaVuSans-105\"/>\n     <use x=\"2216.267578\" xlink:href=\"#DejaVuSans-109\"/>\n     <use x=\"2313.679688\" xlink:href=\"#DejaVuSans-97\"/>\n     <use x=\"2374.958984\" xlink:href=\"#DejaVuSans-116\"/>\n     <use x=\"2414.167969\" xlink:href=\"#DejaVuSans-101\"/>\n    </g>\n   </g>\n  </g>\n </g>\n <defs>\n  <clipPath id=\"p73de09d340\">\n   <rect height=\"432.65\" width=\"678.536421\" x=\"30.103125\" y=\"22.318125\"/>\n  </clipPath>\n  <clipPath id=\"pdc29aec65b\">\n   <rect height=\"432.65\" width=\"678.536421\" x=\"746.265625\" y=\"22.318125\"/>\n  </clipPath>\n </defs>\n</svg>\n",
                        "image/png": "[encoded data removed]"
                    },
                    "metadata": {
                        "needs_background": "light"
                    }
                }
            ],
            "source": [
                "fig, axes = plt.subplots(1,2, figsize=(20,7))\n",
                "ANSWER_KEY['means'].plot.bar(ax=axes[0], title='Probability of defaulting vs. ExternalRiskEstimate')\n",
                "ANSWER_KEY['counts'].plot.bar(ax=axes[1], title='Number of observations vs. ExternalRiskEstimate')\n",
                "plt.tight_layout()"
            ]
        },
        {
            "cell_type": "markdown",
            "metadata": {
                "nbgrader": {
                    "grade": false,
                    "grade_id": "cell-854c80e6a84ba3b2",
                    "locked": true,
                    "schema_version": 3,
                    "solution": false,
                    "task": false
                },
                "editable": false,
                "deletable": false
            },
            "source": [
                "We see that\n",
                "- The risk of defaulting is, generally, monotoincally decreaing in the `ExternalRiskEstimate` (left figure). This is to be expected from the documentation of the data (see `heloc_data_dictionary-2.xlsx`).\n",
                "- The number of observations whose `ExternalRiskEstimate` are smaller than 54 or larger than 91 is small (right figure). Therefore, the risk estimate is more noisy in those ranges. Focusing on the interval [54,91] reveals an even stronger trend.\n",
                "- There is a small number of missing values of `ExternalRiskEstimate` (8 to be exact, see below), and most of them defaulted. \n",
                "- Encoding missing values as a small value (-9) makes some sense in that according to the plot, smaller values of  `ExternalRiskEstimate` have higher risk. One is left to wonder why -9? This choice is rather arbitrary (why not -100 or -1000?)"
            ]
        },
        {
            "cell_type": "code",
            "execution_count": 28,
            "metadata": {
                "nbgrader": {
                    "grade": false,
                    "grade_id": "cell-63a11e43dffd0e0c",
                    "locked": true,
                    "schema_version": 3,
                    "solution": false,
                    "task": false
                },
                "editable": false,
                "deletable": false
            },
            "outputs": [
                {
                    "output_type": "execute_result",
                    "data": {
                        "text/plain": [
                            "(8, 0.875)"
                        ]
                    },
                    "metadata": {},
                    "execution_count": 28
                }
            ],
            "source": [
                "ANSWER_KEY['counts'].loc[-9], ANSWER_KEY['means'].loc[-9] # count the number of observations in the training data where ExternalRiskEstimate is missing, and estimate the probability of defaulting using simple average"
            ]
        },
        {
            "cell_type": "markdown",
            "metadata": {
                "nbgrader": {
                    "grade": false,
                    "grade_id": "cell-a9c802086ea19dab",
                    "locked": true,
                    "schema_version": 3,
                    "solution": false,
                    "task": false
                },
                "editable": false,
                "deletable": false
            },
            "source": [
                "__Preprocessing__\n",
                "\n",
                "In the feature preprocessing stage, we transform the values of the data matrix to facilitate learning. We could replace missing values, apply functions to transform features, or add additional features. "
            ]
        },
        {
            "cell_type": "markdown",
            "metadata": {
                "nbgrader": {
                    "grade": false,
                    "grade_id": "cell-c425d7ce62223f33",
                    "locked": true,
                    "schema_version": 3,
                    "solution": false,
                    "task": false
                },
                "editable": false,
                "deletable": false
            },
            "source": [
                "So what should we do about the missing values in the column `ExternalRiskEstimate`? \n",
                "* We could remove rows (observations) or columns (features)    \n",
                "    - if we remove rows we will loose data from 8 rows out of ~8000. Not too bad if we don't need to remove additional rows because of missing values in other features.\n",
                "    - removing the column `ExternalRiskEstimate` does not make sense here.\n",
                "* We could replace missing values\n",
                "    - with mean/median value of the feature? \n",
                "    - with minimal value of the feature? (in our 8 observations the risk was quite high)\n",
                "    - with a value corresponding to the respective percentile (0.875)?\n",
                "    - use more sophisticated methods? \n",
                "\n",
                "\n",
                "When deciding between the above options, we need to know why the value is missing from our data in the first place. Is it a random glitch in the system? should we expect similar behavior in the future? would we want our model to make predictions when there are missing values in this (or other) features? \n",
                "\n",
                "\n",
                "For simplicity, let's assume that whenever the `ExternalRiskEstimate` is missing, we don't want our model to make predictions. Based on this, we will remove from our data any rows where the the `ExternalRiskEstimate` is missing."
            ]
        },
        {
            "cell_type": "markdown",
            "metadata": {
                "nbgrader": {
                    "grade": false,
                    "grade_id": "cell-8270709c9c71a8e1",
                    "locked": true,
                    "schema_version": 3,
                    "solution": false,
                    "task": false
                },
                "editable": false,
                "deletable": false
            },
            "source": [
                "Update the variable `X_train, X_test, Y_train, Y_test` by removing any observation where the feature `ExternalRiskEstimate` is missing."
            ]
        },
        {
            "cell_type": "code",
            "execution_count": 29,
            "metadata": {
                "nbgrader": {
                    "grade": false,
                    "grade_id": "cell-940aa98f645c0006",
                    "locked": false,
                    "schema_version": 3,
                    "solution": true,
                    "task": false
                }
            },
            "outputs": [],
            "source": [
                "#update Y\n",
                "Y_train = Y_train[X_train['ExternalRiskEstimate'] != -9]\n",
                "Y_test = Y_test[X_test['ExternalRiskEstimate'] != -9]\n",
                "\n",
                "#update X\n",
                "X_train = X_train[X_train['ExternalRiskEstimate'] != -9]\n",
                "X_test = X_test[X_test['ExternalRiskEstimate'] != -9]\n"
            ]
        },
        {
            "cell_type": "code",
            "execution_count": 30,
            "metadata": {
                "nbgrader": {
                    "grade": true,
                    "grade_id": "q3a_",
                    "locked": true,
                    "points": 3,
                    "schema_version": 3,
                    "solution": false,
                    "task": false
                },
                "editable": false,
                "deletable": false
            },
            "outputs": [],
            "source": [
                "### BEGIN TEST (DO NOT REMOVE CELL)\n",
                "sol = ANSWER_KEY['X_train_updated']\n",
                "diff = sol.compare(X_train, keep_equal=False, align_axis=0)\n",
                "assert(len(diff)==0), 'testing X_train'\n",
                "### END TEST "
            ]
        },
        {
            "cell_type": "code",
            "execution_count": 31,
            "metadata": {
                "nbgrader": {
                    "grade": true,
                    "grade_id": "q3b_",
                    "locked": true,
                    "points": 3,
                    "schema_version": 3,
                    "solution": false,
                    "task": false
                },
                "editable": false,
                "deletable": false
            },
            "outputs": [],
            "source": [
                "### BEGIN TEST (DO NOT REMOVE CELL)\n",
                "sol = ANSWER_KEY['X_test_updated']\n",
                "diff = sol.compare(X_test, keep_equal=False, align_axis=0)\n",
                "assert(len(diff)==0), 'testing X_test'\n",
                "### END TEST "
            ]
        },
        {
            "cell_type": "code",
            "execution_count": 32,
            "metadata": {
                "nbgrader": {
                    "grade": true,
                    "grade_id": "q3c_",
                    "locked": true,
                    "points": 3,
                    "schema_version": 3,
                    "solution": false,
                    "task": false
                },
                "editable": false,
                "deletable": false
            },
            "outputs": [],
            "source": [
                "### BEGIN TEST (DO NOT REMOVE CELL)\n",
                "sol = ANSWER_KEY['Y_train_updated']\n",
                "diff = sol.compare(Y_train, keep_equal=False, align_axis=0)\n",
                "assert(len(diff)==0), 'testing Y_train'\n",
                "### END TEST "
            ]
        },
        {
            "cell_type": "code",
            "execution_count": 33,
            "metadata": {
                "nbgrader": {
                    "grade": true,
                    "grade_id": "q3d_",
                    "locked": true,
                    "points": 3,
                    "schema_version": 3,
                    "solution": false,
                    "task": false
                },
                "editable": false,
                "deletable": false
            },
            "outputs": [],
            "source": [
                "### BEGIN TEST (DO NOT REMOVE CELL)\n",
                "sol = ANSWER_KEY['Y_test_updated']\n",
                "diff = sol.compare(Y_test, keep_equal=False, align_axis=0)\n",
                "assert(len(diff)==0), 'testing Y_test'\n",
                "### END TEST "
            ]
        },
        {
            "cell_type": "code",
            "execution_count": 34,
            "metadata": {
                "nbgrader": {
                    "grade": false,
                    "grade_id": "cell-b63a1f9ef313abd8",
                    "locked": true,
                    "schema_version": 3,
                    "solution": false,
                    "task": false
                },
                "editable": false,
                "deletable": false
            },
            "outputs": [
                {
                    "output_type": "stream",
                    "name": "stdout",
                    "text": [
                        "Before removing observations\nThe shapes of X_train, X_test, Y_train, Y_test:\n(7896, 23) (1975, 23) (7896,) (1975,)\n"
                    ]
                }
            ],
            "source": [
                "print('Before removing observations\\nThe shapes of X_train, X_test, Y_train, Y_test:')\n",
                "print(ANSWER_KEY['X_train'].shape, ANSWER_KEY['X_test'].shape, ANSWER_KEY['Y_train'].shape, ANSWER_KEY['Y_test'].shape)"
            ]
        },
        {
            "cell_type": "code",
            "execution_count": 35,
            "metadata": {
                "nbgrader": {
                    "grade": false,
                    "grade_id": "cell-2e8a3c3831272806",
                    "locked": true,
                    "schema_version": 3,
                    "solution": false,
                    "task": false
                },
                "editable": false,
                "deletable": false
            },
            "outputs": [
                {
                    "output_type": "stream",
                    "name": "stdout",
                    "text": [
                        "After removing observations\nThe shapes of X_train, X_test, Y_train, Y_test:\n(7888, 23) (1973, 23) (7888,) (1973,)\n"
                    ]
                }
            ],
            "source": [
                "print('After removing observations\\nThe shapes of X_train, X_test, Y_train, Y_test:')\n",
                "print(ANSWER_KEY['X_train_updated'].shape, ANSWER_KEY['X_test_updated'].shape, ANSWER_KEY['Y_train_updated'].shape, ANSWER_KEY['Y_test_updated'].shape)"
            ]
        },
        {
            "cell_type": "markdown",
            "metadata": {
                "nbgrader": {
                    "grade": false,
                    "grade_id": "cell-63ba842980bda8db",
                    "locked": true,
                    "schema_version": 3,
                    "solution": false,
                    "task": false
                },
                "editable": false,
                "deletable": false
            },
            "source": [
                "We see that a total of 10 rows were removed from our data (train and test).\n",
                "\n",
                "Let's look at the remaining missing values."
            ]
        },
        {
            "cell_type": "code",
            "execution_count": 36,
            "metadata": {
                "nbgrader": {
                    "grade": false,
                    "grade_id": "cell-aee8edfb81f51ad6",
                    "locked": true,
                    "schema_version": 3,
                    "solution": false,
                    "task": false
                },
                "editable": false,
                "deletable": false
            },
            "outputs": [
                {
                    "output_type": "execute_result",
                    "data": {
                        "text/plain": [
                            "                                      -7    -8  -9\n",
                            "ExternalRiskEstimate                   0     0   0\n",
                            "MSinceOldestTradeOpen                  0   199   0\n",
                            "MSinceMostRecentTradeOpen              0     0   0\n",
                            "AverageMInFile                         0     0   0\n",
                            "NumSatisfactoryTrades                  0     0   0\n",
                            "NumTrades60Ever2DerogPubRec            0     0   0\n",
                            "NumTrades90Ever2DerogPubRec            0     0   0\n",
                            "PercentTradesNeverDelq                 0     0   0\n",
                            "MSinceMostRecentDelq                3727   130   0\n",
                            "MaxDelq2PublicRecLast12M               0     0   0\n",
                            "MaxDelqEver                            0     0   0\n",
                            "NumTotalTrades                         0     0   0\n",
                            "NumTradesOpeninLast12M                 0     0   0\n",
                            "PercentInstallTrades                   0     0   0\n",
                            "MSinceMostRecentInqexcl7days        1462   371   0\n",
                            "NumInqLast6M                           0     0   0\n",
                            "NumInqLast6Mexcl7days                  0     0   0\n",
                            "NetFractionRevolvingBurden             0   142   0\n",
                            "NetFractionInstallBurden               0  2741   0\n",
                            "NumRevolvingTradesWBalance             0   122   0\n",
                            "NumInstallTradesWBalance               0   686   0\n",
                            "NumBank2NatlTradesWHighUtilization     0   466   0\n",
                            "PercentTradesWBalance                  0     7   0"
                        ],
                        "text/html": "<div>\n<style scoped>\n    .dataframe tbody tr th:only-of-type {\n        vertical-align: middle;\n    }\n\n    .dataframe tbody tr th {\n        vertical-align: top;\n    }\n\n    .dataframe thead th {\n        text-align: right;\n    }\n</style>\n<table border=\"1\" class=\"dataframe\">\n  <thead>\n    <tr style=\"text-align: right;\">\n      <th></th>\n      <th>-7</th>\n      <th>-8</th>\n      <th>-9</th>\n    </tr>\n  </thead>\n  <tbody>\n    <tr>\n      <th>ExternalRiskEstimate</th>\n      <td>0</td>\n      <td>0</td>\n      <td>0</td>\n    </tr>\n    <tr>\n      <th>MSinceOldestTradeOpen</th>\n      <td>0</td>\n      <td>199</td>\n      <td>0</td>\n    </tr>\n    <tr>\n      <th>MSinceMostRecentTradeOpen</th>\n      <td>0</td>\n      <td>0</td>\n      <td>0</td>\n    </tr>\n    <tr>\n      <th>AverageMInFile</th>\n      <td>0</td>\n      <td>0</td>\n      <td>0</td>\n    </tr>\n    <tr>\n      <th>NumSatisfactoryTrades</th>\n      <td>0</td>\n      <td>0</td>\n      <td>0</td>\n    </tr>\n    <tr>\n      <th>NumTrades60Ever2DerogPubRec</th>\n      <td>0</td>\n      <td>0</td>\n      <td>0</td>\n    </tr>\n    <tr>\n      <th>NumTrades90Ever2DerogPubRec</th>\n      <td>0</td>\n      <td>0</td>\n      <td>0</td>\n    </tr>\n    <tr>\n      <th>PercentTradesNeverDelq</th>\n      <td>0</td>\n      <td>0</td>\n      <td>0</td>\n    </tr>\n    <tr>\n      <th>MSinceMostRecentDelq</th>\n      <td>3727</td>\n      <td>130</td>\n      <td>0</td>\n    </tr>\n    <tr>\n      <th>MaxDelq2PublicRecLast12M</th>\n      <td>0</td>\n      <td>0</td>\n      <td>0</td>\n    </tr>\n    <tr>\n      <th>MaxDelqEver</th>\n      <td>0</td>\n      <td>0</td>\n      <td>0</td>\n    </tr>\n    <tr>\n      <th>NumTotalTrades</th>\n      <td>0</td>\n      <td>0</td>\n      <td>0</td>\n    </tr>\n    <tr>\n      <th>NumTradesOpeninLast12M</th>\n      <td>0</td>\n      <td>0</td>\n      <td>0</td>\n    </tr>\n    <tr>\n      <th>PercentInstallTrades</th>\n      <td>0</td>\n      <td>0</td>\n      <td>0</td>\n    </tr>\n    <tr>\n      <th>MSinceMostRecentInqexcl7days</th>\n      <td>1462</td>\n      <td>371</td>\n      <td>0</td>\n    </tr>\n    <tr>\n      <th>NumInqLast6M</th>\n      <td>0</td>\n      <td>0</td>\n      <td>0</td>\n    </tr>\n    <tr>\n      <th>NumInqLast6Mexcl7days</th>\n      <td>0</td>\n      <td>0</td>\n      <td>0</td>\n    </tr>\n    <tr>\n      <th>NetFractionRevolvingBurden</th>\n      <td>0</td>\n      <td>142</td>\n      <td>0</td>\n    </tr>\n    <tr>\n      <th>NetFractionInstallBurden</th>\n      <td>0</td>\n      <td>2741</td>\n      <td>0</td>\n    </tr>\n    <tr>\n      <th>NumRevolvingTradesWBalance</th>\n      <td>0</td>\n      <td>122</td>\n      <td>0</td>\n    </tr>\n    <tr>\n      <th>NumInstallTradesWBalance</th>\n      <td>0</td>\n      <td>686</td>\n      <td>0</td>\n    </tr>\n    <tr>\n      <th>NumBank2NatlTradesWHighUtilization</th>\n      <td>0</td>\n      <td>466</td>\n      <td>0</td>\n    </tr>\n    <tr>\n      <th>PercentTradesWBalance</th>\n      <td>0</td>\n      <td>7</td>\n      <td>0</td>\n    </tr>\n  </tbody>\n</table>\n</div>"
                    },
                    "metadata": {},
                    "execution_count": 36
                }
            ],
            "source": [
                "# you implemented similar code in one of the previous assignments\n",
                "df_count_missing = pd.concat([(X_train==-7).sum(), (X_train==-8).sum(), (X_train==-9).sum()], axis=1)\n",
                "df_count_missing.columns = [-7,-8,-9]\n",
                "df_count_missing"
            ]
        },
        {
            "cell_type": "markdown",
            "metadata": {
                "nbgrader": {
                    "grade": false,
                    "grade_id": "cell-25e7aae9eaad6c38",
                    "locked": true,
                    "schema_version": 3,
                    "solution": false,
                    "task": false
                },
                "editable": false,
                "deletable": false
            },
            "source": [
                "We see that there are no longer `-9` (missing) values in the data. \n",
                "\n",
                "We turn to handling the other missing values `-7` and `-8`. Let's assume for simplicity that these values are informative and that whatever generated them in the data that we have would generate them also in the future. This could be a reasonable assumption, for example, for feature `MSinceMostRecentDelq` that indicates the number of months since last delinquency, where for customers who were never late on their payments the corresponding values is missing. "
            ]
        },
        {
            "cell_type": "code",
            "execution_count": 37,
            "metadata": {
                "nbgrader": {
                    "grade": true,
                    "grade_id": "cell-c4a825a282dbd7fd",
                    "locked": true,
                    "points": 0,
                    "schema_version": 3,
                    "solution": false,
                    "task": false
                },
                "editable": false,
                "deletable": false
            },
            "outputs": [],
            "source": [
                "### BEGIN HIDDEN TEST\n",
                "if GENERATE_ANSWER_KEY and 0: \n",
                "    feature = 'MSinceMostRecentDelq'\n",
                "    means = df_train.groupby(feature)['RiskPerformance'].mean()\n",
                "    counts = df_train.groupby(feature)['RiskPerformance'].count()\n",
                "    fig, axes = plt.subplots(1,2, figsize=(20,7))\n",
                "    means.plot.bar(ax=axes[0], title='Probability of defaulting vs. ExternalRiskEstimate')\n",
                "    counts.plot.bar(ax=axes[1], title='Number of observations vs. ExternalRiskEstimate')\n",
                "    plt.tight_layout()\n",
                "    plt.savefig('Risk vs MSinceMostRecentDelq.png')\n",
                "### END HIDDEN TEST"
            ]
        },
        {
            "cell_type": "markdown",
            "metadata": {
                "nbgrader": {
                    "grade": false,
                    "grade_id": "cell-a856a65e80316fc7",
                    "locked": true,
                    "schema_version": 3,
                    "solution": false,
                    "task": false
                },
                "editable": false,
                "deletable": false
            },
            "source": [
                "Let's create a similar plot of risk vs. `MSinceMostRecentDelq`:\n",
                "<img src='Risk vs MSinceMostRecentDelq.png'>"
            ]
        },
        {
            "cell_type": "markdown",
            "metadata": {
                "nbgrader": {
                    "grade": false,
                    "grade_id": "cell-f69a27f030294fbe",
                    "locked": true,
                    "schema_version": 3,
                    "solution": false,
                    "task": false
                },
                "editable": false,
                "deletable": false
            },
            "source": [
                "We see that\n",
                "- Risk is generally decreasing in `MSinceMostRecentDelq` (as the data documentation suggests `heloc_data_dictionary-2.xlsx`).\n",
                "- The risk at -7 and -8 seems to behave differently from the rest. It is not clear that setting the missing values to -7 and -8 is right (these values seem to break the trend).\n",
                "- The number of observations drops as `MSinceMostRecentDelq` increases.\n",
                "\n",
                "Let's focus on the non-negative values."
            ]
        },
        {
            "cell_type": "code",
            "execution_count": 38,
            "metadata": {
                "nbgrader": {
                    "grade": false,
                    "grade_id": "cell-54e2ef12ee134d2c",
                    "locked": true,
                    "schema_version": 3,
                    "solution": false,
                    "task": false
                },
                "editable": false,
                "deletable": false
            },
            "outputs": [],
            "source": [
                "### BEGIN HIDDEN TEST\n",
                "if GENERATE_ANSWER_KEY and 0: \n",
                "    feature = 'MSinceMostRecentDelq'\n",
                "    means = df_train.groupby(feature)['RiskPerformance'].mean()\n",
                "    counts = df_train.groupby(feature)['RiskPerformance'].count()\n",
                "    fig, axes = plt.subplots(1,2, figsize=(20,7))\n",
                "    means[means.index>=0].plot.bar(ax=axes[0], title='Probability of defaulting vs. ExternalRiskEstimate')\n",
                "    counts[counts.index>=0].plot.bar(ax=axes[1], title='Number of observations vs. ExternalRiskEstimate')\n",
                "    plt.tight_layout()\n",
                "    plt.savefig('Risk vs MSinceMostRecentDelq - no missing.png')\n",
                "### END HIDDEN TEST"
            ]
        },
        {
            "cell_type": "markdown",
            "metadata": {
                "nbgrader": {
                    "grade": false,
                    "grade_id": "cell-a856a65e80316fcx",
                    "locked": true,
                    "schema_version": 3,
                    "solution": false,
                    "task": false
                },
                "editable": false,
                "deletable": false
            },
            "source": [
                "<img src='Risk vs MSinceMostRecentDelq - no missing.png'>"
            ]
        },
        {
            "cell_type": "markdown",
            "metadata": {
                "nbgrader": {
                    "grade": false,
                    "grade_id": "cell-cd6318afc8c797c1",
                    "locked": true,
                    "schema_version": 3,
                    "solution": false,
                    "task": false
                },
                "editable": false,
                "deletable": false
            },
            "source": [
                "The trend seems stronger now (especially when `MSinceMostRecentDelq` is not too large where the number customers' count is relatively larger)\n",
                "\n",
                "So how should we transform the values of the feature `MSinceMostRecentDelq`? \n",
                "* We could add dummy variables to indicate the values -7 and -8. This way our predictive models could adjust to these special values. \n",
                "* In some cases, it could make sense to replace the missing values with average/median values of each column. \n",
                "* There are more sophisticated methods, some of which are implemented in scikit-learn (https://scikit-learn.org/stable/modules/classes.html#module-sklearn.impute). Additional methods can be found in the academic literature (e.g., you could search for \"impute missing values\" on Google Scholar: https://scholar.google.com/scholar?hl=en&as_sdt=0%2C33&q=impute+missing+values&btnG=).\n",
                "* Another approach is to manually inspect the figure above. For example, we might conjecture that the functional relation between risk and `MSinceMostRecentDelq` is monotonically decreasing up to a certain point (perhaps 50?) and then it is constant. We might try to add a binary feature such as `MSinceMostRecentDelq>50` and/or `max(50-MSinceMostRecentDelq,0)`. As another example, if we're trying to fit a linear model, we might apply a transformation using the logarithmic or exponential function to make this function more linear or more evenly distributed.\n",
                "\n"
            ]
        },
        {
            "cell_type": "markdown",
            "metadata": {
                "nbgrader": {
                    "grade": false,
                    "grade_id": "cell-1827a2c355b64f3e",
                    "locked": true,
                    "schema_version": 3,
                    "solution": false,
                    "task": false
                },
                "editable": false,
                "deletable": false
            },
            "source": [
                "In practice, one should think carefully when transforming each feature and understand the causes of missing values. Due to lack of access to the process that generated this data, and for our educational purposes, we will apply the following transformation:\n",
                "1. For every column with missing values (-7 or -8), we add a feature with the same name, concatenated by the term \"=-7\" or \"=-8\". For example, for the feature `MSinceMostRecentDelq`, we will add the binary features `MSinceMostRecentDelq=-7` and `MSinceMostRecentDelq=-8`, which are equal to 1 when the value under   `MSinceMostRecentDelq` is equal to `-7` and `-8`, respectively.\n",
                "2. We will replace the missing values of each feature by the average value of the respective feature.  \n",
                "\n",
                "\n",
                "To this end, we will use scikit-learn preprocessing functions. Let's start with a small example:"
            ]
        },
        {
            "cell_type": "code",
            "execution_count": 39,
            "metadata": {
                "nbgrader": {
                    "grade": false,
                    "grade_id": "cell-33f4fd0a1a18937d",
                    "locked": true,
                    "schema_version": 3,
                    "solution": false,
                    "task": false
                },
                "editable": false,
                "deletable": false
            },
            "outputs": [
                {
                    "output_type": "execute_result",
                    "data": {
                        "text/plain": [
                            "    A   B   C\n",
                            "0  -7   1   2\n",
                            "1   4   0  -7\n",
                            "2  -8   1  -7\n",
                            "3  10  20  30"
                        ],
                        "text/html": "<div>\n<style scoped>\n    .dataframe tbody tr th:only-of-type {\n        vertical-align: middle;\n    }\n\n    .dataframe tbody tr th {\n        vertical-align: top;\n    }\n\n    .dataframe thead th {\n        text-align: right;\n    }\n</style>\n<table border=\"1\" class=\"dataframe\">\n  <thead>\n    <tr style=\"text-align: right;\">\n      <th></th>\n      <th>A</th>\n      <th>B</th>\n      <th>C</th>\n    </tr>\n  </thead>\n  <tbody>\n    <tr>\n      <th>0</th>\n      <td>-7</td>\n      <td>1</td>\n      <td>2</td>\n    </tr>\n    <tr>\n      <th>1</th>\n      <td>4</td>\n      <td>0</td>\n      <td>-7</td>\n    </tr>\n    <tr>\n      <th>2</th>\n      <td>-8</td>\n      <td>1</td>\n      <td>-7</td>\n    </tr>\n    <tr>\n      <th>3</th>\n      <td>10</td>\n      <td>20</td>\n      <td>30</td>\n    </tr>\n  </tbody>\n</table>\n</div>"
                    },
                    "metadata": {},
                    "execution_count": 39
                }
            ],
            "source": [
                "X1 = np.array([[ -7,  1,  2],\n",
                "               [  4,  0, -7],\n",
                "               [ -8,  1, -7],\n",
                "               [ 10, 20, 30]])\n",
                "df1 = pd.DataFrame(X1, columns=['A','B','C'])\n",
                "df1"
            ]
        },
        {
            "cell_type": "markdown",
            "metadata": {
                "nbgrader": {
                    "grade": false,
                    "grade_id": "cell-fe71151317f3e826",
                    "locked": true,
                    "schema_version": 3,
                    "solution": false,
                    "task": false
                },
                "editable": false,
                "deletable": false
            },
            "source": [
                "We created the dataframe `df1` that has three columns \"A\",\"B\",\"C\", which contains some missing values indicated by `-7` and `-8`. \n",
                "\n",
                "We next use the scikit-learn object `MissingIndicator` to transform the dataframe into a dataframe that only contain indicators for missing values."
            ]
        },
        {
            "cell_type": "code",
            "execution_count": 40,
            "metadata": {
                "nbgrader": {
                    "grade": false,
                    "grade_id": "cell-78a07f884ef165c0",
                    "locked": true,
                    "schema_version": 3,
                    "solution": false,
                    "task": false
                },
                "editable": false,
                "deletable": false
            },
            "outputs": [
                {
                    "output_type": "execute_result",
                    "data": {
                        "text/plain": [
                            "MissingIndicator(missing_values=-7)"
                        ]
                    },
                    "metadata": {},
                    "execution_count": 40
                }
            ],
            "source": [
                "from sklearn.impute import MissingIndicator\n",
                "minus_7_indicator_transformer = MissingIndicator(missing_values=-7, features='missing-only').fit(df1)\n",
                "minus_7_indicator_transformer"
            ]
        },
        {
            "cell_type": "markdown",
            "metadata": {
                "nbgrader": {
                    "grade": false,
                    "grade_id": "cell-6f0e1ddc78daceac",
                    "locked": true,
                    "schema_version": 3,
                    "solution": false,
                    "task": false
                },
                "editable": false,
                "deletable": false
            },
            "source": [
                "The above code created a transformer (an objects that transforms data matrixes and features) called `minus_7_indicators`. Using the parameters `missing_values=-7`, we specified that  -7 is the value being used to denote missing values. The other parameter `features='missing-only`  specifies that we will only keep columns with missing values. In our case, Columns A and C contain missing values but not column B. If we apply the transformation we would get two columns, one indicating missing values in column A and the second indicating missing values in column C:"
            ]
        },
        {
            "cell_type": "code",
            "execution_count": 41,
            "metadata": {
                "nbgrader": {
                    "grade": false,
                    "grade_id": "cell-2c7e8ab862b101db",
                    "locked": true,
                    "schema_version": 3,
                    "solution": false,
                    "task": false
                },
                "editable": false,
                "deletable": false
            },
            "outputs": [
                {
                    "output_type": "execute_result",
                    "data": {
                        "text/plain": [
                            "array([[ True, False],\n",
                            "       [False,  True],\n",
                            "       [False,  True],\n",
                            "       [False, False]])"
                        ]
                    },
                    "metadata": {},
                    "execution_count": 41
                }
            ],
            "source": [
                "arr1_t = minus_7_indicator_transformer.transform(df1)\n",
                "arr1_t"
            ]
        },
        {
            "cell_type": "markdown",
            "metadata": {
                "nbgrader": {
                    "grade": false,
                    "grade_id": "cell-27885ca6c23480c2",
                    "locked": true,
                    "schema_version": 3,
                    "solution": false,
                    "task": false
                },
                "editable": false,
                "deletable": false
            },
            "source": [
                "The variable `arr1_t` (which stands for array 1 transformed) contains the transformed values. Notice that the value `-8` has not been transformed since we only specified -7 as missing value (by setting `missing_values=-7`).\n",
                "Running `minus_7_indicators.features_` will tell us which of the columns were transformed:"
            ]
        },
        {
            "cell_type": "code",
            "execution_count": 42,
            "metadata": {
                "nbgrader": {
                    "grade": false,
                    "grade_id": "cell-83026aac2fd469e7",
                    "locked": true,
                    "schema_version": 3,
                    "solution": false,
                    "task": false
                },
                "editable": false,
                "deletable": false
            },
            "outputs": [
                {
                    "output_type": "execute_result",
                    "data": {
                        "text/plain": [
                            "array([0, 2])"
                        ]
                    },
                    "metadata": {},
                    "execution_count": 42
                }
            ],
            "source": [
                "minus_7_indicator_transformer.features_"
            ]
        },
        {
            "cell_type": "markdown",
            "metadata": {
                "nbgrader": {
                    "grade": false,
                    "grade_id": "cell-44b232aa99647489",
                    "locked": true,
                    "schema_version": 3,
                    "solution": false,
                    "task": false
                },
                "editable": false,
                "deletable": false
            },
            "source": [
                "These are the first and last columns of `df1`, which correspond to A and C:"
            ]
        },
        {
            "cell_type": "code",
            "execution_count": 43,
            "metadata": {
                "nbgrader": {
                    "grade": false,
                    "grade_id": "cell-15b594ec32014d7a",
                    "locked": true,
                    "schema_version": 3,
                    "solution": false,
                    "task": false
                },
                "editable": false,
                "deletable": false
            },
            "outputs": [
                {
                    "output_type": "execute_result",
                    "data": {
                        "text/plain": [
                            "array(['A', 'C'], dtype=object)"
                        ]
                    },
                    "metadata": {},
                    "execution_count": 43
                }
            ],
            "source": [
                "df1.columns.values[minus_7_indicator_transformer.features_]"
            ]
        },
        {
            "cell_type": "markdown",
            "metadata": {
                "nbgrader": {
                    "grade": false,
                    "grade_id": "cell-1e9df02dd2e5672b",
                    "locked": true,
                    "schema_version": 3,
                    "solution": false,
                    "task": false
                },
                "editable": false,
                "deletable": false
            },
            "source": [
                "An advantage of defining this transformer is that it can be applied to new data points: "
            ]
        },
        {
            "cell_type": "code",
            "execution_count": 44,
            "metadata": {
                "nbgrader": {
                    "grade": false,
                    "grade_id": "cell-cf82b46e6d9b46cc",
                    "locked": true,
                    "schema_version": 3,
                    "solution": false,
                    "task": false
                },
                "editable": false,
                "deletable": false
            },
            "outputs": [
                {
                    "output_type": "execute_result",
                    "data": {
                        "text/plain": [
                            "array([[False,  True]])"
                        ]
                    },
                    "metadata": {},
                    "execution_count": 44
                }
            ],
            "source": [
                "minus_7_indicator_transformer.transform([[1,1,-7]]) # A is not missing here, and C is missing (this is the output of transforming this new observation)"
            ]
        },
        {
            "cell_type": "markdown",
            "metadata": {
                "nbgrader": {
                    "grade": false,
                    "grade_id": "cell-b829220169b63d4d",
                    "locked": true,
                    "schema_version": 3,
                    "solution": false,
                    "task": false
                },
                "editable": false,
                "deletable": false
            },
            "source": [
                "Similarly, let's create additional features for the missing value -8: "
            ]
        },
        {
            "cell_type": "code",
            "execution_count": 45,
            "metadata": {
                "nbgrader": {
                    "grade": false,
                    "grade_id": "cell-7d46b294a6caccbc",
                    "locked": true,
                    "schema_version": 3,
                    "solution": false,
                    "task": false
                },
                "editable": false,
                "deletable": false
            },
            "outputs": [
                {
                    "output_type": "execute_result",
                    "data": {
                        "text/plain": [
                            "array([[False],\n",
                            "       [False],\n",
                            "       [ True],\n",
                            "       [False]])"
                        ]
                    },
                    "metadata": {},
                    "execution_count": 45
                }
            ],
            "source": [
                "minus_8_indicator_transformer = MissingIndicator(missing_values=-8, features='missing-only').fit(df1) # notice the -8\n",
                "arr2_t = minus_8_indicator_transformer.transform(df1)\n",
                "arr2_t"
            ]
        },
        {
            "cell_type": "code",
            "execution_count": 46,
            "metadata": {
                "nbgrader": {
                    "grade": false,
                    "grade_id": "cell-093b84e215aea6e5",
                    "locked": true,
                    "schema_version": 3,
                    "solution": false,
                    "task": false
                },
                "editable": false,
                "deletable": false
            },
            "outputs": [
                {
                    "output_type": "execute_result",
                    "data": {
                        "text/plain": [
                            "array([0])"
                        ]
                    },
                    "metadata": {},
                    "execution_count": 46
                }
            ],
            "source": [
                "minus_8_indicator_transformer.features_"
            ]
        },
        {
            "cell_type": "code",
            "execution_count": 47,
            "metadata": {
                "nbgrader": {
                    "grade": false,
                    "grade_id": "cell-8334e8673636d507",
                    "locked": true,
                    "schema_version": 3,
                    "solution": false,
                    "task": false
                },
                "editable": false,
                "deletable": false
            },
            "outputs": [
                {
                    "output_type": "execute_result",
                    "data": {
                        "text/plain": [
                            "array(['A'], dtype=object)"
                        ]
                    },
                    "metadata": {},
                    "execution_count": 47
                }
            ],
            "source": [
                "df1.columns.values[minus_8_indicator_transformer.features_]"
            ]
        },
        {
            "cell_type": "markdown",
            "metadata": {
                "nbgrader": {
                    "grade": false,
                    "grade_id": "cell-bec7d9218acd53e4",
                    "locked": true,
                    "schema_version": 3,
                    "solution": false,
                    "task": false
                },
                "editable": false,
                "deletable": false
            },
            "source": [
                "The dataframe `df1` only contains 1 value of -8 in the column A, which is why the transformer `minus_8_indicator_transformer` returns a single column.\n",
                "\n",
                "There are a few more steps that we are left to do: \n",
                "1. combine df1, arr1_t, and arr2_t into a single dataframe or array\n",
                "2. set the appropriate feature names (for convenience)\n",
                "3. replace missing values with average values in each column\n",
                "\n",
                "To combine the original data frame (`df1`) and the new features (`arr1_t` and `arr2_t`), we will use scikit-learn's `FeatureUnion` object. Before we do that, we define another transformer (which takes a dataframe and returns one transformed according to some login), which in our case does nothing. We will call it `do_nothing_imputer`."
            ]
        },
        {
            "cell_type": "code",
            "execution_count": 48,
            "metadata": {
                "nbgrader": {
                    "grade": false,
                    "grade_id": "cell-d84ef59138c5eb7c",
                    "locked": true,
                    "schema_version": 3,
                    "solution": false,
                    "task": false
                },
                "editable": false,
                "deletable": false
            },
            "outputs": [
                {
                    "output_type": "execute_result",
                    "data": {
                        "text/plain": [
                            "array([[-7,  1,  2],\n",
                            "       [ 4,  0, -7],\n",
                            "       [-8,  1, -7],\n",
                            "       [10, 20, 30]])"
                        ]
                    },
                    "metadata": {},
                    "execution_count": 48
                }
            ],
            "source": [
                "# a \"do nothing\" imputer (will be useful soon)\n",
                "from sklearn.compose import ColumnTransformer\n",
                "from sklearn.impute import SimpleImputer\n",
                "do_nothing_imputer = ColumnTransformer([(\"Imputer -7 to mean\", SimpleImputer(missing_values=-7, strategy='mean'), [])], remainder='passthrough')\n",
                "do_nothing_imputer.fit_transform(df1)"
            ]
        },
        {
            "cell_type": "code",
            "execution_count": 49,
            "metadata": {
                "nbgrader": {
                    "grade": false,
                    "grade_id": "cell-6d2523e27d2d0346",
                    "locked": true,
                    "schema_version": 3,
                    "solution": false,
                    "task": false
                },
                "editable": false,
                "deletable": false
            },
            "outputs": [
                {
                    "output_type": "stream",
                    "name": "stdout",
                    "text": [
                        "    A   B   C\n0  -7   1   2\n1   4   0  -7\n2  -8   1  -7\n3  10  20  30\n"
                    ]
                }
            ],
            "source": [
                "print(df1)"
            ]
        },
        {
            "cell_type": "markdown",
            "metadata": {
                "nbgrader": {
                    "grade": false,
                    "grade_id": "cell-560a6bf203ad1e5c",
                    "locked": true,
                    "schema_version": 3,
                    "solution": false,
                    "task": false
                },
                "editable": false,
                "deletable": false
            },
            "source": [
                "We see that we get the exact same output, with the exception of the data being returned as a numpy array."
            ]
        },
        {
            "cell_type": "code",
            "execution_count": 50,
            "metadata": {
                "nbgrader": {
                    "grade": false,
                    "grade_id": "cell-218ae96da9d4f1e8",
                    "locked": true,
                    "schema_version": 3,
                    "solution": false,
                    "task": false
                },
                "editable": false,
                "deletable": false
            },
            "outputs": [
                {
                    "output_type": "execute_result",
                    "data": {
                        "text/plain": [
                            "array([[-7,  1,  2,  1,  0,  0],\n",
                            "       [ 4,  0, -7,  0,  1,  0],\n",
                            "       [-8,  1, -7,  0,  1,  1],\n",
                            "       [10, 20, 30,  0,  0,  0]])"
                        ]
                    },
                    "metadata": {},
                    "execution_count": 50
                }
            ],
            "source": [
                "from sklearn.pipeline import FeatureUnion\n",
                "union = FeatureUnion([(\"do nothing\", do_nothing_imputer),\n",
                "                      (\"missing_minus_7\", MissingIndicator(missing_values=-7, features='missing-only')),\n",
                "                      (\"missing_minus_8\", MissingIndicator(missing_values=-8, features='missing-only'))])\n",
                "arr1_extended = union.fit_transform(df1)\n",
                "arr1_extended"
            ]
        },
        {
            "cell_type": "markdown",
            "metadata": {
                "nbgrader": {
                    "grade": false,
                    "grade_id": "cell-d79c0942d13eaebe",
                    "locked": true,
                    "schema_version": 3,
                    "solution": false,
                    "task": false
                },
                "editable": false,
                "deletable": false
            },
            "source": [
                "FeatureUnion takes a dataframe (or array) and creates multiple copies of it (3 above, one corresponding to each element of the list given to it as a parameter). Each copy is sent through a transformer that transforms the datamatrix (such as `minus_8_indicator_transformer` we defined earlier). Finally, the transformed copies are combined (the union operation in math combines sets of elements, and in this case, sets of features). \n",
                "\n",
                "The first transformer which we call \"do nothing\" only passes the copied data it received. This is because we would like to extend the features space, but also keep the original features. The second and third transformers add binary features for columns with missing values of -7 and -8, respectively (this is equivalent to what we've done earlier).\n",
                "\n",
                "The result is stored in `arr1_extended`. The first 3 columns are the original features, the next two columns indicate missing values of -7 in columns A and C, and the last column indicates missing values in column A. The information about the column names, however, is not shown above as the returned value is an array. We will therefore add columns manually."
            ]
        },
        {
            "cell_type": "markdown",
            "metadata": {
                "nbgrader": {
                    "grade": false,
                    "grade_id": "cell-f50d1e15e0eb2c60",
                    "locked": true,
                    "schema_version": 3,
                    "solution": false,
                    "task": false
                },
                "editable": false,
                "deletable": false
            },
            "source": [
                "We can obtain the original features names from the dataframe `df1`:"
            ]
        },
        {
            "cell_type": "code",
            "execution_count": 51,
            "metadata": {
                "nbgrader": {
                    "grade": false,
                    "grade_id": "cell-32d0b4f61e515cdc",
                    "locked": true,
                    "schema_version": 3,
                    "solution": false,
                    "task": false
                },
                "editable": false,
                "deletable": false
            },
            "outputs": [
                {
                    "output_type": "stream",
                    "name": "stdout",
                    "text": [
                        "['A', 'B', 'C']\n"
                    ]
                }
            ],
            "source": [
                "print(df1.columns.values.tolist()) # these are the original features"
            ]
        },
        {
            "cell_type": "markdown",
            "metadata": {
                "nbgrader": {
                    "grade": false,
                    "grade_id": "cell-718725590b464496",
                    "locked": true,
                    "schema_version": 3,
                    "solution": false,
                    "task": false
                },
                "editable": false,
                "deletable": false
            },
            "source": [
                "We can obtain the next two features from the transformer `minus_7_indicator_transformer`, mapping the column indexes to feature names:"
            ]
        },
        {
            "cell_type": "code",
            "execution_count": 52,
            "metadata": {
                "nbgrader": {
                    "grade": false,
                    "grade_id": "cell-28039edfd2ce2dd5",
                    "locked": true,
                    "schema_version": 3,
                    "solution": false,
                    "task": false
                },
                "editable": false,
                "deletable": false
            },
            "outputs": [
                {
                    "output_type": "execute_result",
                    "data": {
                        "text/plain": [
                            "['A', 'C']"
                        ]
                    },
                    "metadata": {},
                    "execution_count": 52
                }
            ],
            "source": [
                "col_names_minus_7 = df1.columns.values[minus_7_indicator_transformer.features_].tolist() \n",
                "col_names_minus_7  # these two columns indicate missing value of -7"
            ]
        },
        {
            "cell_type": "markdown",
            "metadata": {
                "nbgrader": {
                    "grade": false,
                    "grade_id": "cell-202b0d86622e3332",
                    "locked": true,
                    "schema_version": 3,
                    "solution": false,
                    "task": false
                },
                "editable": false,
                "deletable": false
            },
            "source": [
                "We add the text \"-7\" to indicate that these binary columns represent missing values of -7. We use Python's built-in function `map` to apply a function to each element of a list. In this case, the function simply concatenates the string '=-7' to each element in list of column names."
            ]
        },
        {
            "cell_type": "code",
            "execution_count": 53,
            "metadata": {
                "nbgrader": {
                    "grade": false,
                    "grade_id": "cell-e053fca6a7ce79d9",
                    "locked": true,
                    "schema_version": 3,
                    "solution": false,
                    "task": false
                },
                "editable": false,
                "deletable": false
            },
            "outputs": [
                {
                    "output_type": "execute_result",
                    "data": {
                        "text/plain": [
                            "['A=-7', 'C=-7']"
                        ]
                    },
                    "metadata": {},
                    "execution_count": 53
                }
            ],
            "source": [
                "col_names_minus_7 = list(map(lambda s:str(s)+'=-7',col_names_minus_7)) # we run over the pervious value\n",
                "col_names_minus_7"
            ]
        },
        {
            "cell_type": "markdown",
            "metadata": {
                "nbgrader": {
                    "grade": false,
                    "grade_id": "cell-1027451f15201afb",
                    "locked": true,
                    "schema_version": 3,
                    "solution": false,
                    "task": false
                },
                "editable": false,
                "deletable": false
            },
            "source": [
                "We do the same for the last column, which corresponds to missing values of -8:"
            ]
        },
        {
            "cell_type": "code",
            "execution_count": 54,
            "metadata": {
                "nbgrader": {
                    "grade": false,
                    "grade_id": "cell-e37001ed38b384b7",
                    "locked": true,
                    "schema_version": 3,
                    "solution": false,
                    "task": false
                },
                "editable": false,
                "deletable": false
            },
            "outputs": [
                {
                    "output_type": "execute_result",
                    "data": {
                        "text/plain": [
                            "['A=-8']"
                        ]
                    },
                    "metadata": {},
                    "execution_count": 54
                }
            ],
            "source": [
                "col_names_minus_8 = df1.columns.values[minus_8_indicator_transformer.features_].tolist() \n",
                "col_names_minus_8 = list(map(lambda s:str(s)+'=-8',col_names_minus_8))\n",
                "col_names_minus_8"
            ]
        },
        {
            "cell_type": "markdown",
            "metadata": {
                "nbgrader": {
                    "grade": false,
                    "grade_id": "cell-02ef344c684ec9af",
                    "locked": true,
                    "schema_version": 3,
                    "solution": false,
                    "task": false
                },
                "editable": false,
                "deletable": false
            },
            "source": [
                "Putting it all together, we get the following list of column names:"
            ]
        },
        {
            "cell_type": "code",
            "execution_count": 55,
            "metadata": {
                "nbgrader": {
                    "grade": false,
                    "grade_id": "cell-e57310f09a01f4bc",
                    "locked": true,
                    "schema_version": 3,
                    "solution": false,
                    "task": false
                },
                "editable": false,
                "deletable": false
            },
            "outputs": [
                {
                    "output_type": "execute_result",
                    "data": {
                        "text/plain": [
                            "['A', 'B', 'C', 'A=-7', 'C=-7', 'A=-8']"
                        ]
                    },
                    "metadata": {},
                    "execution_count": 55
                }
            ],
            "source": [
                "columns_all = df1.columns.values.tolist() + col_names_minus_7 + col_names_minus_8\n",
                "columns_all"
            ]
        },
        {
            "cell_type": "markdown",
            "metadata": {
                "nbgrader": {
                    "grade": false,
                    "grade_id": "cell-45b989440fdf9692",
                    "locked": true,
                    "schema_version": 3,
                    "solution": false,
                    "task": false
                },
                "editable": false,
                "deletable": false
            },
            "source": [
                "Using the combined array `arr1_extended` and the complete list of column names `columns_all`, we create the dataframe `df1_t` (where t stands for transformed)."
            ]
        },
        {
            "cell_type": "code",
            "execution_count": 56,
            "metadata": {
                "nbgrader": {
                    "grade": false,
                    "grade_id": "cell-e704815bca918e3f",
                    "locked": true,
                    "schema_version": 3,
                    "solution": false,
                    "task": false
                },
                "editable": false,
                "deletable": false
            },
            "outputs": [
                {
                    "output_type": "execute_result",
                    "data": {
                        "text/plain": [
                            "    A   B   C  A=-7  C=-7  A=-8\n",
                            "0  -7   1   2     1     0     0\n",
                            "1   4   0  -7     0     1     0\n",
                            "2  -8   1  -7     0     1     1\n",
                            "3  10  20  30     0     0     0"
                        ],
                        "text/html": "<div>\n<style scoped>\n    .dataframe tbody tr th:only-of-type {\n        vertical-align: middle;\n    }\n\n    .dataframe tbody tr th {\n        vertical-align: top;\n    }\n\n    .dataframe thead th {\n        text-align: right;\n    }\n</style>\n<table border=\"1\" class=\"dataframe\">\n  <thead>\n    <tr style=\"text-align: right;\">\n      <th></th>\n      <th>A</th>\n      <th>B</th>\n      <th>C</th>\n      <th>A=-7</th>\n      <th>C=-7</th>\n      <th>A=-8</th>\n    </tr>\n  </thead>\n  <tbody>\n    <tr>\n      <th>0</th>\n      <td>-7</td>\n      <td>1</td>\n      <td>2</td>\n      <td>1</td>\n      <td>0</td>\n      <td>0</td>\n    </tr>\n    <tr>\n      <th>1</th>\n      <td>4</td>\n      <td>0</td>\n      <td>-7</td>\n      <td>0</td>\n      <td>1</td>\n      <td>0</td>\n    </tr>\n    <tr>\n      <th>2</th>\n      <td>-8</td>\n      <td>1</td>\n      <td>-7</td>\n      <td>0</td>\n      <td>1</td>\n      <td>1</td>\n    </tr>\n    <tr>\n      <th>3</th>\n      <td>10</td>\n      <td>20</td>\n      <td>30</td>\n      <td>0</td>\n      <td>0</td>\n      <td>0</td>\n    </tr>\n  </tbody>\n</table>\n</div>"
                    },
                    "metadata": {},
                    "execution_count": 56
                }
            ],
            "source": [
                "df1_t = pd.DataFrame(arr1_extended, columns=columns_all)\n",
                "df1_t"
            ]
        },
        {
            "cell_type": "markdown",
            "metadata": {
                "nbgrader": {
                    "grade": false,
                    "grade_id": "cell-eaa618b90cca84db",
                    "locked": true,
                    "schema_version": 3,
                    "solution": false,
                    "task": false
                },
                "editable": false,
                "deletable": false
            },
            "source": [
                "Finally, we replace missing values of -7 and -8 with the average values in each column. While a bit convoluted, we do it in two steps, first transforming values of -7 to -8, and then replacing all values of -8 with the mean values. (This is due to a limitation of scikit-learn where `SimpleImputer` only accept one value as indicating missing values)."
            ]
        },
        {
            "cell_type": "code",
            "execution_count": 57,
            "metadata": {
                "nbgrader": {
                    "grade": false,
                    "grade_id": "cell-9c698afcd1537acf",
                    "locked": true,
                    "schema_version": 3,
                    "solution": false,
                    "task": false
                },
                "editable": false,
                "deletable": false
            },
            "outputs": [
                {
                    "output_type": "execute_result",
                    "data": {
                        "text/plain": [
                            "array([[-8,  1,  2,  1,  0,  0],\n",
                            "       [ 4,  0, -8,  0,  1,  0],\n",
                            "       [-8,  1, -8,  0,  1,  1],\n",
                            "       [10, 20, 30,  0,  0,  0]])"
                        ]
                    },
                    "metadata": {},
                    "execution_count": 57
                }
            ],
            "source": [
                "arr1_t2 = SimpleImputer(missing_values=-7, strategy='constant', fill_value=-8).fit_transform(df1_t)\n",
                "arr1_t2 "
            ]
        },
        {
            "cell_type": "code",
            "execution_count": 58,
            "metadata": {
                "nbgrader": {
                    "grade": false,
                    "grade_id": "cell-f8c8090874c91948",
                    "locked": true,
                    "schema_version": 3,
                    "solution": false,
                    "task": false
                },
                "editable": false,
                "deletable": false
            },
            "outputs": [
                {
                    "output_type": "execute_result",
                    "data": {
                        "text/plain": [
                            "array([[ 7.,  1.,  2.,  1.,  0.,  0.],\n",
                            "       [ 4.,  0., 16.,  0.,  1.,  0.],\n",
                            "       [ 7.,  1., 16.,  0.,  1.,  1.],\n",
                            "       [10., 20., 30.,  0.,  0.,  0.]])"
                        ]
                    },
                    "metadata": {},
                    "execution_count": 58
                }
            ],
            "source": [
                "arr1_t3 = SimpleImputer(missing_values=-8, strategy='mean').fit_transform(arr1_t2)\n",
                "arr1_t3"
            ]
        },
        {
            "cell_type": "markdown",
            "metadata": {
                "nbgrader": {
                    "grade": false,
                    "grade_id": "cell-60d4a0b2ebc5d600",
                    "locked": true,
                    "schema_version": 3,
                    "solution": false,
                    "task": false
                },
                "editable": false,
                "deletable": false
            },
            "source": [
                "We see that `arr1_t2` is similar to `df1_t` with values of -7 replaced by -8. In `arr1_t3` we further replace -8 with the average value in each column (check for yourself).\n",
                "\n",
                "We write the entire transformation code in the following code cell."
            ]
        },
        {
            "cell_type": "code",
            "execution_count": 59,
            "metadata": {
                "nbgrader": {
                    "grade": false,
                    "grade_id": "cell-7d8d2a7b4ce042a4",
                    "locked": true,
                    "schema_version": 3,
                    "solution": false,
                    "task": false
                },
                "editable": false,
                "deletable": false
            },
            "outputs": [
                {
                    "output_type": "execute_result",
                    "data": {
                        "text/plain": [
                            "array([[ 7.,  1.,  2.,  1.,  0.,  0.],\n",
                            "       [ 4.,  0., 16.,  0.,  1.,  0.],\n",
                            "       [ 7.,  1., 16.,  0.,  1.,  1.],\n",
                            "       [10., 20., 30.,  0.,  0.,  0.]])"
                        ]
                    },
                    "metadata": {},
                    "execution_count": 59
                }
            ],
            "source": [
                "from sklearn.pipeline import Pipeline\n",
                "\n",
                "do_nothing_imputer = ColumnTransformer([(\"Imputer -7 to mean\", SimpleImputer(missing_values=-7, strategy='mean'), [])], remainder='passthrough')\n",
                "\n",
                "feature_expansion = FeatureUnion([(\"do nothing\", do_nothing_imputer),\n",
                "                                  (\"add features for -7\", MissingIndicator(missing_values=-7, features='missing-only')),\n",
                "                                  (\"add features for -8\", MissingIndicator(missing_values=-8, features='missing-only'))])\n",
                " \n",
                "pipe_example = Pipeline([(\"expand features\", feature_expansion), \n",
                "                 (\"replace -7 with -8\", SimpleImputer(missing_values=-7, strategy='constant', fill_value=-8)),\n",
                "                 (\"replace -8 with mean\", SimpleImputer(missing_values=-8, strategy='mean'))])\n",
                "\n",
                "arr1_transformed = pipe_example.fit_transform(df1)\n",
                "arr1_transformed"
            ]
        },
        {
            "cell_type": "markdown",
            "metadata": {
                "nbgrader": {
                    "grade": false,
                    "grade_id": "cell-c1727224713e75a6",
                    "locked": true,
                    "schema_version": 3,
                    "solution": false,
                    "task": false
                },
                "editable": false,
                "deletable": false
            },
            "source": [
                "* do_nothing_imputer: transformer that returns the exact input\n",
                "* feature_expansion: a transformer that copies its input 3 times and send each copy to the transformers \"do nothing\", \"add features for -7\", and \"add features for -8\"\n",
                "* pipe: a transformer that first applies \"feature_expansion\" (defined earlier), then applies \"replace -7 with -8\", and finally applies \"replace -8 with mean\". \n",
                "* when we run pipe_example.fit_transform(df1) we perform the transformations in pipe_example on the values in df1\n",
                "* we store the transformed values in `arr1_transformed`\n",
                "\n",
                "\n",
                "Below is the code that produces the column names of the transformed data matrix:"
            ]
        },
        {
            "cell_type": "code",
            "execution_count": 60,
            "metadata": {
                "nbgrader": {
                    "grade": false,
                    "grade_id": "cell-8d75ae26af1310ea",
                    "locked": true,
                    "schema_version": 3,
                    "solution": false,
                    "task": false
                },
                "editable": false,
                "deletable": false
            },
            "outputs": [
                {
                    "output_type": "execute_result",
                    "data": {
                        "text/plain": [
                            "['A', 'B', 'C', 'A=-7', 'C=-7', 'A=-8']"
                        ]
                    },
                    "metadata": {},
                    "execution_count": 60
                }
            ],
            "source": [
                "col_names_minus_7 = df1.columns.values[minus_7_indicator_transformer.features_].tolist() \n",
                "col_names_minus_7 = list(map(lambda s:str(s)+'=-7',col_names_minus_7)) \n",
                "col_names_minus_8 = df1.columns.values[minus_8_indicator_transformer.features_].tolist() \n",
                "col_names_minus_8 = list(map(lambda s:str(s)+'=-8',col_names_minus_8))\n",
                "columns_all = df1.columns.values.tolist() + col_names_minus_7 + col_names_minus_8\n",
                "columns_all"
            ]
        },
        {
            "cell_type": "markdown",
            "metadata": {
                "nbgrader": {
                    "grade": false,
                    "grade_id": "cell-5eb280b9434b9574",
                    "locked": true,
                    "schema_version": 3,
                    "solution": false,
                    "task": false
                },
                "editable": false,
                "deletable": false
            },
            "source": [
                "And finally, we combine the transformed matrix with the column names."
            ]
        },
        {
            "cell_type": "code",
            "execution_count": 61,
            "metadata": {
                "nbgrader": {
                    "grade": false,
                    "grade_id": "cell-82c0da0d438c4307",
                    "locked": true,
                    "schema_version": 3,
                    "solution": false,
                    "task": false
                },
                "editable": false,
                "deletable": false
            },
            "outputs": [
                {
                    "output_type": "execute_result",
                    "data": {
                        "text/plain": [
                            "      A     B     C  A=-7  C=-7  A=-8\n",
                            "0   7.0   1.0   2.0   1.0   0.0   0.0\n",
                            "1   4.0   0.0  16.0   0.0   1.0   0.0\n",
                            "2   7.0   1.0  16.0   0.0   1.0   1.0\n",
                            "3  10.0  20.0  30.0   0.0   0.0   0.0"
                        ],
                        "text/html": "<div>\n<style scoped>\n    .dataframe tbody tr th:only-of-type {\n        vertical-align: middle;\n    }\n\n    .dataframe tbody tr th {\n        vertical-align: top;\n    }\n\n    .dataframe thead th {\n        text-align: right;\n    }\n</style>\n<table border=\"1\" class=\"dataframe\">\n  <thead>\n    <tr style=\"text-align: right;\">\n      <th></th>\n      <th>A</th>\n      <th>B</th>\n      <th>C</th>\n      <th>A=-7</th>\n      <th>C=-7</th>\n      <th>A=-8</th>\n    </tr>\n  </thead>\n  <tbody>\n    <tr>\n      <th>0</th>\n      <td>7.0</td>\n      <td>1.0</td>\n      <td>2.0</td>\n      <td>1.0</td>\n      <td>0.0</td>\n      <td>0.0</td>\n    </tr>\n    <tr>\n      <th>1</th>\n      <td>4.0</td>\n      <td>0.0</td>\n      <td>16.0</td>\n      <td>0.0</td>\n      <td>1.0</td>\n      <td>0.0</td>\n    </tr>\n    <tr>\n      <th>2</th>\n      <td>7.0</td>\n      <td>1.0</td>\n      <td>16.0</td>\n      <td>0.0</td>\n      <td>1.0</td>\n      <td>1.0</td>\n    </tr>\n    <tr>\n      <th>3</th>\n      <td>10.0</td>\n      <td>20.0</td>\n      <td>30.0</td>\n      <td>0.0</td>\n      <td>0.0</td>\n      <td>0.0</td>\n    </tr>\n  </tbody>\n</table>\n</div>"
                    },
                    "metadata": {},
                    "execution_count": 61
                }
            ],
            "source": [
                "df1_t = pd.DataFrame(arr1_transformed, columns=columns_all)\n",
                "df1_t"
            ]
        },
        {
            "cell_type": "markdown",
            "metadata": {
                "nbgrader": {
                    "grade": false,
                    "grade_id": "cell-2607a5423fde499d",
                    "locked": true,
                    "schema_version": 3,
                    "solution": false,
                    "task": false
                },
                "editable": false,
                "deletable": false
            },
            "source": [
                "### (q4)\n",
                "\n",
                "Similarly to the example above, assign to the variable `pipeline` a pipeline that extends `X_train` with binary variables that indicate missing values of -7 and -8 in each of the columns, and replaces the missing values with the average value in each column. Then apply it to transform our training data `X_train` into the array `arr_X_train_t`."
            ]
        },
        {
            "cell_type": "code",
            "execution_count": 62,
            "metadata": {
                "nbgrader": {
                    "grade": false,
                    "grade_id": "cell-1984a0c61e31c6cc",
                    "locked": false,
                    "schema_version": 3,
                    "solution": true,
                    "task": false
                }
            },
            "outputs": [],
            "source": [
                "pipeline = \"replace this string with your answer\"\n",
                "arr_X_train_t = \"replace this string with your answer\"\n",
                "\n",
                "#create a pipeline\n",
                "pipeline = Pipeline([(\"expand features\", feature_expansion), \n",
                "                 (\"replace -7 with -8\", SimpleImputer(missing_values=-7, strategy='constant', fill_value=-8)),\n",
                "                 (\"replace -8 with mean\", SimpleImputer(missing_values=-8, strategy='mean'))])\n",
                "\n",
                "#replace missing values\n",
                "arr_X_train_t = pipeline.fit_transform(X_train)\n"
            ]
        },
        {
            "cell_type": "code",
            "execution_count": 63,
            "metadata": {
                "nbgrader": {
                    "grade": true,
                    "grade_id": "q4a",
                    "locked": true,
                    "points": 10,
                    "schema_version": 3,
                    "solution": false,
                    "task": false
                },
                "editable": false,
                "deletable": false
            },
            "outputs": [],
            "source": [
                "### BEGIN TEST\n",
                "assert(arr_X_train_t.shape == ANSWER_KEY['arr_X_train_t'].shape), 'test if the dimensions of arr_X_train_t are correct'\n",
                "assert(np.isclose(ANSWER_KEY['arr_X_train_t'], arr_X_train_t, rtol=0, atol=0.01).all()), 'testing arr_X_train_t'\n",
                "### END TEST"
            ]
        },
        {
            "cell_type": "code",
            "execution_count": 64,
            "metadata": {
                "nbgrader": {
                    "grade": false,
                    "grade_id": "cell-b02680cbf9d22b9a",
                    "locked": true,
                    "schema_version": 3,
                    "solution": false,
                    "task": false
                },
                "editable": false,
                "deletable": false
            },
            "outputs": [
                {
                    "output_type": "stream",
                    "name": "stdout",
                    "text": [
                        "The dimensions of X_train: (7888, 23)\nThe dimensions of the transformed X_train: (7888, 34)\n"
                    ]
                }
            ],
            "source": [
                "print('The dimensions of X_train:',X_train.shape)\n",
                "print('The dimensions of the transformed X_train:',ANSWER_KEY['arr_X_train_t'].shape)"
            ]
        },
        {
            "cell_type": "markdown",
            "metadata": {
                "nbgrader": {
                    "grade": false,
                    "grade_id": "cell-a1e2eece767ab155",
                    "locked": true,
                    "schema_version": 3,
                    "solution": false,
                    "task": false
                },
                "editable": false,
                "deletable": false
            },
            "source": [
                "Observe that our transformation did not change the number of rows (observations), only the number of features."
            ]
        },
        {
            "cell_type": "markdown",
            "metadata": {
                "nbgrader": {
                    "grade": false,
                    "grade_id": "cell-45eee1d01d58aada",
                    "locked": true,
                    "schema_version": 3,
                    "solution": false,
                    "task": false
                },
                "editable": false,
                "deletable": false
            },
            "source": [
                "Set the variable `column_names` to hold the list of column names of the transformed dataset."
            ]
        },
        {
            "cell_type": "code",
            "execution_count": 65,
            "metadata": {
                "nbgrader": {
                    "grade": false,
                    "grade_id": "cell-c4d4a9690e8d76e1",
                    "locked": false,
                    "schema_version": 3,
                    "solution": true,
                    "task": false
                }
            },
            "outputs": [
                {
                    "output_type": "execute_result",
                    "data": {
                        "text/plain": [
                            "['ExternalRiskEstimate',\n",
                            " 'MSinceOldestTradeOpen',\n",
                            " 'MSinceMostRecentTradeOpen',\n",
                            " 'AverageMInFile',\n",
                            " 'NumSatisfactoryTrades',\n",
                            " 'NumTrades60Ever2DerogPubRec',\n",
                            " 'NumTrades90Ever2DerogPubRec',\n",
                            " 'PercentTradesNeverDelq',\n",
                            " 'MSinceMostRecentDelq',\n",
                            " 'MaxDelq2PublicRecLast12M',\n",
                            " 'MaxDelqEver',\n",
                            " 'NumTotalTrades',\n",
                            " 'NumTradesOpeninLast12M',\n",
                            " 'PercentInstallTrades',\n",
                            " 'MSinceMostRecentInqexcl7days',\n",
                            " 'NumInqLast6M',\n",
                            " 'NumInqLast6Mexcl7days',\n",
                            " 'NetFractionRevolvingBurden',\n",
                            " 'NetFractionInstallBurden',\n",
                            " 'NumRevolvingTradesWBalance',\n",
                            " 'NumInstallTradesWBalance',\n",
                            " 'NumBank2NatlTradesWHighUtilization',\n",
                            " 'PercentTradesWBalance',\n",
                            " 'MSinceMostRecentDelq=-7',\n",
                            " 'MSinceMostRecentInqexcl7days=-7',\n",
                            " 'MSinceOldestTradeOpen=-8',\n",
                            " 'MSinceMostRecentDelq=-8',\n",
                            " 'MSinceMostRecentInqexcl7days=-8',\n",
                            " 'NetFractionRevolvingBurden=-8',\n",
                            " 'NetFractionInstallBurden=-8',\n",
                            " 'NumRevolvingTradesWBalance=-8',\n",
                            " 'NumInstallTradesWBalance=-8',\n",
                            " 'NumBank2NatlTradesWHighUtilization=-8',\n",
                            " 'PercentTradesWBalance=-8']"
                        ]
                    },
                    "metadata": {},
                    "execution_count": 65
                }
            ],
            "source": [
                "column_names = \"replace this string with your answer\"\n",
                "\n",
                "#get transform information\n",
                "trans_minus_7 = minus_7_indicator_transformer.fit_transform(X_train)\n",
                "trans_minus_8 = minus_8_indicator_transformer.fit_transform(X_train)\n",
                "\n",
                "#assign new column names\n",
                "col_names_minus_7 = X_train.columns.values[minus_7_indicator_transformer.features_].tolist() \n",
                "col_names_minus_7 = list(map(lambda s:str(s)+'=-7',col_names_minus_7)) \n",
                "col_names_minus_8 = X_train.columns.values[minus_8_indicator_transformer.features_].tolist() \n",
                "col_names_minus_8 = list(map(lambda s:str(s)+'=-8',col_names_minus_8))\n",
                "\n",
                "#hold column names\n",
                "column_names = X_train.columns.values.tolist() + col_names_minus_7 + col_names_minus_8\n",
                "column_names"
            ]
        },
        {
            "cell_type": "code",
            "execution_count": 66,
            "metadata": {
                "nbgrader": {
                    "grade": false,
                    "grade_id": "cell-2ca901030c5fd5f3",
                    "locked": true,
                    "schema_version": 3,
                    "solution": false,
                    "task": false
                },
                "scrolled": true,
                "editable": false,
                "deletable": false
            },
            "outputs": [
                {
                    "output_type": "execute_result",
                    "data": {
                        "text/plain": [
                            "['ExternalRiskEstimate',\n",
                            " 'MSinceOldestTradeOpen',\n",
                            " 'MSinceMostRecentTradeOpen',\n",
                            " 'AverageMInFile',\n",
                            " 'NumSatisfactoryTrades',\n",
                            " 'NumTrades60Ever2DerogPubRec',\n",
                            " 'NumTrades90Ever2DerogPubRec',\n",
                            " 'PercentTradesNeverDelq',\n",
                            " 'MSinceMostRecentDelq',\n",
                            " 'MaxDelq2PublicRecLast12M',\n",
                            " 'MaxDelqEver',\n",
                            " 'NumTotalTrades',\n",
                            " 'NumTradesOpeninLast12M',\n",
                            " 'PercentInstallTrades',\n",
                            " 'MSinceMostRecentInqexcl7days',\n",
                            " 'NumInqLast6M',\n",
                            " 'NumInqLast6Mexcl7days',\n",
                            " 'NetFractionRevolvingBurden',\n",
                            " 'NetFractionInstallBurden',\n",
                            " 'NumRevolvingTradesWBalance',\n",
                            " 'NumInstallTradesWBalance',\n",
                            " 'NumBank2NatlTradesWHighUtilization',\n",
                            " 'PercentTradesWBalance',\n",
                            " 'MSinceMostRecentDelq=-7',\n",
                            " 'MSinceMostRecentInqexcl7days=-7',\n",
                            " 'MSinceOldestTradeOpen=-8',\n",
                            " 'MSinceMostRecentDelq=-8',\n",
                            " 'MSinceMostRecentInqexcl7days=-8',\n",
                            " 'NetFractionRevolvingBurden=-8',\n",
                            " 'NetFractionInstallBurden=-8',\n",
                            " 'NumRevolvingTradesWBalance=-8',\n",
                            " 'NumInstallTradesWBalance=-8',\n",
                            " 'NumBank2NatlTradesWHighUtilization=-8',\n",
                            " 'PercentTradesWBalance=-8']"
                        ]
                    },
                    "metadata": {},
                    "execution_count": 66
                }
            ],
            "source": [
                "# expected output\n",
                "ANSWER_KEY['column_names']"
            ]
        },
        {
            "cell_type": "code",
            "execution_count": 67,
            "metadata": {
                "nbgrader": {
                    "grade": true,
                    "grade_id": "q4b",
                    "locked": true,
                    "points": 5,
                    "schema_version": 3,
                    "solution": false,
                    "task": false
                },
                "editable": false,
                "deletable": false
            },
            "outputs": [],
            "source": [
                "### BEGIN TEST\n",
                "assert(ANSWER_KEY['column_names'] == column_names), 'test column_names'\n",
                "### END TEST"
            ]
        },
        {
            "cell_type": "markdown",
            "metadata": {
                "nbgrader": {
                    "grade": false,
                    "grade_id": "cell-a06e77058f5a32c7",
                    "locked": true,
                    "schema_version": 3,
                    "solution": false,
                    "task": false
                },
                "editable": false,
                "deletable": false
            },
            "source": [
                "Set the variable `X_train_t` to the dataframe holding the transformed data (similar to arr_X_train_t only with the appropriate column names)."
            ]
        },
        {
            "cell_type": "code",
            "execution_count": 68,
            "metadata": {
                "nbgrader": {
                    "grade": false,
                    "grade_id": "cell-6e6823b87f0353c4",
                    "locked": false,
                    "schema_version": 3,
                    "solution": true,
                    "task": false
                }
            },
            "outputs": [],
            "source": [
                "X_train_t = \"replace this string with your answer\"\n",
                "\n",
                "#transform to dataframe\n",
                "X_train_t = pd.DataFrame(arr_X_train_t,columns=column_names)\n"
            ]
        },
        {
            "cell_type": "code",
            "execution_count": 69,
            "metadata": {
                "nbgrader": {
                    "grade": true,
                    "grade_id": "q4c",
                    "locked": true,
                    "points": 3,
                    "schema_version": 3,
                    "solution": false,
                    "task": false
                },
                "editable": false,
                "deletable": false
            },
            "outputs": [],
            "source": [
                "### BEGIN TEST (DO NOT REMOVE CELL)\n",
                "sol = ANSWER_KEY['X_train_t']\n",
                "diff = sol.compare(X_train_t)\n",
                "assert(len(diff)==0), 'testing X_train_t'\n",
                "### END TEST "
            ]
        },
        {
            "cell_type": "markdown",
            "metadata": {
                "nbgrader": {
                    "grade": false,
                    "grade_id": "cell-c8f684bd0d560b78",
                    "locked": true,
                    "schema_version": 3,
                    "solution": false,
                    "task": false
                },
                "editable": false,
                "deletable": false
            },
            "source": [
                "Let's look at the transformed dataset"
            ]
        },
        {
            "cell_type": "code",
            "execution_count": 70,
            "metadata": {
                "nbgrader": {
                    "grade": false,
                    "grade_id": "cell-2c5758fda5efc03b",
                    "locked": true,
                    "schema_version": 3,
                    "solution": false,
                    "task": false
                },
                "editable": false,
                "deletable": false
            },
            "outputs": [
                {
                    "output_type": "execute_result",
                    "data": {
                        "text/plain": [
                            "       ExternalRiskEstimate  MSinceOldestTradeOpen  MSinceMostRecentTradeOpen  \\\n",
                            "count           7888.000000            7888.000000                7888.000000   \n",
                            "mean              72.012170             201.111198                   9.539300   \n",
                            "std                9.896349              96.794766                  12.498854   \n",
                            "min               34.000000               2.000000                   0.000000   \n",
                            "25%               64.000000             137.000000                   3.000000   \n",
                            "50%               72.000000             188.000000                   6.000000   \n",
                            "75%               80.000000             255.000000                  12.000000   \n",
                            "max               94.000000             803.000000                 227.000000   \n",
                            "\n",
                            "       AverageMInFile  NumSatisfactoryTrades  NumTrades60Ever2DerogPubRec  \\\n",
                            "count     7888.000000            7888.000000                  7888.000000   \n",
                            "mean        78.839630              21.197008                     0.585446   \n",
                            "std         33.845501              11.349714                     1.234844   \n",
                            "min          4.000000               0.000000                     0.000000   \n",
                            "25%         57.000000              13.000000                     0.000000   \n",
                            "50%         76.000000              20.000000                     0.000000   \n",
                            "75%         96.000000              28.000000                     1.000000   \n",
                            "max        322.000000              79.000000                    19.000000   \n",
                            "\n",
                            "       NumTrades90Ever2DerogPubRec  PercentTradesNeverDelq  \\\n",
                            "count                  7888.000000             7888.000000   \n",
                            "mean                      0.386029               92.263058   \n",
                            "std                       0.985603               11.982475   \n",
                            "min                       0.000000                0.000000   \n",
                            "25%                       0.000000               89.000000   \n",
                            "50%                       0.000000               97.000000   \n",
                            "75%                       0.000000              100.000000   \n",
                            "max                      19.000000              100.000000   \n",
                            "\n",
                            "       MSinceMostRecentDelq  MaxDelq2PublicRecLast12M  ...  \\\n",
                            "count           7888.000000               7888.000000  ...   \n",
                            "mean              21.751675                  5.749366  ...   \n",
                            "std               14.729127                  1.657175  ...   \n",
                            "min                0.000000                  0.000000  ...   \n",
                            "25%               14.000000                  5.000000  ...   \n",
                            "50%               21.751675                  6.000000  ...   \n",
                            "75%               21.751675                  7.000000  ...   \n",
                            "max               83.000000                  9.000000  ...   \n",
                            "\n",
                            "       MSinceMostRecentInqexcl7days=-7  MSinceOldestTradeOpen=-8  \\\n",
                            "count                      7888.000000               7888.000000   \n",
                            "mean                          0.185345                  0.025228   \n",
                            "std                           0.388602                  0.156827   \n",
                            "min                           0.000000                  0.000000   \n",
                            "25%                           0.000000                  0.000000   \n",
                            "50%                           0.000000                  0.000000   \n",
                            "75%                           0.000000                  0.000000   \n",
                            "max                           1.000000                  1.000000   \n",
                            "\n",
                            "       MSinceMostRecentDelq=-8  MSinceMostRecentInqexcl7days=-8  \\\n",
                            "count              7888.000000                      7888.000000   \n",
                            "mean                  0.016481                         0.047033   \n",
                            "std                   0.127323                         0.211724   \n",
                            "min                   0.000000                         0.000000   \n",
                            "25%                   0.000000                         0.000000   \n",
                            "50%                   0.000000                         0.000000   \n",
                            "75%                   0.000000                         0.000000   \n",
                            "max                   1.000000                         1.000000   \n",
                            "\n",
                            "       NetFractionRevolvingBurden=-8  NetFractionInstallBurden=-8  \\\n",
                            "count                    7888.000000                  7888.000000   \n",
                            "mean                        0.018002                     0.347490   \n",
                            "std                         0.132967                     0.476203   \n",
                            "min                         0.000000                     0.000000   \n",
                            "25%                         0.000000                     0.000000   \n",
                            "50%                         0.000000                     0.000000   \n",
                            "75%                         0.000000                     1.000000   \n",
                            "max                         1.000000                     1.000000   \n",
                            "\n",
                            "       NumRevolvingTradesWBalance=-8  NumInstallTradesWBalance=-8  \\\n",
                            "count                    7888.000000                  7888.000000   \n",
                            "mean                        0.015467                     0.086968   \n",
                            "std                         0.123407                     0.281805   \n",
                            "min                         0.000000                     0.000000   \n",
                            "25%                         0.000000                     0.000000   \n",
                            "50%                         0.000000                     0.000000   \n",
                            "75%                         0.000000                     0.000000   \n",
                            "max                         1.000000                     1.000000   \n",
                            "\n",
                            "       NumBank2NatlTradesWHighUtilization=-8  PercentTradesWBalance=-8  \n",
                            "count                            7888.000000               7888.000000  \n",
                            "mean                                0.059077                  0.000887  \n",
                            "std                                 0.235784                  0.029778  \n",
                            "min                                 0.000000                  0.000000  \n",
                            "25%                                 0.000000                  0.000000  \n",
                            "50%                                 0.000000                  0.000000  \n",
                            "75%                                 0.000000                  0.000000  \n",
                            "max                                 1.000000                  1.000000  \n",
                            "\n",
                            "[8 rows x 34 columns]"
                        ],
                        "text/html": "<div>\n<style scoped>\n    .dataframe tbody tr th:only-of-type {\n        vertical-align: middle;\n    }\n\n    .dataframe tbody tr th {\n        vertical-align: top;\n    }\n\n    .dataframe thead th {\n        text-align: right;\n    }\n</style>\n<table border=\"1\" class=\"dataframe\">\n  <thead>\n    <tr style=\"text-align: right;\">\n      <th></th>\n      <th>ExternalRiskEstimate</th>\n      <th>MSinceOldestTradeOpen</th>\n      <th>MSinceMostRecentTradeOpen</th>\n      <th>AverageMInFile</th>\n      <th>NumSatisfactoryTrades</th>\n      <th>NumTrades60Ever2DerogPubRec</th>\n      <th>NumTrades90Ever2DerogPubRec</th>\n      <th>PercentTradesNeverDelq</th>\n      <th>MSinceMostRecentDelq</th>\n      <th>MaxDelq2PublicRecLast12M</th>\n      <th>...</th>\n      <th>MSinceMostRecentInqexcl7days=-7</th>\n      <th>MSinceOldestTradeOpen=-8</th>\n      <th>MSinceMostRecentDelq=-8</th>\n      <th>MSinceMostRecentInqexcl7days=-8</th>\n      <th>NetFractionRevolvingBurden=-8</th>\n      <th>NetFractionInstallBurden=-8</th>\n      <th>NumRevolvingTradesWBalance=-8</th>\n      <th>NumInstallTradesWBalance=-8</th>\n      <th>NumBank2NatlTradesWHighUtilization=-8</th>\n      <th>PercentTradesWBalance=-8</th>\n    </tr>\n  </thead>\n  <tbody>\n    <tr>\n      <th>count</th>\n      <td>7888.000000</td>\n      <td>7888.000000</td>\n      <td>7888.000000</td>\n      <td>7888.000000</td>\n      <td>7888.000000</td>\n      <td>7888.000000</td>\n      <td>7888.000000</td>\n      <td>7888.000000</td>\n      <td>7888.000000</td>\n      <td>7888.000000</td>\n      <td>...</td>\n      <td>7888.000000</td>\n      <td>7888.000000</td>\n      <td>7888.000000</td>\n      <td>7888.000000</td>\n      <td>7888.000000</td>\n      <td>7888.000000</td>\n      <td>7888.000000</td>\n      <td>7888.000000</td>\n      <td>7888.000000</td>\n      <td>7888.000000</td>\n    </tr>\n    <tr>\n      <th>mean</th>\n      <td>72.012170</td>\n      <td>201.111198</td>\n      <td>9.539300</td>\n      <td>78.839630</td>\n      <td>21.197008</td>\n      <td>0.585446</td>\n      <td>0.386029</td>\n      <td>92.263058</td>\n      <td>21.751675</td>\n      <td>5.749366</td>\n      <td>...</td>\n      <td>0.185345</td>\n      <td>0.025228</td>\n      <td>0.016481</td>\n      <td>0.047033</td>\n      <td>0.018002</td>\n      <td>0.347490</td>\n      <td>0.015467</td>\n      <td>0.086968</td>\n      <td>0.059077</td>\n      <td>0.000887</td>\n    </tr>\n    <tr>\n      <th>std</th>\n      <td>9.896349</td>\n      <td>96.794766</td>\n      <td>12.498854</td>\n      <td>33.845501</td>\n      <td>11.349714</td>\n      <td>1.234844</td>\n      <td>0.985603</td>\n      <td>11.982475</td>\n      <td>14.729127</td>\n      <td>1.657175</td>\n      <td>...</td>\n      <td>0.388602</td>\n      <td>0.156827</td>\n      <td>0.127323</td>\n      <td>0.211724</td>\n      <td>0.132967</td>\n      <td>0.476203</td>\n      <td>0.123407</td>\n      <td>0.281805</td>\n      <td>0.235784</td>\n      <td>0.029778</td>\n    </tr>\n    <tr>\n      <th>min</th>\n      <td>34.000000</td>\n      <td>2.000000</td>\n      <td>0.000000</td>\n      <td>4.000000</td>\n      <td>0.000000</td>\n      <td>0.000000</td>\n      <td>0.000000</td>\n      <td>0.000000</td>\n      <td>0.000000</td>\n      <td>0.000000</td>\n      <td>...</td>\n      <td>0.000000</td>\n      <td>0.000000</td>\n      <td>0.000000</td>\n      <td>0.000000</td>\n      <td>0.000000</td>\n      <td>0.000000</td>\n      <td>0.000000</td>\n      <td>0.000000</td>\n      <td>0.000000</td>\n      <td>0.000000</td>\n    </tr>\n    <tr>\n      <th>25%</th>\n      <td>64.000000</td>\n      <td>137.000000</td>\n      <td>3.000000</td>\n      <td>57.000000</td>\n      <td>13.000000</td>\n      <td>0.000000</td>\n      <td>0.000000</td>\n      <td>89.000000</td>\n      <td>14.000000</td>\n      <td>5.000000</td>\n      <td>...</td>\n      <td>0.000000</td>\n      <td>0.000000</td>\n      <td>0.000000</td>\n      <td>0.000000</td>\n      <td>0.000000</td>\n      <td>0.000000</td>\n      <td>0.000000</td>\n      <td>0.000000</td>\n      <td>0.000000</td>\n      <td>0.000000</td>\n    </tr>\n    <tr>\n      <th>50%</th>\n      <td>72.000000</td>\n      <td>188.000000</td>\n      <td>6.000000</td>\n      <td>76.000000</td>\n      <td>20.000000</td>\n      <td>0.000000</td>\n      <td>0.000000</td>\n      <td>97.000000</td>\n      <td>21.751675</td>\n      <td>6.000000</td>\n      <td>...</td>\n      <td>0.000000</td>\n      <td>0.000000</td>\n      <td>0.000000</td>\n      <td>0.000000</td>\n      <td>0.000000</td>\n      <td>0.000000</td>\n      <td>0.000000</td>\n      <td>0.000000</td>\n      <td>0.000000</td>\n      <td>0.000000</td>\n    </tr>\n    <tr>\n      <th>75%</th>\n      <td>80.000000</td>\n      <td>255.000000</td>\n      <td>12.000000</td>\n      <td>96.000000</td>\n      <td>28.000000</td>\n      <td>1.000000</td>\n      <td>0.000000</td>\n      <td>100.000000</td>\n      <td>21.751675</td>\n      <td>7.000000</td>\n      <td>...</td>\n      <td>0.000000</td>\n      <td>0.000000</td>\n      <td>0.000000</td>\n      <td>0.000000</td>\n      <td>0.000000</td>\n      <td>1.000000</td>\n      <td>0.000000</td>\n      <td>0.000000</td>\n      <td>0.000000</td>\n      <td>0.000000</td>\n    </tr>\n    <tr>\n      <th>max</th>\n      <td>94.000000</td>\n      <td>803.000000</td>\n      <td>227.000000</td>\n      <td>322.000000</td>\n      <td>79.000000</td>\n      <td>19.000000</td>\n      <td>19.000000</td>\n      <td>100.000000</td>\n      <td>83.000000</td>\n      <td>9.000000</td>\n      <td>...</td>\n      <td>1.000000</td>\n      <td>1.000000</td>\n      <td>1.000000</td>\n      <td>1.000000</td>\n      <td>1.000000</td>\n      <td>1.000000</td>\n      <td>1.000000</td>\n      <td>1.000000</td>\n      <td>1.000000</td>\n      <td>1.000000</td>\n    </tr>\n  </tbody>\n</table>\n<p>8 rows × 34 columns</p>\n</div>"
                    },
                    "metadata": {},
                    "execution_count": 70
                }
            ],
            "source": [
                "ANSWER_KEY['X_train_t'].describe()"
            ]
        },
        {
            "cell_type": "markdown",
            "metadata": {
                "nbgrader": {
                    "grade": false,
                    "grade_id": "cell-c455c8395a44e21e",
                    "locked": true,
                    "schema_version": 3,
                    "solution": false,
                    "task": false
                },
                "editable": false,
                "deletable": false
            },
            "source": [
                "We observe that \n",
                "* there are now 34 features (versus the original 23)\n",
                "* Missing values were transformed (the minimal value in each column is no longer -7 or -8)"
            ]
        },
        {
            "cell_type": "markdown",
            "metadata": {
                "nbgrader": {
                    "grade": false,
                    "grade_id": "cell-42dc26f969976da3",
                    "locked": true,
                    "schema_version": 3,
                    "solution": false,
                    "task": false
                },
                "editable": false,
                "deletable": false
            },
            "source": [
                "We can conveniently see the list of features using the function `.info()`"
            ]
        },
        {
            "cell_type": "code",
            "execution_count": 71,
            "metadata": {
                "nbgrader": {
                    "grade": false,
                    "grade_id": "cell-91f931d6c3ed8a24",
                    "locked": true,
                    "schema_version": 3,
                    "solution": false,
                    "task": false
                },
                "editable": false,
                "deletable": false
            },
            "outputs": [
                {
                    "output_type": "stream",
                    "name": "stdout",
                    "text": [
                        "<class 'pandas.core.frame.DataFrame'>\nRangeIndex: 7888 entries, 0 to 7887\nData columns (total 34 columns):\n #   Column                                 Non-Null Count  Dtype  \n---  ------                                 --------------  -----  \n 0   ExternalRiskEstimate                   7888 non-null   float64\n 1   MSinceOldestTradeOpen                  7888 non-null   float64\n 2   MSinceMostRecentTradeOpen              7888 non-null   float64\n 3   AverageMInFile                         7888 non-null   float64\n 4   NumSatisfactoryTrades                  7888 non-null   float64\n 5   NumTrades60Ever2DerogPubRec            7888 non-null   float64\n 6   NumTrades90Ever2DerogPubRec            7888 non-null   float64\n 7   PercentTradesNeverDelq                 7888 non-null   float64\n 8   MSinceMostRecentDelq                   7888 non-null   float64\n 9   MaxDelq2PublicRecLast12M               7888 non-null   float64\n 10  MaxDelqEver                            7888 non-null   float64\n 11  NumTotalTrades                         7888 non-null   float64\n 12  NumTradesOpeninLast12M                 7888 non-null   float64\n 13  PercentInstallTrades                   7888 non-null   float64\n 14  MSinceMostRecentInqexcl7days           7888 non-null   float64\n 15  NumInqLast6M                           7888 non-null   float64\n 16  NumInqLast6Mexcl7days                  7888 non-null   float64\n 17  NetFractionRevolvingBurden             7888 non-null   float64\n 18  NetFractionInstallBurden               7888 non-null   float64\n 19  NumRevolvingTradesWBalance             7888 non-null   float64\n 20  NumInstallTradesWBalance               7888 non-null   float64\n 21  NumBank2NatlTradesWHighUtilization     7888 non-null   float64\n 22  PercentTradesWBalance                  7888 non-null   float64\n 23  MSinceMostRecentDelq=-7                7888 non-null   float64\n 24  MSinceMostRecentInqexcl7days=-7        7888 non-null   float64\n 25  MSinceOldestTradeOpen=-8               7888 non-null   float64\n 26  MSinceMostRecentDelq=-8                7888 non-null   float64\n 27  MSinceMostRecentInqexcl7days=-8        7888 non-null   float64\n 28  NetFractionRevolvingBurden=-8          7888 non-null   float64\n 29  NetFractionInstallBurden=-8            7888 non-null   float64\n 30  NumRevolvingTradesWBalance=-8          7888 non-null   float64\n 31  NumInstallTradesWBalance=-8            7888 non-null   float64\n 32  NumBank2NatlTradesWHighUtilization=-8  7888 non-null   float64\n 33  PercentTradesWBalance=-8               7888 non-null   float64\ndtypes: float64(34)\nmemory usage: 2.0 MB\n"
                    ]
                }
            ],
            "source": [
                "X_train_t.info()"
            ]
        },
        {
            "cell_type": "markdown",
            "metadata": {
                "nbgrader": {
                    "grade": false,
                    "grade_id": "cell-bed79c59ac70bbb1",
                    "locked": true,
                    "schema_version": 3,
                    "solution": false,
                    "task": false
                },
                "editable": false,
                "deletable": false
            },
            "source": [
                "Let's stop for a second and think. Why did we create this pipeline? Why not simply use pandas function, Python for loop, etc.? \n",
                "\n",
                "The reason is that we are going to train a model on the transformed dataset. That is, the model will expect 34 features (rather than the original 23 features). What if we need to make prediction about a new observation? This new observation is likely to be formatted in the original features space (from which there are 23 features). We must therefore transform it before making prediction. If we do it in pandas and Python, we need to duplicate the entire transformation code to do just that. \n",
                "\n",
                "This is how we do it in scikit-learn once we define pipelines. Suppose that our new data consists of observations 3 and 7 in the test set."
            ]
        },
        {
            "cell_type": "code",
            "execution_count": 72,
            "metadata": {
                "nbgrader": {
                    "grade": false,
                    "grade_id": "cell-8ba4867de83a6389",
                    "locked": true,
                    "schema_version": 3,
                    "solution": false,
                    "task": false
                },
                "editable": false,
                "deletable": false
            },
            "outputs": [
                {
                    "output_type": "execute_result",
                    "data": {
                        "text/plain": [
                            "      ExternalRiskEstimate  MSinceOldestTradeOpen  MSinceMostRecentTradeOpen  \\\n",
                            "5880                    73                    445                         15   \n",
                            "8533                    60                    198                         19   \n",
                            "\n",
                            "      AverageMInFile  NumSatisfactoryTrades  NumTrades60Ever2DerogPubRec  \\\n",
                            "5880             125                     12                            0   \n",
                            "8533              57                     19                            0   \n",
                            "\n",
                            "      NumTrades90Ever2DerogPubRec  PercentTradesNeverDelq  \\\n",
                            "5880                            0                      83   \n",
                            "8533                            0                      90   \n",
                            "\n",
                            "      MSinceMostRecentDelq  MaxDelq2PublicRecLast12M  ...  \\\n",
                            "5880                    21                         6  ...   \n",
                            "8533                     6                         4  ...   \n",
                            "\n",
                            "      PercentInstallTrades  MSinceMostRecentInqexcl7days  NumInqLast6M  \\\n",
                            "5880                    42                             0             1   \n",
                            "8533                    62                            -7             0   \n",
                            "\n",
                            "      NumInqLast6Mexcl7days  NetFractionRevolvingBurden  \\\n",
                            "5880                      1                          55   \n",
                            "8533                      0                          71   \n",
                            "\n",
                            "      NetFractionInstallBurden  NumRevolvingTradesWBalance  \\\n",
                            "5880                        -8                           4   \n",
                            "8533                        71                           6   \n",
                            "\n",
                            "      NumInstallTradesWBalance  NumBank2NatlTradesWHighUtilization  \\\n",
                            "5880                         1                                   1   \n",
                            "8533                         3                                   1   \n",
                            "\n",
                            "      PercentTradesWBalance  \n",
                            "5880                    100  \n",
                            "8533                    100  \n",
                            "\n",
                            "[2 rows x 23 columns]"
                        ],
                        "text/html": "<div>\n<style scoped>\n    .dataframe tbody tr th:only-of-type {\n        vertical-align: middle;\n    }\n\n    .dataframe tbody tr th {\n        vertical-align: top;\n    }\n\n    .dataframe thead th {\n        text-align: right;\n    }\n</style>\n<table border=\"1\" class=\"dataframe\">\n  <thead>\n    <tr style=\"text-align: right;\">\n      <th></th>\n      <th>ExternalRiskEstimate</th>\n      <th>MSinceOldestTradeOpen</th>\n      <th>MSinceMostRecentTradeOpen</th>\n      <th>AverageMInFile</th>\n      <th>NumSatisfactoryTrades</th>\n      <th>NumTrades60Ever2DerogPubRec</th>\n      <th>NumTrades90Ever2DerogPubRec</th>\n      <th>PercentTradesNeverDelq</th>\n      <th>MSinceMostRecentDelq</th>\n      <th>MaxDelq2PublicRecLast12M</th>\n      <th>...</th>\n      <th>PercentInstallTrades</th>\n      <th>MSinceMostRecentInqexcl7days</th>\n      <th>NumInqLast6M</th>\n      <th>NumInqLast6Mexcl7days</th>\n      <th>NetFractionRevolvingBurden</th>\n      <th>NetFractionInstallBurden</th>\n      <th>NumRevolvingTradesWBalance</th>\n      <th>NumInstallTradesWBalance</th>\n      <th>NumBank2NatlTradesWHighUtilization</th>\n      <th>PercentTradesWBalance</th>\n    </tr>\n  </thead>\n  <tbody>\n    <tr>\n      <th>5880</th>\n      <td>73</td>\n      <td>445</td>\n      <td>15</td>\n      <td>125</td>\n      <td>12</td>\n      <td>0</td>\n      <td>0</td>\n      <td>83</td>\n      <td>21</td>\n      <td>6</td>\n      <td>...</td>\n      <td>42</td>\n      <td>0</td>\n      <td>1</td>\n      <td>1</td>\n      <td>55</td>\n      <td>-8</td>\n      <td>4</td>\n      <td>1</td>\n      <td>1</td>\n      <td>100</td>\n    </tr>\n    <tr>\n      <th>8533</th>\n      <td>60</td>\n      <td>198</td>\n      <td>19</td>\n      <td>57</td>\n      <td>19</td>\n      <td>0</td>\n      <td>0</td>\n      <td>90</td>\n      <td>6</td>\n      <td>4</td>\n      <td>...</td>\n      <td>62</td>\n      <td>-7</td>\n      <td>0</td>\n      <td>0</td>\n      <td>71</td>\n      <td>71</td>\n      <td>6</td>\n      <td>3</td>\n      <td>1</td>\n      <td>100</td>\n    </tr>\n  </tbody>\n</table>\n<p>2 rows × 23 columns</p>\n</div>"
                    },
                    "metadata": {},
                    "execution_count": 72
                }
            ],
            "source": [
                "new_data =  X_test.iloc[[3,7],:]\n",
                "new_data"
            ]
        },
        {
            "cell_type": "code",
            "execution_count": 73,
            "metadata": {
                "nbgrader": {
                    "grade": false,
                    "grade_id": "cell-eacd49c4e7f8c3b1",
                    "locked": true,
                    "schema_version": 3,
                    "solution": false,
                    "task": false
                },
                "editable": false,
                "deletable": false
            },
            "outputs": [
                {
                    "output_type": "execute_result",
                    "data": {
                        "text/plain": [
                            "   ExternalRiskEstimate  MSinceOldestTradeOpen  MSinceMostRecentTradeOpen  \\\n",
                            "0                  73.0                  445.0                       15.0   \n",
                            "1                  60.0                  198.0                       19.0   \n",
                            "\n",
                            "   AverageMInFile  NumSatisfactoryTrades  NumTrades60Ever2DerogPubRec  \\\n",
                            "0           125.0                   12.0                          0.0   \n",
                            "1            57.0                   19.0                          0.0   \n",
                            "\n",
                            "   NumTrades90Ever2DerogPubRec  PercentTradesNeverDelq  MSinceMostRecentDelq  \\\n",
                            "0                          0.0                    83.0                  21.0   \n",
                            "1                          0.0                    90.0                   6.0   \n",
                            "\n",
                            "   MaxDelq2PublicRecLast12M  ...  MSinceMostRecentInqexcl7days=-7  \\\n",
                            "0                       6.0  ...                              0.0   \n",
                            "1                       4.0  ...                              1.0   \n",
                            "\n",
                            "   MSinceOldestTradeOpen=-8  MSinceMostRecentDelq=-8  \\\n",
                            "0                       0.0                      0.0   \n",
                            "1                       0.0                      0.0   \n",
                            "\n",
                            "   MSinceMostRecentInqexcl7days=-8  NetFractionRevolvingBurden=-8  \\\n",
                            "0                              0.0                            0.0   \n",
                            "1                              0.0                            0.0   \n",
                            "\n",
                            "   NetFractionInstallBurden=-8  NumRevolvingTradesWBalance=-8  \\\n",
                            "0                          1.0                            0.0   \n",
                            "1                          0.0                            0.0   \n",
                            "\n",
                            "   NumInstallTradesWBalance=-8  NumBank2NatlTradesWHighUtilization=-8  \\\n",
                            "0                          0.0                                    0.0   \n",
                            "1                          0.0                                    0.0   \n",
                            "\n",
                            "   PercentTradesWBalance=-8  \n",
                            "0                       0.0  \n",
                            "1                       0.0  \n",
                            "\n",
                            "[2 rows x 34 columns]"
                        ],
                        "text/html": "<div>\n<style scoped>\n    .dataframe tbody tr th:only-of-type {\n        vertical-align: middle;\n    }\n\n    .dataframe tbody tr th {\n        vertical-align: top;\n    }\n\n    .dataframe thead th {\n        text-align: right;\n    }\n</style>\n<table border=\"1\" class=\"dataframe\">\n  <thead>\n    <tr style=\"text-align: right;\">\n      <th></th>\n      <th>ExternalRiskEstimate</th>\n      <th>MSinceOldestTradeOpen</th>\n      <th>MSinceMostRecentTradeOpen</th>\n      <th>AverageMInFile</th>\n      <th>NumSatisfactoryTrades</th>\n      <th>NumTrades60Ever2DerogPubRec</th>\n      <th>NumTrades90Ever2DerogPubRec</th>\n      <th>PercentTradesNeverDelq</th>\n      <th>MSinceMostRecentDelq</th>\n      <th>MaxDelq2PublicRecLast12M</th>\n      <th>...</th>\n      <th>MSinceMostRecentInqexcl7days=-7</th>\n      <th>MSinceOldestTradeOpen=-8</th>\n      <th>MSinceMostRecentDelq=-8</th>\n      <th>MSinceMostRecentInqexcl7days=-8</th>\n      <th>NetFractionRevolvingBurden=-8</th>\n      <th>NetFractionInstallBurden=-8</th>\n      <th>NumRevolvingTradesWBalance=-8</th>\n      <th>NumInstallTradesWBalance=-8</th>\n      <th>NumBank2NatlTradesWHighUtilization=-8</th>\n      <th>PercentTradesWBalance=-8</th>\n    </tr>\n  </thead>\n  <tbody>\n    <tr>\n      <th>0</th>\n      <td>73.0</td>\n      <td>445.0</td>\n      <td>15.0</td>\n      <td>125.0</td>\n      <td>12.0</td>\n      <td>0.0</td>\n      <td>0.0</td>\n      <td>83.0</td>\n      <td>21.0</td>\n      <td>6.0</td>\n      <td>...</td>\n      <td>0.0</td>\n      <td>0.0</td>\n      <td>0.0</td>\n      <td>0.0</td>\n      <td>0.0</td>\n      <td>1.0</td>\n      <td>0.0</td>\n      <td>0.0</td>\n      <td>0.0</td>\n      <td>0.0</td>\n    </tr>\n    <tr>\n      <th>1</th>\n      <td>60.0</td>\n      <td>198.0</td>\n      <td>19.0</td>\n      <td>57.0</td>\n      <td>19.0</td>\n      <td>0.0</td>\n      <td>0.0</td>\n      <td>90.0</td>\n      <td>6.0</td>\n      <td>4.0</td>\n      <td>...</td>\n      <td>1.0</td>\n      <td>0.0</td>\n      <td>0.0</td>\n      <td>0.0</td>\n      <td>0.0</td>\n      <td>0.0</td>\n      <td>0.0</td>\n      <td>0.0</td>\n      <td>0.0</td>\n      <td>0.0</td>\n    </tr>\n  </tbody>\n</table>\n<p>2 rows × 34 columns</p>\n</div>"
                    },
                    "metadata": {},
                    "execution_count": 73
                }
            ],
            "source": [
                "new_data_t = pipeline.transform(new_data) # Notice that we run transform() and not fit_transform()!\n",
                "new_data_t = pd.DataFrame(new_data_t, columns=column_names)\n",
                "new_data_t"
            ]
        },
        {
            "cell_type": "markdown",
            "metadata": {
                "nbgrader": {
                    "grade": false,
                    "grade_id": "cell-ded21018bb002e17",
                    "locked": true,
                    "schema_version": 3,
                    "solution": false,
                    "task": false
                },
                "editable": false,
                "deletable": false
            },
            "source": [
                "That's all. The dataframe `new_data_t`  contains the transformed (expanded and imputed) data. This was done using 2 lines of code!"
            ]
        },
        {
            "cell_type": "markdown",
            "metadata": {
                "nbgrader": {
                    "grade": false,
                    "grade_id": "cell-ed1ab455cdd55b7e",
                    "locked": true,
                    "schema_version": 3,
                    "solution": false,
                    "task": false
                },
                "editable": false,
                "deletable": false
            },
            "source": [
                "Transform the test set `X_test` using the pipeline and create the data frame `X_test_t` which contains the transformed data and the column names. "
            ]
        },
        {
            "cell_type": "code",
            "execution_count": 74,
            "metadata": {
                "nbgrader": {
                    "grade": false,
                    "grade_id": "cell-6e6823b87f0353cx",
                    "locked": false,
                    "schema_version": 3,
                    "solution": true,
                    "task": false
                }
            },
            "outputs": [],
            "source": [
                "X_test_t = \"replace this string with your answer\"\n",
                "\n",
                "#transform new data set\n",
                "X_test_t = pd.DataFrame(pipeline.transform(X_test),columns=column_names)\n"
            ]
        },
        {
            "cell_type": "code",
            "execution_count": 75,
            "metadata": {
                "nbgrader": {
                    "grade": true,
                    "grade_id": "q4d",
                    "locked": true,
                    "points": 5,
                    "schema_version": 3,
                    "solution": false,
                    "task": false
                },
                "editable": false,
                "deletable": false
            },
            "outputs": [],
            "source": [
                "### BEGIN TEST (DO NOT REMOVE CELL)\n",
                "sol = ANSWER_KEY['X_test_t']\n",
                "diff = sol.compare(X_test_t)\n",
                "assert(len(diff)==0), 'testing X_test_t'\n",
                "### END TEST "
            ]
        },
        {
            "cell_type": "code",
            "execution_count": 76,
            "metadata": {
                "nbgrader": {
                    "grade": false,
                    "grade_id": "cell-c938062a8abf4407",
                    "locked": true,
                    "schema_version": 3,
                    "solution": false,
                    "task": false
                },
                "editable": false,
                "deletable": false
            },
            "outputs": [
                {
                    "output_type": "execute_result",
                    "data": {
                        "text/plain": [
                            "   ExternalRiskEstimate  MSinceOldestTradeOpen  MSinceMostRecentTradeOpen  \\\n",
                            "0                  70.0                  206.0                        3.0   \n",
                            "1                  42.0                  179.0                        1.0   \n",
                            "\n",
                            "   AverageMInFile  NumSatisfactoryTrades  NumTrades60Ever2DerogPubRec  \\\n",
                            "0            96.0                   18.0                          3.0   \n",
                            "1            72.0                   50.0                          9.0   \n",
                            "\n",
                            "   NumTrades90Ever2DerogPubRec  PercentTradesNeverDelq  MSinceMostRecentDelq  \\\n",
                            "0                          0.0                    59.0                  11.0   \n",
                            "1                          6.0                    69.0                   0.0   \n",
                            "\n",
                            "   MaxDelq2PublicRecLast12M  ...  MSinceMostRecentInqexcl7days=-7  \\\n",
                            "0                       4.0  ...                              0.0   \n",
                            "1                       0.0  ...                              1.0   \n",
                            "\n",
                            "   MSinceOldestTradeOpen=-8  MSinceMostRecentDelq=-8  \\\n",
                            "0                       0.0                      0.0   \n",
                            "1                       0.0                      0.0   \n",
                            "\n",
                            "   MSinceMostRecentInqexcl7days=-8  NetFractionRevolvingBurden=-8  \\\n",
                            "0                              0.0                            0.0   \n",
                            "1                              0.0                            0.0   \n",
                            "\n",
                            "   NetFractionInstallBurden=-8  NumRevolvingTradesWBalance=-8  \\\n",
                            "0                          0.0                            0.0   \n",
                            "1                          0.0                            0.0   \n",
                            "\n",
                            "   NumInstallTradesWBalance=-8  NumBank2NatlTradesWHighUtilization=-8  \\\n",
                            "0                          0.0                                    0.0   \n",
                            "1                          0.0                                    0.0   \n",
                            "\n",
                            "   PercentTradesWBalance=-8  \n",
                            "0                       0.0  \n",
                            "1                       0.0  \n",
                            "\n",
                            "[2 rows x 34 columns]"
                        ],
                        "text/html": "<div>\n<style scoped>\n    .dataframe tbody tr th:only-of-type {\n        vertical-align: middle;\n    }\n\n    .dataframe tbody tr th {\n        vertical-align: top;\n    }\n\n    .dataframe thead th {\n        text-align: right;\n    }\n</style>\n<table border=\"1\" class=\"dataframe\">\n  <thead>\n    <tr style=\"text-align: right;\">\n      <th></th>\n      <th>ExternalRiskEstimate</th>\n      <th>MSinceOldestTradeOpen</th>\n      <th>MSinceMostRecentTradeOpen</th>\n      <th>AverageMInFile</th>\n      <th>NumSatisfactoryTrades</th>\n      <th>NumTrades60Ever2DerogPubRec</th>\n      <th>NumTrades90Ever2DerogPubRec</th>\n      <th>PercentTradesNeverDelq</th>\n      <th>MSinceMostRecentDelq</th>\n      <th>MaxDelq2PublicRecLast12M</th>\n      <th>...</th>\n      <th>MSinceMostRecentInqexcl7days=-7</th>\n      <th>MSinceOldestTradeOpen=-8</th>\n      <th>MSinceMostRecentDelq=-8</th>\n      <th>MSinceMostRecentInqexcl7days=-8</th>\n      <th>NetFractionRevolvingBurden=-8</th>\n      <th>NetFractionInstallBurden=-8</th>\n      <th>NumRevolvingTradesWBalance=-8</th>\n      <th>NumInstallTradesWBalance=-8</th>\n      <th>NumBank2NatlTradesWHighUtilization=-8</th>\n      <th>PercentTradesWBalance=-8</th>\n    </tr>\n  </thead>\n  <tbody>\n    <tr>\n      <th>0</th>\n      <td>70.0</td>\n      <td>206.0</td>\n      <td>3.0</td>\n      <td>96.0</td>\n      <td>18.0</td>\n      <td>3.0</td>\n      <td>0.0</td>\n      <td>59.0</td>\n      <td>11.0</td>\n      <td>4.0</td>\n      <td>...</td>\n      <td>0.0</td>\n      <td>0.0</td>\n      <td>0.0</td>\n      <td>0.0</td>\n      <td>0.0</td>\n      <td>0.0</td>\n      <td>0.0</td>\n      <td>0.0</td>\n      <td>0.0</td>\n      <td>0.0</td>\n    </tr>\n    <tr>\n      <th>1</th>\n      <td>42.0</td>\n      <td>179.0</td>\n      <td>1.0</td>\n      <td>72.0</td>\n      <td>50.0</td>\n      <td>9.0</td>\n      <td>6.0</td>\n      <td>69.0</td>\n      <td>0.0</td>\n      <td>0.0</td>\n      <td>...</td>\n      <td>1.0</td>\n      <td>0.0</td>\n      <td>0.0</td>\n      <td>0.0</td>\n      <td>0.0</td>\n      <td>0.0</td>\n      <td>0.0</td>\n      <td>0.0</td>\n      <td>0.0</td>\n      <td>0.0</td>\n    </tr>\n  </tbody>\n</table>\n<p>2 rows × 34 columns</p>\n</div>"
                    },
                    "metadata": {},
                    "execution_count": 76
                }
            ],
            "source": [
                "# expected output\n",
                "ANSWER_KEY['X_test_t'].head(2)"
            ]
        },
        {
            "cell_type": "markdown",
            "metadata": {
                "nbgrader": {
                    "grade": false,
                    "grade_id": "cell-30384b089a087b70",
                    "locked": true,
                    "schema_version": 3,
                    "solution": false,
                    "task": false
                },
                "editable": false,
                "deletable": false
            },
            "source": [
                "If you got the answer right, you noticed the difference in applying transformers to the train and test sets\n",
                "- train: pipeline.fit_transform(X_train)\n",
                "- test: pipeline.transform(X_test)\n",
                "\n",
                "When we run `.fit()` or `.fit_transform()` the transformer learns from the data given to it. For example, in the command\n",
                "\n",
                "    SimpleImputer(missing_values=-8, strategy='mean').fit_transform(arr1_t2)\n",
                "    \n",
                "we learned the mean values in each column of `arr1_t2` so we could use it to impute missing values. The function `fit` learns how to impute missing values using the given data, the function `transform` performs the transformation, and the function `fit_transform` does both. To avoid data leakage between the test and train sets, it is important that we only learn from training data and not from the test data prior to evaluating our models using the test data."
            ]
        },
        {
            "cell_type": "markdown",
            "metadata": {
                "nbgrader": {
                    "grade": false,
                    "grade_id": "cell-3029fa7182027c1a",
                    "locked": true,
                    "schema_version": 3,
                    "solution": false,
                    "task": false
                },
                "editable": false,
                "deletable": false
            },
            "source": [
                "# Part 3: Model training and evaluation\n",
                "\n",
                "Now that we now have a pipeline that preprocessed the data, we can start training models. We will train 3 models: classification tree, logistic regression, and K-nearest neighbors. \n",
                "\n",
                "We will use two methods for evaluation: validation set (simple cross validation) and cross-validation\n",
                "\n"
            ]
        },
        {
            "cell_type": "markdown",
            "metadata": {},
            "source": [
                "## Validation set\n",
                "\n",
                "Let' further split the train data to train and validation sets."
            ]
        },
        {
            "cell_type": "markdown",
            "metadata": {
                "nbgrader": {
                    "grade": false,
                    "grade_id": "cell-c9007daf35f7b7ax",
                    "locked": true,
                    "schema_version": 3,
                    "solution": false,
                    "task": false
                },
                "editable": false,
                "deletable": false
            },
            "source": [
                "### (q5) \n",
                "\n",
                "Use the function `train_test_split` to split `X_train_t` into train and validation sets called. Allocate 25% of the train data  to the validation set (`test_size=0.25`), and set the parameter `random_state` to 1234. Initialize the following variables `X_train_t_tr, X_train_t_val, Y_train_t_tr, Y_train_t_val` according to their names (whether they hold the train or validation set, of the data matrix `X` or the labels `Y`)."
            ]
        },
        {
            "cell_type": "code",
            "execution_count": 77,
            "metadata": {
                "nbgrader": {
                    "grade": false,
                    "grade_id": "cell-81ad5020e7326ddx",
                    "locked": false,
                    "schema_version": 3,
                    "solution": true,
                    "task": false
                }
            },
            "outputs": [],
            "source": [
                "X_train_t_tr  = \"replace this string with your answer\"\n",
                "X_train_t_val = \"replace this string with your answer\"\n",
                "Y_train_t_tr  = \"replace this string with your answer\"\n",
                "Y_train_t_val = \"replace this string with your answer\"\n",
                "\n",
                "#split training data into train and validation sets\n",
                "X_train_t_tr, X_train_t_val, Y_train_t_tr, Y_train_t_val = train_test_split(X_train_t,Y_train, test_size=0.25, random_state=1234)\n",
                "\n"
            ]
        },
        {
            "cell_type": "code",
            "execution_count": 78,
            "metadata": {
                "nbgrader": {
                    "grade": true,
                    "grade_id": "q5a_",
                    "locked": true,
                    "points": 3,
                    "schema_version": 3,
                    "solution": false,
                    "task": false
                },
                "editable": false,
                "deletable": false
            },
            "outputs": [],
            "source": [
                "### BEGIN TEST (DO NOT REMOVE CELL)\n",
                "sol = ANSWER_KEY['X_train_t_tr']\n",
                "diff = sol.compare(X_train_t_tr, keep_equal=False, align_axis=0)\n",
                "assert(len(diff)==0), 'testing X_train_t_tr'\n",
                "### END TEST "
            ]
        },
        {
            "cell_type": "code",
            "execution_count": 79,
            "metadata": {
                "nbgrader": {
                    "grade": true,
                    "grade_id": "q5b_",
                    "locked": true,
                    "points": 3,
                    "schema_version": 3,
                    "solution": false,
                    "task": false
                },
                "editable": false,
                "deletable": false
            },
            "outputs": [],
            "source": [
                "### BEGIN TEST (DO NOT REMOVE CELL)\n",
                "sol = ANSWER_KEY['X_train_t_val']\n",
                "diff = sol.compare(X_train_t_val, keep_equal=False, align_axis=0)\n",
                "assert(len(diff)==0), 'testing X_train_t_val'\n",
                "### END TEST "
            ]
        },
        {
            "cell_type": "code",
            "execution_count": 80,
            "metadata": {
                "nbgrader": {
                    "grade": true,
                    "grade_id": "q5c_",
                    "locked": true,
                    "points": 3,
                    "schema_version": 3,
                    "solution": false,
                    "task": false
                },
                "editable": false,
                "deletable": false
            },
            "outputs": [],
            "source": [
                "### BEGIN TEST (DO NOT REMOVE CELL)\n",
                "sol = ANSWER_KEY['Y_train_t_tr']\n",
                "diff = sol.compare(Y_train_t_tr, keep_equal=False, align_axis=0)\n",
                "assert(len(diff)==0), 'testing Y_train_t_tr'\n",
                "### END TEST "
            ]
        },
        {
            "cell_type": "code",
            "execution_count": 81,
            "metadata": {
                "nbgrader": {
                    "grade": true,
                    "grade_id": "q5d_",
                    "locked": true,
                    "points": 3,
                    "schema_version": 3,
                    "solution": false,
                    "task": false
                },
                "editable": false,
                "deletable": false
            },
            "outputs": [],
            "source": [
                "### BEGIN TEST (DO NOT REMOVE CELL)\n",
                "sol = ANSWER_KEY['Y_train_t_val']\n",
                "diff = sol.compare(Y_train_t_val, keep_equal=False, align_axis=0)\n",
                "assert(len(diff)==0), 'testing Y_train_t_val'\n",
                "### END TEST "
            ]
        },
        {
            "cell_type": "code",
            "execution_count": 82,
            "metadata": {
                "nbgrader": {
                    "grade": false,
                    "grade_id": "cell-5ebb550b59e2cf9fx",
                    "locked": true,
                    "schema_version": 3,
                    "solution": false,
                    "task": false
                },
                "editable": false,
                "deletable": false
            },
            "outputs": [
                {
                    "output_type": "stream",
                    "name": "stdout",
                    "text": [
                        "The shape of X: (9871, 23)\nThe shape of X_test_t: (1973, 34)\nThe shape of X_train_t: (7888, 34)\nThe shapes of X_train_t_tr, X_train_t_val, Y_train_t_tr, Y_train_t_val: (5916, 34) (1972, 34) (5916,) (1972,)\n"
                    ]
                }
            ],
            "source": [
                "print('The shape of X:', X.shape)\n",
                "print('The shape of X_test_t:', X_test_t.shape)\n",
                "print('The shape of X_train_t:', X_train_t.shape)\n",
                "print('The shapes of X_train_t_tr, X_train_t_val, Y_train_t_tr, Y_train_t_val:', ANSWER_KEY['X_train_t_tr'].shape, ANSWER_KEY['X_train_t_val'].shape, ANSWER_KEY['Y_train_t_tr'].shape, ANSWER_KEY['Y_train_t_val'].shape)"
            ]
        },
        {
            "cell_type": "code",
            "execution_count": 83,
            "metadata": {
                "nbgrader": {
                    "grade": false,
                    "grade_id": "cell-6cefcb2808a05e1d",
                    "locked": true,
                    "schema_version": 3,
                    "solution": false,
                    "task": false
                },
                "editable": false,
                "deletable": false
            },
            "outputs": [
                {
                    "output_type": "stream",
                    "name": "stdout",
                    "text": [
                        "The proportion of train:validation:test data is 0.6:0.2:0.2\n"
                    ]
                }
            ],
            "source": [
                "print('The proportion of train:validation:test data is %.1f:%.1f:%.1f'%(len(Y_train_t_tr)/len(Y), len(Y_train_t_val)/len(Y), len(Y_test)/len(Y)))"
            ]
        },
        {
            "cell_type": "markdown",
            "metadata": {
                "nbgrader": {
                    "grade": false,
                    "grade_id": "cell-c447fc5896466a6f",
                    "locked": true,
                    "schema_version": 3,
                    "solution": false,
                    "task": false
                },
                "editable": false,
                "deletable": false
            },
            "source": [
                "When we use the validation set approach, we use 60% of the data to train models (`X_train_t_tr`,`Y_train_t_tr`), we use 20% of the data for model selection (`X_train_t_val`,`Y_train_t_val`), and the remaining 20% for final evaluation (`X_test_t_tr`,`Y_test`)"
            ]
        },
        {
            "cell_type": "markdown",
            "metadata": {
                "nbgrader": {
                    "grade": false,
                    "grade_id": "cell-fd2ced76714dbb2d",
                    "locked": true,
                    "schema_version": 3,
                    "solution": false,
                    "task": false
                },
                "editable": false,
                "deletable": false
            },
            "source": [
                "Let's train models!"
            ]
        },
        {
            "cell_type": "code",
            "execution_count": 84,
            "metadata": {
                "nbgrader": {
                    "grade": false,
                    "grade_id": "cell-a960c2853f230ff3",
                    "locked": true,
                    "schema_version": 3,
                    "solution": false,
                    "task": false
                },
                "editable": false,
                "deletable": false
            },
            "outputs": [],
            "source": [
                "from sklearn import tree, linear_model, neighbors            \n",
                "clf_tree    = tree.DecisionTreeClassifier().fit(X_train_t_tr, Y_train_t_tr)\n",
                "clf_log_reg = linear_model.LogisticRegression(max_iter=10000).fit(X_train_t_tr, Y_train_t_tr) \n",
                "clf_knn     = neighbors.KNeighborsClassifier().fit(X_train_t_tr, Y_train_t_tr)"
            ]
        },
        {
            "cell_type": "markdown",
            "metadata": {
                "nbgrader": {
                    "grade": false,
                    "grade_id": "cell-3c729cf49263f4f6",
                    "locked": true,
                    "schema_version": 3,
                    "solution": false,
                    "task": false
                },
                "editable": false,
                "deletable": false
            },
            "source": [
                "The parameter `max_iter` was set to 10000 in the logistic regression model to ensure that the algorithm converges, that is,  the estimation process reached steady parameter values as part of its execution. \n",
                "\n",
                "Next, we evaluate the performance of the models on the validation set."
            ]
        },
        {
            "cell_type": "code",
            "execution_count": 85,
            "metadata": {
                "nbgrader": {
                    "grade": false,
                    "grade_id": "cell-88b0dea82cdce2aa",
                    "locked": true,
                    "schema_version": 3,
                    "solution": false,
                    "task": false
                },
                "editable": false,
                "deletable": false
            },
            "outputs": [
                {
                    "output_type": "stream",
                    "name": "stdout",
                    "text": [
                        "Decision tree accuracy: 0.618\nLogistic regression accuracy: 0.731\nKNN accuracy: 0.669\n"
                    ]
                }
            ],
            "source": [
                "from sklearn.metrics import accuracy_score\n",
                "print('Decision tree accuracy: %.3f'%accuracy_score(Y_train_t_val, clf_tree.predict(X_train_t_val)))\n",
                "print('Logistic regression accuracy: %.3f'%accuracy_score(Y_train_t_val, clf_log_reg.predict(X_train_t_val)))\n",
                "print('KNN accuracy: %.3f'%accuracy_score(Y_train_t_val, clf_knn.predict(X_train_t_val)))"
            ]
        },
        {
            "cell_type": "markdown",
            "metadata": {
                "nbgrader": {
                    "grade": false,
                    "grade_id": "cell-dc7b4a213e43b636",
                    "locked": true,
                    "schema_version": 3,
                    "solution": false,
                    "task": false
                },
                "editable": false,
                "deletable": false
            },
            "source": [
                "Observe that models can be controlled by various hyper-parameters that could have big impact over their behavior: \n",
                "\n",
                "    DecisionTreeClassifier(*, criterion='gini', splitter='best', max_depth=None, min_samples_split=2, min_samples_leaf=1, min_weight_fraction_leaf=0.0, max_features=None, random_state=None, max_leaf_nodes=None, min_impurity_decrease=0.0, min_impurity_split=None, class_weight=None, ccp_alpha=0.0)    \n",
                "    \n",
                "    LogisticRegression(penalty='l2', *, dual=False, tol=0.0001, C=1.0, fit_intercept=True, intercept_scaling=1, class_weight=None, random_state=None, solver='lbfgs', max_iter=100, multi_class='auto', verbose=0, warm_start=False, n_jobs=None, l1_ratio=None)\n",
                "    \n",
                "    KNeighborsClassifier(n_neighbors=5, *, weights='uniform', algorithm='auto', leaf_size=30, p=2, metric='minkowski', metric_params=None, n_jobs=None, **kwargs)\n",
                "    \n",
                "\n",
                "Knowing about how each model works is important to tune the hyper-parameters. Additionally, scikit-learn offers some functions to automate this process. We'll get back to this later."
            ]
        },
        {
            "cell_type": "markdown",
            "metadata": {
                "nbgrader": {
                    "grade": false,
                    "grade_id": "cell-7842417bceef973c",
                    "locked": true,
                    "schema_version": 3,
                    "solution": false,
                    "task": false
                },
                "editable": false,
                "deletable": false
            },
            "source": [
                "### (q6)\n",
                "\n",
                "Let's use cross-validation to evaluate models."
            ]
        },
        {
            "cell_type": "code",
            "execution_count": 86,
            "metadata": {
                "nbgrader": {
                    "grade": false,
                    "grade_id": "cell-61079a207e628f6d",
                    "locked": true,
                    "schema_version": 3,
                    "solution": false,
                    "task": false
                },
                "editable": false,
                "deletable": false
            },
            "outputs": [],
            "source": [
                "clf_tree    = tree.DecisionTreeClassifier().fit(X_train_t_tr, Y_train_t_tr)\n",
                "clf_log_reg = linear_model.LogisticRegression(max_iter=10000).fit(X_train_t_tr, Y_train_t_tr) \n",
                "clf_knn     = neighbors.KNeighborsClassifier().fit(X_train_t_tr, Y_train_t_tr)"
            ]
        },
        {
            "cell_type": "code",
            "execution_count": 87,
            "metadata": {
                "nbgrader": {
                    "grade": false,
                    "grade_id": "cell-1a082268758d5519",
                    "locked": true,
                    "schema_version": 3,
                    "solution": false,
                    "task": false
                },
                "editable": false,
                "deletable": false
            },
            "outputs": [],
            "source": [
                "from sklearn.model_selection import cross_validate\n",
                "cv_results_tree = cross_validate(tree.DecisionTreeClassifier(), X_train_t, Y_train, cv=5, return_estimator=True)\n",
                "cv_results_log_reg = cross_validate(linear_model.LogisticRegression(max_iter=10000), X_train_t, Y_train, cv=5, return_estimator=True)\n",
                "cv_results_knn = cross_validate(neighbors.KNeighborsClassifier(), X_train_t, Y_train, cv=5, return_estimator=True)"
            ]
        },
        {
            "cell_type": "markdown",
            "metadata": {
                "nbgrader": {
                    "grade": false,
                    "grade_id": "cell-b9e80c6fe0a57509",
                    "locked": true,
                    "schema_version": 3,
                    "solution": false,
                    "task": false
                },
                "editable": false,
                "deletable": false
            },
            "source": [
                "Notice that we run the cross validation on the entire training data `X_train_t` (which includes the previously separated validation set). The cross-validation assures that we evaluate model performance on data that was not used in its training. Note that the running time is 5 times longer.\n",
                "\n",
                "Let's inspect the returned object."
            ]
        },
        {
            "cell_type": "code",
            "execution_count": 88,
            "metadata": {
                "nbgrader": {
                    "grade": false,
                    "grade_id": "cell-8ce20b86898fd9c2",
                    "locked": true,
                    "schema_version": 3,
                    "solution": false,
                    "task": false
                },
                "editable": false,
                "deletable": false
            },
            "outputs": [
                {
                    "output_type": "execute_result",
                    "data": {
                        "text/plain": [
                            "{'fit_time': array([0.08263302, 0.06733799, 0.06520081, 0.06394506, 0.0672183 ]),\n",
                            " 'score_time': array([0.00334883, 0.00273991, 0.00251818, 0.00235415, 0.00212979]),\n",
                            " 'estimator': (DecisionTreeClassifier(),\n",
                            "  DecisionTreeClassifier(),\n",
                            "  DecisionTreeClassifier(),\n",
                            "  DecisionTreeClassifier(),\n",
                            "  DecisionTreeClassifier()),\n",
                            " 'test_score': array([0.63624842, 0.64131812, 0.64512041, 0.64172479, 0.63031072])}"
                        ]
                    },
                    "metadata": {},
                    "execution_count": 88
                }
            ],
            "source": [
                "cv_results_tree"
            ]
        },
        {
            "cell_type": "code",
            "execution_count": 89,
            "metadata": {
                "nbgrader": {
                    "grade": false,
                    "grade_id": "cell-a6250d2ce080259b",
                    "locked": true,
                    "schema_version": 3,
                    "solution": false,
                    "task": false
                },
                "editable": false,
                "deletable": false
            },
            "outputs": [
                {
                    "output_type": "execute_result",
                    "data": {
                        "text/plain": [
                            "array([0.63624842, 0.64131812, 0.64512041, 0.64172479, 0.63031072])"
                        ]
                    },
                    "metadata": {},
                    "execution_count": 89
                }
            ],
            "source": [
                "cv_results_tree['test_score'] # these are 5 evaluations (since we specified cv=5)"
            ]
        },
        {
            "cell_type": "code",
            "execution_count": 90,
            "metadata": {
                "nbgrader": {
                    "grade": false,
                    "grade_id": "cell-6f74f0bc2192a22c",
                    "locked": true,
                    "schema_version": 3,
                    "solution": false,
                    "task": false
                },
                "editable": false,
                "deletable": false
            },
            "outputs": [
                {
                    "output_type": "stream",
                    "name": "stdout",
                    "text": [
                        "Classification tree - CV accuracy score 0.639\nLogistic regresion - CV accuracy score 0.740\nKNN - CV accuracy score 0.675\n"
                    ]
                }
            ],
            "source": [
                "print('Classification tree - CV accuracy score %.3f'%cv_results_tree['test_score'].mean()) # this is their average value\n",
                "print('Logistic regresion - CV accuracy score %.3f'%cv_results_log_reg['test_score'].mean()) # this is their average value\n",
                "print('KNN - CV accuracy score %.3f'%cv_results_knn['test_score'].mean()) # this is their average value"
            ]
        },
        {
            "cell_type": "markdown",
            "metadata": {
                "nbgrader": {
                    "grade": false,
                    "grade_id": "cell-7413c361496e7106",
                    "locked": true,
                    "schema_version": 3,
                    "solution": false,
                    "task": false
                },
                "editable": false,
                "deletable": false
            },
            "source": [
                "Reminder: these are the validation set scores"
            ]
        },
        {
            "cell_type": "code",
            "execution_count": 91,
            "metadata": {
                "nbgrader": {
                    "grade": false,
                    "grade_id": "cell-83ad1ed74f4f5e3a",
                    "locked": true,
                    "schema_version": 3,
                    "solution": false,
                    "task": false
                },
                "editable": false,
                "deletable": false
            },
            "outputs": [
                {
                    "output_type": "stream",
                    "name": "stdout",
                    "text": [
                        "Classification tree - validation accuracy score: 0.622\n",
                        "Logistic regresion - validation accuracy score: 0.731\n",
                        "KNN - validation accuracy score: 0.669\n"
                    ]
                }
            ],
            "source": [
                "print('Classification tree - validation accuracy score: %.3f'%accuracy_score(Y_train_t_val, clf_tree.predict(X_train_t_val)))\n",
                "print('Logistic regresion - validation accuracy score: %.3f'%accuracy_score(Y_train_t_val, clf_log_reg.predict(X_train_t_val)))\n",
                "print('KNN - validation accuracy score: %.3f'%accuracy_score(Y_train_t_val, clf_knn.predict(X_train_t_val)))"
            ]
        },
        {
            "cell_type": "markdown",
            "metadata": {
                "nbgrader": {
                    "grade": false,
                    "grade_id": "cell-4cbd55b83d904d4d",
                    "locked": true,
                    "schema_version": 3,
                    "solution": false,
                    "task": false
                },
                "editable": false,
                "deletable": false
            },
            "source": [
                "CV tends to be more accurate but slower compared to validation set. If we have a large dataset, validation set would typically be sufficient.\n",
                "\n",
                "Typically, we would explore more models at this point, and try to narrow down the list to a few promising models. Next we would perform hyper-parameter tuning to try improve their performance. Here, we will focus only on the logistic regression model. We will use `GridSearchCV` to perform hyperparameter tuning."
            ]
        },
        {
            "cell_type": "code",
            "execution_count": 92,
            "metadata": {
                "nbgrader": {
                    "grade": false,
                    "grade_id": "cell-f96e4d90e6f7cf98",
                    "locked": true,
                    "schema_version": 3,
                    "solution": false,
                    "task": false
                },
                "scrolled": true,
                "editable": false,
                "deletable": false
            },
            "outputs": [
                {
                    "output_type": "execute_result",
                    "data": {
                        "text/plain": [
                            "GridSearchCV(cv=3, estimator=DecisionTreeClassifier(),\n",
                            "             param_grid=[{'criterion': ['gini', 'entropy'],\n",
                            "                          'max_depth': [1, 2, 3, 4, 5],\n",
                            "                          'min_samples_leaf': [10, 20, 30],\n",
                            "                          'min_samples_split': [2, 5, 10]}],\n",
                            "             scoring='accuracy')"
                        ]
                    },
                    "metadata": {},
                    "execution_count": 92
                }
            ],
            "source": [
                "from sklearn.model_selection import GridSearchCV\n",
                "param_grid = [{'max_depth':[1,2,3,4,5],  \n",
                "               'criterion':[\"gini\", \"entropy\"],            \n",
                "               'min_samples_split':[2,5,10],              \n",
                "               'min_samples_leaf':[10,20,30]}]\n",
                "clf_tree = tree.DecisionTreeClassifier()\n",
                "grid_search = GridSearchCV(clf_tree, param_grid, cv=3, scoring='accuracy')\n",
                "grid_search.fit(X_train_t,Y_train)"
            ]
        },
        {
            "cell_type": "code",
            "execution_count": 93,
            "metadata": {
                "nbgrader": {
                    "grade": false,
                    "grade_id": "cell-23b8aa75ace597ea",
                    "locked": true,
                    "schema_version": 3,
                    "solution": false,
                    "task": false
                },
                "scrolled": true,
                "editable": false,
                "deletable": false
            },
            "outputs": [
                {
                    "output_type": "stream",
                    "name": "stdout",
                    "text": [
                        "0.7122206200606379 {'criterion': 'gini', 'max_depth': 1, 'min_samples_leaf': 10, 'min_samples_split': 2}\n0.7122206200606379 {'criterion': 'gini', 'max_depth': 1, 'min_samples_leaf': 10, 'min_samples_split': 5}\n0.7122206200606379 {'criterion': 'gini', 'max_depth': 1, 'min_samples_leaf': 10, 'min_samples_split': 10}\n0.7122206200606379 {'criterion': 'gini', 'max_depth': 1, 'min_samples_leaf': 20, 'min_samples_split': 2}\n0.7122206200606379 {'criterion': 'gini', 'max_depth': 1, 'min_samples_leaf': 20, 'min_samples_split': 5}\n0.7122206200606379 {'criterion': 'gini', 'max_depth': 1, 'min_samples_leaf': 20, 'min_samples_split': 10}\n0.7122206200606379 {'criterion': 'gini', 'max_depth': 1, 'min_samples_leaf': 30, 'min_samples_split': 2}\n0.7122206200606379 {'criterion': 'gini', 'max_depth': 1, 'min_samples_leaf': 30, 'min_samples_split': 5}\n0.7122206200606379 {'criterion': 'gini', 'max_depth': 1, 'min_samples_leaf': 30, 'min_samples_split': 10}\n0.7122206200606379 {'criterion': 'gini', 'max_depth': 2, 'min_samples_leaf': 10, 'min_samples_split': 2}\n0.7122206200606379 {'criterion': 'gini', 'max_depth': 2, 'min_samples_leaf': 10, 'min_samples_split': 5}\n0.7122206200606379 {'criterion': 'gini', 'max_depth': 2, 'min_samples_leaf': 10, 'min_samples_split': 10}\n0.7122206200606379 {'criterion': 'gini', 'max_depth': 2, 'min_samples_leaf': 20, 'min_samples_split': 2}\n0.7122206200606379 {'criterion': 'gini', 'max_depth': 2, 'min_samples_leaf': 20, 'min_samples_split': 5}\n0.7122206200606379 {'criterion': 'gini', 'max_depth': 2, 'min_samples_leaf': 20, 'min_samples_split': 10}\n0.7122206200606379 {'criterion': 'gini', 'max_depth': 2, 'min_samples_leaf': 30, 'min_samples_split': 2}\n0.7122206200606379 {'criterion': 'gini', 'max_depth': 2, 'min_samples_leaf': 30, 'min_samples_split': 5}\n0.7122206200606379 {'criterion': 'gini', 'max_depth': 2, 'min_samples_leaf': 30, 'min_samples_split': 10}\n0.7055020992816305 {'criterion': 'gini', 'max_depth': 3, 'min_samples_leaf': 10, 'min_samples_split': 2}\n0.7055020992816305 {'criterion': 'gini', 'max_depth': 3, 'min_samples_leaf': 10, 'min_samples_split': 5}\n0.7055020992816305 {'criterion': 'gini', 'max_depth': 3, 'min_samples_leaf': 10, 'min_samples_split': 10}\n0.7055020992816305 {'criterion': 'gini', 'max_depth': 3, 'min_samples_leaf': 20, 'min_samples_split': 2}\n0.7055020992816305 {'criterion': 'gini', 'max_depth': 3, 'min_samples_leaf': 20, 'min_samples_split': 5}\n0.7055020992816305 {'criterion': 'gini', 'max_depth': 3, 'min_samples_leaf': 20, 'min_samples_split': 10}\n0.7055020992816305 {'criterion': 'gini', 'max_depth': 3, 'min_samples_leaf': 30, 'min_samples_split': 2}\n0.7055020992816305 {'criterion': 'gini', 'max_depth': 3, 'min_samples_leaf': 30, 'min_samples_split': 5}\n0.7055020992816305 {'criterion': 'gini', 'max_depth': 3, 'min_samples_leaf': 30, 'min_samples_split': 10}\n0.7207150815149924 {'criterion': 'gini', 'max_depth': 4, 'min_samples_leaf': 10, 'min_samples_split': 2}\n0.7207150815149924 {'criterion': 'gini', 'max_depth': 4, 'min_samples_leaf': 10, 'min_samples_split': 5}\n0.7207150815149924 {'criterion': 'gini', 'max_depth': 4, 'min_samples_leaf': 10, 'min_samples_split': 10}\n0.7208418724367625 {'criterion': 'gini', 'max_depth': 4, 'min_samples_leaf': 20, 'min_samples_split': 2}\n0.7208418724367625 {'criterion': 'gini', 'max_depth': 4, 'min_samples_leaf': 20, 'min_samples_split': 5}\n0.7208418724367625 {'criterion': 'gini', 'max_depth': 4, 'min_samples_leaf': 20, 'min_samples_split': 10}\n0.7174185175489723 {'criterion': 'gini', 'max_depth': 4, 'min_samples_leaf': 30, 'min_samples_split': 2}\n0.7174185175489723 {'criterion': 'gini', 'max_depth': 4, 'min_samples_leaf': 30, 'min_samples_split': 5}\n0.7174185175489723 {'criterion': 'gini', 'max_depth': 4, 'min_samples_leaf': 30, 'min_samples_split': 10}\n0.7161513796828877 {'criterion': 'gini', 'max_depth': 5, 'min_samples_leaf': 10, 'min_samples_split': 2}\n0.716658350532064 {'criterion': 'gini', 'max_depth': 5, 'min_samples_leaf': 10, 'min_samples_split': 5}\n0.7161513796828877 {'criterion': 'gini', 'max_depth': 5, 'min_samples_leaf': 10, 'min_samples_split': 10}\n0.7172923533503898 {'criterion': 'gini', 'max_depth': 5, 'min_samples_leaf': 20, 'min_samples_split': 2}\n0.7175459351939298 {'criterion': 'gini', 'max_depth': 5, 'min_samples_leaf': 20, 'min_samples_split': 5}\n0.7175459351939298 {'criterion': 'gini', 'max_depth': 5, 'min_samples_leaf': 20, 'min_samples_split': 10}\n0.716404624060096 {'criterion': 'gini', 'max_depth': 5, 'min_samples_leaf': 30, 'min_samples_split': 2}\n0.716404624060096 {'criterion': 'gini', 'max_depth': 5, 'min_samples_leaf': 30, 'min_samples_split': 5}\n0.716404624060096 {'criterion': 'gini', 'max_depth': 5, 'min_samples_leaf': 30, 'min_samples_split': 10}\n0.7122206200606379 {'criterion': 'entropy', 'max_depth': 1, 'min_samples_leaf': 10, 'min_samples_split': 2}\n0.7122206200606379 {'criterion': 'entropy', 'max_depth': 1, 'min_samples_leaf': 10, 'min_samples_split': 5}\n0.7122206200606379 {'criterion': 'entropy', 'max_depth': 1, 'min_samples_leaf': 10, 'min_samples_split': 10}\n0.7122206200606379 {'criterion': 'entropy', 'max_depth': 1, 'min_samples_leaf': 20, 'min_samples_split': 2}\n0.7122206200606379 {'criterion': 'entropy', 'max_depth': 1, 'min_samples_leaf': 20, 'min_samples_split': 5}\n0.7122206200606379 {'criterion': 'entropy', 'max_depth': 1, 'min_samples_leaf': 20, 'min_samples_split': 10}\n0.7122206200606379 {'criterion': 'entropy', 'max_depth': 1, 'min_samples_leaf': 30, 'min_samples_split': 2}\n0.7122206200606379 {'criterion': 'entropy', 'max_depth': 1, 'min_samples_leaf': 30, 'min_samples_split': 5}\n0.7122206200606379 {'criterion': 'entropy', 'max_depth': 1, 'min_samples_leaf': 30, 'min_samples_split': 10}\n0.7122206200606379 {'criterion': 'entropy', 'max_depth': 2, 'min_samples_leaf': 10, 'min_samples_split': 2}\n0.7122206200606379 {'criterion': 'entropy', 'max_depth': 2, 'min_samples_leaf': 10, 'min_samples_split': 5}\n0.7122206200606379 {'criterion': 'entropy', 'max_depth': 2, 'min_samples_leaf': 10, 'min_samples_split': 10}\n0.7122206200606379 {'criterion': 'entropy', 'max_depth': 2, 'min_samples_leaf': 20, 'min_samples_split': 2}\n0.7122206200606379 {'criterion': 'entropy', 'max_depth': 2, 'min_samples_leaf': 20, 'min_samples_split': 5}\n0.7122206200606379 {'criterion': 'entropy', 'max_depth': 2, 'min_samples_leaf': 20, 'min_samples_split': 10}\n0.7122206200606379 {'criterion': 'entropy', 'max_depth': 2, 'min_samples_leaf': 30, 'min_samples_split': 2}\n0.7122206200606379 {'criterion': 'entropy', 'max_depth': 2, 'min_samples_leaf': 30, 'min_samples_split': 5}\n0.7122206200606379 {'criterion': 'entropy', 'max_depth': 2, 'min_samples_leaf': 30, 'min_samples_split': 10}\n0.7091776379381578 {'criterion': 'entropy', 'max_depth': 3, 'min_samples_leaf': 10, 'min_samples_split': 2}\n0.7091776379381578 {'criterion': 'entropy', 'max_depth': 3, 'min_samples_leaf': 10, 'min_samples_split': 5}\n0.7091776379381578 {'criterion': 'entropy', 'max_depth': 3, 'min_samples_leaf': 10, 'min_samples_split': 10}\n0.7091776379381578 {'criterion': 'entropy', 'max_depth': 3, 'min_samples_leaf': 20, 'min_samples_split': 2}\n0.7091776379381578 {'criterion': 'entropy', 'max_depth': 3, 'min_samples_leaf': 20, 'min_samples_split': 5}\n0.7091776379381578 {'criterion': 'entropy', 'max_depth': 3, 'min_samples_leaf': 20, 'min_samples_split': 10}\n0.7091776379381578 {'criterion': 'entropy', 'max_depth': 3, 'min_samples_leaf': 30, 'min_samples_split': 2}\n0.7091776379381578 {'criterion': 'entropy', 'max_depth': 3, 'min_samples_leaf': 30, 'min_samples_split': 5}\n0.7091776379381578 {'criterion': 'entropy', 'max_depth': 3, 'min_samples_leaf': 30, 'min_samples_split': 10}\n0.7197013808640199 {'criterion': 'entropy', 'max_depth': 4, 'min_samples_leaf': 10, 'min_samples_split': 2}\n0.7197013808640199 {'criterion': 'entropy', 'max_depth': 4, 'min_samples_leaf': 10, 'min_samples_split': 5}\n0.7197013808640199 {'criterion': 'entropy', 'max_depth': 4, 'min_samples_leaf': 10, 'min_samples_split': 10}\n0.717166574827615 {'criterion': 'entropy', 'max_depth': 4, 'min_samples_leaf': 20, 'min_samples_split': 2}\n0.717166574827615 {'criterion': 'entropy', 'max_depth': 4, 'min_samples_leaf': 20, 'min_samples_split': 5}\n0.717166574827615 {'criterion': 'entropy', 'max_depth': 4, 'min_samples_leaf': 20, 'min_samples_split': 10}\n0.7147575473139849 {'criterion': 'entropy', 'max_depth': 4, 'min_samples_leaf': 30, 'min_samples_split': 2}\n0.7147575473139849 {'criterion': 'entropy', 'max_depth': 4, 'min_samples_leaf': 30, 'min_samples_split': 5}\n0.7147575473139849 {'criterion': 'entropy', 'max_depth': 4, 'min_samples_leaf': 30, 'min_samples_split': 10}\n0.7165324273808612 {'criterion': 'entropy', 'max_depth': 5, 'min_samples_leaf': 10, 'min_samples_split': 2}\n0.7165324273808612 {'criterion': 'entropy', 'max_depth': 5, 'min_samples_leaf': 10, 'min_samples_split': 5}\n0.7160254565316849 {'criterion': 'entropy', 'max_depth': 5, 'min_samples_leaf': 10, 'min_samples_split': 10}\n0.7169126073082673 {'criterion': 'entropy', 'max_depth': 5, 'min_samples_leaf': 20, 'min_samples_split': 2}\n0.7169126073082673 {'criterion': 'entropy', 'max_depth': 5, 'min_samples_leaf': 20, 'min_samples_split': 5}\n0.7169126073082673 {'criterion': 'entropy', 'max_depth': 5, 'min_samples_leaf': 20, 'min_samples_split': 10}\n0.7160249744369254 {'criterion': 'entropy', 'max_depth': 5, 'min_samples_leaf': 30, 'min_samples_split': 2}\n0.7160249744369254 {'criterion': 'entropy', 'max_depth': 5, 'min_samples_leaf': 30, 'min_samples_split': 5}\n0.7160249744369254 {'criterion': 'entropy', 'max_depth': 5, 'min_samples_leaf': 30, 'min_samples_split': 10}\n"
                    ]
                }
            ],
            "source": [
                "cvres = grid_search.cv_results_ # the variable that stores the grid search results\n",
                "for mean_score, params in zip(cvres[\"mean_test_score\"], cvres[\"params\"]):  # iterate over the tested configurations\n",
                "    print(mean_score, params)"
            ]
        },
        {
            "cell_type": "markdown",
            "metadata": {
                "nbgrader": {
                    "grade": false,
                    "grade_id": "cell-3c807ec4fe921def",
                    "locked": true,
                    "schema_version": 3,
                    "solution": false,
                    "task": false
                },
                "editable": false,
                "deletable": false
            },
            "source": [
                "With some effort we improved the accuracy of decision trees from 64% to 71%. \n",
                "\n",
                "These are the best hyper-parameters we found so far"
            ]
        },
        {
            "cell_type": "code",
            "execution_count": 94,
            "metadata": {
                "nbgrader": {
                    "grade": false,
                    "grade_id": "cell-5fa01e701dc2c4e8",
                    "locked": true,
                    "schema_version": 3,
                    "solution": false,
                    "task": false
                },
                "editable": false,
                "deletable": false
            },
            "outputs": [
                {
                    "output_type": "execute_result",
                    "data": {
                        "text/plain": [
                            "{'criterion': 'gini',\n",
                            " 'max_depth': 4,\n",
                            " 'min_samples_leaf': 20,\n",
                            " 'min_samples_split': 2}"
                        ]
                    },
                    "metadata": {},
                    "execution_count": 94
                }
            ],
            "source": [
                "grid_search.best_params_"
            ]
        },
        {
            "cell_type": "markdown",
            "metadata": {
                "nbgrader": {
                    "grade": false,
                    "grade_id": "cell-b7d40bb5daae6aaa",
                    "locked": true,
                    "schema_version": 3,
                    "solution": false,
                    "task": false
                },
                "editable": false,
                "deletable": false
            },
            "source": [
                "And this is the classifier that was trained on the entire train data after completing the cross validation and choosing the best configuration."
            ]
        },
        {
            "cell_type": "code",
            "execution_count": 95,
            "metadata": {
                "nbgrader": {
                    "grade": false,
                    "grade_id": "cell-86bb3839e6b10fbc",
                    "locked": true,
                    "schema_version": 3,
                    "solution": false,
                    "task": false
                },
                "editable": false,
                "deletable": false
            },
            "outputs": [
                {
                    "output_type": "execute_result",
                    "data": {
                        "text/plain": [
                            "DecisionTreeClassifier(max_depth=4, min_samples_leaf=20)"
                        ]
                    },
                    "metadata": {},
                    "execution_count": 95
                }
            ],
            "source": [
                "grid_search.best_estimator_ # variable holding the best classifier (fitted on the entire dataset)"
            ]
        },
        {
            "cell_type": "markdown",
            "metadata": {
                "nbgrader": {
                    "grade": false,
                    "grade_id": "cell-f75eb287616fefd3",
                    "locked": true,
                    "schema_version": 3,
                    "solution": false,
                    "task": false
                },
                "editable": false,
                "deletable": false
            },
            "source": [
                "In the validation set approach, we would typically do something similar. Once we selected the best model and hyper parameters, we would train a model on the entire train data (train+validation)."
            ]
        },
        {
            "cell_type": "markdown",
            "metadata": {
                "nbgrader": {
                    "grade": false,
                    "grade_id": "cell-f2b8accc494787de",
                    "locked": true,
                    "schema_version": 3,
                    "solution": false,
                    "task": false
                },
                "editable": false,
                "deletable": false
            },
            "source": [
                "Note that while we used accuracy for model selection (recall using `scoring='accuracy'` in `GridSearchCV`), this need not be our only or even main criterion. Let's compute a few other metrics that are commonly used in practice. \n",
                "\n",
                "Let's train a model on the train set which we can evaluate on the validation set."
            ]
        },
        {
            "cell_type": "code",
            "execution_count": 96,
            "metadata": {},
            "outputs": [],
            "source": [
                "clf_tree = tree.DecisionTreeClassifier(max_depth=4,min_samples_leaf=20).fit(X_train_t_tr, Y_train_t_tr)"
            ]
        },
        {
            "cell_type": "markdown",
            "metadata": {
                "nbgrader": {
                    "grade": false,
                    "grade_id": "cell-f2b8accc494787dx",
                    "locked": true,
                    "schema_version": 3,
                    "solution": false,
                    "task": false
                },
                "editable": false,
                "deletable": false
            },
            "source": [
                "Note that while we used accuracy for model selection (recall using `scoring='accuracy'` in `GridSearchCV`), this need not be our only or even main criterion. Let's compute a few other metrics that are commonly used in practice. \n",
                "\n",
                "In the following questions initialize the variables to their respective values. You may use the lecture notes on \"The mechanics of ML\", Wikipedia (https://en.wikipedia.org/wiki/Precision_and_recall), and scikit-learn documentation (https://scikit-learn.org/stable/modules/model_evaluation.html).\n",
                "\n",
                "* conf_matrix: the confusion matrix where columns represent predictions (0,1) and rows the true labels (0,1). Note that this is opposite to the convention in the Wikipedia webpage above (but is consistent with scikit-learn).\n"
            ]
        },
        {
            "cell_type": "code",
            "execution_count": 98,
            "metadata": {
                "nbgrader": {
                    "grade": false,
                    "grade_id": "cell-e7517bf1af3073e1",
                    "locked": false,
                    "schema_version": 3,
                    "solution": true,
                    "task": false
                }
            },
            "outputs": [
                {
                    "output_type": "execute_result",
                    "data": {
                        "text/plain": [
                            "array([[598, 354],\n",
                            "       [240, 780]])"
                        ]
                    },
                    "metadata": {},
                    "execution_count": 98
                }
            ],
            "source": [
                "conf_matrix = \"replace this string with your answer\"\n",
                "#import confusion matrix\n",
                "from sklearn.metrics import confusion_matrix\n",
                "#construct confusion matrix\n",
                "conf_matrix = confusion_matrix(Y_train_t_val,clf_tree.predict(X_train_t_val))\n",
                "conf_matrix"
            ]
        },
        {
            "cell_type": "code",
            "execution_count": 99,
            "metadata": {
                "nbgrader": {
                    "grade": false,
                    "grade_id": "cell-02017d37247f9d71",
                    "locked": true,
                    "schema_version": 3,
                    "solution": false,
                    "task": false
                },
                "editable": false,
                "deletable": false
            },
            "outputs": [
                {
                    "output_type": "stream",
                    "name": "stdout",
                    "text": [
                        "[[598 354]\n [240 780]]\n"
                    ]
                }
            ],
            "source": [
                "# expected output\n",
                "print(ANSWER_KEY['conf_matrix'])"
            ]
        },
        {
            "cell_type": "code",
            "execution_count": 100,
            "metadata": {
                "nbgrader": {
                    "grade": true,
                    "grade_id": "q6a",
                    "locked": true,
                    "points": 2,
                    "schema_version": 3,
                    "solution": false,
                    "task": false
                },
                "editable": false,
                "deletable": false
            },
            "outputs": [],
            "source": [
                "### BEGIN TEST\n",
                "assert(np.isclose(ANSWER_KEY['conf_matrix'], conf_matrix, rtol=0, atol=0.01).all()), 'testing conf_matrix'\n",
                "### END TEST"
            ]
        },
        {
            "cell_type": "code",
            "execution_count": 101,
            "metadata": {
                "nbgrader": {
                    "grade": false,
                    "grade_id": "cell-586a32e800fcb590",
                    "locked": false,
                    "schema_version": 3,
                    "solution": true,
                    "task": false
                }
            },
            "outputs": [],
            "source": [
                "accuracy = \"replace this string with your answer\"\n",
                "tn = \"replace this string with your answer\"\n",
                "fp = \"replace this string with your answer\"\n",
                "fn = \"replace this string with your answer\"\n",
                "tp = \"replace this string with your answer\"\n",
                "tpr = \"replace this string with your answer\"\n",
                "fpr = \"replace this string with your answer\"\n",
                "tnr = \"replace this string with your answer\"\n",
                "fnr = \"replace this string with your answer\"\n",
                "recall = \"replace this string with your answer\"\n",
                "precision = \"replace this string with your answer\"\n",
                "\n",
                "#accuracy\n",
                "accuracy = accuracy_score(Y_train_t_val,clf_tree.predict(X_train_t_val))\n",
                "\n",
                "#truth table\n",
                "tn, fp, fn, tp = confusion_matrix(Y_train_t_val,clf_tree.predict(X_train_t_val)).ravel()\n",
                "\n",
                "#fpr(false positive),tpr(true positive)\n",
                "fpr = fp / (fp + tn)\n",
                "tpr = tp / (tp + fn)\n",
                "\n",
                "#fnr(false negative),tnr(true negative)\n",
                "fnr = fn / (fn + tp)\n",
                "tnr = tn / (tn + fp)\n",
                "\n",
                "#recall score\n",
                "recall = tp / (tp + fn)\n",
                "\n",
                "#precision score\n",
                "precision = tp / (tp + fp)\n"
            ]
        },
        {
            "cell_type": "code",
            "execution_count": 102,
            "metadata": {},
            "outputs": [
                {
                    "output_type": "stream",
                    "name": "stdout",
                    "text": [
                        "Accuracy: 0.70, Recall: 0.76, Precision: 0.69 \n\nPut differently, our predictions are correct 70% of the time, the model catches 76% of the defaulting customers, and the model is correct 69% of times it predicts 'Bad'.\n"
                    ]
                }
            ],
            "source": [
                "print(\"Accuracy: %.2f, Recall: %.2f, Precision: %.2f\"%(ANSWER_KEY['accuracy'], ANSWER_KEY['recall'], ANSWER_KEY['precision']),'\\n')\n",
                "print(\"Put differently, our predictions are correct %.0f%% of the time, the model catches %.0f%% of the defaulting customers, and the model is correct %.0f%% of times it predicts 'Bad'.\"%(ANSWER_KEY['accuracy']*100, ANSWER_KEY['recall']*100, ANSWER_KEY['precision']*100))"
            ]
        },
        {
            "cell_type": "code",
            "execution_count": 103,
            "metadata": {
                "nbgrader": {
                    "grade": true,
                    "grade_id": "q6b1",
                    "locked": true,
                    "points": 2,
                    "schema_version": 3,
                    "solution": false,
                    "task": false
                },
                "editable": false,
                "deletable": false
            },
            "outputs": [],
            "source": [
                "### BEGIN TEST\n",
                "assert(np.isclose(ANSWER_KEY['accuracy'], accuracy, rtol=0, atol=0.01).all()), 'testing accuracy'\n",
                "### END TEST"
            ]
        },
        {
            "cell_type": "code",
            "execution_count": 104,
            "metadata": {
                "nbgrader": {
                    "grade": true,
                    "grade_id": "q6b2",
                    "locked": true,
                    "points": 2,
                    "schema_version": 3,
                    "solution": false,
                    "task": false
                },
                "editable": false,
                "deletable": false
            },
            "outputs": [],
            "source": [
                "### BEGIN TEST\n",
                "assert(np.isclose(ANSWER_KEY['tn'], tn, rtol=0, atol=0.01).all()), 'testing tn'\n",
                "### END TEST"
            ]
        },
        {
            "cell_type": "code",
            "execution_count": 105,
            "metadata": {
                "nbgrader": {
                    "grade": true,
                    "grade_id": "q6b3",
                    "locked": true,
                    "points": 2,
                    "schema_version": 3,
                    "solution": false,
                    "task": false
                },
                "editable": false,
                "deletable": false
            },
            "outputs": [],
            "source": [
                "### BEGIN TEST\n",
                "assert(np.isclose(ANSWER_KEY['fp'], fp, rtol=0, atol=0.01).all()), 'testing fp'\n",
                "### END TEST"
            ]
        },
        {
            "cell_type": "code",
            "execution_count": 106,
            "metadata": {
                "nbgrader": {
                    "grade": true,
                    "grade_id": "q6b4",
                    "locked": true,
                    "points": 2,
                    "schema_version": 3,
                    "solution": false,
                    "task": false
                },
                "editable": false,
                "deletable": false
            },
            "outputs": [],
            "source": [
                "### BEGIN TEST\n",
                "assert(np.isclose(ANSWER_KEY['fn'], fn, rtol=0, atol=0.01).all()), 'testing fn'\n",
                "### END TEST"
            ]
        },
        {
            "cell_type": "code",
            "execution_count": 107,
            "metadata": {
                "nbgrader": {
                    "grade": true,
                    "grade_id": "q6b5",
                    "locked": true,
                    "points": 2,
                    "schema_version": 3,
                    "solution": false,
                    "task": false
                },
                "editable": false,
                "deletable": false
            },
            "outputs": [],
            "source": [
                "### BEGIN TEST\n",
                "assert(np.isclose(ANSWER_KEY['tp'], tp, rtol=0, atol=0.01).all()), 'testing tp'\n",
                "### END TEST"
            ]
        },
        {
            "cell_type": "code",
            "execution_count": 108,
            "metadata": {
                "nbgrader": {
                    "grade": true,
                    "grade_id": "q6b6",
                    "locked": true,
                    "points": 2,
                    "schema_version": 3,
                    "solution": false,
                    "task": false
                },
                "editable": false,
                "deletable": false
            },
            "outputs": [],
            "source": [
                "### BEGIN TEST\n",
                "assert(np.isclose(ANSWER_KEY['fpr'], fpr, rtol=0, atol=0.01).all()), 'testing fpr'\n",
                "### END TEST"
            ]
        },
        {
            "cell_type": "code",
            "execution_count": 109,
            "metadata": {
                "nbgrader": {
                    "grade": true,
                    "grade_id": "q6b7",
                    "locked": true,
                    "points": 2,
                    "schema_version": 3,
                    "solution": false,
                    "task": false
                },
                "editable": false,
                "deletable": false
            },
            "outputs": [],
            "source": [
                "### BEGIN TEST\n",
                "assert(np.isclose(ANSWER_KEY['tpr'], tpr, rtol=0, atol=0.01).all()), 'testing tpr'\n",
                "### END TEST"
            ]
        },
        {
            "cell_type": "code",
            "execution_count": 110,
            "metadata": {
                "nbgrader": {
                    "grade": true,
                    "grade_id": "q6b8",
                    "locked": true,
                    "points": 2,
                    "schema_version": 3,
                    "solution": false,
                    "task": false
                },
                "editable": false,
                "deletable": false
            },
            "outputs": [],
            "source": [
                "### BEGIN TEST\n",
                "assert(np.isclose(ANSWER_KEY['tnr'], tnr, rtol=0, atol=0.01).all()), 'testing tnr'\n",
                "### END TEST"
            ]
        },
        {
            "cell_type": "code",
            "execution_count": 111,
            "metadata": {
                "nbgrader": {
                    "grade": true,
                    "grade_id": "q6b9",
                    "locked": true,
                    "points": 2,
                    "schema_version": 3,
                    "solution": false,
                    "task": false
                },
                "editable": false,
                "deletable": false
            },
            "outputs": [],
            "source": [
                "### BEGIN TEST\n",
                "assert(np.isclose(ANSWER_KEY['fnr'], fnr, rtol=0, atol=0.01).all()), 'testing fnr'\n",
                "### END TEST"
            ]
        },
        {
            "cell_type": "code",
            "execution_count": 112,
            "metadata": {
                "nbgrader": {
                    "grade": true,
                    "grade_id": "q6b10",
                    "locked": true,
                    "points": 2,
                    "schema_version": 3,
                    "solution": false,
                    "task": false
                },
                "editable": false,
                "deletable": false
            },
            "outputs": [],
            "source": [
                "### BEGIN TEST\n",
                "assert(np.isclose(ANSWER_KEY['recall'], recall, rtol=0, atol=0.01).all()), 'testing recall'\n",
                "### END TEST"
            ]
        },
        {
            "cell_type": "code",
            "execution_count": 113,
            "metadata": {
                "nbgrader": {
                    "grade": true,
                    "grade_id": "q6b11",
                    "locked": true,
                    "points": 2,
                    "schema_version": 3,
                    "solution": false,
                    "task": false
                },
                "editable": false,
                "deletable": false
            },
            "outputs": [],
            "source": [
                "### BEGIN TEST\n",
                "assert(np.isclose(ANSWER_KEY['precision'], precision, rtol=0, atol=0.01).all()), 'testing precision'\n",
                "### END TEST"
            ]
        },
        {
            "cell_type": "markdown",
            "metadata": {
                "nbgrader": {
                    "grade": false,
                    "grade_id": "cell-7b8f3b6e0b0c7e93",
                    "locked": true,
                    "schema_version": 3,
                    "solution": false,
                    "task": false
                },
                "editable": false,
                "deletable": false
            },
            "source": [
                "Finally, let's draw the ROC curve for our model `clf_tree`"
            ]
        },
        {
            "cell_type": "code",
            "execution_count": 114,
            "metadata": {
                "nbgrader": {
                    "grade": false,
                    "grade_id": "cell-74f6393a223b7a47",
                    "locked": true,
                    "schema_version": 3,
                    "solution": false,
                    "task": false
                },
                "editable": false,
                "deletable": false
            },
            "outputs": [
                {
                    "output_type": "display_data",
                    "data": {
                        "text/plain": "<Figure size 360x360 with 1 Axes>",
                        "image/svg+xml": "<?xml version=\"1.0\" encoding=\"utf-8\" standalone=\"no\"?>\n<!DOCTYPE svg PUBLIC \"-//W3C//DTD SVG 1.1//EN\"\n  \"http://www.w3.org/Graphics/SVG/1.1/DTD/svg11.dtd\">\n<!-- Created with matplotlib (https://matplotlib.org/) -->\n<svg height=\"331.674375pt\" version=\"1.1\" viewBox=\"0 0 337.932812 331.674375\" width=\"337.932812pt\" xmlns=\"http://www.w3.org/2000/svg\" xmlns:xlink=\"http://www.w3.org/1999/xlink\">\n <metadata>\n  <rdf:RDF xmlns:cc=\"http://creativecommons.org/ns#\" xmlns:dc=\"http://purl.org/dc/elements/1.1/\" xmlns:rdf=\"http://www.w3.org/1999/02/22-rdf-syntax-ns#\">\n   <cc:Work>\n    <dc:type rdf:resource=\"http://purl.org/dc/dcmitype/StillImage\"/>\n    <dc:date>2021-02-03T22:23:56.540140</dc:date>\n    <dc:format>image/svg+xml</dc:format>\n    <dc:creator>\n     <cc:Agent>\n      <dc:title>Matplotlib v3.3.2, https://matplotlib.org/</dc:title>\n     </cc:Agent>\n    </dc:creator>\n   </cc:Work>\n  </rdf:RDF>\n </metadata>\n <defs>\n  <style type=\"text/css\">*{stroke-linecap:butt;stroke-linejoin:round;}</style>\n </defs>\n <g id=\"figure_1\">\n  <g id=\"patch_1\">\n   <path d=\"M 0 331.674375 \nL 337.932812 331.674375 \nL 337.932812 0 \nL 0 0 \nz\n\" style=\"fill:none;\"/>\n  </g>\n  <g id=\"axes_1\">\n   <g id=\"patch_2\">\n    <path d=\"M 43.78125 294.118125 \nL 322.78125 294.118125 \nL 322.78125 22.318125 \nL 43.78125 22.318125 \nz\n\" style=\"fill:#ffffff;\"/>\n   </g>\n   <g id=\"matplotlib.axis_1\">\n    <g id=\"xtick_1\">\n     <g id=\"line2d_1\">\n      <defs>\n       <path d=\"M 0 0 \nL 0 3.5 \n\" id=\"mfaa5562c90\" style=\"stroke:#000000;stroke-width:0.8;\"/>\n      </defs>\n      <g>\n       <use style=\"stroke:#000000;stroke-width:0.8;\" x=\"43.78125\" xlink:href=\"#mfaa5562c90\" y=\"294.118125\"/>\n      </g>\n     </g>\n     <g id=\"text_1\">\n      <!-- 0.0 -->\n      <g transform=\"translate(35.829688 308.716563)scale(0.1 -0.1)\">\n       <defs>\n        <path d=\"M 31.78125 66.40625 \nQ 24.171875 66.40625 20.328125 58.90625 \nQ 16.5 51.421875 16.5 36.375 \nQ 16.5 21.390625 20.328125 13.890625 \nQ 24.171875 6.390625 31.78125 6.390625 \nQ 39.453125 6.390625 43.28125 13.890625 \nQ 47.125 21.390625 47.125 36.375 \nQ 47.125 51.421875 43.28125 58.90625 \nQ 39.453125 66.40625 31.78125 66.40625 \nz\nM 31.78125 74.21875 \nQ 44.046875 74.21875 50.515625 64.515625 \nQ 56.984375 54.828125 56.984375 36.375 \nQ 56.984375 17.96875 50.515625 8.265625 \nQ 44.046875 -1.421875 31.78125 -1.421875 \nQ 19.53125 -1.421875 13.0625 8.265625 \nQ 6.59375 17.96875 6.59375 36.375 \nQ 6.59375 54.828125 13.0625 64.515625 \nQ 19.53125 74.21875 31.78125 74.21875 \nz\n\" id=\"DejaVuSans-48\"/>\n        <path d=\"M 10.6875 12.40625 \nL 21 12.40625 \nL 21 0 \nL 10.6875 0 \nz\n\" id=\"DejaVuSans-46\"/>\n       </defs>\n       <use xlink:href=\"#DejaVuSans-48\"/>\n       <use x=\"63.623047\" xlink:href=\"#DejaVuSans-46\"/>\n       <use x=\"95.410156\" xlink:href=\"#DejaVuSans-48\"/>\n      </g>\n     </g>\n    </g>\n    <g id=\"xtick_2\">\n     <g id=\"line2d_2\">\n      <g>\n       <use style=\"stroke:#000000;stroke-width:0.8;\" x=\"99.58125\" xlink:href=\"#mfaa5562c90\" y=\"294.118125\"/>\n      </g>\n     </g>\n     <g id=\"text_2\">\n      <!-- 0.2 -->\n      <g transform=\"translate(91.629688 308.716563)scale(0.1 -0.1)\">\n       <defs>\n        <path d=\"M 19.1875 8.296875 \nL 53.609375 8.296875 \nL 53.609375 0 \nL 7.328125 0 \nL 7.328125 8.296875 \nQ 12.9375 14.109375 22.625 23.890625 \nQ 32.328125 33.6875 34.8125 36.53125 \nQ 39.546875 41.84375 41.421875 45.53125 \nQ 43.3125 49.21875 43.3125 52.78125 \nQ 43.3125 58.59375 39.234375 62.25 \nQ 35.15625 65.921875 28.609375 65.921875 \nQ 23.96875 65.921875 18.8125 64.3125 \nQ 13.671875 62.703125 7.8125 59.421875 \nL 7.8125 69.390625 \nQ 13.765625 71.78125 18.9375 73 \nQ 24.125 74.21875 28.421875 74.21875 \nQ 39.75 74.21875 46.484375 68.546875 \nQ 53.21875 62.890625 53.21875 53.421875 \nQ 53.21875 48.921875 51.53125 44.890625 \nQ 49.859375 40.875 45.40625 35.40625 \nQ 44.1875 33.984375 37.640625 27.21875 \nQ 31.109375 20.453125 19.1875 8.296875 \nz\n\" id=\"DejaVuSans-50\"/>\n       </defs>\n       <use xlink:href=\"#DejaVuSans-48\"/>\n       <use x=\"63.623047\" xlink:href=\"#DejaVuSans-46\"/>\n       <use x=\"95.410156\" xlink:href=\"#DejaVuSans-50\"/>\n      </g>\n     </g>\n    </g>\n    <g id=\"xtick_3\">\n     <g id=\"line2d_3\">\n      <g>\n       <use style=\"stroke:#000000;stroke-width:0.8;\" x=\"155.38125\" xlink:href=\"#mfaa5562c90\" y=\"294.118125\"/>\n      </g>\n     </g>\n     <g id=\"text_3\">\n      <!-- 0.4 -->\n      <g transform=\"translate(147.429688 308.716563)scale(0.1 -0.1)\">\n       <defs>\n        <path d=\"M 37.796875 64.3125 \nL 12.890625 25.390625 \nL 37.796875 25.390625 \nz\nM 35.203125 72.90625 \nL 47.609375 72.90625 \nL 47.609375 25.390625 \nL 58.015625 25.390625 \nL 58.015625 17.1875 \nL 47.609375 17.1875 \nL 47.609375 0 \nL 37.796875 0 \nL 37.796875 17.1875 \nL 4.890625 17.1875 \nL 4.890625 26.703125 \nz\n\" id=\"DejaVuSans-52\"/>\n       </defs>\n       <use xlink:href=\"#DejaVuSans-48\"/>\n       <use x=\"63.623047\" xlink:href=\"#DejaVuSans-46\"/>\n       <use x=\"95.410156\" xlink:href=\"#DejaVuSans-52\"/>\n      </g>\n     </g>\n    </g>\n    <g id=\"xtick_4\">\n     <g id=\"line2d_4\">\n      <g>\n       <use style=\"stroke:#000000;stroke-width:0.8;\" x=\"211.18125\" xlink:href=\"#mfaa5562c90\" y=\"294.118125\"/>\n      </g>\n     </g>\n     <g id=\"text_4\">\n      <!-- 0.6 -->\n      <g transform=\"translate(203.229688 308.716563)scale(0.1 -0.1)\">\n       <defs>\n        <path d=\"M 33.015625 40.375 \nQ 26.375 40.375 22.484375 35.828125 \nQ 18.609375 31.296875 18.609375 23.390625 \nQ 18.609375 15.53125 22.484375 10.953125 \nQ 26.375 6.390625 33.015625 6.390625 \nQ 39.65625 6.390625 43.53125 10.953125 \nQ 47.40625 15.53125 47.40625 23.390625 \nQ 47.40625 31.296875 43.53125 35.828125 \nQ 39.65625 40.375 33.015625 40.375 \nz\nM 52.59375 71.296875 \nL 52.59375 62.3125 \nQ 48.875 64.0625 45.09375 64.984375 \nQ 41.3125 65.921875 37.59375 65.921875 \nQ 27.828125 65.921875 22.671875 59.328125 \nQ 17.53125 52.734375 16.796875 39.40625 \nQ 19.671875 43.65625 24.015625 45.921875 \nQ 28.375 48.1875 33.59375 48.1875 \nQ 44.578125 48.1875 50.953125 41.515625 \nQ 57.328125 34.859375 57.328125 23.390625 \nQ 57.328125 12.15625 50.6875 5.359375 \nQ 44.046875 -1.421875 33.015625 -1.421875 \nQ 20.359375 -1.421875 13.671875 8.265625 \nQ 6.984375 17.96875 6.984375 36.375 \nQ 6.984375 53.65625 15.1875 63.9375 \nQ 23.390625 74.21875 37.203125 74.21875 \nQ 40.921875 74.21875 44.703125 73.484375 \nQ 48.484375 72.75 52.59375 71.296875 \nz\n\" id=\"DejaVuSans-54\"/>\n       </defs>\n       <use xlink:href=\"#DejaVuSans-48\"/>\n       <use x=\"63.623047\" xlink:href=\"#DejaVuSans-46\"/>\n       <use x=\"95.410156\" xlink:href=\"#DejaVuSans-54\"/>\n      </g>\n     </g>\n    </g>\n    <g id=\"xtick_5\">\n     <g id=\"line2d_5\">\n      <g>\n       <use style=\"stroke:#000000;stroke-width:0.8;\" x=\"266.98125\" xlink:href=\"#mfaa5562c90\" y=\"294.118125\"/>\n      </g>\n     </g>\n     <g id=\"text_5\">\n      <!-- 0.8 -->\n      <g transform=\"translate(259.029688 308.716563)scale(0.1 -0.1)\">\n       <defs>\n        <path d=\"M 31.78125 34.625 \nQ 24.75 34.625 20.71875 30.859375 \nQ 16.703125 27.09375 16.703125 20.515625 \nQ 16.703125 13.921875 20.71875 10.15625 \nQ 24.75 6.390625 31.78125 6.390625 \nQ 38.8125 6.390625 42.859375 10.171875 \nQ 46.921875 13.96875 46.921875 20.515625 \nQ 46.921875 27.09375 42.890625 30.859375 \nQ 38.875 34.625 31.78125 34.625 \nz\nM 21.921875 38.8125 \nQ 15.578125 40.375 12.03125 44.71875 \nQ 8.5 49.078125 8.5 55.328125 \nQ 8.5 64.0625 14.71875 69.140625 \nQ 20.953125 74.21875 31.78125 74.21875 \nQ 42.671875 74.21875 48.875 69.140625 \nQ 55.078125 64.0625 55.078125 55.328125 \nQ 55.078125 49.078125 51.53125 44.71875 \nQ 48 40.375 41.703125 38.8125 \nQ 48.828125 37.15625 52.796875 32.3125 \nQ 56.78125 27.484375 56.78125 20.515625 \nQ 56.78125 9.90625 50.3125 4.234375 \nQ 43.84375 -1.421875 31.78125 -1.421875 \nQ 19.734375 -1.421875 13.25 4.234375 \nQ 6.78125 9.90625 6.78125 20.515625 \nQ 6.78125 27.484375 10.78125 32.3125 \nQ 14.796875 37.15625 21.921875 38.8125 \nz\nM 18.3125 54.390625 \nQ 18.3125 48.734375 21.84375 45.5625 \nQ 25.390625 42.390625 31.78125 42.390625 \nQ 38.140625 42.390625 41.71875 45.5625 \nQ 45.3125 48.734375 45.3125 54.390625 \nQ 45.3125 60.0625 41.71875 63.234375 \nQ 38.140625 66.40625 31.78125 66.40625 \nQ 25.390625 66.40625 21.84375 63.234375 \nQ 18.3125 60.0625 18.3125 54.390625 \nz\n\" id=\"DejaVuSans-56\"/>\n       </defs>\n       <use xlink:href=\"#DejaVuSans-48\"/>\n       <use x=\"63.623047\" xlink:href=\"#DejaVuSans-46\"/>\n       <use x=\"95.410156\" xlink:href=\"#DejaVuSans-56\"/>\n      </g>\n     </g>\n    </g>\n    <g id=\"xtick_6\">\n     <g id=\"line2d_6\">\n      <g>\n       <use style=\"stroke:#000000;stroke-width:0.8;\" x=\"322.78125\" xlink:href=\"#mfaa5562c90\" y=\"294.118125\"/>\n      </g>\n     </g>\n     <g id=\"text_6\">\n      <!-- 1.0 -->\n      <g transform=\"translate(314.829687 308.716563)scale(0.1 -0.1)\">\n       <defs>\n        <path d=\"M 12.40625 8.296875 \nL 28.515625 8.296875 \nL 28.515625 63.921875 \nL 10.984375 60.40625 \nL 10.984375 69.390625 \nL 28.421875 72.90625 \nL 38.28125 72.90625 \nL 38.28125 8.296875 \nL 54.390625 8.296875 \nL 54.390625 0 \nL 12.40625 0 \nz\n\" id=\"DejaVuSans-49\"/>\n       </defs>\n       <use xlink:href=\"#DejaVuSans-49\"/>\n       <use x=\"63.623047\" xlink:href=\"#DejaVuSans-46\"/>\n       <use x=\"95.410156\" xlink:href=\"#DejaVuSans-48\"/>\n      </g>\n     </g>\n    </g>\n    <g id=\"text_7\">\n     <!-- False Positive Rate -->\n     <g transform=\"translate(136.814844 322.394687)scale(0.1 -0.1)\">\n      <defs>\n       <path d=\"M 9.8125 72.90625 \nL 51.703125 72.90625 \nL 51.703125 64.59375 \nL 19.671875 64.59375 \nL 19.671875 43.109375 \nL 48.578125 43.109375 \nL 48.578125 34.8125 \nL 19.671875 34.8125 \nL 19.671875 0 \nL 9.8125 0 \nz\n\" id=\"DejaVuSans-70\"/>\n       <path d=\"M 34.28125 27.484375 \nQ 23.390625 27.484375 19.1875 25 \nQ 14.984375 22.515625 14.984375 16.5 \nQ 14.984375 11.71875 18.140625 8.90625 \nQ 21.296875 6.109375 26.703125 6.109375 \nQ 34.1875 6.109375 38.703125 11.40625 \nQ 43.21875 16.703125 43.21875 25.484375 \nL 43.21875 27.484375 \nz\nM 52.203125 31.203125 \nL 52.203125 0 \nL 43.21875 0 \nL 43.21875 8.296875 \nQ 40.140625 3.328125 35.546875 0.953125 \nQ 30.953125 -1.421875 24.3125 -1.421875 \nQ 15.921875 -1.421875 10.953125 3.296875 \nQ 6 8.015625 6 15.921875 \nQ 6 25.140625 12.171875 29.828125 \nQ 18.359375 34.515625 30.609375 34.515625 \nL 43.21875 34.515625 \nL 43.21875 35.40625 \nQ 43.21875 41.609375 39.140625 45 \nQ 35.0625 48.390625 27.6875 48.390625 \nQ 23 48.390625 18.546875 47.265625 \nQ 14.109375 46.140625 10.015625 43.890625 \nL 10.015625 52.203125 \nQ 14.9375 54.109375 19.578125 55.046875 \nQ 24.21875 56 28.609375 56 \nQ 40.484375 56 46.34375 49.84375 \nQ 52.203125 43.703125 52.203125 31.203125 \nz\n\" id=\"DejaVuSans-97\"/>\n       <path d=\"M 9.421875 75.984375 \nL 18.40625 75.984375 \nL 18.40625 0 \nL 9.421875 0 \nz\n\" id=\"DejaVuSans-108\"/>\n       <path d=\"M 44.28125 53.078125 \nL 44.28125 44.578125 \nQ 40.484375 46.53125 36.375 47.5 \nQ 32.28125 48.484375 27.875 48.484375 \nQ 21.1875 48.484375 17.84375 46.4375 \nQ 14.5 44.390625 14.5 40.28125 \nQ 14.5 37.15625 16.890625 35.375 \nQ 19.28125 33.59375 26.515625 31.984375 \nL 29.59375 31.296875 \nQ 39.15625 29.25 43.1875 25.515625 \nQ 47.21875 21.78125 47.21875 15.09375 \nQ 47.21875 7.46875 41.1875 3.015625 \nQ 35.15625 -1.421875 24.609375 -1.421875 \nQ 20.21875 -1.421875 15.453125 -0.5625 \nQ 10.6875 0.296875 5.421875 2 \nL 5.421875 11.28125 \nQ 10.40625 8.6875 15.234375 7.390625 \nQ 20.0625 6.109375 24.8125 6.109375 \nQ 31.15625 6.109375 34.5625 8.28125 \nQ 37.984375 10.453125 37.984375 14.40625 \nQ 37.984375 18.0625 35.515625 20.015625 \nQ 33.0625 21.96875 24.703125 23.78125 \nL 21.578125 24.515625 \nQ 13.234375 26.265625 9.515625 29.90625 \nQ 5.8125 33.546875 5.8125 39.890625 \nQ 5.8125 47.609375 11.28125 51.796875 \nQ 16.75 56 26.8125 56 \nQ 31.78125 56 36.171875 55.265625 \nQ 40.578125 54.546875 44.28125 53.078125 \nz\n\" id=\"DejaVuSans-115\"/>\n       <path d=\"M 56.203125 29.59375 \nL 56.203125 25.203125 \nL 14.890625 25.203125 \nQ 15.484375 15.921875 20.484375 11.0625 \nQ 25.484375 6.203125 34.421875 6.203125 \nQ 39.59375 6.203125 44.453125 7.46875 \nQ 49.3125 8.734375 54.109375 11.28125 \nL 54.109375 2.78125 \nQ 49.265625 0.734375 44.1875 -0.34375 \nQ 39.109375 -1.421875 33.890625 -1.421875 \nQ 20.796875 -1.421875 13.15625 6.1875 \nQ 5.515625 13.8125 5.515625 26.8125 \nQ 5.515625 40.234375 12.765625 48.109375 \nQ 20.015625 56 32.328125 56 \nQ 43.359375 56 49.78125 48.890625 \nQ 56.203125 41.796875 56.203125 29.59375 \nz\nM 47.21875 32.234375 \nQ 47.125 39.59375 43.09375 43.984375 \nQ 39.0625 48.390625 32.421875 48.390625 \nQ 24.90625 48.390625 20.390625 44.140625 \nQ 15.875 39.890625 15.1875 32.171875 \nz\n\" id=\"DejaVuSans-101\"/>\n       <path id=\"DejaVuSans-32\"/>\n       <path d=\"M 19.671875 64.796875 \nL 19.671875 37.40625 \nL 32.078125 37.40625 \nQ 38.96875 37.40625 42.71875 40.96875 \nQ 46.484375 44.53125 46.484375 51.125 \nQ 46.484375 57.671875 42.71875 61.234375 \nQ 38.96875 64.796875 32.078125 64.796875 \nz\nM 9.8125 72.90625 \nL 32.078125 72.90625 \nQ 44.34375 72.90625 50.609375 67.359375 \nQ 56.890625 61.8125 56.890625 51.125 \nQ 56.890625 40.328125 50.609375 34.8125 \nQ 44.34375 29.296875 32.078125 29.296875 \nL 19.671875 29.296875 \nL 19.671875 0 \nL 9.8125 0 \nz\n\" id=\"DejaVuSans-80\"/>\n       <path d=\"M 30.609375 48.390625 \nQ 23.390625 48.390625 19.1875 42.75 \nQ 14.984375 37.109375 14.984375 27.296875 \nQ 14.984375 17.484375 19.15625 11.84375 \nQ 23.34375 6.203125 30.609375 6.203125 \nQ 37.796875 6.203125 41.984375 11.859375 \nQ 46.1875 17.53125 46.1875 27.296875 \nQ 46.1875 37.015625 41.984375 42.703125 \nQ 37.796875 48.390625 30.609375 48.390625 \nz\nM 30.609375 56 \nQ 42.328125 56 49.015625 48.375 \nQ 55.71875 40.765625 55.71875 27.296875 \nQ 55.71875 13.875 49.015625 6.21875 \nQ 42.328125 -1.421875 30.609375 -1.421875 \nQ 18.84375 -1.421875 12.171875 6.21875 \nQ 5.515625 13.875 5.515625 27.296875 \nQ 5.515625 40.765625 12.171875 48.375 \nQ 18.84375 56 30.609375 56 \nz\n\" id=\"DejaVuSans-111\"/>\n       <path d=\"M 9.421875 54.6875 \nL 18.40625 54.6875 \nL 18.40625 0 \nL 9.421875 0 \nz\nM 9.421875 75.984375 \nL 18.40625 75.984375 \nL 18.40625 64.59375 \nL 9.421875 64.59375 \nz\n\" id=\"DejaVuSans-105\"/>\n       <path d=\"M 18.3125 70.21875 \nL 18.3125 54.6875 \nL 36.8125 54.6875 \nL 36.8125 47.703125 \nL 18.3125 47.703125 \nL 18.3125 18.015625 \nQ 18.3125 11.328125 20.140625 9.421875 \nQ 21.96875 7.515625 27.59375 7.515625 \nL 36.8125 7.515625 \nL 36.8125 0 \nL 27.59375 0 \nQ 17.1875 0 13.234375 3.875 \nQ 9.28125 7.765625 9.28125 18.015625 \nL 9.28125 47.703125 \nL 2.6875 47.703125 \nL 2.6875 54.6875 \nL 9.28125 54.6875 \nL 9.28125 70.21875 \nz\n\" id=\"DejaVuSans-116\"/>\n       <path d=\"M 2.984375 54.6875 \nL 12.5 54.6875 \nL 29.59375 8.796875 \nL 46.6875 54.6875 \nL 56.203125 54.6875 \nL 35.6875 0 \nL 23.484375 0 \nz\n\" id=\"DejaVuSans-118\"/>\n       <path d=\"M 44.390625 34.1875 \nQ 47.5625 33.109375 50.5625 29.59375 \nQ 53.5625 26.078125 56.59375 19.921875 \nL 66.609375 0 \nL 56 0 \nL 46.6875 18.703125 \nQ 43.0625 26.03125 39.671875 28.421875 \nQ 36.28125 30.8125 30.421875 30.8125 \nL 19.671875 30.8125 \nL 19.671875 0 \nL 9.8125 0 \nL 9.8125 72.90625 \nL 32.078125 72.90625 \nQ 44.578125 72.90625 50.734375 67.671875 \nQ 56.890625 62.453125 56.890625 51.90625 \nQ 56.890625 45.015625 53.6875 40.46875 \nQ 50.484375 35.9375 44.390625 34.1875 \nz\nM 19.671875 64.796875 \nL 19.671875 38.921875 \nL 32.078125 38.921875 \nQ 39.203125 38.921875 42.84375 42.21875 \nQ 46.484375 45.515625 46.484375 51.90625 \nQ 46.484375 58.296875 42.84375 61.546875 \nQ 39.203125 64.796875 32.078125 64.796875 \nz\n\" id=\"DejaVuSans-82\"/>\n      </defs>\n      <use xlink:href=\"#DejaVuSans-70\"/>\n      <use x=\"48.394531\" xlink:href=\"#DejaVuSans-97\"/>\n      <use x=\"109.673828\" xlink:href=\"#DejaVuSans-108\"/>\n      <use x=\"137.457031\" xlink:href=\"#DejaVuSans-115\"/>\n      <use x=\"189.556641\" xlink:href=\"#DejaVuSans-101\"/>\n      <use x=\"251.080078\" xlink:href=\"#DejaVuSans-32\"/>\n      <use x=\"282.867188\" xlink:href=\"#DejaVuSans-80\"/>\n      <use x=\"339.544922\" xlink:href=\"#DejaVuSans-111\"/>\n      <use x=\"400.726562\" xlink:href=\"#DejaVuSans-115\"/>\n      <use x=\"452.826172\" xlink:href=\"#DejaVuSans-105\"/>\n      <use x=\"480.609375\" xlink:href=\"#DejaVuSans-116\"/>\n      <use x=\"519.818359\" xlink:href=\"#DejaVuSans-105\"/>\n      <use x=\"547.601562\" xlink:href=\"#DejaVuSans-118\"/>\n      <use x=\"606.78125\" xlink:href=\"#DejaVuSans-101\"/>\n      <use x=\"668.304688\" xlink:href=\"#DejaVuSans-32\"/>\n      <use x=\"700.091797\" xlink:href=\"#DejaVuSans-82\"/>\n      <use x=\"767.324219\" xlink:href=\"#DejaVuSans-97\"/>\n      <use x=\"828.603516\" xlink:href=\"#DejaVuSans-116\"/>\n      <use x=\"867.8125\" xlink:href=\"#DejaVuSans-101\"/>\n     </g>\n    </g>\n   </g>\n   <g id=\"matplotlib.axis_2\">\n    <g id=\"ytick_1\">\n     <g id=\"line2d_7\">\n      <defs>\n       <path d=\"M 0 0 \nL -3.5 0 \n\" id=\"mf464a24305\" style=\"stroke:#000000;stroke-width:0.8;\"/>\n      </defs>\n      <g>\n       <use style=\"stroke:#000000;stroke-width:0.8;\" x=\"43.78125\" xlink:href=\"#mf464a24305\" y=\"294.118125\"/>\n      </g>\n     </g>\n     <g id=\"text_8\">\n      <!-- 0.0 -->\n      <g transform=\"translate(20.878125 297.917344)scale(0.1 -0.1)\">\n       <use xlink:href=\"#DejaVuSans-48\"/>\n       <use x=\"63.623047\" xlink:href=\"#DejaVuSans-46\"/>\n       <use x=\"95.410156\" xlink:href=\"#DejaVuSans-48\"/>\n      </g>\n     </g>\n    </g>\n    <g id=\"ytick_2\">\n     <g id=\"line2d_8\">\n      <g>\n       <use style=\"stroke:#000000;stroke-width:0.8;\" x=\"43.78125\" xlink:href=\"#mf464a24305\" y=\"242.346696\"/>\n      </g>\n     </g>\n     <g id=\"text_9\">\n      <!-- 0.2 -->\n      <g transform=\"translate(20.878125 246.145915)scale(0.1 -0.1)\">\n       <use xlink:href=\"#DejaVuSans-48\"/>\n       <use x=\"63.623047\" xlink:href=\"#DejaVuSans-46\"/>\n       <use x=\"95.410156\" xlink:href=\"#DejaVuSans-50\"/>\n      </g>\n     </g>\n    </g>\n    <g id=\"ytick_3\">\n     <g id=\"line2d_9\">\n      <g>\n       <use style=\"stroke:#000000;stroke-width:0.8;\" x=\"43.78125\" xlink:href=\"#mf464a24305\" y=\"190.575268\"/>\n      </g>\n     </g>\n     <g id=\"text_10\">\n      <!-- 0.4 -->\n      <g transform=\"translate(20.878125 194.374487)scale(0.1 -0.1)\">\n       <use xlink:href=\"#DejaVuSans-48\"/>\n       <use x=\"63.623047\" xlink:href=\"#DejaVuSans-46\"/>\n       <use x=\"95.410156\" xlink:href=\"#DejaVuSans-52\"/>\n      </g>\n     </g>\n    </g>\n    <g id=\"ytick_4\">\n     <g id=\"line2d_10\">\n      <g>\n       <use style=\"stroke:#000000;stroke-width:0.8;\" x=\"43.78125\" xlink:href=\"#mf464a24305\" y=\"138.803839\"/>\n      </g>\n     </g>\n     <g id=\"text_11\">\n      <!-- 0.6 -->\n      <g transform=\"translate(20.878125 142.603058)scale(0.1 -0.1)\">\n       <use xlink:href=\"#DejaVuSans-48\"/>\n       <use x=\"63.623047\" xlink:href=\"#DejaVuSans-46\"/>\n       <use x=\"95.410156\" xlink:href=\"#DejaVuSans-54\"/>\n      </g>\n     </g>\n    </g>\n    <g id=\"ytick_5\">\n     <g id=\"line2d_11\">\n      <g>\n       <use style=\"stroke:#000000;stroke-width:0.8;\" x=\"43.78125\" xlink:href=\"#mf464a24305\" y=\"87.032411\"/>\n      </g>\n     </g>\n     <g id=\"text_12\">\n      <!-- 0.8 -->\n      <g transform=\"translate(20.878125 90.831629)scale(0.1 -0.1)\">\n       <use xlink:href=\"#DejaVuSans-48\"/>\n       <use x=\"63.623047\" xlink:href=\"#DejaVuSans-46\"/>\n       <use x=\"95.410156\" xlink:href=\"#DejaVuSans-56\"/>\n      </g>\n     </g>\n    </g>\n    <g id=\"ytick_6\">\n     <g id=\"line2d_12\">\n      <g>\n       <use style=\"stroke:#000000;stroke-width:0.8;\" x=\"43.78125\" xlink:href=\"#mf464a24305\" y=\"35.260982\"/>\n      </g>\n     </g>\n     <g id=\"text_13\">\n      <!-- 1.0 -->\n      <g transform=\"translate(20.878125 39.060201)scale(0.1 -0.1)\">\n       <use xlink:href=\"#DejaVuSans-49\"/>\n       <use x=\"63.623047\" xlink:href=\"#DejaVuSans-46\"/>\n       <use x=\"95.410156\" xlink:href=\"#DejaVuSans-48\"/>\n      </g>\n     </g>\n    </g>\n    <g id=\"text_14\">\n     <!-- True Positive Rate (Recall) -->\n     <g transform=\"translate(14.798438 223.155625)rotate(-90)scale(0.1 -0.1)\">\n      <defs>\n       <path d=\"M -0.296875 72.90625 \nL 61.375 72.90625 \nL 61.375 64.59375 \nL 35.5 64.59375 \nL 35.5 0 \nL 25.59375 0 \nL 25.59375 64.59375 \nL -0.296875 64.59375 \nz\n\" id=\"DejaVuSans-84\"/>\n       <path d=\"M 41.109375 46.296875 \nQ 39.59375 47.171875 37.8125 47.578125 \nQ 36.03125 48 33.890625 48 \nQ 26.265625 48 22.1875 43.046875 \nQ 18.109375 38.09375 18.109375 28.8125 \nL 18.109375 0 \nL 9.078125 0 \nL 9.078125 54.6875 \nL 18.109375 54.6875 \nL 18.109375 46.1875 \nQ 20.953125 51.171875 25.484375 53.578125 \nQ 30.03125 56 36.53125 56 \nQ 37.453125 56 38.578125 55.875 \nQ 39.703125 55.765625 41.0625 55.515625 \nz\n\" id=\"DejaVuSans-114\"/>\n       <path d=\"M 8.5 21.578125 \nL 8.5 54.6875 \nL 17.484375 54.6875 \nL 17.484375 21.921875 \nQ 17.484375 14.15625 20.5 10.265625 \nQ 23.53125 6.390625 29.59375 6.390625 \nQ 36.859375 6.390625 41.078125 11.03125 \nQ 45.3125 15.671875 45.3125 23.6875 \nL 45.3125 54.6875 \nL 54.296875 54.6875 \nL 54.296875 0 \nL 45.3125 0 \nL 45.3125 8.40625 \nQ 42.046875 3.421875 37.71875 1 \nQ 33.40625 -1.421875 27.6875 -1.421875 \nQ 18.265625 -1.421875 13.375 4.4375 \nQ 8.5 10.296875 8.5 21.578125 \nz\nM 31.109375 56 \nz\n\" id=\"DejaVuSans-117\"/>\n       <path d=\"M 31 75.875 \nQ 24.46875 64.65625 21.28125 53.65625 \nQ 18.109375 42.671875 18.109375 31.390625 \nQ 18.109375 20.125 21.3125 9.0625 \nQ 24.515625 -2 31 -13.1875 \nL 23.1875 -13.1875 \nQ 15.875 -1.703125 12.234375 9.375 \nQ 8.59375 20.453125 8.59375 31.390625 \nQ 8.59375 42.28125 12.203125 53.3125 \nQ 15.828125 64.359375 23.1875 75.875 \nz\n\" id=\"DejaVuSans-40\"/>\n       <path d=\"M 48.78125 52.59375 \nL 48.78125 44.1875 \nQ 44.96875 46.296875 41.140625 47.34375 \nQ 37.3125 48.390625 33.40625 48.390625 \nQ 24.65625 48.390625 19.8125 42.84375 \nQ 14.984375 37.3125 14.984375 27.296875 \nQ 14.984375 17.28125 19.8125 11.734375 \nQ 24.65625 6.203125 33.40625 6.203125 \nQ 37.3125 6.203125 41.140625 7.25 \nQ 44.96875 8.296875 48.78125 10.40625 \nL 48.78125 2.09375 \nQ 45.015625 0.34375 40.984375 -0.53125 \nQ 36.96875 -1.421875 32.421875 -1.421875 \nQ 20.0625 -1.421875 12.78125 6.34375 \nQ 5.515625 14.109375 5.515625 27.296875 \nQ 5.515625 40.671875 12.859375 48.328125 \nQ 20.21875 56 33.015625 56 \nQ 37.15625 56 41.109375 55.140625 \nQ 45.0625 54.296875 48.78125 52.59375 \nz\n\" id=\"DejaVuSans-99\"/>\n       <path d=\"M 8.015625 75.875 \nL 15.828125 75.875 \nQ 23.140625 64.359375 26.78125 53.3125 \nQ 30.421875 42.28125 30.421875 31.390625 \nQ 30.421875 20.453125 26.78125 9.375 \nQ 23.140625 -1.703125 15.828125 -13.1875 \nL 8.015625 -13.1875 \nQ 14.5 -2 17.703125 9.0625 \nQ 20.90625 20.125 20.90625 31.390625 \nQ 20.90625 42.671875 17.703125 53.65625 \nQ 14.5 64.65625 8.015625 75.875 \nz\n\" id=\"DejaVuSans-41\"/>\n      </defs>\n      <use xlink:href=\"#DejaVuSans-84\"/>\n      <use x=\"46.333984\" xlink:href=\"#DejaVuSans-114\"/>\n      <use x=\"87.447266\" xlink:href=\"#DejaVuSans-117\"/>\n      <use x=\"150.826172\" xlink:href=\"#DejaVuSans-101\"/>\n      <use x=\"212.349609\" xlink:href=\"#DejaVuSans-32\"/>\n      <use x=\"244.136719\" xlink:href=\"#DejaVuSans-80\"/>\n      <use x=\"300.814453\" xlink:href=\"#DejaVuSans-111\"/>\n      <use x=\"361.996094\" xlink:href=\"#DejaVuSans-115\"/>\n      <use x=\"414.095703\" xlink:href=\"#DejaVuSans-105\"/>\n      <use x=\"441.878906\" xlink:href=\"#DejaVuSans-116\"/>\n      <use x=\"481.087891\" xlink:href=\"#DejaVuSans-105\"/>\n      <use x=\"508.871094\" xlink:href=\"#DejaVuSans-118\"/>\n      <use x=\"568.050781\" xlink:href=\"#DejaVuSans-101\"/>\n      <use x=\"629.574219\" xlink:href=\"#DejaVuSans-32\"/>\n      <use x=\"661.361328\" xlink:href=\"#DejaVuSans-82\"/>\n      <use x=\"728.59375\" xlink:href=\"#DejaVuSans-97\"/>\n      <use x=\"789.873047\" xlink:href=\"#DejaVuSans-116\"/>\n      <use x=\"829.082031\" xlink:href=\"#DejaVuSans-101\"/>\n      <use x=\"890.605469\" xlink:href=\"#DejaVuSans-32\"/>\n      <use x=\"922.392578\" xlink:href=\"#DejaVuSans-40\"/>\n      <use x=\"961.40625\" xlink:href=\"#DejaVuSans-82\"/>\n      <use x=\"1026.388672\" xlink:href=\"#DejaVuSans-101\"/>\n      <use x=\"1087.912109\" xlink:href=\"#DejaVuSans-99\"/>\n      <use x=\"1142.892578\" xlink:href=\"#DejaVuSans-97\"/>\n      <use x=\"1204.171875\" xlink:href=\"#DejaVuSans-108\"/>\n      <use x=\"1231.955078\" xlink:href=\"#DejaVuSans-108\"/>\n      <use x=\"1259.738281\" xlink:href=\"#DejaVuSans-41\"/>\n     </g>\n    </g>\n   </g>\n   <g id=\"line2d_13\">\n    <path clip-path=\"url(#paf3e9c006b)\" d=\"M 43.78125 294.118125 \nL 58.727679 239.5551 \nL 67.519695 211.639133 \nL 67.519695 210.116444 \nL 92.43041 151.492915 \nL 94.48188 149.208881 \nL 105.325368 136.773587 \nL 111.186712 135.250898 \nL 147.527048 96.168545 \nL 162.18041 87.539974 \nL 176.833771 80.941654 \nL 178.885242 80.941654 \nL 179.471376 77.642495 \nL 183.867384 74.343335 \nL 221.673057 54.294596 \nL 258.013393 43.889554 \nL 322.78125 35.260982 \n\" style=\"fill:none;stroke:#ff8c00;stroke-linecap:square;stroke-width:2;\"/>\n   </g>\n   <g id=\"line2d_14\">\n    <path clip-path=\"url(#paf3e9c006b)\" d=\"M 43.78125 294.118125 \nL 322.78125 35.260982 \n\" style=\"fill:none;stroke:#000080;stroke-dasharray:7.4,3.2;stroke-dashoffset:0;stroke-width:2;\"/>\n   </g>\n   <g id=\"line2d_15\">\n    <path clip-path=\"url(#paf3e9c006b)\" d=\"M 147.527048 96.168545 \n\" style=\"fill:none;stroke:#1f77b4;stroke-linecap:square;stroke-width:1.5;\"/>\n    <defs>\n     <path d=\"M -6 6 \nL 6 -6 \nM -6 -6 \nL 6 6 \n\" id=\"m59b95a4445\" style=\"stroke:#1f77b4;stroke-width:5;\"/>\n    </defs>\n    <g clip-path=\"url(#paf3e9c006b)\">\n     <use style=\"fill:#1f77b4;stroke:#1f77b4;stroke-width:5;\" x=\"147.527048\" xlink:href=\"#m59b95a4445\" y=\"96.168545\"/>\n    </g>\n   </g>\n   <g id=\"patch_3\">\n    <path d=\"M 43.78125 294.118125 \nL 43.78125 22.318125 \n\" style=\"fill:none;stroke:#000000;stroke-linecap:square;stroke-linejoin:miter;stroke-width:0.8;\"/>\n   </g>\n   <g id=\"patch_4\">\n    <path d=\"M 322.78125 294.118125 \nL 322.78125 22.318125 \n\" style=\"fill:none;stroke:#000000;stroke-linecap:square;stroke-linejoin:miter;stroke-width:0.8;\"/>\n   </g>\n   <g id=\"patch_5\">\n    <path d=\"M 43.78125 294.118125 \nL 322.78125 294.118125 \n\" style=\"fill:none;stroke:#000000;stroke-linecap:square;stroke-linejoin:miter;stroke-width:0.8;\"/>\n   </g>\n   <g id=\"patch_6\">\n    <path d=\"M 43.78125 22.318125 \nL 322.78125 22.318125 \n\" style=\"fill:none;stroke:#000000;stroke-linecap:square;stroke-linejoin:miter;stroke-width:0.8;\"/>\n   </g>\n   <g id=\"text_15\">\n    <!-- Receiver operating characteristic example -->\n    <g transform=\"translate(55.986563 16.318125)scale(0.12 -0.12)\">\n     <defs>\n      <path d=\"M 18.109375 8.203125 \nL 18.109375 -20.796875 \nL 9.078125 -20.796875 \nL 9.078125 54.6875 \nL 18.109375 54.6875 \nL 18.109375 46.390625 \nQ 20.953125 51.265625 25.265625 53.625 \nQ 29.59375 56 35.59375 56 \nQ 45.5625 56 51.78125 48.09375 \nQ 58.015625 40.1875 58.015625 27.296875 \nQ 58.015625 14.40625 51.78125 6.484375 \nQ 45.5625 -1.421875 35.59375 -1.421875 \nQ 29.59375 -1.421875 25.265625 0.953125 \nQ 20.953125 3.328125 18.109375 8.203125 \nz\nM 48.6875 27.296875 \nQ 48.6875 37.203125 44.609375 42.84375 \nQ 40.53125 48.484375 33.40625 48.484375 \nQ 26.265625 48.484375 22.1875 42.84375 \nQ 18.109375 37.203125 18.109375 27.296875 \nQ 18.109375 17.390625 22.1875 11.75 \nQ 26.265625 6.109375 33.40625 6.109375 \nQ 40.53125 6.109375 44.609375 11.75 \nQ 48.6875 17.390625 48.6875 27.296875 \nz\n\" id=\"DejaVuSans-112\"/>\n      <path d=\"M 54.890625 33.015625 \nL 54.890625 0 \nL 45.90625 0 \nL 45.90625 32.71875 \nQ 45.90625 40.484375 42.875 44.328125 \nQ 39.84375 48.1875 33.796875 48.1875 \nQ 26.515625 48.1875 22.3125 43.546875 \nQ 18.109375 38.921875 18.109375 30.90625 \nL 18.109375 0 \nL 9.078125 0 \nL 9.078125 54.6875 \nL 18.109375 54.6875 \nL 18.109375 46.1875 \nQ 21.34375 51.125 25.703125 53.5625 \nQ 30.078125 56 35.796875 56 \nQ 45.21875 56 50.046875 50.171875 \nQ 54.890625 44.34375 54.890625 33.015625 \nz\n\" id=\"DejaVuSans-110\"/>\n      <path d=\"M 45.40625 27.984375 \nQ 45.40625 37.75 41.375 43.109375 \nQ 37.359375 48.484375 30.078125 48.484375 \nQ 22.859375 48.484375 18.828125 43.109375 \nQ 14.796875 37.75 14.796875 27.984375 \nQ 14.796875 18.265625 18.828125 12.890625 \nQ 22.859375 7.515625 30.078125 7.515625 \nQ 37.359375 7.515625 41.375 12.890625 \nQ 45.40625 18.265625 45.40625 27.984375 \nz\nM 54.390625 6.78125 \nQ 54.390625 -7.171875 48.1875 -13.984375 \nQ 42 -20.796875 29.203125 -20.796875 \nQ 24.46875 -20.796875 20.265625 -20.09375 \nQ 16.0625 -19.390625 12.109375 -17.921875 \nL 12.109375 -9.1875 \nQ 16.0625 -11.328125 19.921875 -12.34375 \nQ 23.78125 -13.375 27.78125 -13.375 \nQ 36.625 -13.375 41.015625 -8.765625 \nQ 45.40625 -4.15625 45.40625 5.171875 \nL 45.40625 9.625 \nQ 42.625 4.78125 38.28125 2.390625 \nQ 33.9375 0 27.875 0 \nQ 17.828125 0 11.671875 7.65625 \nQ 5.515625 15.328125 5.515625 27.984375 \nQ 5.515625 40.671875 11.671875 48.328125 \nQ 17.828125 56 27.875 56 \nQ 33.9375 56 38.28125 53.609375 \nQ 42.625 51.21875 45.40625 46.390625 \nL 45.40625 54.6875 \nL 54.390625 54.6875 \nz\n\" id=\"DejaVuSans-103\"/>\n      <path d=\"M 54.890625 33.015625 \nL 54.890625 0 \nL 45.90625 0 \nL 45.90625 32.71875 \nQ 45.90625 40.484375 42.875 44.328125 \nQ 39.84375 48.1875 33.796875 48.1875 \nQ 26.515625 48.1875 22.3125 43.546875 \nQ 18.109375 38.921875 18.109375 30.90625 \nL 18.109375 0 \nL 9.078125 0 \nL 9.078125 75.984375 \nL 18.109375 75.984375 \nL 18.109375 46.1875 \nQ 21.34375 51.125 25.703125 53.5625 \nQ 30.078125 56 35.796875 56 \nQ 45.21875 56 50.046875 50.171875 \nQ 54.890625 44.34375 54.890625 33.015625 \nz\n\" id=\"DejaVuSans-104\"/>\n      <path d=\"M 54.890625 54.6875 \nL 35.109375 28.078125 \nL 55.90625 0 \nL 45.3125 0 \nL 29.390625 21.484375 \nL 13.484375 0 \nL 2.875 0 \nL 24.125 28.609375 \nL 4.6875 54.6875 \nL 15.28125 54.6875 \nL 29.78125 35.203125 \nL 44.28125 54.6875 \nz\n\" id=\"DejaVuSans-120\"/>\n      <path d=\"M 52 44.1875 \nQ 55.375 50.25 60.0625 53.125 \nQ 64.75 56 71.09375 56 \nQ 79.640625 56 84.28125 50.015625 \nQ 88.921875 44.046875 88.921875 33.015625 \nL 88.921875 0 \nL 79.890625 0 \nL 79.890625 32.71875 \nQ 79.890625 40.578125 77.09375 44.375 \nQ 74.3125 48.1875 68.609375 48.1875 \nQ 61.625 48.1875 57.5625 43.546875 \nQ 53.515625 38.921875 53.515625 30.90625 \nL 53.515625 0 \nL 44.484375 0 \nL 44.484375 32.71875 \nQ 44.484375 40.625 41.703125 44.40625 \nQ 38.921875 48.1875 33.109375 48.1875 \nQ 26.21875 48.1875 22.15625 43.53125 \nQ 18.109375 38.875 18.109375 30.90625 \nL 18.109375 0 \nL 9.078125 0 \nL 9.078125 54.6875 \nL 18.109375 54.6875 \nL 18.109375 46.1875 \nQ 21.1875 51.21875 25.484375 53.609375 \nQ 29.78125 56 35.6875 56 \nQ 41.65625 56 45.828125 52.96875 \nQ 50 49.953125 52 44.1875 \nz\n\" id=\"DejaVuSans-109\"/>\n     </defs>\n     <use xlink:href=\"#DejaVuSans-82\"/>\n     <use x=\"64.982422\" xlink:href=\"#DejaVuSans-101\"/>\n     <use x=\"126.505859\" xlink:href=\"#DejaVuSans-99\"/>\n     <use x=\"181.486328\" xlink:href=\"#DejaVuSans-101\"/>\n     <use x=\"243.009766\" xlink:href=\"#DejaVuSans-105\"/>\n     <use x=\"270.792969\" xlink:href=\"#DejaVuSans-118\"/>\n     <use x=\"329.972656\" xlink:href=\"#DejaVuSans-101\"/>\n     <use x=\"391.496094\" xlink:href=\"#DejaVuSans-114\"/>\n     <use x=\"432.609375\" xlink:href=\"#DejaVuSans-32\"/>\n     <use x=\"464.396484\" xlink:href=\"#DejaVuSans-111\"/>\n     <use x=\"525.578125\" xlink:href=\"#DejaVuSans-112\"/>\n     <use x=\"589.054688\" xlink:href=\"#DejaVuSans-101\"/>\n     <use x=\"650.578125\" xlink:href=\"#DejaVuSans-114\"/>\n     <use x=\"691.691406\" xlink:href=\"#DejaVuSans-97\"/>\n     <use x=\"752.970703\" xlink:href=\"#DejaVuSans-116\"/>\n     <use x=\"792.179688\" xlink:href=\"#DejaVuSans-105\"/>\n     <use x=\"819.962891\" xlink:href=\"#DejaVuSans-110\"/>\n     <use x=\"883.341797\" xlink:href=\"#DejaVuSans-103\"/>\n     <use x=\"946.818359\" xlink:href=\"#DejaVuSans-32\"/>\n     <use x=\"978.605469\" xlink:href=\"#DejaVuSans-99\"/>\n     <use x=\"1033.585938\" xlink:href=\"#DejaVuSans-104\"/>\n     <use x=\"1096.964844\" xlink:href=\"#DejaVuSans-97\"/>\n     <use x=\"1158.244141\" xlink:href=\"#DejaVuSans-114\"/>\n     <use x=\"1199.357422\" xlink:href=\"#DejaVuSans-97\"/>\n     <use x=\"1260.636719\" xlink:href=\"#DejaVuSans-99\"/>\n     <use x=\"1315.617188\" xlink:href=\"#DejaVuSans-116\"/>\n     <use x=\"1354.826172\" xlink:href=\"#DejaVuSans-101\"/>\n     <use x=\"1416.349609\" xlink:href=\"#DejaVuSans-114\"/>\n     <use x=\"1457.462891\" xlink:href=\"#DejaVuSans-105\"/>\n     <use x=\"1485.246094\" xlink:href=\"#DejaVuSans-115\"/>\n     <use x=\"1537.345703\" xlink:href=\"#DejaVuSans-116\"/>\n     <use x=\"1576.554688\" xlink:href=\"#DejaVuSans-105\"/>\n     <use x=\"1604.337891\" xlink:href=\"#DejaVuSans-99\"/>\n     <use x=\"1659.318359\" xlink:href=\"#DejaVuSans-32\"/>\n     <use x=\"1691.105469\" xlink:href=\"#DejaVuSans-101\"/>\n     <use x=\"1750.878906\" xlink:href=\"#DejaVuSans-120\"/>\n     <use x=\"1810.058594\" xlink:href=\"#DejaVuSans-97\"/>\n     <use x=\"1871.337891\" xlink:href=\"#DejaVuSans-109\"/>\n     <use x=\"1968.75\" xlink:href=\"#DejaVuSans-112\"/>\n     <use x=\"2032.226562\" xlink:href=\"#DejaVuSans-108\"/>\n     <use x=\"2060.009766\" xlink:href=\"#DejaVuSans-101\"/>\n    </g>\n   </g>\n   <g id=\"legend_1\">\n    <g id=\"patch_7\">\n     <path d=\"M 160.503125 289.118125 \nL 315.78125 289.118125 \nQ 317.78125 289.118125 317.78125 287.118125 \nL 317.78125 273.44 \nQ 317.78125 271.44 315.78125 271.44 \nL 160.503125 271.44 \nQ 158.503125 271.44 158.503125 273.44 \nL 158.503125 287.118125 \nQ 158.503125 289.118125 160.503125 289.118125 \nz\n\" style=\"fill:#ffffff;opacity:0.8;stroke:#cccccc;stroke-linejoin:miter;\"/>\n    </g>\n    <g id=\"line2d_16\">\n     <path d=\"M 162.503125 279.538437 \nL 182.503125 279.538437 \n\" style=\"fill:none;stroke:#ff8c00;stroke-linecap:square;stroke-width:2;\"/>\n    </g>\n    <g id=\"line2d_17\"/>\n    <g id=\"text_16\">\n     <!-- ROC curve (area = 0.76) -->\n     <g transform=\"translate(190.503125 283.038437)scale(0.1 -0.1)\">\n      <defs>\n       <path d=\"M 39.40625 66.21875 \nQ 28.65625 66.21875 22.328125 58.203125 \nQ 16.015625 50.203125 16.015625 36.375 \nQ 16.015625 22.609375 22.328125 14.59375 \nQ 28.65625 6.59375 39.40625 6.59375 \nQ 50.140625 6.59375 56.421875 14.59375 \nQ 62.703125 22.609375 62.703125 36.375 \nQ 62.703125 50.203125 56.421875 58.203125 \nQ 50.140625 66.21875 39.40625 66.21875 \nz\nM 39.40625 74.21875 \nQ 54.734375 74.21875 63.90625 63.9375 \nQ 73.09375 53.65625 73.09375 36.375 \nQ 73.09375 19.140625 63.90625 8.859375 \nQ 54.734375 -1.421875 39.40625 -1.421875 \nQ 24.03125 -1.421875 14.8125 8.828125 \nQ 5.609375 19.09375 5.609375 36.375 \nQ 5.609375 53.65625 14.8125 63.9375 \nQ 24.03125 74.21875 39.40625 74.21875 \nz\n\" id=\"DejaVuSans-79\"/>\n       <path d=\"M 64.40625 67.28125 \nL 64.40625 56.890625 \nQ 59.421875 61.53125 53.78125 63.8125 \nQ 48.140625 66.109375 41.796875 66.109375 \nQ 29.296875 66.109375 22.65625 58.46875 \nQ 16.015625 50.828125 16.015625 36.375 \nQ 16.015625 21.96875 22.65625 14.328125 \nQ 29.296875 6.6875 41.796875 6.6875 \nQ 48.140625 6.6875 53.78125 8.984375 \nQ 59.421875 11.28125 64.40625 15.921875 \nL 64.40625 5.609375 \nQ 59.234375 2.09375 53.4375 0.328125 \nQ 47.65625 -1.421875 41.21875 -1.421875 \nQ 24.65625 -1.421875 15.125 8.703125 \nQ 5.609375 18.84375 5.609375 36.375 \nQ 5.609375 53.953125 15.125 64.078125 \nQ 24.65625 74.21875 41.21875 74.21875 \nQ 47.75 74.21875 53.53125 72.484375 \nQ 59.328125 70.75 64.40625 67.28125 \nz\n\" id=\"DejaVuSans-67\"/>\n       <path d=\"M 10.59375 45.40625 \nL 73.1875 45.40625 \nL 73.1875 37.203125 \nL 10.59375 37.203125 \nz\nM 10.59375 25.484375 \nL 73.1875 25.484375 \nL 73.1875 17.1875 \nL 10.59375 17.1875 \nz\n\" id=\"DejaVuSans-61\"/>\n       <path d=\"M 8.203125 72.90625 \nL 55.078125 72.90625 \nL 55.078125 68.703125 \nL 28.609375 0 \nL 18.3125 0 \nL 43.21875 64.59375 \nL 8.203125 64.59375 \nz\n\" id=\"DejaVuSans-55\"/>\n      </defs>\n      <use xlink:href=\"#DejaVuSans-82\"/>\n      <use x=\"69.482422\" xlink:href=\"#DejaVuSans-79\"/>\n      <use x=\"148.193359\" xlink:href=\"#DejaVuSans-67\"/>\n      <use x=\"218.017578\" xlink:href=\"#DejaVuSans-32\"/>\n      <use x=\"249.804688\" xlink:href=\"#DejaVuSans-99\"/>\n      <use x=\"304.785156\" xlink:href=\"#DejaVuSans-117\"/>\n      <use x=\"368.164062\" xlink:href=\"#DejaVuSans-114\"/>\n      <use x=\"409.277344\" xlink:href=\"#DejaVuSans-118\"/>\n      <use x=\"468.457031\" xlink:href=\"#DejaVuSans-101\"/>\n      <use x=\"529.980469\" xlink:href=\"#DejaVuSans-32\"/>\n      <use x=\"561.767578\" xlink:href=\"#DejaVuSans-40\"/>\n      <use x=\"600.78125\" xlink:href=\"#DejaVuSans-97\"/>\n      <use x=\"662.060547\" xlink:href=\"#DejaVuSans-114\"/>\n      <use x=\"700.923828\" xlink:href=\"#DejaVuSans-101\"/>\n      <use x=\"762.447266\" xlink:href=\"#DejaVuSans-97\"/>\n      <use x=\"823.726562\" xlink:href=\"#DejaVuSans-32\"/>\n      <use x=\"855.513672\" xlink:href=\"#DejaVuSans-61\"/>\n      <use x=\"939.302734\" xlink:href=\"#DejaVuSans-32\"/>\n      <use x=\"971.089844\" xlink:href=\"#DejaVuSans-48\"/>\n      <use x=\"1034.712891\" xlink:href=\"#DejaVuSans-46\"/>\n      <use x=\"1066.5\" xlink:href=\"#DejaVuSans-55\"/>\n      <use x=\"1130.123047\" xlink:href=\"#DejaVuSans-54\"/>\n      <use x=\"1193.746094\" xlink:href=\"#DejaVuSans-41\"/>\n     </g>\n    </g>\n   </g>\n  </g>\n </g>\n <defs>\n  <clipPath id=\"paf3e9c006b\">\n   <rect height=\"271.8\" width=\"279\" x=\"43.78125\" y=\"22.318125\"/>\n  </clipPath>\n </defs>\n</svg>\n",
                        "image/png": "[encoded data removed]"
                    },
                    "metadata": {
                        "needs_background": "light"
                    }
                }
            ],
            "source": [
                "from sklearn import metrics\n",
                "scores = clf_tree.predict_proba(X_train_t_val)[:,1]\n",
                "fpr, tpr, thresholds = metrics.roc_curve(Y_train_t_val, scores)\n",
                "auc = metrics.auc(fpr, tpr)\n",
                "plt.figure(figsize=(5,5))\n",
                "lw = 2\n",
                "plt.plot(fpr, tpr, color='darkorange', lw=lw, label='ROC curve (area = %0.2f)' % auc)\n",
                "plt.plot([0, 1], [0, 1], color='navy', lw=lw, linestyle='--')\n",
                "plt.xlim([0.0, 1.0])\n",
                "plt.ylim([0.0, 1.05])\n",
                "plt.xlabel('False Positive Rate')\n",
                "plt.ylabel('True Positive Rate (Recall)')\n",
                "plt.title('Receiver operating characteristic example')\n",
                "plt.legend(loc=\"lower right\");\n",
                "plt.plot([ANSWER_KEY['fpr']], [ANSWER_KEY['recall']], marker=\"x\", markeredgewidth=5, markersize=12);"
            ]
        },
        {
            "cell_type": "markdown",
            "metadata": {
                "nbgrader": {
                    "grade": false,
                    "grade_id": "cell-311e3712e58335d1",
                    "locked": true,
                    "schema_version": 3,
                    "solution": false,
                    "task": false
                },
                "editable": false,
                "deletable": false
            },
            "source": [
                "The ROC curve simultaneously shows a series of models that differ by a certain threshold value, often by the probability distribution. The 'x' marks the trained model `clf_tree`, however, by slightly modifying the threshold we could move along the ROC curve to find a better tradeoff between Recall and FPR. "
            ]
        },
        {
            "cell_type": "markdown",
            "metadata": {
                "nbgrader": {
                    "grade": false,
                    "grade_id": "cell-a31e421e4a6b064f",
                    "locked": true,
                    "schema_version": 3,
                    "solution": false,
                    "task": false
                },
                "editable": false,
                "deletable": false
            },
            "source": [
                "# Summary\n",
                "\n",
                "\n",
                "In this homework assignment, we practiced the mechanics of training and evaluating predictive models. By now, you should be familiar with the following concepts: \n",
                "* Preprocessing, imputers, and pipelines\n",
                "* Model training, Hyper-parameter tuning, grid search, and prediction\n",
                "* Validation set and cross validation\n",
                "* Confusion matrix\n",
                "* Performance metrics\n",
                "\n",
                "While this exercise illustrated the main steps of training and evaluating predictive models, in practice you will face other issues such as: \n",
                "* How to formulate the prediction problem? What exactly should you predict? \n",
                "* How to extract data from your company database and transform it into standard form?\n",
                "* Which preprocessing method to use? (you could have many alternatives)\n",
                "* Which models to use? (and which shouldn't you use?) \n",
                "* How to evaluate the model? Which of the various metrics we discussed is most appropriate? \n",
                "* Is the result good enough? Is 80% accuracy satisfactory? Is 90 or 95? \n",
                "\n",
                "In most cases there is no universal answer to these questions which greatly depend on the business context. It is important to understand who will be using your model,  what is their background, and what is the implication of making different types of errors in prediction. \n",
                "\n",
                "Nevertheless, the techniques (and code examples) that we covered here will be useful for any project."
            ]
        },
        {
            "cell_type": "code",
            "execution_count": 115,
            "metadata": {
                "nbgrader": {
                    "grade": true,
                    "grade_id": "cell-56a7f83815146078",
                    "locked": true,
                    "points": 0,
                    "schema_version": 3,
                    "solution": false,
                    "task": false
                },
                "editable": false,
                "deletable": false
            },
            "outputs": [],
            "source": [
                "### BEGIN TEST (DO NOT REMOVE CELL)\n",
                "if GENERATE_ANSWER_KEY: \n",
                "    with open(ANSWER_KEY_FILE_NAME, \"wb\") as f:\n",
                "        pickle.dump( ANSWER_KEY,  f)\n",
                "### END TEST "
            ]
        },
        {
            "cell_type": "markdown",
            "metadata": {
                "nbgrader": {
                    "grade": false,
                    "grade_id": "cell-de4459e60753beb5",
                    "locked": true,
                    "schema_version": 3,
                    "solution": false,
                    "task": false
                },
                "editable": false,
                "deletable": false
            },
            "source": []
        }
    ],
    "metadata": {
        "celltoolbar": "Create Assignment",
        "kernelspec": {
            "name": "python3",
            "display_name": "Python 3.6.12 64-bit ('cis432': conda)",
            "metadata": {
                "interpreter": {
                    "hash": "d63be99b4fecf98bfe74206ab1e738dcd7fb809de31d2f6fa0c99583e013cbe0"
                }
            }
        },
        "language_info": {
            "codemirror_mode": {
                "name": "ipython",
                "version": 3
            },
            "file_extension": ".py",
            "mimetype": "text/x-python",
            "name": "python",
            "nbconvert_exporter": "python",
            "pygments_lexer": "ipython3",
            "version": "3.6.12-final"
        },
        "latex_envs": {
            "LaTeX_envs_menu_present": true,
            "autoclose": false,
            "autocomplete": true,
            "bibliofile": "biblio.bib",
            "cite_by": "apalike",
            "current_citInitial": 1,
            "eqLabelWithNumbers": true,
            "eqNumInitial": 1,
            "hotkeys": {
                "equation": "Ctrl-E",
                "itemize": "Ctrl-I"
            },
            "labels_anchors": false,
            "latex_user_defs": false,
            "report_style_numbering": false,
            "user_envs_cfg": false
        },
        "toc": {
            "base_numbering": 1,
            "nav_menu": [],
            "number_sections": false,
            "sideBar": true,
            "skip_h1_title": false,
            "title_cell": "Table of Contents",
            "title_sidebar": "Contents",
            "toc_cell": false,
            "toc_position": {
                "height": "calc(100% - 180px)",
                "left": "10px",
                "top": "150px",
                "width": "383.977px"
            },
            "toc_section_display": true,
            "toc_window_display": true
        }
    },
    "nbformat": 4,
    "nbformat_minor": 4
}